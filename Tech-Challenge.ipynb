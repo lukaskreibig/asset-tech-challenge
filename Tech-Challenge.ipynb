{
 "cells": [
  {
   "cell_type": "markdown",
   "metadata": {},
   "source": [
    "<h1 style=\"color: #FF8C00;\">Portfolio Analysis: Python Challenge</h1>\n",
    "\n",
    "---\n",
    "\n",
    "**This challenge** represents a practical tech assignment designed to test your skills in portfolio analysis. Portfolio analysis is a systematic way to evaluate investment portfolios to optimize asset allocation and management. It involves a variety of financial metrics and visualizations to assess the performance and risk of different financial assets.\n",
    "\n",
    "- In this exercise, you will be required to perform a series of calculations and create visualizations to analyze a set of financial assets.\n",
    "- Your task is to develop the necessary code to accomplish each of these tasks effectively.\n",
    "- This challenge is an opportunity to demonstrate your ability to apply Python programming skills in a real-world financial context."
   ]
  },
  {
   "cell_type": "markdown",
   "metadata": {},
   "source": [
    "<h1 style=\"color: #FF8C00;\">Libraries</h1>"
   ]
  },
  {
   "cell_type": "markdown",
   "metadata": {},
   "source": [
    "<h3 style=\"color: #FF6347;\">-- Insert your code here --</h3>\n",
    "\n",
    "---\n",
    "\n",
    "Make sure to import all the libraries you will need to complete your tasks in this challenge."
   ]
  },
  {
   "cell_type": "code",
   "execution_count": 359,
   "metadata": {},
   "outputs": [],
   "source": [
    "import pandas as pd\n",
    "import plotly.express as px\n"
   ]
  },
  {
   "cell_type": "markdown",
   "metadata": {},
   "source": [
    "<h1 style=\"color: #FF8C00;\">Exercise 1: Data Loading and Price Charting</h1>\n",
    "\n",
    "---\n",
    "\n",
    "You are tasked with loading and analyzing financial data, which is foundational for effective portfolio management. Begin by loading the file named `asset_price_data.csv`, containing essential pricing information for various financial assets.\n",
    "\n",
    "Post data loading, your objective is to visualize this data through a time series graph.The integrity of your analysis depends heavily on your ability to visualize trends accurately while ensuring all asset price series begin at a uniform value."
   ]
  },
  {
   "cell_type": "markdown",
   "metadata": {},
   "source": [
    "<h3 style=\"color: #FF6347;\">Data Loading</h3>\n",
    "<h3 style=\"color: #FF6347;\">-- Insert your code here --</h3>"
   ]
  },
  {
   "cell_type": "code",
   "execution_count": null,
   "metadata": {},
   "outputs": [
    {
     "data": {
      "text/html": [
       "<div>\n",
       "<style scoped>\n",
       "    .dataframe tbody tr th:only-of-type {\n",
       "        vertical-align: middle;\n",
       "    }\n",
       "\n",
       "    .dataframe tbody tr th {\n",
       "        vertical-align: top;\n",
       "    }\n",
       "\n",
       "    .dataframe thead th {\n",
       "        text-align: right;\n",
       "    }\n",
       "</style>\n",
       "<table border=\"1\" class=\"dataframe\">\n",
       "  <thead>\n",
       "    <tr style=\"text-align: right;\">\n",
       "      <th></th>\n",
       "      <th>date</th>\n",
       "      <th>Asset1</th>\n",
       "      <th>Asset2</th>\n",
       "      <th>Asset3</th>\n",
       "      <th>Asset4</th>\n",
       "      <th>Asset5</th>\n",
       "    </tr>\n",
       "  </thead>\n",
       "  <tbody>\n",
       "    <tr>\n",
       "      <th>0</th>\n",
       "      <td>2019-01-02</td>\n",
       "      <td>231.5061</td>\n",
       "      <td>55.875</td>\n",
       "      <td>25.649222</td>\n",
       "      <td>302.93</td>\n",
       "      <td>50.89</td>\n",
       "    </tr>\n",
       "    <tr>\n",
       "      <th>1</th>\n",
       "      <td>2019-01-03</td>\n",
       "      <td>231.0356</td>\n",
       "      <td>54.977</td>\n",
       "      <td>25.503047</td>\n",
       "      <td>302.11</td>\n",
       "      <td>50.41</td>\n",
       "    </tr>\n",
       "    <tr>\n",
       "      <th>2</th>\n",
       "      <td>2019-01-04</td>\n",
       "      <td>230.4026</td>\n",
       "      <td>56.129</td>\n",
       "      <td>26.147133</td>\n",
       "      <td>301.77</td>\n",
       "      <td>51.38</td>\n",
       "    </tr>\n",
       "    <tr>\n",
       "      <th>3</th>\n",
       "      <td>2019-01-07</td>\n",
       "      <td>230.0543</td>\n",
       "      <td>56.838</td>\n",
       "      <td>25.955277</td>\n",
       "      <td>302.33</td>\n",
       "      <td>52.14</td>\n",
       "    </tr>\n",
       "    <tr>\n",
       "      <th>4</th>\n",
       "      <td>2019-01-08</td>\n",
       "      <td>229.7012</td>\n",
       "      <td>56.895</td>\n",
       "      <td>26.137997</td>\n",
       "      <td>303.42</td>\n",
       "      <td>52.13</td>\n",
       "    </tr>\n",
       "    <tr>\n",
       "      <th>5</th>\n",
       "      <td>2019-01-09</td>\n",
       "      <td>230.1550</td>\n",
       "      <td>57.630</td>\n",
       "      <td>26.197380</td>\n",
       "      <td>304.67</td>\n",
       "      <td>52.86</td>\n",
       "    </tr>\n",
       "    <tr>\n",
       "      <th>6</th>\n",
       "      <td>2019-01-10</td>\n",
       "      <td>230.4994</td>\n",
       "      <td>57.667</td>\n",
       "      <td>26.348124</td>\n",
       "      <td>304.78</td>\n",
       "      <td>52.89</td>\n",
       "    </tr>\n",
       "    <tr>\n",
       "      <th>7</th>\n",
       "      <td>2019-01-11</td>\n",
       "      <td>230.8193</td>\n",
       "      <td>57.692</td>\n",
       "      <td>26.370964</td>\n",
       "      <td>305.27</td>\n",
       "      <td>52.81</td>\n",
       "    </tr>\n",
       "    <tr>\n",
       "      <th>8</th>\n",
       "      <td>2019-01-14</td>\n",
       "      <td>231.0823</td>\n",
       "      <td>57.589</td>\n",
       "      <td>26.192812</td>\n",
       "      <td>305.26</td>\n",
       "      <td>52.62</td>\n",
       "    </tr>\n",
       "    <tr>\n",
       "      <th>9</th>\n",
       "      <td>2019-01-15</td>\n",
       "      <td>231.3187</td>\n",
       "      <td>57.966</td>\n",
       "      <td>26.338988</td>\n",
       "      <td>305.64</td>\n",
       "      <td>52.54</td>\n",
       "    </tr>\n",
       "  </tbody>\n",
       "</table>\n",
       "</div>"
      ],
      "text/plain": [
       "         date    Asset1  Asset2     Asset3  Asset4  Asset5\n",
       "0  2019-01-02  231.5061  55.875  25.649222  302.93   50.89\n",
       "1  2019-01-03  231.0356  54.977  25.503047  302.11   50.41\n",
       "2  2019-01-04  230.4026  56.129  26.147133  301.77   51.38\n",
       "3  2019-01-07  230.0543  56.838  25.955277  302.33   52.14\n",
       "4  2019-01-08  229.7012  56.895  26.137997  303.42   52.13\n",
       "5  2019-01-09  230.1550  57.630  26.197380  304.67   52.86\n",
       "6  2019-01-10  230.4994  57.667  26.348124  304.78   52.89\n",
       "7  2019-01-11  230.8193  57.692  26.370964  305.27   52.81\n",
       "8  2019-01-14  231.0823  57.589  26.192812  305.26   52.62\n",
       "9  2019-01-15  231.3187  57.966  26.338988  305.64   52.54"
      ]
     },
     "execution_count": 360,
     "metadata": {},
     "output_type": "execute_result"
    }
   ],
   "source": [
    "df_load = pd.read_csv(\"data/asset_price_data.csv\")\n",
    "df = df_load.copy()\n",
    "df.head(10)"
   ]
  },
  {
   "cell_type": "code",
   "execution_count": 361,
   "metadata": {},
   "outputs": [
    {
     "data": {
      "text/plain": [
       "783"
      ]
     },
     "execution_count": 361,
     "metadata": {},
     "output_type": "execute_result"
    }
   ],
   "source": [
    "len(df)"
   ]
  },
  {
   "cell_type": "code",
   "execution_count": 362,
   "metadata": {},
   "outputs": [
    {
     "data": {
      "text/plain": [
       "date       0\n",
       "Asset1    13\n",
       "Asset2    13\n",
       "Asset3    13\n",
       "Asset4    49\n",
       "Asset5    20\n",
       "dtype: int64"
      ]
     },
     "execution_count": 362,
     "metadata": {},
     "output_type": "execute_result"
    }
   ],
   "source": [
    "df.isna().sum()"
   ]
  },
  {
   "cell_type": "code",
   "execution_count": 363,
   "metadata": {},
   "outputs": [
    {
     "data": {
      "text/html": [
       "<div>\n",
       "<style scoped>\n",
       "    .dataframe tbody tr th:only-of-type {\n",
       "        vertical-align: middle;\n",
       "    }\n",
       "\n",
       "    .dataframe tbody tr th {\n",
       "        vertical-align: top;\n",
       "    }\n",
       "\n",
       "    .dataframe thead th {\n",
       "        text-align: right;\n",
       "    }\n",
       "</style>\n",
       "<table border=\"1\" class=\"dataframe\">\n",
       "  <thead>\n",
       "    <tr style=\"text-align: right;\">\n",
       "      <th></th>\n",
       "      <th>date</th>\n",
       "      <th>Asset</th>\n",
       "      <th>Value</th>\n",
       "    </tr>\n",
       "  </thead>\n",
       "  <tbody>\n",
       "    <tr>\n",
       "      <th>0</th>\n",
       "      <td>2019-01-02</td>\n",
       "      <td>Asset1</td>\n",
       "      <td>231.5061</td>\n",
       "    </tr>\n",
       "    <tr>\n",
       "      <th>1</th>\n",
       "      <td>2019-01-03</td>\n",
       "      <td>Asset1</td>\n",
       "      <td>231.0356</td>\n",
       "    </tr>\n",
       "    <tr>\n",
       "      <th>2</th>\n",
       "      <td>2019-01-04</td>\n",
       "      <td>Asset1</td>\n",
       "      <td>230.4026</td>\n",
       "    </tr>\n",
       "    <tr>\n",
       "      <th>3</th>\n",
       "      <td>2019-01-07</td>\n",
       "      <td>Asset1</td>\n",
       "      <td>230.0543</td>\n",
       "    </tr>\n",
       "    <tr>\n",
       "      <th>4</th>\n",
       "      <td>2019-01-08</td>\n",
       "      <td>Asset1</td>\n",
       "      <td>229.7012</td>\n",
       "    </tr>\n",
       "  </tbody>\n",
       "</table>\n",
       "</div>"
      ],
      "text/plain": [
       "         date   Asset     Value\n",
       "0  2019-01-02  Asset1  231.5061\n",
       "1  2019-01-03  Asset1  231.0356\n",
       "2  2019-01-04  Asset1  230.4026\n",
       "3  2019-01-07  Asset1  230.0543\n",
       "4  2019-01-08  Asset1  229.7012"
      ]
     },
     "execution_count": 363,
     "metadata": {},
     "output_type": "execute_result"
    }
   ],
   "source": [
    "df_melted = df.melt(id_vars=[\"date\"], var_name=\"Asset\", value_name=\"Value\")\n",
    "df_melted.head(5)\n"
   ]
  },
  {
   "cell_type": "code",
   "execution_count": 364,
   "metadata": {},
   "outputs": [
    {
     "data": {
      "text/plain": [
       "3915"
      ]
     },
     "execution_count": 364,
     "metadata": {},
     "output_type": "execute_result"
    }
   ],
   "source": [
    "len(df_melted)"
   ]
  },
  {
   "cell_type": "markdown",
   "metadata": {},
   "source": [
    "Thoughts: I see erratic missing data, they dont seem to follow a pattern and not all of the missing data is realting to all the assets in the same way. I thought about filling them with interpolation e.g., but some data has high jumps in between the missing data, and quite some days in between, so we can't really know what happened there."
   ]
  },
  {
   "cell_type": "code",
   "execution_count": 365,
   "metadata": {},
   "outputs": [
    {
     "data": {
      "application/vnd.plotly.v1+json": {
       "config": {
        "plotlyServerURL": "https://plot.ly"
       },
       "data": [
        {
         "hovertemplate": "Asset=Asset1<br>Date=%{x}<br>Price=%{y}<extra></extra>",
         "legendgroup": "Asset1",
         "line": {
          "color": "#636efa",
          "dash": "solid"
         },
         "marker": {
          "symbol": "circle"
         },
         "mode": "lines",
         "name": "Asset1",
         "showlegend": true,
         "type": "scattergl",
         "x": [
          "2019-01-02",
          "2019-01-03",
          "2019-01-04",
          "2019-01-07",
          "2019-01-08",
          "2019-01-09",
          "2019-01-10",
          "2019-01-11",
          "2019-01-14",
          "2019-01-15",
          "2019-01-16",
          "2019-01-17",
          "2019-01-18",
          "2019-01-21",
          "2019-01-22",
          "2019-01-23",
          "2019-01-24",
          "2019-01-25",
          "2019-01-28",
          "2019-01-29",
          "2019-01-30",
          "2019-01-31",
          "2019-02-01",
          "2019-02-04",
          "2019-02-05",
          "2019-02-06",
          "2019-02-07",
          "2019-02-08",
          "2019-02-11",
          "2019-02-12",
          "2019-02-13",
          "2019-02-14",
          "2019-02-15",
          "2019-02-18",
          "2019-02-19",
          "2019-02-20",
          "2019-02-21",
          "2019-02-22",
          "2019-02-25",
          "2019-02-26",
          "2019-02-27",
          "2019-02-28",
          "2019-03-01",
          "2019-03-04",
          "2019-03-05",
          "2019-03-06",
          "2019-03-07",
          "2019-03-08",
          "2019-03-11",
          "2019-03-12",
          "2019-03-13",
          "2019-03-14",
          "2019-03-15",
          "2019-03-18",
          "2019-03-19",
          "2019-03-20",
          "2019-03-21",
          "2019-03-22",
          "2019-03-25",
          "2019-03-26",
          "2019-03-27",
          "2019-03-28",
          "2019-03-29",
          "2019-04-01",
          "2019-04-02",
          "2019-04-03",
          "2019-04-04",
          "2019-04-05",
          "2019-04-08",
          "2019-04-09",
          "2019-04-10",
          "2019-04-11",
          "2019-04-12",
          "2019-04-15",
          "2019-04-16",
          "2019-04-17",
          "2019-04-18",
          "2019-04-19",
          "2019-04-22",
          "2019-04-23",
          "2019-04-24",
          "2019-04-25",
          "2019-04-26",
          "2019-04-29",
          "2019-04-30",
          "2019-05-01",
          "2019-05-02",
          "2019-05-03",
          "2019-05-06",
          "2019-05-07",
          "2019-05-08",
          "2019-05-09",
          "2019-05-10",
          "2019-05-13",
          "2019-05-14",
          "2019-05-15",
          "2019-05-16",
          "2019-05-17",
          "2019-05-20",
          "2019-05-21",
          "2019-05-22",
          "2019-05-23",
          "2019-05-24",
          "2019-05-27",
          "2019-05-28",
          "2019-05-29",
          "2019-05-30",
          "2019-05-31",
          "2019-06-03",
          "2019-06-04",
          "2019-06-05",
          "2019-06-06",
          "2019-06-07",
          "2019-06-10",
          "2019-06-11",
          "2019-06-12",
          "2019-06-13",
          "2019-06-14",
          "2019-06-17",
          "2019-06-18",
          "2019-06-19",
          "2019-06-20",
          "2019-06-21",
          "2019-06-24",
          "2019-06-25",
          "2019-06-26",
          "2019-06-27",
          "2019-06-28",
          "2019-07-01",
          "2019-07-02",
          "2019-07-03",
          "2019-07-04",
          "2019-07-05",
          "2019-07-08",
          "2019-07-09",
          "2019-07-10",
          "2019-07-11",
          "2019-07-12",
          "2019-07-15",
          "2019-07-16",
          "2019-07-17",
          "2019-07-18",
          "2019-07-19",
          "2019-07-22",
          "2019-07-23",
          "2019-07-24",
          "2019-07-25",
          "2019-07-26",
          "2019-07-29",
          "2019-07-30",
          "2019-07-31",
          "2019-08-01",
          "2019-08-02",
          "2019-08-05",
          "2019-08-06",
          "2019-08-07",
          "2019-08-08",
          "2019-08-09",
          "2019-08-12",
          "2019-08-13",
          "2019-08-14",
          "2019-08-15",
          "2019-08-16",
          "2019-08-19",
          "2019-08-20",
          "2019-08-21",
          "2019-08-22",
          "2019-08-23",
          "2019-08-26",
          "2019-08-27",
          "2019-08-28",
          "2019-08-29",
          "2019-08-30",
          "2019-09-02",
          "2019-09-03",
          "2019-09-04",
          "2019-09-05",
          "2019-09-06",
          "2019-09-09",
          "2019-09-10",
          "2019-09-11",
          "2019-09-12",
          "2019-09-13",
          "2019-09-16",
          "2019-09-17",
          "2019-09-18",
          "2019-09-19",
          "2019-09-20",
          "2019-09-23",
          "2019-09-24",
          "2019-09-25",
          "2019-09-26",
          "2019-09-27",
          "2019-09-30",
          "2019-10-01",
          "2019-10-02",
          "2019-10-03",
          "2019-10-04",
          "2019-10-07",
          "2019-10-08",
          "2019-10-09",
          "2019-10-10",
          "2019-10-11",
          "2019-10-14",
          "2019-10-15",
          "2019-10-16",
          "2019-10-17",
          "2019-10-18",
          "2019-10-21",
          "2019-10-22",
          "2019-10-23",
          "2019-10-24",
          "2019-10-25",
          "2019-10-28",
          "2019-10-29",
          "2019-10-30",
          "2019-10-31",
          "2019-11-01",
          "2019-11-04",
          "2019-11-05",
          "2019-11-06",
          "2019-11-07",
          "2019-11-08",
          "2019-11-11",
          "2019-11-12",
          "2019-11-13",
          "2019-11-14",
          "2019-11-15",
          "2019-11-18",
          "2019-11-19",
          "2019-11-20",
          "2019-11-21",
          "2019-11-22",
          "2019-11-25",
          "2019-11-26",
          "2019-11-27",
          "2019-11-28",
          "2019-11-29",
          "2019-12-02",
          "2019-12-03",
          "2019-12-04",
          "2019-12-05",
          "2019-12-06",
          "2019-12-09",
          "2019-12-10",
          "2019-12-11",
          "2019-12-12",
          "2019-12-13",
          "2019-12-16",
          "2019-12-17",
          "2019-12-18",
          "2019-12-19",
          "2019-12-20",
          "2019-12-23",
          "2019-12-24",
          "2019-12-25",
          "2019-12-26",
          "2019-12-27",
          "2019-12-30",
          "2019-12-31",
          "2020-01-01",
          "2020-01-02",
          "2020-01-03",
          "2020-01-06",
          "2020-01-07",
          "2020-01-08",
          "2020-01-09",
          "2020-01-10",
          "2020-01-13",
          "2020-01-14",
          "2020-01-15",
          "2020-01-16",
          "2020-01-17",
          "2020-01-20",
          "2020-01-21",
          "2020-01-22",
          "2020-01-23",
          "2020-01-24",
          "2020-01-27",
          "2020-01-28",
          "2020-01-29",
          "2020-01-30",
          "2020-01-31",
          "2020-02-03",
          "2020-02-04",
          "2020-02-05",
          "2020-02-06",
          "2020-02-07",
          "2020-02-10",
          "2020-02-11",
          "2020-02-12",
          "2020-02-13",
          "2020-02-14",
          "2020-02-17",
          "2020-02-18",
          "2020-02-19",
          "2020-02-20",
          "2020-02-21",
          "2020-02-24",
          "2020-02-25",
          "2020-02-26",
          "2020-02-27",
          "2020-02-28",
          "2020-03-02",
          "2020-03-03",
          "2020-03-04",
          "2020-03-05",
          "2020-03-06",
          "2020-03-09",
          "2020-03-10",
          "2020-03-11",
          "2020-03-12",
          "2020-03-13",
          "2020-03-16",
          "2020-03-17",
          "2020-03-18",
          "2020-03-19",
          "2020-03-20",
          "2020-03-23",
          "2020-03-24",
          "2020-03-25",
          "2020-03-26",
          "2020-03-27",
          "2020-03-30",
          "2020-03-31",
          "2020-04-01",
          "2020-04-02",
          "2020-04-03",
          "2020-04-06",
          "2020-04-07",
          "2020-04-08",
          "2020-04-09",
          "2020-04-10",
          "2020-04-13",
          "2020-04-14",
          "2020-04-15",
          "2020-04-16",
          "2020-04-17",
          "2020-04-20",
          "2020-04-21",
          "2020-04-22",
          "2020-04-23",
          "2020-04-24",
          "2020-04-27",
          "2020-04-28",
          "2020-04-29",
          "2020-04-30",
          "2020-05-01",
          "2020-05-04",
          "2020-05-05",
          "2020-05-06",
          "2020-05-07",
          "2020-05-08",
          "2020-05-11",
          "2020-05-12",
          "2020-05-13",
          "2020-05-14",
          "2020-05-15",
          "2020-05-18",
          "2020-05-19",
          "2020-05-20",
          "2020-05-21",
          "2020-05-22",
          "2020-05-25",
          "2020-05-26",
          "2020-05-27",
          "2020-05-28",
          "2020-05-29",
          "2020-06-01",
          "2020-06-02",
          "2020-06-03",
          "2020-06-04",
          "2020-06-05",
          "2020-06-08",
          "2020-06-09",
          "2020-06-10",
          "2020-06-11",
          "2020-06-12",
          "2020-06-15",
          "2020-06-16",
          "2020-06-17",
          "2020-06-18",
          "2020-06-19",
          "2020-06-22",
          "2020-06-23",
          "2020-06-24",
          "2020-06-25",
          "2020-06-26",
          "2020-06-29",
          "2020-06-30",
          "2020-07-01",
          "2020-07-02",
          "2020-07-03",
          "2020-07-06",
          "2020-07-07",
          "2020-07-08",
          "2020-07-09",
          "2020-07-10",
          "2020-07-13",
          "2020-07-14",
          "2020-07-15",
          "2020-07-16",
          "2020-07-17",
          "2020-07-20",
          "2020-07-21",
          "2020-07-22",
          "2020-07-23",
          "2020-07-24",
          "2020-07-27",
          "2020-07-28",
          "2020-07-29",
          "2020-07-30",
          "2020-07-31",
          "2020-08-03",
          "2020-08-04",
          "2020-08-05",
          "2020-08-06",
          "2020-08-07",
          "2020-08-10",
          "2020-08-11",
          "2020-08-12",
          "2020-08-13",
          "2020-08-14",
          "2020-08-17",
          "2020-08-18",
          "2020-08-19",
          "2020-08-20",
          "2020-08-21",
          "2020-08-24",
          "2020-08-25",
          "2020-08-26",
          "2020-08-27",
          "2020-08-28",
          "2020-08-31",
          "2020-09-01",
          "2020-09-02",
          "2020-09-03",
          "2020-09-04",
          "2020-09-07",
          "2020-09-08",
          "2020-09-09",
          "2020-09-10",
          "2020-09-11",
          "2020-09-14",
          "2020-09-15",
          "2020-09-16",
          "2020-09-17",
          "2020-09-18",
          "2020-09-21",
          "2020-09-22",
          "2020-09-23",
          "2020-09-24",
          "2020-09-25",
          "2020-09-28",
          "2020-09-29",
          "2020-09-30",
          "2020-10-01",
          "2020-10-02",
          "2020-10-05",
          "2020-10-06",
          "2020-10-07",
          "2020-10-08",
          "2020-10-09",
          "2020-10-12",
          "2020-10-13",
          "2020-10-14",
          "2020-10-15",
          "2020-10-16",
          "2020-10-19",
          "2020-10-20",
          "2020-10-21",
          "2020-10-22",
          "2020-10-23",
          "2020-10-26",
          "2020-10-27",
          "2020-10-28",
          "2020-10-29",
          "2020-10-30",
          "2020-11-02",
          "2020-11-03",
          "2020-11-04",
          "2020-11-05",
          "2020-11-06",
          "2020-11-09",
          "2020-11-10",
          "2020-11-11",
          "2020-11-12",
          "2020-11-13",
          "2020-11-16",
          "2020-11-17",
          "2020-11-18",
          "2020-11-19",
          "2020-11-20",
          "2020-11-23",
          "2020-11-24",
          "2020-11-25",
          "2020-11-26",
          "2020-11-27",
          "2020-11-30",
          "2020-12-01",
          "2020-12-02",
          "2020-12-03",
          "2020-12-04",
          "2020-12-07",
          "2020-12-08",
          "2020-12-09",
          "2020-12-10",
          "2020-12-11",
          "2020-12-14",
          "2020-12-15",
          "2020-12-16",
          "2020-12-17",
          "2020-12-18",
          "2020-12-21",
          "2020-12-22",
          "2020-12-23",
          "2020-12-24",
          "2020-12-25",
          "2020-12-28",
          "2020-12-29",
          "2020-12-30",
          "2020-12-31",
          "2021-01-01",
          "2021-01-04",
          "2021-01-05",
          "2021-01-06",
          "2021-01-07",
          "2021-01-08",
          "2021-01-11",
          "2021-01-12",
          "2021-01-13",
          "2021-01-14",
          "2021-01-15",
          "2021-01-18",
          "2021-01-19",
          "2021-01-20",
          "2021-01-21",
          "2021-01-22",
          "2021-01-25",
          "2021-01-26",
          "2021-01-27",
          "2021-01-28",
          "2021-01-29",
          "2021-02-01",
          "2021-02-02",
          "2021-02-03",
          "2021-02-04",
          "2021-02-05",
          "2021-02-08",
          "2021-02-09",
          "2021-02-10",
          "2021-02-11",
          "2021-02-12",
          "2021-02-15",
          "2021-02-16",
          "2021-02-17",
          "2021-02-18",
          "2021-02-19",
          "2021-02-22",
          "2021-02-23",
          "2021-02-24",
          "2021-02-25",
          "2021-02-26",
          "2021-03-01",
          "2021-03-02",
          "2021-03-03",
          "2021-03-04",
          "2021-03-05",
          "2021-03-08",
          "2021-03-09",
          "2021-03-10",
          "2021-03-11",
          "2021-03-12",
          "2021-03-15",
          "2021-03-16",
          "2021-03-17",
          "2021-03-18",
          "2021-03-19",
          "2021-03-22",
          "2021-03-23",
          "2021-03-24",
          "2021-03-25",
          "2021-03-26",
          "2021-03-29",
          "2021-03-30",
          "2021-03-31",
          "2021-04-01",
          "2021-04-02",
          "2021-04-05",
          "2021-04-06",
          "2021-04-07",
          "2021-04-08",
          "2021-04-09",
          "2021-04-12",
          "2021-04-13",
          "2021-04-14",
          "2021-04-15",
          "2021-04-16",
          "2021-04-19",
          "2021-04-20",
          "2021-04-21",
          "2021-04-22",
          "2021-04-23",
          "2021-04-26",
          "2021-04-27",
          "2021-04-28",
          "2021-04-29",
          "2021-04-30",
          "2021-05-03",
          "2021-05-04",
          "2021-05-05",
          "2021-05-06",
          "2021-05-07",
          "2021-05-10",
          "2021-05-11",
          "2021-05-12",
          "2021-05-13",
          "2021-05-14",
          "2021-05-17",
          "2021-05-18",
          "2021-05-19",
          "2021-05-20",
          "2021-05-21",
          "2021-05-24",
          "2021-05-25",
          "2021-05-26",
          "2021-05-27",
          "2021-05-28",
          "2021-05-31",
          "2021-06-01",
          "2021-06-02",
          "2021-06-03",
          "2021-06-04",
          "2021-06-07",
          "2021-06-08",
          "2021-06-09",
          "2021-06-10",
          "2021-06-11",
          "2021-06-14",
          "2021-06-15",
          "2021-06-16",
          "2021-06-17",
          "2021-06-18",
          "2021-06-21",
          "2021-06-22",
          "2021-06-23",
          "2021-06-24",
          "2021-06-25",
          "2021-06-28",
          "2021-06-29",
          "2021-06-30",
          "2021-07-01",
          "2021-07-02",
          "2021-07-05",
          "2021-07-06",
          "2021-07-07",
          "2021-07-08",
          "2021-07-09",
          "2021-07-12",
          "2021-07-13",
          "2021-07-14",
          "2021-07-15",
          "2021-07-16",
          "2021-07-19",
          "2021-07-20",
          "2021-07-21",
          "2021-07-22",
          "2021-07-23",
          "2021-07-26",
          "2021-07-27",
          "2021-07-28",
          "2021-07-29",
          "2021-07-30",
          "2021-08-02",
          "2021-08-03",
          "2021-08-04",
          "2021-08-05",
          "2021-08-06",
          "2021-08-09",
          "2021-08-10",
          "2021-08-11",
          "2021-08-12",
          "2021-08-13",
          "2021-08-16",
          "2021-08-17",
          "2021-08-18",
          "2021-08-19",
          "2021-08-20",
          "2021-08-23",
          "2021-08-24",
          "2021-08-25",
          "2021-08-26",
          "2021-08-27",
          "2021-08-30",
          "2021-08-31",
          "2021-09-01",
          "2021-09-02",
          "2021-09-03",
          "2021-09-06",
          "2021-09-07",
          "2021-09-08",
          "2021-09-09",
          "2021-09-10",
          "2021-09-13",
          "2021-09-14",
          "2021-09-15",
          "2021-09-16",
          "2021-09-17",
          "2021-09-20",
          "2021-09-21",
          "2021-09-22",
          "2021-09-23",
          "2021-09-24",
          "2021-09-27",
          "2021-09-28",
          "2021-09-29",
          "2021-09-30",
          "2021-10-01",
          "2021-10-04",
          "2021-10-05",
          "2021-10-06",
          "2021-10-07",
          "2021-10-08",
          "2021-10-11",
          "2021-10-12",
          "2021-10-13",
          "2021-10-14",
          "2021-10-15",
          "2021-10-18",
          "2021-10-19",
          "2021-10-20",
          "2021-10-21",
          "2021-10-22",
          "2021-10-25",
          "2021-10-26",
          "2021-10-27",
          "2021-10-28",
          "2021-10-29",
          "2021-11-01",
          "2021-11-02",
          "2021-11-03",
          "2021-11-04",
          "2021-11-05",
          "2021-11-08",
          "2021-11-09",
          "2021-11-10",
          "2021-11-11",
          "2021-11-12",
          "2021-11-15",
          "2021-11-16",
          "2021-11-17",
          "2021-11-18",
          "2021-11-19",
          "2021-11-22",
          "2021-11-23",
          "2021-11-24",
          "2021-11-25",
          "2021-11-26",
          "2021-11-29",
          "2021-11-30",
          "2021-12-01",
          "2021-12-02",
          "2021-12-03",
          "2021-12-06",
          "2021-12-07",
          "2021-12-08",
          "2021-12-09",
          "2021-12-10",
          "2021-12-13",
          "2021-12-14",
          "2021-12-15",
          "2021-12-16",
          "2021-12-17",
          "2021-12-20",
          "2021-12-21",
          "2021-12-22",
          "2021-12-23",
          "2021-12-24",
          "2021-12-27",
          "2021-12-28",
          "2021-12-29",
          "2021-12-30",
          "2021-12-31"
         ],
         "xaxis": "x",
         "y": {
          "bdata": "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",
          "dtype": "f8"
         },
         "yaxis": "y"
        },
        {
         "hovertemplate": "Asset=Asset2<br>Date=%{x}<br>Price=%{y}<extra></extra>",
         "legendgroup": "Asset2",
         "line": {
          "color": "#EF553B",
          "dash": "solid"
         },
         "marker": {
          "symbol": "circle"
         },
         "mode": "lines",
         "name": "Asset2",
         "showlegend": true,
         "type": "scattergl",
         "x": [
          "2019-01-02",
          "2019-01-03",
          "2019-01-04",
          "2019-01-07",
          "2019-01-08",
          "2019-01-09",
          "2019-01-10",
          "2019-01-11",
          "2019-01-14",
          "2019-01-15",
          "2019-01-16",
          "2019-01-17",
          "2019-01-18",
          "2019-01-21",
          "2019-01-22",
          "2019-01-23",
          "2019-01-24",
          "2019-01-25",
          "2019-01-28",
          "2019-01-29",
          "2019-01-30",
          "2019-01-31",
          "2019-02-01",
          "2019-02-04",
          "2019-02-05",
          "2019-02-06",
          "2019-02-07",
          "2019-02-08",
          "2019-02-11",
          "2019-02-12",
          "2019-02-13",
          "2019-02-14",
          "2019-02-15",
          "2019-02-18",
          "2019-02-19",
          "2019-02-20",
          "2019-02-21",
          "2019-02-22",
          "2019-02-25",
          "2019-02-26",
          "2019-02-27",
          "2019-02-28",
          "2019-03-01",
          "2019-03-04",
          "2019-03-05",
          "2019-03-06",
          "2019-03-07",
          "2019-03-08",
          "2019-03-11",
          "2019-03-12",
          "2019-03-13",
          "2019-03-14",
          "2019-03-15",
          "2019-03-18",
          "2019-03-19",
          "2019-03-20",
          "2019-03-21",
          "2019-03-22",
          "2019-03-25",
          "2019-03-26",
          "2019-03-27",
          "2019-03-28",
          "2019-03-29",
          "2019-04-01",
          "2019-04-02",
          "2019-04-03",
          "2019-04-04",
          "2019-04-05",
          "2019-04-08",
          "2019-04-09",
          "2019-04-10",
          "2019-04-11",
          "2019-04-12",
          "2019-04-15",
          "2019-04-16",
          "2019-04-17",
          "2019-04-18",
          "2019-04-19",
          "2019-04-22",
          "2019-04-23",
          "2019-04-24",
          "2019-04-25",
          "2019-04-26",
          "2019-04-29",
          "2019-04-30",
          "2019-05-01",
          "2019-05-02",
          "2019-05-03",
          "2019-05-06",
          "2019-05-07",
          "2019-05-08",
          "2019-05-09",
          "2019-05-10",
          "2019-05-13",
          "2019-05-14",
          "2019-05-15",
          "2019-05-16",
          "2019-05-17",
          "2019-05-20",
          "2019-05-21",
          "2019-05-22",
          "2019-05-23",
          "2019-05-24",
          "2019-05-27",
          "2019-05-28",
          "2019-05-29",
          "2019-05-30",
          "2019-05-31",
          "2019-06-03",
          "2019-06-04",
          "2019-06-05",
          "2019-06-06",
          "2019-06-07",
          "2019-06-10",
          "2019-06-11",
          "2019-06-12",
          "2019-06-13",
          "2019-06-14",
          "2019-06-17",
          "2019-06-18",
          "2019-06-19",
          "2019-06-20",
          "2019-06-21",
          "2019-06-24",
          "2019-06-25",
          "2019-06-26",
          "2019-06-27",
          "2019-06-28",
          "2019-07-01",
          "2019-07-02",
          "2019-07-03",
          "2019-07-04",
          "2019-07-05",
          "2019-07-08",
          "2019-07-09",
          "2019-07-10",
          "2019-07-11",
          "2019-07-12",
          "2019-07-15",
          "2019-07-16",
          "2019-07-17",
          "2019-07-18",
          "2019-07-19",
          "2019-07-22",
          "2019-07-23",
          "2019-07-24",
          "2019-07-25",
          "2019-07-26",
          "2019-07-29",
          "2019-07-30",
          "2019-07-31",
          "2019-08-01",
          "2019-08-02",
          "2019-08-05",
          "2019-08-06",
          "2019-08-07",
          "2019-08-08",
          "2019-08-09",
          "2019-08-12",
          "2019-08-13",
          "2019-08-14",
          "2019-08-15",
          "2019-08-16",
          "2019-08-19",
          "2019-08-20",
          "2019-08-21",
          "2019-08-22",
          "2019-08-23",
          "2019-08-26",
          "2019-08-27",
          "2019-08-28",
          "2019-08-29",
          "2019-08-30",
          "2019-09-02",
          "2019-09-03",
          "2019-09-04",
          "2019-09-05",
          "2019-09-06",
          "2019-09-09",
          "2019-09-10",
          "2019-09-11",
          "2019-09-12",
          "2019-09-13",
          "2019-09-16",
          "2019-09-17",
          "2019-09-18",
          "2019-09-19",
          "2019-09-20",
          "2019-09-23",
          "2019-09-24",
          "2019-09-25",
          "2019-09-26",
          "2019-09-27",
          "2019-09-30",
          "2019-10-01",
          "2019-10-02",
          "2019-10-03",
          "2019-10-04",
          "2019-10-07",
          "2019-10-08",
          "2019-10-09",
          "2019-10-10",
          "2019-10-11",
          "2019-10-14",
          "2019-10-15",
          "2019-10-16",
          "2019-10-17",
          "2019-10-18",
          "2019-10-21",
          "2019-10-22",
          "2019-10-23",
          "2019-10-24",
          "2019-10-25",
          "2019-10-28",
          "2019-10-29",
          "2019-10-30",
          "2019-10-31",
          "2019-11-01",
          "2019-11-04",
          "2019-11-05",
          "2019-11-06",
          "2019-11-07",
          "2019-11-08",
          "2019-11-11",
          "2019-11-12",
          "2019-11-13",
          "2019-11-14",
          "2019-11-15",
          "2019-11-18",
          "2019-11-19",
          "2019-11-20",
          "2019-11-21",
          "2019-11-22",
          "2019-11-25",
          "2019-11-26",
          "2019-11-27",
          "2019-11-28",
          "2019-11-29",
          "2019-12-02",
          "2019-12-03",
          "2019-12-04",
          "2019-12-05",
          "2019-12-06",
          "2019-12-09",
          "2019-12-10",
          "2019-12-11",
          "2019-12-12",
          "2019-12-13",
          "2019-12-16",
          "2019-12-17",
          "2019-12-18",
          "2019-12-19",
          "2019-12-20",
          "2019-12-23",
          "2019-12-24",
          "2019-12-25",
          "2019-12-26",
          "2019-12-27",
          "2019-12-30",
          "2019-12-31",
          "2020-01-01",
          "2020-01-02",
          "2020-01-03",
          "2020-01-06",
          "2020-01-07",
          "2020-01-08",
          "2020-01-09",
          "2020-01-10",
          "2020-01-13",
          "2020-01-14",
          "2020-01-15",
          "2020-01-16",
          "2020-01-17",
          "2020-01-20",
          "2020-01-21",
          "2020-01-22",
          "2020-01-23",
          "2020-01-24",
          "2020-01-27",
          "2020-01-28",
          "2020-01-29",
          "2020-01-30",
          "2020-01-31",
          "2020-02-03",
          "2020-02-04",
          "2020-02-05",
          "2020-02-06",
          "2020-02-07",
          "2020-02-10",
          "2020-02-11",
          "2020-02-12",
          "2020-02-13",
          "2020-02-14",
          "2020-02-17",
          "2020-02-18",
          "2020-02-19",
          "2020-02-20",
          "2020-02-21",
          "2020-02-24",
          "2020-02-25",
          "2020-02-26",
          "2020-02-27",
          "2020-02-28",
          "2020-03-02",
          "2020-03-03",
          "2020-03-04",
          "2020-03-05",
          "2020-03-06",
          "2020-03-09",
          "2020-03-10",
          "2020-03-11",
          "2020-03-12",
          "2020-03-13",
          "2020-03-16",
          "2020-03-17",
          "2020-03-18",
          "2020-03-19",
          "2020-03-20",
          "2020-03-23",
          "2020-03-24",
          "2020-03-25",
          "2020-03-26",
          "2020-03-27",
          "2020-03-30",
          "2020-03-31",
          "2020-04-01",
          "2020-04-02",
          "2020-04-03",
          "2020-04-06",
          "2020-04-07",
          "2020-04-08",
          "2020-04-09",
          "2020-04-10",
          "2020-04-13",
          "2020-04-14",
          "2020-04-15",
          "2020-04-16",
          "2020-04-17",
          "2020-04-20",
          "2020-04-21",
          "2020-04-22",
          "2020-04-23",
          "2020-04-24",
          "2020-04-27",
          "2020-04-28",
          "2020-04-29",
          "2020-04-30",
          "2020-05-01",
          "2020-05-04",
          "2020-05-05",
          "2020-05-06",
          "2020-05-07",
          "2020-05-08",
          "2020-05-11",
          "2020-05-12",
          "2020-05-13",
          "2020-05-14",
          "2020-05-15",
          "2020-05-18",
          "2020-05-19",
          "2020-05-20",
          "2020-05-21",
          "2020-05-22",
          "2020-05-25",
          "2020-05-26",
          "2020-05-27",
          "2020-05-28",
          "2020-05-29",
          "2020-06-01",
          "2020-06-02",
          "2020-06-03",
          "2020-06-04",
          "2020-06-05",
          "2020-06-08",
          "2020-06-09",
          "2020-06-10",
          "2020-06-11",
          "2020-06-12",
          "2020-06-15",
          "2020-06-16",
          "2020-06-17",
          "2020-06-18",
          "2020-06-19",
          "2020-06-22",
          "2020-06-23",
          "2020-06-24",
          "2020-06-25",
          "2020-06-26",
          "2020-06-29",
          "2020-06-30",
          "2020-07-01",
          "2020-07-02",
          "2020-07-03",
          "2020-07-06",
          "2020-07-07",
          "2020-07-08",
          "2020-07-09",
          "2020-07-10",
          "2020-07-13",
          "2020-07-14",
          "2020-07-15",
          "2020-07-16",
          "2020-07-17",
          "2020-07-20",
          "2020-07-21",
          "2020-07-22",
          "2020-07-23",
          "2020-07-24",
          "2020-07-27",
          "2020-07-28",
          "2020-07-29",
          "2020-07-30",
          "2020-07-31",
          "2020-08-03",
          "2020-08-04",
          "2020-08-05",
          "2020-08-06",
          "2020-08-07",
          "2020-08-10",
          "2020-08-11",
          "2020-08-12",
          "2020-08-13",
          "2020-08-14",
          "2020-08-17",
          "2020-08-18",
          "2020-08-19",
          "2020-08-20",
          "2020-08-21",
          "2020-08-24",
          "2020-08-25",
          "2020-08-26",
          "2020-08-27",
          "2020-08-28",
          "2020-08-31",
          "2020-09-01",
          "2020-09-02",
          "2020-09-03",
          "2020-09-04",
          "2020-09-07",
          "2020-09-08",
          "2020-09-09",
          "2020-09-10",
          "2020-09-11",
          "2020-09-14",
          "2020-09-15",
          "2020-09-16",
          "2020-09-17",
          "2020-09-18",
          "2020-09-21",
          "2020-09-22",
          "2020-09-23",
          "2020-09-24",
          "2020-09-25",
          "2020-09-28",
          "2020-09-29",
          "2020-09-30",
          "2020-10-01",
          "2020-10-02",
          "2020-10-05",
          "2020-10-06",
          "2020-10-07",
          "2020-10-08",
          "2020-10-09",
          "2020-10-12",
          "2020-10-13",
          "2020-10-14",
          "2020-10-15",
          "2020-10-16",
          "2020-10-19",
          "2020-10-20",
          "2020-10-21",
          "2020-10-22",
          "2020-10-23",
          "2020-10-26",
          "2020-10-27",
          "2020-10-28",
          "2020-10-29",
          "2020-10-30",
          "2020-11-02",
          "2020-11-03",
          "2020-11-04",
          "2020-11-05",
          "2020-11-06",
          "2020-11-09",
          "2020-11-10",
          "2020-11-11",
          "2020-11-12",
          "2020-11-13",
          "2020-11-16",
          "2020-11-17",
          "2020-11-18",
          "2020-11-19",
          "2020-11-20",
          "2020-11-23",
          "2020-11-24",
          "2020-11-25",
          "2020-11-26",
          "2020-11-27",
          "2020-11-30",
          "2020-12-01",
          "2020-12-02",
          "2020-12-03",
          "2020-12-04",
          "2020-12-07",
          "2020-12-08",
          "2020-12-09",
          "2020-12-10",
          "2020-12-11",
          "2020-12-14",
          "2020-12-15",
          "2020-12-16",
          "2020-12-17",
          "2020-12-18",
          "2020-12-21",
          "2020-12-22",
          "2020-12-23",
          "2020-12-24",
          "2020-12-25",
          "2020-12-28",
          "2020-12-29",
          "2020-12-30",
          "2020-12-31",
          "2021-01-01",
          "2021-01-04",
          "2021-01-05",
          "2021-01-06",
          "2021-01-07",
          "2021-01-08",
          "2021-01-11",
          "2021-01-12",
          "2021-01-13",
          "2021-01-14",
          "2021-01-15",
          "2021-01-18",
          "2021-01-19",
          "2021-01-20",
          "2021-01-21",
          "2021-01-22",
          "2021-01-25",
          "2021-01-26",
          "2021-01-27",
          "2021-01-28",
          "2021-01-29",
          "2021-02-01",
          "2021-02-02",
          "2021-02-03",
          "2021-02-04",
          "2021-02-05",
          "2021-02-08",
          "2021-02-09",
          "2021-02-10",
          "2021-02-11",
          "2021-02-12",
          "2021-02-15",
          "2021-02-16",
          "2021-02-17",
          "2021-02-18",
          "2021-02-19",
          "2021-02-22",
          "2021-02-23",
          "2021-02-24",
          "2021-02-25",
          "2021-02-26",
          "2021-03-01",
          "2021-03-02",
          "2021-03-03",
          "2021-03-04",
          "2021-03-05",
          "2021-03-08",
          "2021-03-09",
          "2021-03-10",
          "2021-03-11",
          "2021-03-12",
          "2021-03-15",
          "2021-03-16",
          "2021-03-17",
          "2021-03-18",
          "2021-03-19",
          "2021-03-22",
          "2021-03-23",
          "2021-03-24",
          "2021-03-25",
          "2021-03-26",
          "2021-03-29",
          "2021-03-30",
          "2021-03-31",
          "2021-04-01",
          "2021-04-02",
          "2021-04-05",
          "2021-04-06",
          "2021-04-07",
          "2021-04-08",
          "2021-04-09",
          "2021-04-12",
          "2021-04-13",
          "2021-04-14",
          "2021-04-15",
          "2021-04-16",
          "2021-04-19",
          "2021-04-20",
          "2021-04-21",
          "2021-04-22",
          "2021-04-23",
          "2021-04-26",
          "2021-04-27",
          "2021-04-28",
          "2021-04-29",
          "2021-04-30",
          "2021-05-03",
          "2021-05-04",
          "2021-05-05",
          "2021-05-06",
          "2021-05-07",
          "2021-05-10",
          "2021-05-11",
          "2021-05-12",
          "2021-05-13",
          "2021-05-14",
          "2021-05-17",
          "2021-05-18",
          "2021-05-19",
          "2021-05-20",
          "2021-05-21",
          "2021-05-24",
          "2021-05-25",
          "2021-05-26",
          "2021-05-27",
          "2021-05-28",
          "2021-05-31",
          "2021-06-01",
          "2021-06-02",
          "2021-06-03",
          "2021-06-04",
          "2021-06-07",
          "2021-06-08",
          "2021-06-09",
          "2021-06-10",
          "2021-06-11",
          "2021-06-14",
          "2021-06-15",
          "2021-06-16",
          "2021-06-17",
          "2021-06-18",
          "2021-06-21",
          "2021-06-22",
          "2021-06-23",
          "2021-06-24",
          "2021-06-25",
          "2021-06-28",
          "2021-06-29",
          "2021-06-30",
          "2021-07-01",
          "2021-07-02",
          "2021-07-05",
          "2021-07-06",
          "2021-07-07",
          "2021-07-08",
          "2021-07-09",
          "2021-07-12",
          "2021-07-13",
          "2021-07-14",
          "2021-07-15",
          "2021-07-16",
          "2021-07-19",
          "2021-07-20",
          "2021-07-21",
          "2021-07-22",
          "2021-07-23",
          "2021-07-26",
          "2021-07-27",
          "2021-07-28",
          "2021-07-29",
          "2021-07-30",
          "2021-08-02",
          "2021-08-03",
          "2021-08-04",
          "2021-08-05",
          "2021-08-06",
          "2021-08-09",
          "2021-08-10",
          "2021-08-11",
          "2021-08-12",
          "2021-08-13",
          "2021-08-16",
          "2021-08-17",
          "2021-08-18",
          "2021-08-19",
          "2021-08-20",
          "2021-08-23",
          "2021-08-24",
          "2021-08-25",
          "2021-08-26",
          "2021-08-27",
          "2021-08-30",
          "2021-08-31",
          "2021-09-01",
          "2021-09-02",
          "2021-09-03",
          "2021-09-06",
          "2021-09-07",
          "2021-09-08",
          "2021-09-09",
          "2021-09-10",
          "2021-09-13",
          "2021-09-14",
          "2021-09-15",
          "2021-09-16",
          "2021-09-17",
          "2021-09-20",
          "2021-09-21",
          "2021-09-22",
          "2021-09-23",
          "2021-09-24",
          "2021-09-27",
          "2021-09-28",
          "2021-09-29",
          "2021-09-30",
          "2021-10-01",
          "2021-10-04",
          "2021-10-05",
          "2021-10-06",
          "2021-10-07",
          "2021-10-08",
          "2021-10-11",
          "2021-10-12",
          "2021-10-13",
          "2021-10-14",
          "2021-10-15",
          "2021-10-18",
          "2021-10-19",
          "2021-10-20",
          "2021-10-21",
          "2021-10-22",
          "2021-10-25",
          "2021-10-26",
          "2021-10-27",
          "2021-10-28",
          "2021-10-29",
          "2021-11-01",
          "2021-11-02",
          "2021-11-03",
          "2021-11-04",
          "2021-11-05",
          "2021-11-08",
          "2021-11-09",
          "2021-11-10",
          "2021-11-11",
          "2021-11-12",
          "2021-11-15",
          "2021-11-16",
          "2021-11-17",
          "2021-11-18",
          "2021-11-19",
          "2021-11-22",
          "2021-11-23",
          "2021-11-24",
          "2021-11-25",
          "2021-11-26",
          "2021-11-29",
          "2021-11-30",
          "2021-12-01",
          "2021-12-02",
          "2021-12-03",
          "2021-12-06",
          "2021-12-07",
          "2021-12-08",
          "2021-12-09",
          "2021-12-10",
          "2021-12-13",
          "2021-12-14",
          "2021-12-15",
          "2021-12-16",
          "2021-12-17",
          "2021-12-20",
          "2021-12-21",
          "2021-12-22",
          "2021-12-23",
          "2021-12-24",
          "2021-12-27",
          "2021-12-28",
          "2021-12-29",
          "2021-12-30",
          "2021-12-31"
         ],
         "xaxis": "x",
         "y": {
          "bdata": "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",
          "dtype": "f8"
         },
         "yaxis": "y"
        },
        {
         "hovertemplate": "Asset=Asset3<br>Date=%{x}<br>Price=%{y}<extra></extra>",
         "legendgroup": "Asset3",
         "line": {
          "color": "#00cc96",
          "dash": "solid"
         },
         "marker": {
          "symbol": "circle"
         },
         "mode": "lines",
         "name": "Asset3",
         "showlegend": true,
         "type": "scattergl",
         "x": [
          "2019-01-02",
          "2019-01-03",
          "2019-01-04",
          "2019-01-07",
          "2019-01-08",
          "2019-01-09",
          "2019-01-10",
          "2019-01-11",
          "2019-01-14",
          "2019-01-15",
          "2019-01-16",
          "2019-01-17",
          "2019-01-18",
          "2019-01-21",
          "2019-01-22",
          "2019-01-23",
          "2019-01-24",
          "2019-01-25",
          "2019-01-28",
          "2019-01-29",
          "2019-01-30",
          "2019-01-31",
          "2019-02-01",
          "2019-02-04",
          "2019-02-05",
          "2019-02-06",
          "2019-02-07",
          "2019-02-08",
          "2019-02-11",
          "2019-02-12",
          "2019-02-13",
          "2019-02-14",
          "2019-02-15",
          "2019-02-18",
          "2019-02-19",
          "2019-02-20",
          "2019-02-21",
          "2019-02-22",
          "2019-02-25",
          "2019-02-26",
          "2019-02-27",
          "2019-02-28",
          "2019-03-01",
          "2019-03-04",
          "2019-03-05",
          "2019-03-06",
          "2019-03-07",
          "2019-03-08",
          "2019-03-11",
          "2019-03-12",
          "2019-03-13",
          "2019-03-14",
          "2019-03-15",
          "2019-03-18",
          "2019-03-19",
          "2019-03-20",
          "2019-03-21",
          "2019-03-22",
          "2019-03-25",
          "2019-03-26",
          "2019-03-27",
          "2019-03-28",
          "2019-03-29",
          "2019-04-01",
          "2019-04-02",
          "2019-04-03",
          "2019-04-04",
          "2019-04-05",
          "2019-04-08",
          "2019-04-09",
          "2019-04-10",
          "2019-04-11",
          "2019-04-12",
          "2019-04-15",
          "2019-04-16",
          "2019-04-17",
          "2019-04-18",
          "2019-04-19",
          "2019-04-22",
          "2019-04-23",
          "2019-04-24",
          "2019-04-25",
          "2019-04-26",
          "2019-04-29",
          "2019-04-30",
          "2019-05-01",
          "2019-05-02",
          "2019-05-03",
          "2019-05-06",
          "2019-05-07",
          "2019-05-08",
          "2019-05-09",
          "2019-05-10",
          "2019-05-13",
          "2019-05-14",
          "2019-05-15",
          "2019-05-16",
          "2019-05-17",
          "2019-05-20",
          "2019-05-21",
          "2019-05-22",
          "2019-05-23",
          "2019-05-24",
          "2019-05-27",
          "2019-05-28",
          "2019-05-29",
          "2019-05-30",
          "2019-05-31",
          "2019-06-03",
          "2019-06-04",
          "2019-06-05",
          "2019-06-06",
          "2019-06-07",
          "2019-06-10",
          "2019-06-11",
          "2019-06-12",
          "2019-06-13",
          "2019-06-14",
          "2019-06-17",
          "2019-06-18",
          "2019-06-19",
          "2019-06-20",
          "2019-06-21",
          "2019-06-24",
          "2019-06-25",
          "2019-06-26",
          "2019-06-27",
          "2019-06-28",
          "2019-07-01",
          "2019-07-02",
          "2019-07-03",
          "2019-07-04",
          "2019-07-05",
          "2019-07-08",
          "2019-07-09",
          "2019-07-10",
          "2019-07-11",
          "2019-07-12",
          "2019-07-15",
          "2019-07-16",
          "2019-07-17",
          "2019-07-18",
          "2019-07-19",
          "2019-07-22",
          "2019-07-23",
          "2019-07-24",
          "2019-07-25",
          "2019-07-26",
          "2019-07-29",
          "2019-07-30",
          "2019-07-31",
          "2019-08-01",
          "2019-08-02",
          "2019-08-05",
          "2019-08-06",
          "2019-08-07",
          "2019-08-08",
          "2019-08-09",
          "2019-08-12",
          "2019-08-13",
          "2019-08-14",
          "2019-08-15",
          "2019-08-16",
          "2019-08-19",
          "2019-08-20",
          "2019-08-21",
          "2019-08-22",
          "2019-08-23",
          "2019-08-26",
          "2019-08-27",
          "2019-08-28",
          "2019-08-29",
          "2019-08-30",
          "2019-09-02",
          "2019-09-03",
          "2019-09-04",
          "2019-09-05",
          "2019-09-06",
          "2019-09-09",
          "2019-09-10",
          "2019-09-11",
          "2019-09-12",
          "2019-09-13",
          "2019-09-16",
          "2019-09-17",
          "2019-09-18",
          "2019-09-19",
          "2019-09-20",
          "2019-09-23",
          "2019-09-24",
          "2019-09-25",
          "2019-09-26",
          "2019-09-27",
          "2019-09-30",
          "2019-10-01",
          "2019-10-02",
          "2019-10-03",
          "2019-10-04",
          "2019-10-07",
          "2019-10-08",
          "2019-10-09",
          "2019-10-10",
          "2019-10-11",
          "2019-10-14",
          "2019-10-15",
          "2019-10-16",
          "2019-10-17",
          "2019-10-18",
          "2019-10-21",
          "2019-10-22",
          "2019-10-23",
          "2019-10-24",
          "2019-10-25",
          "2019-10-28",
          "2019-10-29",
          "2019-10-30",
          "2019-10-31",
          "2019-11-01",
          "2019-11-04",
          "2019-11-05",
          "2019-11-06",
          "2019-11-07",
          "2019-11-08",
          "2019-11-11",
          "2019-11-12",
          "2019-11-13",
          "2019-11-14",
          "2019-11-15",
          "2019-11-18",
          "2019-11-19",
          "2019-11-20",
          "2019-11-21",
          "2019-11-22",
          "2019-11-25",
          "2019-11-26",
          "2019-11-27",
          "2019-11-28",
          "2019-11-29",
          "2019-12-02",
          "2019-12-03",
          "2019-12-04",
          "2019-12-05",
          "2019-12-06",
          "2019-12-09",
          "2019-12-10",
          "2019-12-11",
          "2019-12-12",
          "2019-12-13",
          "2019-12-16",
          "2019-12-17",
          "2019-12-18",
          "2019-12-19",
          "2019-12-20",
          "2019-12-23",
          "2019-12-24",
          "2019-12-25",
          "2019-12-26",
          "2019-12-27",
          "2019-12-30",
          "2019-12-31",
          "2020-01-01",
          "2020-01-02",
          "2020-01-03",
          "2020-01-06",
          "2020-01-07",
          "2020-01-08",
          "2020-01-09",
          "2020-01-10",
          "2020-01-13",
          "2020-01-14",
          "2020-01-15",
          "2020-01-16",
          "2020-01-17",
          "2020-01-20",
          "2020-01-21",
          "2020-01-22",
          "2020-01-23",
          "2020-01-24",
          "2020-01-27",
          "2020-01-28",
          "2020-01-29",
          "2020-01-30",
          "2020-01-31",
          "2020-02-03",
          "2020-02-04",
          "2020-02-05",
          "2020-02-06",
          "2020-02-07",
          "2020-02-10",
          "2020-02-11",
          "2020-02-12",
          "2020-02-13",
          "2020-02-14",
          "2020-02-17",
          "2020-02-18",
          "2020-02-19",
          "2020-02-20",
          "2020-02-21",
          "2020-02-24",
          "2020-02-25",
          "2020-02-26",
          "2020-02-27",
          "2020-02-28",
          "2020-03-02",
          "2020-03-03",
          "2020-03-04",
          "2020-03-05",
          "2020-03-06",
          "2020-03-09",
          "2020-03-10",
          "2020-03-11",
          "2020-03-12",
          "2020-03-13",
          "2020-03-16",
          "2020-03-17",
          "2020-03-18",
          "2020-03-19",
          "2020-03-20",
          "2020-03-23",
          "2020-03-24",
          "2020-03-25",
          "2020-03-26",
          "2020-03-27",
          "2020-03-30",
          "2020-03-31",
          "2020-04-01",
          "2020-04-02",
          "2020-04-03",
          "2020-04-06",
          "2020-04-07",
          "2020-04-08",
          "2020-04-09",
          "2020-04-10",
          "2020-04-13",
          "2020-04-14",
          "2020-04-15",
          "2020-04-16",
          "2020-04-17",
          "2020-04-20",
          "2020-04-21",
          "2020-04-22",
          "2020-04-23",
          "2020-04-24",
          "2020-04-27",
          "2020-04-28",
          "2020-04-29",
          "2020-04-30",
          "2020-05-01",
          "2020-05-04",
          "2020-05-05",
          "2020-05-06",
          "2020-05-07",
          "2020-05-08",
          "2020-05-11",
          "2020-05-12",
          "2020-05-13",
          "2020-05-14",
          "2020-05-15",
          "2020-05-18",
          "2020-05-19",
          "2020-05-20",
          "2020-05-21",
          "2020-05-22",
          "2020-05-25",
          "2020-05-26",
          "2020-05-27",
          "2020-05-28",
          "2020-05-29",
          "2020-06-01",
          "2020-06-02",
          "2020-06-03",
          "2020-06-04",
          "2020-06-05",
          "2020-06-08",
          "2020-06-09",
          "2020-06-10",
          "2020-06-11",
          "2020-06-12",
          "2020-06-15",
          "2020-06-16",
          "2020-06-17",
          "2020-06-18",
          "2020-06-19",
          "2020-06-22",
          "2020-06-23",
          "2020-06-24",
          "2020-06-25",
          "2020-06-26",
          "2020-06-29",
          "2020-06-30",
          "2020-07-01",
          "2020-07-02",
          "2020-07-03",
          "2020-07-06",
          "2020-07-07",
          "2020-07-08",
          "2020-07-09",
          "2020-07-10",
          "2020-07-13",
          "2020-07-14",
          "2020-07-15",
          "2020-07-16",
          "2020-07-17",
          "2020-07-20",
          "2020-07-21",
          "2020-07-22",
          "2020-07-23",
          "2020-07-24",
          "2020-07-27",
          "2020-07-28",
          "2020-07-29",
          "2020-07-30",
          "2020-07-31",
          "2020-08-03",
          "2020-08-04",
          "2020-08-05",
          "2020-08-06",
          "2020-08-07",
          "2020-08-10",
          "2020-08-11",
          "2020-08-12",
          "2020-08-13",
          "2020-08-14",
          "2020-08-17",
          "2020-08-18",
          "2020-08-19",
          "2020-08-20",
          "2020-08-21",
          "2020-08-24",
          "2020-08-25",
          "2020-08-26",
          "2020-08-27",
          "2020-08-28",
          "2020-08-31",
          "2020-09-01",
          "2020-09-02",
          "2020-09-03",
          "2020-09-04",
          "2020-09-07",
          "2020-09-08",
          "2020-09-09",
          "2020-09-10",
          "2020-09-11",
          "2020-09-14",
          "2020-09-15",
          "2020-09-16",
          "2020-09-17",
          "2020-09-18",
          "2020-09-21",
          "2020-09-22",
          "2020-09-23",
          "2020-09-24",
          "2020-09-25",
          "2020-09-28",
          "2020-09-29",
          "2020-09-30",
          "2020-10-01",
          "2020-10-02",
          "2020-10-05",
          "2020-10-06",
          "2020-10-07",
          "2020-10-08",
          "2020-10-09",
          "2020-10-12",
          "2020-10-13",
          "2020-10-14",
          "2020-10-15",
          "2020-10-16",
          "2020-10-19",
          "2020-10-20",
          "2020-10-21",
          "2020-10-22",
          "2020-10-23",
          "2020-10-26",
          "2020-10-27",
          "2020-10-28",
          "2020-10-29",
          "2020-10-30",
          "2020-11-02",
          "2020-11-03",
          "2020-11-04",
          "2020-11-05",
          "2020-11-06",
          "2020-11-09",
          "2020-11-10",
          "2020-11-11",
          "2020-11-12",
          "2020-11-13",
          "2020-11-16",
          "2020-11-17",
          "2020-11-18",
          "2020-11-19",
          "2020-11-20",
          "2020-11-23",
          "2020-11-24",
          "2020-11-25",
          "2020-11-26",
          "2020-11-27",
          "2020-11-30",
          "2020-12-01",
          "2020-12-02",
          "2020-12-03",
          "2020-12-04",
          "2020-12-07",
          "2020-12-08",
          "2020-12-09",
          "2020-12-10",
          "2020-12-11",
          "2020-12-14",
          "2020-12-15",
          "2020-12-16",
          "2020-12-17",
          "2020-12-18",
          "2020-12-21",
          "2020-12-22",
          "2020-12-23",
          "2020-12-24",
          "2020-12-25",
          "2020-12-28",
          "2020-12-29",
          "2020-12-30",
          "2020-12-31",
          "2021-01-01",
          "2021-01-04",
          "2021-01-05",
          "2021-01-06",
          "2021-01-07",
          "2021-01-08",
          "2021-01-11",
          "2021-01-12",
          "2021-01-13",
          "2021-01-14",
          "2021-01-15",
          "2021-01-18",
          "2021-01-19",
          "2021-01-20",
          "2021-01-21",
          "2021-01-22",
          "2021-01-25",
          "2021-01-26",
          "2021-01-27",
          "2021-01-28",
          "2021-01-29",
          "2021-02-01",
          "2021-02-02",
          "2021-02-03",
          "2021-02-04",
          "2021-02-05",
          "2021-02-08",
          "2021-02-09",
          "2021-02-10",
          "2021-02-11",
          "2021-02-12",
          "2021-02-15",
          "2021-02-16",
          "2021-02-17",
          "2021-02-18",
          "2021-02-19",
          "2021-02-22",
          "2021-02-23",
          "2021-02-24",
          "2021-02-25",
          "2021-02-26",
          "2021-03-01",
          "2021-03-02",
          "2021-03-03",
          "2021-03-04",
          "2021-03-05",
          "2021-03-08",
          "2021-03-09",
          "2021-03-10",
          "2021-03-11",
          "2021-03-12",
          "2021-03-15",
          "2021-03-16",
          "2021-03-17",
          "2021-03-18",
          "2021-03-19",
          "2021-03-22",
          "2021-03-23",
          "2021-03-24",
          "2021-03-25",
          "2021-03-26",
          "2021-03-29",
          "2021-03-30",
          "2021-03-31",
          "2021-04-01",
          "2021-04-02",
          "2021-04-05",
          "2021-04-06",
          "2021-04-07",
          "2021-04-08",
          "2021-04-09",
          "2021-04-12",
          "2021-04-13",
          "2021-04-14",
          "2021-04-15",
          "2021-04-16",
          "2021-04-19",
          "2021-04-20",
          "2021-04-21",
          "2021-04-22",
          "2021-04-23",
          "2021-04-26",
          "2021-04-27",
          "2021-04-28",
          "2021-04-29",
          "2021-04-30",
          "2021-05-03",
          "2021-05-04",
          "2021-05-05",
          "2021-05-06",
          "2021-05-07",
          "2021-05-10",
          "2021-05-11",
          "2021-05-12",
          "2021-05-13",
          "2021-05-14",
          "2021-05-17",
          "2021-05-18",
          "2021-05-19",
          "2021-05-20",
          "2021-05-21",
          "2021-05-24",
          "2021-05-25",
          "2021-05-26",
          "2021-05-27",
          "2021-05-28",
          "2021-05-31",
          "2021-06-01",
          "2021-06-02",
          "2021-06-03",
          "2021-06-04",
          "2021-06-07",
          "2021-06-08",
          "2021-06-09",
          "2021-06-10",
          "2021-06-11",
          "2021-06-14",
          "2021-06-15",
          "2021-06-16",
          "2021-06-17",
          "2021-06-18",
          "2021-06-21",
          "2021-06-22",
          "2021-06-23",
          "2021-06-24",
          "2021-06-25",
          "2021-06-28",
          "2021-06-29",
          "2021-06-30",
          "2021-07-01",
          "2021-07-02",
          "2021-07-05",
          "2021-07-06",
          "2021-07-07",
          "2021-07-08",
          "2021-07-09",
          "2021-07-12",
          "2021-07-13",
          "2021-07-14",
          "2021-07-15",
          "2021-07-16",
          "2021-07-19",
          "2021-07-20",
          "2021-07-21",
          "2021-07-22",
          "2021-07-23",
          "2021-07-26",
          "2021-07-27",
          "2021-07-28",
          "2021-07-29",
          "2021-07-30",
          "2021-08-02",
          "2021-08-03",
          "2021-08-04",
          "2021-08-05",
          "2021-08-06",
          "2021-08-09",
          "2021-08-10",
          "2021-08-11",
          "2021-08-12",
          "2021-08-13",
          "2021-08-16",
          "2021-08-17",
          "2021-08-18",
          "2021-08-19",
          "2021-08-20",
          "2021-08-23",
          "2021-08-24",
          "2021-08-25",
          "2021-08-26",
          "2021-08-27",
          "2021-08-30",
          "2021-08-31",
          "2021-09-01",
          "2021-09-02",
          "2021-09-03",
          "2021-09-06",
          "2021-09-07",
          "2021-09-08",
          "2021-09-09",
          "2021-09-10",
          "2021-09-13",
          "2021-09-14",
          "2021-09-15",
          "2021-09-16",
          "2021-09-17",
          "2021-09-20",
          "2021-09-21",
          "2021-09-22",
          "2021-09-23",
          "2021-09-24",
          "2021-09-27",
          "2021-09-28",
          "2021-09-29",
          "2021-09-30",
          "2021-10-01",
          "2021-10-04",
          "2021-10-05",
          "2021-10-06",
          "2021-10-07",
          "2021-10-08",
          "2021-10-11",
          "2021-10-12",
          "2021-10-13",
          "2021-10-14",
          "2021-10-15",
          "2021-10-18",
          "2021-10-19",
          "2021-10-20",
          "2021-10-21",
          "2021-10-22",
          "2021-10-25",
          "2021-10-26",
          "2021-10-27",
          "2021-10-28",
          "2021-10-29",
          "2021-11-01",
          "2021-11-02",
          "2021-11-03",
          "2021-11-04",
          "2021-11-05",
          "2021-11-08",
          "2021-11-09",
          "2021-11-10",
          "2021-11-11",
          "2021-11-12",
          "2021-11-15",
          "2021-11-16",
          "2021-11-17",
          "2021-11-18",
          "2021-11-19",
          "2021-11-22",
          "2021-11-23",
          "2021-11-24",
          "2021-11-25",
          "2021-11-26",
          "2021-11-29",
          "2021-11-30",
          "2021-12-01",
          "2021-12-02",
          "2021-12-03",
          "2021-12-06",
          "2021-12-07",
          "2021-12-08",
          "2021-12-09",
          "2021-12-10",
          "2021-12-13",
          "2021-12-14",
          "2021-12-15",
          "2021-12-16",
          "2021-12-17",
          "2021-12-20",
          "2021-12-21",
          "2021-12-22",
          "2021-12-23",
          "2021-12-24",
          "2021-12-27",
          "2021-12-28",
          "2021-12-29",
          "2021-12-30",
          "2021-12-31"
         ],
         "xaxis": "x",
         "y": {
          "bdata": "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",
          "dtype": "f8"
         },
         "yaxis": "y"
        },
        {
         "hovertemplate": "Asset=Asset4<br>Date=%{x}<br>Price=%{y}<extra></extra>",
         "legendgroup": "Asset4",
         "line": {
          "color": "#ab63fa",
          "dash": "solid"
         },
         "marker": {
          "symbol": "circle"
         },
         "mode": "lines",
         "name": "Asset4",
         "showlegend": true,
         "type": "scattergl",
         "x": [
          "2019-01-02",
          "2019-01-03",
          "2019-01-04",
          "2019-01-07",
          "2019-01-08",
          "2019-01-09",
          "2019-01-10",
          "2019-01-11",
          "2019-01-14",
          "2019-01-15",
          "2019-01-16",
          "2019-01-17",
          "2019-01-18",
          "2019-01-21",
          "2019-01-22",
          "2019-01-23",
          "2019-01-24",
          "2019-01-25",
          "2019-01-28",
          "2019-01-29",
          "2019-01-30",
          "2019-01-31",
          "2019-02-01",
          "2019-02-04",
          "2019-02-05",
          "2019-02-06",
          "2019-02-07",
          "2019-02-08",
          "2019-02-11",
          "2019-02-12",
          "2019-02-13",
          "2019-02-14",
          "2019-02-15",
          "2019-02-18",
          "2019-02-19",
          "2019-02-20",
          "2019-02-21",
          "2019-02-22",
          "2019-02-25",
          "2019-02-26",
          "2019-02-27",
          "2019-02-28",
          "2019-03-01",
          "2019-03-04",
          "2019-03-05",
          "2019-03-06",
          "2019-03-07",
          "2019-03-08",
          "2019-03-11",
          "2019-03-12",
          "2019-03-13",
          "2019-03-14",
          "2019-03-15",
          "2019-03-18",
          "2019-03-19",
          "2019-03-20",
          "2019-03-21",
          "2019-03-22",
          "2019-03-25",
          "2019-03-26",
          "2019-03-27",
          "2019-03-28",
          "2019-03-29",
          "2019-04-01",
          "2019-04-02",
          "2019-04-03",
          "2019-04-04",
          "2019-04-05",
          "2019-04-08",
          "2019-04-09",
          "2019-04-10",
          "2019-04-11",
          "2019-04-12",
          "2019-04-15",
          "2019-04-16",
          "2019-04-17",
          "2019-04-18",
          "2019-04-19",
          "2019-04-22",
          "2019-04-23",
          "2019-04-24",
          "2019-04-25",
          "2019-04-26",
          "2019-04-29",
          "2019-04-30",
          "2019-05-01",
          "2019-05-02",
          "2019-05-03",
          "2019-05-06",
          "2019-05-07",
          "2019-05-08",
          "2019-05-09",
          "2019-05-10",
          "2019-05-13",
          "2019-05-14",
          "2019-05-15",
          "2019-05-16",
          "2019-05-17",
          "2019-05-20",
          "2019-05-21",
          "2019-05-22",
          "2019-05-23",
          "2019-05-24",
          "2019-05-27",
          "2019-05-28",
          "2019-05-29",
          "2019-05-30",
          "2019-05-31",
          "2019-06-03",
          "2019-06-04",
          "2019-06-05",
          "2019-06-06",
          "2019-06-07",
          "2019-06-10",
          "2019-06-11",
          "2019-06-12",
          "2019-06-13",
          "2019-06-14",
          "2019-06-17",
          "2019-06-18",
          "2019-06-19",
          "2019-06-20",
          "2019-06-21",
          "2019-06-24",
          "2019-06-25",
          "2019-06-26",
          "2019-06-27",
          "2019-06-28",
          "2019-07-01",
          "2019-07-02",
          "2019-07-03",
          "2019-07-04",
          "2019-07-05",
          "2019-07-08",
          "2019-07-09",
          "2019-07-10",
          "2019-07-11",
          "2019-07-12",
          "2019-07-15",
          "2019-07-16",
          "2019-07-17",
          "2019-07-18",
          "2019-07-19",
          "2019-07-22",
          "2019-07-23",
          "2019-07-24",
          "2019-07-25",
          "2019-07-26",
          "2019-07-29",
          "2019-07-30",
          "2019-07-31",
          "2019-08-01",
          "2019-08-02",
          "2019-08-05",
          "2019-08-06",
          "2019-08-07",
          "2019-08-08",
          "2019-08-09",
          "2019-08-12",
          "2019-08-13",
          "2019-08-14",
          "2019-08-15",
          "2019-08-16",
          "2019-08-19",
          "2019-08-20",
          "2019-08-21",
          "2019-08-22",
          "2019-08-23",
          "2019-08-26",
          "2019-08-27",
          "2019-08-28",
          "2019-08-29",
          "2019-08-30",
          "2019-09-02",
          "2019-09-03",
          "2019-09-04",
          "2019-09-05",
          "2019-09-06",
          "2019-09-09",
          "2019-09-10",
          "2019-09-11",
          "2019-09-12",
          "2019-09-13",
          "2019-09-16",
          "2019-09-17",
          "2019-09-18",
          "2019-09-19",
          "2019-09-20",
          "2019-09-23",
          "2019-09-24",
          "2019-09-25",
          "2019-09-26",
          "2019-09-27",
          "2019-09-30",
          "2019-10-01",
          "2019-10-02",
          "2019-10-03",
          "2019-10-04",
          "2019-10-07",
          "2019-10-08",
          "2019-10-09",
          "2019-10-10",
          "2019-10-11",
          "2019-10-14",
          "2019-10-15",
          "2019-10-16",
          "2019-10-17",
          "2019-10-18",
          "2019-10-21",
          "2019-10-22",
          "2019-10-23",
          "2019-10-24",
          "2019-10-25",
          "2019-10-28",
          "2019-10-29",
          "2019-10-30",
          "2019-10-31",
          "2019-11-01",
          "2019-11-04",
          "2019-11-05",
          "2019-11-06",
          "2019-11-07",
          "2019-11-08",
          "2019-11-11",
          "2019-11-12",
          "2019-11-13",
          "2019-11-14",
          "2019-11-15",
          "2019-11-18",
          "2019-11-19",
          "2019-11-20",
          "2019-11-21",
          "2019-11-22",
          "2019-11-25",
          "2019-11-26",
          "2019-11-27",
          "2019-11-28",
          "2019-11-29",
          "2019-12-02",
          "2019-12-03",
          "2019-12-04",
          "2019-12-05",
          "2019-12-06",
          "2019-12-09",
          "2019-12-10",
          "2019-12-11",
          "2019-12-12",
          "2019-12-13",
          "2019-12-16",
          "2019-12-17",
          "2019-12-18",
          "2019-12-19",
          "2019-12-20",
          "2019-12-23",
          "2019-12-24",
          "2019-12-25",
          "2019-12-26",
          "2019-12-27",
          "2019-12-30",
          "2019-12-31",
          "2020-01-01",
          "2020-01-02",
          "2020-01-03",
          "2020-01-06",
          "2020-01-07",
          "2020-01-08",
          "2020-01-09",
          "2020-01-10",
          "2020-01-13",
          "2020-01-14",
          "2020-01-15",
          "2020-01-16",
          "2020-01-17",
          "2020-01-20",
          "2020-01-21",
          "2020-01-22",
          "2020-01-23",
          "2020-01-24",
          "2020-01-27",
          "2020-01-28",
          "2020-01-29",
          "2020-01-30",
          "2020-01-31",
          "2020-02-03",
          "2020-02-04",
          "2020-02-05",
          "2020-02-06",
          "2020-02-07",
          "2020-02-10",
          "2020-02-11",
          "2020-02-12",
          "2020-02-13",
          "2020-02-14",
          "2020-02-17",
          "2020-02-18",
          "2020-02-19",
          "2020-02-20",
          "2020-02-21",
          "2020-02-24",
          "2020-02-25",
          "2020-02-26",
          "2020-02-27",
          "2020-02-28",
          "2020-03-02",
          "2020-03-03",
          "2020-03-04",
          "2020-03-05",
          "2020-03-06",
          "2020-03-09",
          "2020-03-10",
          "2020-03-11",
          "2020-03-12",
          "2020-03-13",
          "2020-03-16",
          "2020-03-17",
          "2020-03-18",
          "2020-03-19",
          "2020-03-20",
          "2020-03-23",
          "2020-03-24",
          "2020-03-25",
          "2020-03-26",
          "2020-03-27",
          "2020-03-30",
          "2020-03-31",
          "2020-04-01",
          "2020-04-02",
          "2020-04-03",
          "2020-04-06",
          "2020-04-07",
          "2020-04-08",
          "2020-04-09",
          "2020-04-10",
          "2020-04-13",
          "2020-04-14",
          "2020-04-15",
          "2020-04-16",
          "2020-04-17",
          "2020-04-20",
          "2020-04-21",
          "2020-04-22",
          "2020-04-23",
          "2020-04-24",
          "2020-04-27",
          "2020-04-28",
          "2020-04-29",
          "2020-04-30",
          "2020-05-01",
          "2020-05-04",
          "2020-05-05",
          "2020-05-06",
          "2020-05-07",
          "2020-05-08",
          "2020-05-11",
          "2020-05-12",
          "2020-05-13",
          "2020-05-14",
          "2020-05-15",
          "2020-05-18",
          "2020-05-19",
          "2020-05-20",
          "2020-05-21",
          "2020-05-22",
          "2020-05-25",
          "2020-05-26",
          "2020-05-27",
          "2020-05-28",
          "2020-05-29",
          "2020-06-01",
          "2020-06-02",
          "2020-06-03",
          "2020-06-04",
          "2020-06-05",
          "2020-06-08",
          "2020-06-09",
          "2020-06-10",
          "2020-06-11",
          "2020-06-12",
          "2020-06-15",
          "2020-06-16",
          "2020-06-17",
          "2020-06-18",
          "2020-06-19",
          "2020-06-22",
          "2020-06-23",
          "2020-06-24",
          "2020-06-25",
          "2020-06-26",
          "2020-06-29",
          "2020-06-30",
          "2020-07-01",
          "2020-07-02",
          "2020-07-03",
          "2020-07-06",
          "2020-07-07",
          "2020-07-08",
          "2020-07-09",
          "2020-07-10",
          "2020-07-13",
          "2020-07-14",
          "2020-07-15",
          "2020-07-16",
          "2020-07-17",
          "2020-07-20",
          "2020-07-21",
          "2020-07-22",
          "2020-07-23",
          "2020-07-24",
          "2020-07-27",
          "2020-07-28",
          "2020-07-29",
          "2020-07-30",
          "2020-07-31",
          "2020-08-03",
          "2020-08-04",
          "2020-08-05",
          "2020-08-06",
          "2020-08-07",
          "2020-08-10",
          "2020-08-11",
          "2020-08-12",
          "2020-08-13",
          "2020-08-14",
          "2020-08-17",
          "2020-08-18",
          "2020-08-19",
          "2020-08-20",
          "2020-08-21",
          "2020-08-24",
          "2020-08-25",
          "2020-08-26",
          "2020-08-27",
          "2020-08-28",
          "2020-08-31",
          "2020-09-01",
          "2020-09-02",
          "2020-09-03",
          "2020-09-04",
          "2020-09-07",
          "2020-09-08",
          "2020-09-09",
          "2020-09-10",
          "2020-09-11",
          "2020-09-14",
          "2020-09-15",
          "2020-09-16",
          "2020-09-17",
          "2020-09-18",
          "2020-09-21",
          "2020-09-22",
          "2020-09-23",
          "2020-09-24",
          "2020-09-25",
          "2020-09-28",
          "2020-09-29",
          "2020-09-30",
          "2020-10-01",
          "2020-10-02",
          "2020-10-05",
          "2020-10-06",
          "2020-10-07",
          "2020-10-08",
          "2020-10-09",
          "2020-10-12",
          "2020-10-13",
          "2020-10-14",
          "2020-10-15",
          "2020-10-16",
          "2020-10-19",
          "2020-10-20",
          "2020-10-21",
          "2020-10-22",
          "2020-10-23",
          "2020-10-26",
          "2020-10-27",
          "2020-10-28",
          "2020-10-29",
          "2020-10-30",
          "2020-11-02",
          "2020-11-03",
          "2020-11-04",
          "2020-11-05",
          "2020-11-06",
          "2020-11-09",
          "2020-11-10",
          "2020-11-11",
          "2020-11-12",
          "2020-11-13",
          "2020-11-16",
          "2020-11-17",
          "2020-11-18",
          "2020-11-19",
          "2020-11-20",
          "2020-11-23",
          "2020-11-24",
          "2020-11-25",
          "2020-11-26",
          "2020-11-27",
          "2020-11-30",
          "2020-12-01",
          "2020-12-02",
          "2020-12-03",
          "2020-12-04",
          "2020-12-07",
          "2020-12-08",
          "2020-12-09",
          "2020-12-10",
          "2020-12-11",
          "2020-12-14",
          "2020-12-15",
          "2020-12-16",
          "2020-12-17",
          "2020-12-18",
          "2020-12-21",
          "2020-12-22",
          "2020-12-23",
          "2020-12-24",
          "2020-12-25",
          "2020-12-28",
          "2020-12-29",
          "2020-12-30",
          "2020-12-31",
          "2021-01-01",
          "2021-01-04",
          "2021-01-05",
          "2021-01-06",
          "2021-01-07",
          "2021-01-08",
          "2021-01-11",
          "2021-01-12",
          "2021-01-13",
          "2021-01-14",
          "2021-01-15",
          "2021-01-18",
          "2021-01-19",
          "2021-01-20",
          "2021-01-21",
          "2021-01-22",
          "2021-01-25",
          "2021-01-26",
          "2021-01-27",
          "2021-01-28",
          "2021-01-29",
          "2021-02-01",
          "2021-02-02",
          "2021-02-03",
          "2021-02-04",
          "2021-02-05",
          "2021-02-08",
          "2021-02-09",
          "2021-02-10",
          "2021-02-11",
          "2021-02-12",
          "2021-02-15",
          "2021-02-16",
          "2021-02-17",
          "2021-02-18",
          "2021-02-19",
          "2021-02-22",
          "2021-02-23",
          "2021-02-24",
          "2021-02-25",
          "2021-02-26",
          "2021-03-01",
          "2021-03-02",
          "2021-03-03",
          "2021-03-04",
          "2021-03-05",
          "2021-03-08",
          "2021-03-09",
          "2021-03-10",
          "2021-03-11",
          "2021-03-12",
          "2021-03-15",
          "2021-03-16",
          "2021-03-17",
          "2021-03-18",
          "2021-03-19",
          "2021-03-22",
          "2021-03-23",
          "2021-03-24",
          "2021-03-25",
          "2021-03-26",
          "2021-03-29",
          "2021-03-30",
          "2021-03-31",
          "2021-04-01",
          "2021-04-02",
          "2021-04-05",
          "2021-04-06",
          "2021-04-07",
          "2021-04-08",
          "2021-04-09",
          "2021-04-12",
          "2021-04-13",
          "2021-04-14",
          "2021-04-15",
          "2021-04-16",
          "2021-04-19",
          "2021-04-20",
          "2021-04-21",
          "2021-04-22",
          "2021-04-23",
          "2021-04-26",
          "2021-04-27",
          "2021-04-28",
          "2021-04-29",
          "2021-04-30",
          "2021-05-03",
          "2021-05-04",
          "2021-05-05",
          "2021-05-06",
          "2021-05-07",
          "2021-05-10",
          "2021-05-11",
          "2021-05-12",
          "2021-05-13",
          "2021-05-14",
          "2021-05-17",
          "2021-05-18",
          "2021-05-19",
          "2021-05-20",
          "2021-05-21",
          "2021-05-24",
          "2021-05-25",
          "2021-05-26",
          "2021-05-27",
          "2021-05-28",
          "2021-05-31",
          "2021-06-01",
          "2021-06-02",
          "2021-06-03",
          "2021-06-04",
          "2021-06-07",
          "2021-06-08",
          "2021-06-09",
          "2021-06-10",
          "2021-06-11",
          "2021-06-14",
          "2021-06-15",
          "2021-06-16",
          "2021-06-17",
          "2021-06-18",
          "2021-06-21",
          "2021-06-22",
          "2021-06-23",
          "2021-06-24",
          "2021-06-25",
          "2021-06-28",
          "2021-06-29",
          "2021-06-30",
          "2021-07-01",
          "2021-07-02",
          "2021-07-05",
          "2021-07-06",
          "2021-07-07",
          "2021-07-08",
          "2021-07-09",
          "2021-07-12",
          "2021-07-13",
          "2021-07-14",
          "2021-07-15",
          "2021-07-16",
          "2021-07-19",
          "2021-07-20",
          "2021-07-21",
          "2021-07-22",
          "2021-07-23",
          "2021-07-26",
          "2021-07-27",
          "2021-07-28",
          "2021-07-29",
          "2021-07-30",
          "2021-08-02",
          "2021-08-03",
          "2021-08-04",
          "2021-08-05",
          "2021-08-06",
          "2021-08-09",
          "2021-08-10",
          "2021-08-11",
          "2021-08-12",
          "2021-08-13",
          "2021-08-16",
          "2021-08-17",
          "2021-08-18",
          "2021-08-19",
          "2021-08-20",
          "2021-08-23",
          "2021-08-24",
          "2021-08-25",
          "2021-08-26",
          "2021-08-27",
          "2021-08-30",
          "2021-08-31",
          "2021-09-01",
          "2021-09-02",
          "2021-09-03",
          "2021-09-06",
          "2021-09-07",
          "2021-09-08",
          "2021-09-09",
          "2021-09-10",
          "2021-09-13",
          "2021-09-14",
          "2021-09-15",
          "2021-09-16",
          "2021-09-17",
          "2021-09-20",
          "2021-09-21",
          "2021-09-22",
          "2021-09-23",
          "2021-09-24",
          "2021-09-27",
          "2021-09-28",
          "2021-09-29",
          "2021-09-30",
          "2021-10-01",
          "2021-10-04",
          "2021-10-05",
          "2021-10-06",
          "2021-10-07",
          "2021-10-08",
          "2021-10-11",
          "2021-10-12",
          "2021-10-13",
          "2021-10-14",
          "2021-10-15",
          "2021-10-18",
          "2021-10-19",
          "2021-10-20",
          "2021-10-21",
          "2021-10-22",
          "2021-10-25",
          "2021-10-26",
          "2021-10-27",
          "2021-10-28",
          "2021-10-29",
          "2021-11-01",
          "2021-11-02",
          "2021-11-03",
          "2021-11-04",
          "2021-11-05",
          "2021-11-08",
          "2021-11-09",
          "2021-11-10",
          "2021-11-11",
          "2021-11-12",
          "2021-11-15",
          "2021-11-16",
          "2021-11-17",
          "2021-11-18",
          "2021-11-19",
          "2021-11-22",
          "2021-11-23",
          "2021-11-24",
          "2021-11-25",
          "2021-11-26",
          "2021-11-29",
          "2021-11-30",
          "2021-12-01",
          "2021-12-02",
          "2021-12-03",
          "2021-12-06",
          "2021-12-07",
          "2021-12-08",
          "2021-12-09",
          "2021-12-10",
          "2021-12-13",
          "2021-12-14",
          "2021-12-15",
          "2021-12-16",
          "2021-12-17",
          "2021-12-20",
          "2021-12-21",
          "2021-12-22",
          "2021-12-23",
          "2021-12-24",
          "2021-12-27",
          "2021-12-28",
          "2021-12-29",
          "2021-12-30",
          "2021-12-31"
         ],
         "xaxis": "x",
         "y": {
          "bdata": "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",
          "dtype": "f8"
         },
         "yaxis": "y"
        },
        {
         "hovertemplate": "Asset=Asset5<br>Date=%{x}<br>Price=%{y}<extra></extra>",
         "legendgroup": "Asset5",
         "line": {
          "color": "#FFA15A",
          "dash": "solid"
         },
         "marker": {
          "symbol": "circle"
         },
         "mode": "lines",
         "name": "Asset5",
         "showlegend": true,
         "type": "scattergl",
         "x": [
          "2019-01-02",
          "2019-01-03",
          "2019-01-04",
          "2019-01-07",
          "2019-01-08",
          "2019-01-09",
          "2019-01-10",
          "2019-01-11",
          "2019-01-14",
          "2019-01-15",
          "2019-01-16",
          "2019-01-17",
          "2019-01-18",
          "2019-01-21",
          "2019-01-22",
          "2019-01-23",
          "2019-01-24",
          "2019-01-25",
          "2019-01-28",
          "2019-01-29",
          "2019-01-30",
          "2019-01-31",
          "2019-02-01",
          "2019-02-04",
          "2019-02-05",
          "2019-02-06",
          "2019-02-07",
          "2019-02-08",
          "2019-02-11",
          "2019-02-12",
          "2019-02-13",
          "2019-02-14",
          "2019-02-15",
          "2019-02-18",
          "2019-02-19",
          "2019-02-20",
          "2019-02-21",
          "2019-02-22",
          "2019-02-25",
          "2019-02-26",
          "2019-02-27",
          "2019-02-28",
          "2019-03-01",
          "2019-03-04",
          "2019-03-05",
          "2019-03-06",
          "2019-03-07",
          "2019-03-08",
          "2019-03-11",
          "2019-03-12",
          "2019-03-13",
          "2019-03-14",
          "2019-03-15",
          "2019-03-18",
          "2019-03-19",
          "2019-03-20",
          "2019-03-21",
          "2019-03-22",
          "2019-03-25",
          "2019-03-26",
          "2019-03-27",
          "2019-03-28",
          "2019-03-29",
          "2019-04-01",
          "2019-04-02",
          "2019-04-03",
          "2019-04-04",
          "2019-04-05",
          "2019-04-08",
          "2019-04-09",
          "2019-04-10",
          "2019-04-11",
          "2019-04-12",
          "2019-04-15",
          "2019-04-16",
          "2019-04-17",
          "2019-04-18",
          "2019-04-19",
          "2019-04-22",
          "2019-04-23",
          "2019-04-24",
          "2019-04-25",
          "2019-04-26",
          "2019-04-29",
          "2019-04-30",
          "2019-05-01",
          "2019-05-02",
          "2019-05-03",
          "2019-05-06",
          "2019-05-07",
          "2019-05-08",
          "2019-05-09",
          "2019-05-10",
          "2019-05-13",
          "2019-05-14",
          "2019-05-15",
          "2019-05-16",
          "2019-05-17",
          "2019-05-20",
          "2019-05-21",
          "2019-05-22",
          "2019-05-23",
          "2019-05-24",
          "2019-05-27",
          "2019-05-28",
          "2019-05-29",
          "2019-05-30",
          "2019-05-31",
          "2019-06-03",
          "2019-06-04",
          "2019-06-05",
          "2019-06-06",
          "2019-06-07",
          "2019-06-10",
          "2019-06-11",
          "2019-06-12",
          "2019-06-13",
          "2019-06-14",
          "2019-06-17",
          "2019-06-18",
          "2019-06-19",
          "2019-06-20",
          "2019-06-21",
          "2019-06-24",
          "2019-06-25",
          "2019-06-26",
          "2019-06-27",
          "2019-06-28",
          "2019-07-01",
          "2019-07-02",
          "2019-07-03",
          "2019-07-04",
          "2019-07-05",
          "2019-07-08",
          "2019-07-09",
          "2019-07-10",
          "2019-07-11",
          "2019-07-12",
          "2019-07-15",
          "2019-07-16",
          "2019-07-17",
          "2019-07-18",
          "2019-07-19",
          "2019-07-22",
          "2019-07-23",
          "2019-07-24",
          "2019-07-25",
          "2019-07-26",
          "2019-07-29",
          "2019-07-30",
          "2019-07-31",
          "2019-08-01",
          "2019-08-02",
          "2019-08-05",
          "2019-08-06",
          "2019-08-07",
          "2019-08-08",
          "2019-08-09",
          "2019-08-12",
          "2019-08-13",
          "2019-08-14",
          "2019-08-15",
          "2019-08-16",
          "2019-08-19",
          "2019-08-20",
          "2019-08-21",
          "2019-08-22",
          "2019-08-23",
          "2019-08-26",
          "2019-08-27",
          "2019-08-28",
          "2019-08-29",
          "2019-08-30",
          "2019-09-02",
          "2019-09-03",
          "2019-09-04",
          "2019-09-05",
          "2019-09-06",
          "2019-09-09",
          "2019-09-10",
          "2019-09-11",
          "2019-09-12",
          "2019-09-13",
          "2019-09-16",
          "2019-09-17",
          "2019-09-18",
          "2019-09-19",
          "2019-09-20",
          "2019-09-23",
          "2019-09-24",
          "2019-09-25",
          "2019-09-26",
          "2019-09-27",
          "2019-09-30",
          "2019-10-01",
          "2019-10-02",
          "2019-10-03",
          "2019-10-04",
          "2019-10-07",
          "2019-10-08",
          "2019-10-09",
          "2019-10-10",
          "2019-10-11",
          "2019-10-14",
          "2019-10-15",
          "2019-10-16",
          "2019-10-17",
          "2019-10-18",
          "2019-10-21",
          "2019-10-22",
          "2019-10-23",
          "2019-10-24",
          "2019-10-25",
          "2019-10-28",
          "2019-10-29",
          "2019-10-30",
          "2019-10-31",
          "2019-11-01",
          "2019-11-04",
          "2019-11-05",
          "2019-11-06",
          "2019-11-07",
          "2019-11-08",
          "2019-11-11",
          "2019-11-12",
          "2019-11-13",
          "2019-11-14",
          "2019-11-15",
          "2019-11-18",
          "2019-11-19",
          "2019-11-20",
          "2019-11-21",
          "2019-11-22",
          "2019-11-25",
          "2019-11-26",
          "2019-11-27",
          "2019-11-28",
          "2019-11-29",
          "2019-12-02",
          "2019-12-03",
          "2019-12-04",
          "2019-12-05",
          "2019-12-06",
          "2019-12-09",
          "2019-12-10",
          "2019-12-11",
          "2019-12-12",
          "2019-12-13",
          "2019-12-16",
          "2019-12-17",
          "2019-12-18",
          "2019-12-19",
          "2019-12-20",
          "2019-12-23",
          "2019-12-24",
          "2019-12-25",
          "2019-12-26",
          "2019-12-27",
          "2019-12-30",
          "2019-12-31",
          "2020-01-01",
          "2020-01-02",
          "2020-01-03",
          "2020-01-06",
          "2020-01-07",
          "2020-01-08",
          "2020-01-09",
          "2020-01-10",
          "2020-01-13",
          "2020-01-14",
          "2020-01-15",
          "2020-01-16",
          "2020-01-17",
          "2020-01-20",
          "2020-01-21",
          "2020-01-22",
          "2020-01-23",
          "2020-01-24",
          "2020-01-27",
          "2020-01-28",
          "2020-01-29",
          "2020-01-30",
          "2020-01-31",
          "2020-02-03",
          "2020-02-04",
          "2020-02-05",
          "2020-02-06",
          "2020-02-07",
          "2020-02-10",
          "2020-02-11",
          "2020-02-12",
          "2020-02-13",
          "2020-02-14",
          "2020-02-17",
          "2020-02-18",
          "2020-02-19",
          "2020-02-20",
          "2020-02-21",
          "2020-02-24",
          "2020-02-25",
          "2020-02-26",
          "2020-02-27",
          "2020-02-28",
          "2020-03-02",
          "2020-03-03",
          "2020-03-04",
          "2020-03-05",
          "2020-03-06",
          "2020-03-09",
          "2020-03-10",
          "2020-03-11",
          "2020-03-12",
          "2020-03-13",
          "2020-03-16",
          "2020-03-17",
          "2020-03-18",
          "2020-03-19",
          "2020-03-20",
          "2020-03-23",
          "2020-03-24",
          "2020-03-25",
          "2020-03-26",
          "2020-03-27",
          "2020-03-30",
          "2020-03-31",
          "2020-04-01",
          "2020-04-02",
          "2020-04-03",
          "2020-04-06",
          "2020-04-07",
          "2020-04-08",
          "2020-04-09",
          "2020-04-10",
          "2020-04-13",
          "2020-04-14",
          "2020-04-15",
          "2020-04-16",
          "2020-04-17",
          "2020-04-20",
          "2020-04-21",
          "2020-04-22",
          "2020-04-23",
          "2020-04-24",
          "2020-04-27",
          "2020-04-28",
          "2020-04-29",
          "2020-04-30",
          "2020-05-01",
          "2020-05-04",
          "2020-05-05",
          "2020-05-06",
          "2020-05-07",
          "2020-05-08",
          "2020-05-11",
          "2020-05-12",
          "2020-05-13",
          "2020-05-14",
          "2020-05-15",
          "2020-05-18",
          "2020-05-19",
          "2020-05-20",
          "2020-05-21",
          "2020-05-22",
          "2020-05-25",
          "2020-05-26",
          "2020-05-27",
          "2020-05-28",
          "2020-05-29",
          "2020-06-01",
          "2020-06-02",
          "2020-06-03",
          "2020-06-04",
          "2020-06-05",
          "2020-06-08",
          "2020-06-09",
          "2020-06-10",
          "2020-06-11",
          "2020-06-12",
          "2020-06-15",
          "2020-06-16",
          "2020-06-17",
          "2020-06-18",
          "2020-06-19",
          "2020-06-22",
          "2020-06-23",
          "2020-06-24",
          "2020-06-25",
          "2020-06-26",
          "2020-06-29",
          "2020-06-30",
          "2020-07-01",
          "2020-07-02",
          "2020-07-03",
          "2020-07-06",
          "2020-07-07",
          "2020-07-08",
          "2020-07-09",
          "2020-07-10",
          "2020-07-13",
          "2020-07-14",
          "2020-07-15",
          "2020-07-16",
          "2020-07-17",
          "2020-07-20",
          "2020-07-21",
          "2020-07-22",
          "2020-07-23",
          "2020-07-24",
          "2020-07-27",
          "2020-07-28",
          "2020-07-29",
          "2020-07-30",
          "2020-07-31",
          "2020-08-03",
          "2020-08-04",
          "2020-08-05",
          "2020-08-06",
          "2020-08-07",
          "2020-08-10",
          "2020-08-11",
          "2020-08-12",
          "2020-08-13",
          "2020-08-14",
          "2020-08-17",
          "2020-08-18",
          "2020-08-19",
          "2020-08-20",
          "2020-08-21",
          "2020-08-24",
          "2020-08-25",
          "2020-08-26",
          "2020-08-27",
          "2020-08-28",
          "2020-08-31",
          "2020-09-01",
          "2020-09-02",
          "2020-09-03",
          "2020-09-04",
          "2020-09-07",
          "2020-09-08",
          "2020-09-09",
          "2020-09-10",
          "2020-09-11",
          "2020-09-14",
          "2020-09-15",
          "2020-09-16",
          "2020-09-17",
          "2020-09-18",
          "2020-09-21",
          "2020-09-22",
          "2020-09-23",
          "2020-09-24",
          "2020-09-25",
          "2020-09-28",
          "2020-09-29",
          "2020-09-30",
          "2020-10-01",
          "2020-10-02",
          "2020-10-05",
          "2020-10-06",
          "2020-10-07",
          "2020-10-08",
          "2020-10-09",
          "2020-10-12",
          "2020-10-13",
          "2020-10-14",
          "2020-10-15",
          "2020-10-16",
          "2020-10-19",
          "2020-10-20",
          "2020-10-21",
          "2020-10-22",
          "2020-10-23",
          "2020-10-26",
          "2020-10-27",
          "2020-10-28",
          "2020-10-29",
          "2020-10-30",
          "2020-11-02",
          "2020-11-03",
          "2020-11-04",
          "2020-11-05",
          "2020-11-06",
          "2020-11-09",
          "2020-11-10",
          "2020-11-11",
          "2020-11-12",
          "2020-11-13",
          "2020-11-16",
          "2020-11-17",
          "2020-11-18",
          "2020-11-19",
          "2020-11-20",
          "2020-11-23",
          "2020-11-24",
          "2020-11-25",
          "2020-11-26",
          "2020-11-27",
          "2020-11-30",
          "2020-12-01",
          "2020-12-02",
          "2020-12-03",
          "2020-12-04",
          "2020-12-07",
          "2020-12-08",
          "2020-12-09",
          "2020-12-10",
          "2020-12-11",
          "2020-12-14",
          "2020-12-15",
          "2020-12-16",
          "2020-12-17",
          "2020-12-18",
          "2020-12-21",
          "2020-12-22",
          "2020-12-23",
          "2020-12-24",
          "2020-12-25",
          "2020-12-28",
          "2020-12-29",
          "2020-12-30",
          "2020-12-31",
          "2021-01-01",
          "2021-01-04",
          "2021-01-05",
          "2021-01-06",
          "2021-01-07",
          "2021-01-08",
          "2021-01-11",
          "2021-01-12",
          "2021-01-13",
          "2021-01-14",
          "2021-01-15",
          "2021-01-18",
          "2021-01-19",
          "2021-01-20",
          "2021-01-21",
          "2021-01-22",
          "2021-01-25",
          "2021-01-26",
          "2021-01-27",
          "2021-01-28",
          "2021-01-29",
          "2021-02-01",
          "2021-02-02",
          "2021-02-03",
          "2021-02-04",
          "2021-02-05",
          "2021-02-08",
          "2021-02-09",
          "2021-02-10",
          "2021-02-11",
          "2021-02-12",
          "2021-02-15",
          "2021-02-16",
          "2021-02-17",
          "2021-02-18",
          "2021-02-19",
          "2021-02-22",
          "2021-02-23",
          "2021-02-24",
          "2021-02-25",
          "2021-02-26",
          "2021-03-01",
          "2021-03-02",
          "2021-03-03",
          "2021-03-04",
          "2021-03-05",
          "2021-03-08",
          "2021-03-09",
          "2021-03-10",
          "2021-03-11",
          "2021-03-12",
          "2021-03-15",
          "2021-03-16",
          "2021-03-17",
          "2021-03-18",
          "2021-03-19",
          "2021-03-22",
          "2021-03-23",
          "2021-03-24",
          "2021-03-25",
          "2021-03-26",
          "2021-03-29",
          "2021-03-30",
          "2021-03-31",
          "2021-04-01",
          "2021-04-02",
          "2021-04-05",
          "2021-04-06",
          "2021-04-07",
          "2021-04-08",
          "2021-04-09",
          "2021-04-12",
          "2021-04-13",
          "2021-04-14",
          "2021-04-15",
          "2021-04-16",
          "2021-04-19",
          "2021-04-20",
          "2021-04-21",
          "2021-04-22",
          "2021-04-23",
          "2021-04-26",
          "2021-04-27",
          "2021-04-28",
          "2021-04-29",
          "2021-04-30",
          "2021-05-03",
          "2021-05-04",
          "2021-05-05",
          "2021-05-06",
          "2021-05-07",
          "2021-05-10",
          "2021-05-11",
          "2021-05-12",
          "2021-05-13",
          "2021-05-14",
          "2021-05-17",
          "2021-05-18",
          "2021-05-19",
          "2021-05-20",
          "2021-05-21",
          "2021-05-24",
          "2021-05-25",
          "2021-05-26",
          "2021-05-27",
          "2021-05-28",
          "2021-05-31",
          "2021-06-01",
          "2021-06-02",
          "2021-06-03",
          "2021-06-04",
          "2021-06-07",
          "2021-06-08",
          "2021-06-09",
          "2021-06-10",
          "2021-06-11",
          "2021-06-14",
          "2021-06-15",
          "2021-06-16",
          "2021-06-17",
          "2021-06-18",
          "2021-06-21",
          "2021-06-22",
          "2021-06-23",
          "2021-06-24",
          "2021-06-25",
          "2021-06-28",
          "2021-06-29",
          "2021-06-30",
          "2021-07-01",
          "2021-07-02",
          "2021-07-05",
          "2021-07-06",
          "2021-07-07",
          "2021-07-08",
          "2021-07-09",
          "2021-07-12",
          "2021-07-13",
          "2021-07-14",
          "2021-07-15",
          "2021-07-16",
          "2021-07-19",
          "2021-07-20",
          "2021-07-21",
          "2021-07-22",
          "2021-07-23",
          "2021-07-26",
          "2021-07-27",
          "2021-07-28",
          "2021-07-29",
          "2021-07-30",
          "2021-08-02",
          "2021-08-03",
          "2021-08-04",
          "2021-08-05",
          "2021-08-06",
          "2021-08-09",
          "2021-08-10",
          "2021-08-11",
          "2021-08-12",
          "2021-08-13",
          "2021-08-16",
          "2021-08-17",
          "2021-08-18",
          "2021-08-19",
          "2021-08-20",
          "2021-08-23",
          "2021-08-24",
          "2021-08-25",
          "2021-08-26",
          "2021-08-27",
          "2021-08-30",
          "2021-08-31",
          "2021-09-01",
          "2021-09-02",
          "2021-09-03",
          "2021-09-06",
          "2021-09-07",
          "2021-09-08",
          "2021-09-09",
          "2021-09-10",
          "2021-09-13",
          "2021-09-14",
          "2021-09-15",
          "2021-09-16",
          "2021-09-17",
          "2021-09-20",
          "2021-09-21",
          "2021-09-22",
          "2021-09-23",
          "2021-09-24",
          "2021-09-27",
          "2021-09-28",
          "2021-09-29",
          "2021-09-30",
          "2021-10-01",
          "2021-10-04",
          "2021-10-05",
          "2021-10-06",
          "2021-10-07",
          "2021-10-08",
          "2021-10-11",
          "2021-10-12",
          "2021-10-13",
          "2021-10-14",
          "2021-10-15",
          "2021-10-18",
          "2021-10-19",
          "2021-10-20",
          "2021-10-21",
          "2021-10-22",
          "2021-10-25",
          "2021-10-26",
          "2021-10-27",
          "2021-10-28",
          "2021-10-29",
          "2021-11-01",
          "2021-11-02",
          "2021-11-03",
          "2021-11-04",
          "2021-11-05",
          "2021-11-08",
          "2021-11-09",
          "2021-11-10",
          "2021-11-11",
          "2021-11-12",
          "2021-11-15",
          "2021-11-16",
          "2021-11-17",
          "2021-11-18",
          "2021-11-19",
          "2021-11-22",
          "2021-11-23",
          "2021-11-24",
          "2021-11-25",
          "2021-11-26",
          "2021-11-29",
          "2021-11-30",
          "2021-12-01",
          "2021-12-02",
          "2021-12-03",
          "2021-12-06",
          "2021-12-07",
          "2021-12-08",
          "2021-12-09",
          "2021-12-10",
          "2021-12-13",
          "2021-12-14",
          "2021-12-15",
          "2021-12-16",
          "2021-12-17",
          "2021-12-20",
          "2021-12-21",
          "2021-12-22",
          "2021-12-23",
          "2021-12-24",
          "2021-12-27",
          "2021-12-28",
          "2021-12-29",
          "2021-12-30",
          "2021-12-31"
         ],
         "xaxis": "x",
         "y": {
          "bdata": "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",
          "dtype": "f8"
         },
         "yaxis": "y"
        }
       ],
       "layout": {
        "hovermode": "x unified",
        "legend": {
         "bgcolor": "rgba(0,0,0,0.5)",
         "title": {
          "text": "Assets"
         },
         "tracegroupgap": 0
        },
        "margin": {
         "b": 40,
         "l": 40,
         "r": 40,
         "t": 40
        },
        "template": {
         "data": {
          "bar": [
           {
            "error_x": {
             "color": "#f2f5fa"
            },
            "error_y": {
             "color": "#f2f5fa"
            },
            "marker": {
             "line": {
              "color": "rgb(17,17,17)",
              "width": 0.5
             },
             "pattern": {
              "fillmode": "overlay",
              "size": 10,
              "solidity": 0.2
             }
            },
            "type": "bar"
           }
          ],
          "barpolar": [
           {
            "marker": {
             "line": {
              "color": "rgb(17,17,17)",
              "width": 0.5
             },
             "pattern": {
              "fillmode": "overlay",
              "size": 10,
              "solidity": 0.2
             }
            },
            "type": "barpolar"
           }
          ],
          "carpet": [
           {
            "aaxis": {
             "endlinecolor": "#A2B1C6",
             "gridcolor": "#506784",
             "linecolor": "#506784",
             "minorgridcolor": "#506784",
             "startlinecolor": "#A2B1C6"
            },
            "baxis": {
             "endlinecolor": "#A2B1C6",
             "gridcolor": "#506784",
             "linecolor": "#506784",
             "minorgridcolor": "#506784",
             "startlinecolor": "#A2B1C6"
            },
            "type": "carpet"
           }
          ],
          "choropleth": [
           {
            "colorbar": {
             "outlinewidth": 0,
             "ticks": ""
            },
            "type": "choropleth"
           }
          ],
          "contour": [
           {
            "colorbar": {
             "outlinewidth": 0,
             "ticks": ""
            },
            "colorscale": [
             [
              0,
              "#0d0887"
             ],
             [
              0.1111111111111111,
              "#46039f"
             ],
             [
              0.2222222222222222,
              "#7201a8"
             ],
             [
              0.3333333333333333,
              "#9c179e"
             ],
             [
              0.4444444444444444,
              "#bd3786"
             ],
             [
              0.5555555555555556,
              "#d8576b"
             ],
             [
              0.6666666666666666,
              "#ed7953"
             ],
             [
              0.7777777777777778,
              "#fb9f3a"
             ],
             [
              0.8888888888888888,
              "#fdca26"
             ],
             [
              1,
              "#f0f921"
             ]
            ],
            "type": "contour"
           }
          ],
          "contourcarpet": [
           {
            "colorbar": {
             "outlinewidth": 0,
             "ticks": ""
            },
            "type": "contourcarpet"
           }
          ],
          "heatmap": [
           {
            "colorbar": {
             "outlinewidth": 0,
             "ticks": ""
            },
            "colorscale": [
             [
              0,
              "#0d0887"
             ],
             [
              0.1111111111111111,
              "#46039f"
             ],
             [
              0.2222222222222222,
              "#7201a8"
             ],
             [
              0.3333333333333333,
              "#9c179e"
             ],
             [
              0.4444444444444444,
              "#bd3786"
             ],
             [
              0.5555555555555556,
              "#d8576b"
             ],
             [
              0.6666666666666666,
              "#ed7953"
             ],
             [
              0.7777777777777778,
              "#fb9f3a"
             ],
             [
              0.8888888888888888,
              "#fdca26"
             ],
             [
              1,
              "#f0f921"
             ]
            ],
            "type": "heatmap"
           }
          ],
          "histogram": [
           {
            "marker": {
             "pattern": {
              "fillmode": "overlay",
              "size": 10,
              "solidity": 0.2
             }
            },
            "type": "histogram"
           }
          ],
          "histogram2d": [
           {
            "colorbar": {
             "outlinewidth": 0,
             "ticks": ""
            },
            "colorscale": [
             [
              0,
              "#0d0887"
             ],
             [
              0.1111111111111111,
              "#46039f"
             ],
             [
              0.2222222222222222,
              "#7201a8"
             ],
             [
              0.3333333333333333,
              "#9c179e"
             ],
             [
              0.4444444444444444,
              "#bd3786"
             ],
             [
              0.5555555555555556,
              "#d8576b"
             ],
             [
              0.6666666666666666,
              "#ed7953"
             ],
             [
              0.7777777777777778,
              "#fb9f3a"
             ],
             [
              0.8888888888888888,
              "#fdca26"
             ],
             [
              1,
              "#f0f921"
             ]
            ],
            "type": "histogram2d"
           }
          ],
          "histogram2dcontour": [
           {
            "colorbar": {
             "outlinewidth": 0,
             "ticks": ""
            },
            "colorscale": [
             [
              0,
              "#0d0887"
             ],
             [
              0.1111111111111111,
              "#46039f"
             ],
             [
              0.2222222222222222,
              "#7201a8"
             ],
             [
              0.3333333333333333,
              "#9c179e"
             ],
             [
              0.4444444444444444,
              "#bd3786"
             ],
             [
              0.5555555555555556,
              "#d8576b"
             ],
             [
              0.6666666666666666,
              "#ed7953"
             ],
             [
              0.7777777777777778,
              "#fb9f3a"
             ],
             [
              0.8888888888888888,
              "#fdca26"
             ],
             [
              1,
              "#f0f921"
             ]
            ],
            "type": "histogram2dcontour"
           }
          ],
          "mesh3d": [
           {
            "colorbar": {
             "outlinewidth": 0,
             "ticks": ""
            },
            "type": "mesh3d"
           }
          ],
          "parcoords": [
           {
            "line": {
             "colorbar": {
              "outlinewidth": 0,
              "ticks": ""
             }
            },
            "type": "parcoords"
           }
          ],
          "pie": [
           {
            "automargin": true,
            "type": "pie"
           }
          ],
          "scatter": [
           {
            "marker": {
             "line": {
              "color": "#283442"
             }
            },
            "type": "scatter"
           }
          ],
          "scatter3d": [
           {
            "line": {
             "colorbar": {
              "outlinewidth": 0,
              "ticks": ""
             }
            },
            "marker": {
             "colorbar": {
              "outlinewidth": 0,
              "ticks": ""
             }
            },
            "type": "scatter3d"
           }
          ],
          "scattercarpet": [
           {
            "marker": {
             "colorbar": {
              "outlinewidth": 0,
              "ticks": ""
             }
            },
            "type": "scattercarpet"
           }
          ],
          "scattergeo": [
           {
            "marker": {
             "colorbar": {
              "outlinewidth": 0,
              "ticks": ""
             }
            },
            "type": "scattergeo"
           }
          ],
          "scattergl": [
           {
            "marker": {
             "line": {
              "color": "#283442"
             }
            },
            "type": "scattergl"
           }
          ],
          "scattermap": [
           {
            "marker": {
             "colorbar": {
              "outlinewidth": 0,
              "ticks": ""
             }
            },
            "type": "scattermap"
           }
          ],
          "scattermapbox": [
           {
            "marker": {
             "colorbar": {
              "outlinewidth": 0,
              "ticks": ""
             }
            },
            "type": "scattermapbox"
           }
          ],
          "scatterpolar": [
           {
            "marker": {
             "colorbar": {
              "outlinewidth": 0,
              "ticks": ""
             }
            },
            "type": "scatterpolar"
           }
          ],
          "scatterpolargl": [
           {
            "marker": {
             "colorbar": {
              "outlinewidth": 0,
              "ticks": ""
             }
            },
            "type": "scatterpolargl"
           }
          ],
          "scatterternary": [
           {
            "marker": {
             "colorbar": {
              "outlinewidth": 0,
              "ticks": ""
             }
            },
            "type": "scatterternary"
           }
          ],
          "surface": [
           {
            "colorbar": {
             "outlinewidth": 0,
             "ticks": ""
            },
            "colorscale": [
             [
              0,
              "#0d0887"
             ],
             [
              0.1111111111111111,
              "#46039f"
             ],
             [
              0.2222222222222222,
              "#7201a8"
             ],
             [
              0.3333333333333333,
              "#9c179e"
             ],
             [
              0.4444444444444444,
              "#bd3786"
             ],
             [
              0.5555555555555556,
              "#d8576b"
             ],
             [
              0.6666666666666666,
              "#ed7953"
             ],
             [
              0.7777777777777778,
              "#fb9f3a"
             ],
             [
              0.8888888888888888,
              "#fdca26"
             ],
             [
              1,
              "#f0f921"
             ]
            ],
            "type": "surface"
           }
          ],
          "table": [
           {
            "cells": {
             "fill": {
              "color": "#506784"
             },
             "line": {
              "color": "rgb(17,17,17)"
             }
            },
            "header": {
             "fill": {
              "color": "#2a3f5f"
             },
             "line": {
              "color": "rgb(17,17,17)"
             }
            },
            "type": "table"
           }
          ]
         },
         "layout": {
          "annotationdefaults": {
           "arrowcolor": "#f2f5fa",
           "arrowhead": 0,
           "arrowwidth": 1
          },
          "autotypenumbers": "strict",
          "coloraxis": {
           "colorbar": {
            "outlinewidth": 0,
            "ticks": ""
           }
          },
          "colorscale": {
           "diverging": [
            [
             0,
             "#8e0152"
            ],
            [
             0.1,
             "#c51b7d"
            ],
            [
             0.2,
             "#de77ae"
            ],
            [
             0.3,
             "#f1b6da"
            ],
            [
             0.4,
             "#fde0ef"
            ],
            [
             0.5,
             "#f7f7f7"
            ],
            [
             0.6,
             "#e6f5d0"
            ],
            [
             0.7,
             "#b8e186"
            ],
            [
             0.8,
             "#7fbc41"
            ],
            [
             0.9,
             "#4d9221"
            ],
            [
             1,
             "#276419"
            ]
           ],
           "sequential": [
            [
             0,
             "#0d0887"
            ],
            [
             0.1111111111111111,
             "#46039f"
            ],
            [
             0.2222222222222222,
             "#7201a8"
            ],
            [
             0.3333333333333333,
             "#9c179e"
            ],
            [
             0.4444444444444444,
             "#bd3786"
            ],
            [
             0.5555555555555556,
             "#d8576b"
            ],
            [
             0.6666666666666666,
             "#ed7953"
            ],
            [
             0.7777777777777778,
             "#fb9f3a"
            ],
            [
             0.8888888888888888,
             "#fdca26"
            ],
            [
             1,
             "#f0f921"
            ]
           ],
           "sequentialminus": [
            [
             0,
             "#0d0887"
            ],
            [
             0.1111111111111111,
             "#46039f"
            ],
            [
             0.2222222222222222,
             "#7201a8"
            ],
            [
             0.3333333333333333,
             "#9c179e"
            ],
            [
             0.4444444444444444,
             "#bd3786"
            ],
            [
             0.5555555555555556,
             "#d8576b"
            ],
            [
             0.6666666666666666,
             "#ed7953"
            ],
            [
             0.7777777777777778,
             "#fb9f3a"
            ],
            [
             0.8888888888888888,
             "#fdca26"
            ],
            [
             1,
             "#f0f921"
            ]
           ]
          },
          "colorway": [
           "#636efa",
           "#EF553B",
           "#00cc96",
           "#ab63fa",
           "#FFA15A",
           "#19d3f3",
           "#FF6692",
           "#B6E880",
           "#FF97FF",
           "#FECB52"
          ],
          "font": {
           "color": "#f2f5fa"
          },
          "geo": {
           "bgcolor": "rgb(17,17,17)",
           "lakecolor": "rgb(17,17,17)",
           "landcolor": "rgb(17,17,17)",
           "showlakes": true,
           "showland": true,
           "subunitcolor": "#506784"
          },
          "hoverlabel": {
           "align": "left"
          },
          "hovermode": "closest",
          "mapbox": {
           "style": "dark"
          },
          "paper_bgcolor": "rgb(17,17,17)",
          "plot_bgcolor": "rgb(17,17,17)",
          "polar": {
           "angularaxis": {
            "gridcolor": "#506784",
            "linecolor": "#506784",
            "ticks": ""
           },
           "bgcolor": "rgb(17,17,17)",
           "radialaxis": {
            "gridcolor": "#506784",
            "linecolor": "#506784",
            "ticks": ""
           }
          },
          "scene": {
           "xaxis": {
            "backgroundcolor": "rgb(17,17,17)",
            "gridcolor": "#506784",
            "gridwidth": 2,
            "linecolor": "#506784",
            "showbackground": true,
            "ticks": "",
            "zerolinecolor": "#C8D4E3"
           },
           "yaxis": {
            "backgroundcolor": "rgb(17,17,17)",
            "gridcolor": "#506784",
            "gridwidth": 2,
            "linecolor": "#506784",
            "showbackground": true,
            "ticks": "",
            "zerolinecolor": "#C8D4E3"
           },
           "zaxis": {
            "backgroundcolor": "rgb(17,17,17)",
            "gridcolor": "#506784",
            "gridwidth": 2,
            "linecolor": "#506784",
            "showbackground": true,
            "ticks": "",
            "zerolinecolor": "#C8D4E3"
           }
          },
          "shapedefaults": {
           "line": {
            "color": "#f2f5fa"
           }
          },
          "sliderdefaults": {
           "bgcolor": "#C8D4E3",
           "bordercolor": "rgb(17,17,17)",
           "borderwidth": 1,
           "tickwidth": 0
          },
          "ternary": {
           "aaxis": {
            "gridcolor": "#506784",
            "linecolor": "#506784",
            "ticks": ""
           },
           "baxis": {
            "gridcolor": "#506784",
            "linecolor": "#506784",
            "ticks": ""
           },
           "bgcolor": "rgb(17,17,17)",
           "caxis": {
            "gridcolor": "#506784",
            "linecolor": "#506784",
            "ticks": ""
           }
          },
          "title": {
           "x": 0.05
          },
          "updatemenudefaults": {
           "bgcolor": "#506784",
           "borderwidth": 0
          },
          "xaxis": {
           "automargin": true,
           "gridcolor": "#283442",
           "linecolor": "#506784",
           "ticks": "",
           "title": {
            "standoff": 15
           },
           "zerolinecolor": "#283442",
           "zerolinewidth": 2
          },
          "yaxis": {
           "automargin": true,
           "gridcolor": "#283442",
           "linecolor": "#506784",
           "ticks": "",
           "title": {
            "standoff": 15
           },
           "zerolinecolor": "#283442",
           "zerolinewidth": 2
          }
         }
        },
        "title": {
         "text": "Time Series of Assets"
        },
        "xaxis": {
         "anchor": "y",
         "domain": [
          0,
          1
         ],
         "gridcolor": "rgba(255,255,255,0.1)",
         "showgrid": true,
         "title": {
          "text": "Date"
         }
        },
        "yaxis": {
         "anchor": "x",
         "domain": [
          0,
          1
         ],
         "gridcolor": "rgba(255,255,255,0.1)",
         "showgrid": true,
         "title": {
          "text": "Price"
         }
        }
       }
      }
     },
     "metadata": {},
     "output_type": "display_data"
    }
   ],
   "source": [
    "fig = px.line(\n",
    "    df_melted,\n",
    "    x=\"date\",\n",
    "    y=\"Value\",\n",
    "    color=\"Asset\",\n",
    "    title=\"Time Series of Assets\",\n",
    "    labels={\"Value\": \"Price\", \"date\": \"Date\"},\n",
    "    template=\"plotly_dark\",\n",
    ")\n",
    "\n",
    "fig.update_layout(\n",
    "    xaxis=dict(showgrid=True, gridcolor=\"rgba(255,255,255,0.1)\"),\n",
    "    yaxis=dict(showgrid=True, gridcolor=\"rgba(255,255,255,0.1)\"),\n",
    "    hovermode=\"x unified\",\n",
    "    legend=dict(title=\"Assets\", bgcolor=\"rgba(0,0,0,0.5)\"),\n",
    "    margin=dict(l=40, r=40, t=40, b=40),\n",
    ")\n",
    "\n",
    "fig.show()"
   ]
  },
  {
   "cell_type": "markdown",
   "metadata": {},
   "source": [
    "<h1 style=\"color: #FF8C00;\">Exercise 2: Daily Percentage Returns</h1>\n",
    "\n",
    "---\n",
    "\n",
    "You are required to calculate the daily percentage returns for each financial asset. Utilize this data to accomplish the following:\n",
    "- Calculate the correlation matrix for the five assets.\n",
    "- Create a scatter plot comparing the returns of two specific assets."
   ]
  },
  {
   "cell_type": "markdown",
   "metadata": {},
   "source": [
    "<h2 style=\"color: #FF6347;\">Daily Returns Calculation.</h2>\n",
    "<h3 style=\"color: #FF6347;\">-- Insert your code here --</h3>"
   ]
  },
  {
   "cell_type": "code",
   "execution_count": 366,
   "metadata": {},
   "outputs": [
    {
     "name": "stderr",
     "output_type": "stream",
     "text": [
      "/var/folders/2l/6514_hd91tv5448lmq79vpbw0000gn/T/ipykernel_26758/2668696853.py:2: FutureWarning:\n",
      "\n",
      "The default fill_method='pad' in DataFrame.pct_change is deprecated and will be removed in a future version. Either fill in any non-leading NA values prior to calling pct_change or specify 'fill_method=None' to not fill NA values.\n",
      "\n"
     ]
    }
   ],
   "source": [
    "df = df.set_index(\"date\")\n",
    "returns = df.pct_change().dropna()"
   ]
  },
  {
   "cell_type": "markdown",
   "metadata": {},
   "source": [
    "<h2 style=\"color: #FF6347;\">Correlation Matrix Calculation.</h2>\n",
    "<h3 style=\"color: #FF6347;\">-- Insert your code here --</h3>"
   ]
  },
  {
   "cell_type": "code",
   "execution_count": 367,
   "metadata": {},
   "outputs": [
    {
     "name": "stdout",
     "output_type": "stream",
     "text": [
      "          Asset1    Asset2    Asset3    Asset4    Asset5\n",
      "Asset1  1.000000 -0.088341 -0.061253  0.102252 -0.106484\n",
      "Asset2 -0.088341  1.000000  0.852491  0.526634  0.591399\n",
      "Asset3 -0.061253  0.852491  1.000000  0.511550  0.557414\n",
      "Asset4  0.102252  0.526634  0.511550  1.000000  0.421155\n",
      "Asset5 -0.106484  0.591399  0.557414  0.421155  1.000000\n"
     ]
    }
   ],
   "source": [
    "correlation_matrix = returns.corr()\n",
    "print(correlation_matrix)"
   ]
  },
  {
   "cell_type": "markdown",
   "metadata": {
    "tags": []
   },
   "source": [
    "<h2 style=\"color: #FF6347;\">Scatter Plot between the Returns of Two Assets.</h2>\n",
    "<h3 style=\"color: #FF6347;\">-- Insert your code here --</h3>"
   ]
  },
  {
   "cell_type": "code",
   "execution_count": 368,
   "metadata": {},
   "outputs": [
    {
     "data": {
      "application/vnd.plotly.v1+json": {
       "config": {
        "plotlyServerURL": "https://plot.ly"
       },
       "data": [
        {
         "hovertemplate": "Daily Return of Asset1=%{x}<br>Daily Return of Asset2=%{y}<extra></extra>",
         "legendgroup": "",
         "marker": {
          "color": "#636efa",
          "symbol": "circle"
         },
         "mode": "markers",
         "name": "",
         "orientation": "v",
         "showlegend": false,
         "type": "scatter",
         "x": {
          "bdata": "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",
          "dtype": "f8"
         },
         "xaxis": "x",
         "y": {
          "bdata": "AOe4CRJ1kL+ABam2BXWVP4Ccjtya3ok/ANyPNUJuUD+AMjZNCHWKPwCAMuO1CUU/ANBeR1FpPD8AUDRLRUBdvwASOO9i0Ho/gB5Dt6xSgD8AcOi/JtNAP4B6buLv75E/AOnUhdSGYL+Ah9X7Etd4v4C7KPLWFni/AOQrSJirZD8AdKbCwz6FP8BPj8QW7Ii/ADgllqX7Uj8AL0A+CJqBP4AewDsIco4/AHK8HzLgbD8AaOc4RiVLPwAb7oyX+H0/AIDCr3eKFb8AVm/p2N2OvwDWTX5jaWO/gHy2AS6Rgj+AB03EXciIPwA0lfJsOWk/gKMr0joecL+AnB/Zjw6GPwBWJCxStGo/AECaDTV8Or8AoghdGphlPwD3uV27cWi/AA5r2XWEeD8ArYs7sO17PwAwPCjRa3C/gB7kqk4Od78ARgKXsMJiPwCgUuisoi8/AMASa9AVFb8AcJZqbPoyPwDiCZP89XO/gOnYFs7Ogb+AaCIUGCGBvwCU9cEdc48/ADYHo+gufT8Ak0z54h58PwCgdBFuTT2/AKdqthcedj8AepWeW3FRv4AEIrfa0YE/gBrkxZEHib+AXMISn/2EP8CV46zrXYe/ADAXQUEVdb8AjwAy1894PwBz8K4pOXe/ACgui4RDXj8AspmFJQKBPwDtMmNquIU/ABAXe3CHYT8AT/Bf96Z7PwB1sGq5O2y/ACxes6YMdj8AiJeBc1wyvwAA0c/E2We/AJhbQNZNWD8AsOM+1MFXPwDvgwPdBnE/AAgywHpSNL8AAF2ALkBnPwBYhlnP/2u/ABhghzxkR78AAAAAAAAAAAAAAAAAAAAAgKGQxLVvhT8ASD+EmT9hPwD4Q3guVWC/AKhUCrcgQj8AlCL5ut1xP4BSygeFKXG/AAAAAAAAAAAAozzq3px7v4CUKmp46IA/ABU4TlZie7/AETklvzCDvwB629ImfVe/QMfqWzqDj7+AGSuzM4dxvwCO2OGwxnW/gL2Dtc5/hT8A5l+ZrHVjPwBqnky4mIo/ABaFX3JXa7/AjkjyFoGFvwCVf+ej23Q/AB6C8IG/WL/AvXnKGz2MvwBk5w9GrV8/AOwvudD7UD8A8KrE+VtUv6CH40Zs85G/ABr17bzwZz+A3DoZGO15v4De1/hdanC/gEvdXcOMhz+ALo45v3CDPwBm0pdVrHw/AAj/McUXjT+Af5Gfe+WAPwCUsH7Whmu/AGPPYjTFbL8AJi6MslJhPwBgS/sOnDk/AOiFO9//Xz+AAxLQzDSFPwCK7V9f8WC/AC2wi8tbfz8AC8tZRHN3PwCNvov64GS/AI87hy8Cer+AzHUufZZwvwAQmwMnaU+/AHQcIq73cz8AKURuMNmEPwDwDGPF+Uu/AOASIO3fgj8AtA0njh1sP4BScN27Y3y/ABgk0WceV78AUIynS+ojvwBh04UguHY/ALBQlKCbaz8AQEbd3ZxdPwA8DV8IsVQ/AHCvxzGiNj8ACrUi8hl4vwDfXiihjXi/AN2c4nI/fD8AcmruzGJ6vwDg5ABtW3A/AACkQZYvdT8AWO7VFUVQPwBzfOq2UHA/AEi+LrZlP78AEgduUQ5hvwBgXIZXei8/ADRbb6vyUb8A00isK0afv8C8e4jvGpK/AHs8nFNter8AmH9Xj1JoP0A+Sjg/iJY/gGmugawLeL+AFRgCB3dzv4DBN6pGyIM/YLr671M+kr+Awk4yOmR+v4CMoiOIeo0/ALNNNi0AjD8Ad8aFGE1mvwBoWEWFmWU/AFg9mfgobr9AfExz0HyKvwDUesc9m2y/ANai3Ujuaz8APFsYTnRXP4A64sDsFYw/AHiJO3h7P78AepdfX1pmvwBZX+8pa22/gAXoZcXXgz9A/3pBJeKQPwCAKBQG6Qc/ADig+syuUT8AFu6neWuAv4DKRx1fYYU/AIt6TYfMez8AEN4IhbwyPwBqGxXTz3W/ADCcYQxGST8AVB6N/0VHv4B3hHmtKoA/ANSDnsOna7+AReVM3op4vwBg0NGz3zC/AOJp6u2Oer8A3MI533tXvwC6GsUFBHU/AGa/3bhNYL8A3ZsnNaJ2v+AlNRWcuZq/ALwEndJhYT8AsqNiZ+WPPwB1dAHHang/oFVKh+Tek78AdHDz3tp3PwAz9gn6A4c/gEzaC8jmjz+A1IAdHRSAv4DujOeBDYM/ACJeT2R5Yr8ADDvOB9NdPwB8LiRp/mC/ANRAP6QUbj8AhuuCdC1lPwCR7MKgT2q/AIbLXYRcbj8AZ1jArgZyPwAfPNcpKnA/AIT5tlQkYT8AazxdRrRnvwDnKh/Htmq/gNMtKPbxhT8AiTWvoeN8PwAS28OYrFe/ANCMDFb3Lr8Ah5eDnY94PwBW7j2Jvmy/AICdQfnTQr8AI1UIKFx5PwAubsL8rma/AADFBqhUMb8AR/NV8RmAPwAUb9hwwVo/AAAXfyuH/j4ApCcYE7ZavwAAuNiV23W/ADxSJpm7Uj+ARs40zLiBPwC87uzCKmU/AKo42EOAaT8AhF5MAvlRPwDqfaBFGFi/QGOvxXOlhb8AsCXyHI2HvwDQD9fN+Ik/AOz9I1z1YL+AqZE/kmaJPwDoc6j9RlW/APIwDHjiY78AUBjCxVI/vwBpK85CHYA/AHCSWnDJM78AoQrNBAiGPwBQXbd8+Tu/ACThclFTUD8A2MaTH35bPwCWq+PUuXw/AFglE+uNQT8AANUXg4sxPwAAAAAAAAAAAAAAAAAAAAAAGIzgzuxyPwBnoIu1qHy/ADB0/CaVMb8AAAAAAAAAAACipUnP+XI/AMBkL5bgOD8AGLyicLdXvwCuGzVpVGU/AFg0+YY1XT8AByo/Ljl/PwCcaUg7pVU/AGD1JDdOOz8AFLeGrqxjPwCUv1pu42o/AGyKmsR3ZD8AsjVYbA12PwCQB8sbvzM/AGDEqnAwRD8AkGmJCqBUP4DxLY7gKX2/AOwFJj0OYz9AVEIS4ZyVv4D2St7BoIQ/ACRfvbuUXT9A+euO/e+Cv4C3PBGyBXG/ABAtEkMqaz8Azwr9/GePPwBmom4DQXk/AKzPjf2ifD8AVnzCIqpdvwCArRvmmfy+APeMMSj0fz8A8obk7iZvPwAYwQosmU0/ANDV9FIDLr8AABmwbtNpPwAXwY12SoK/AEtyx/YQgz+AzJLKNxiKvwCsozkbE0y/wIP56A/yn7+AamBBx9iQvwDJQUdDo3e/UA0SChcEpL8wDJzAcC+mvwBfhHyBu6A/ALSSPJMjhT8AlLNVvRlyPwAycF9RfWs/kF5UwyX1or+wMaPdd2Kpv4AVjMcBRI+/AKP7sBI9dz9IVDLs/Gy4v4AcOOqSr4Y/gAfax/Oehr+AXh+1kTBwv0CygVPAI6u/ALCuHcI7Pj8AdGk0js18v5D+0/leXa+/4BiFHpq6tz8gfnrCs/uhP6BMuQi2/KI/QFOWTTAhkb+AFtW1vcaVP4BnYfwVu4k/QAHkqzmCqr8AzGLmqt9Kv4CCB/iyCHG/IHldLTFopz/g8hNTICumPwCMf3WpR1a/AJ4N/+Demz8AAAAAAAAAAAAAAAAAAAAAgMeIV41IhT8Avj1/jXKPvwBPJGt9r3Q/wMdHjTpakj8ACaaJCqB+PyDOKQiySqa/QEfVuDPUlD8APjrmFOCNP0Ct480JJYq/gPmMRawsnT8ACKxkfH9mP8DWF129ApI/gA8kmgqyfb8AAAAAAAAAAPA8DqGlKaG/gAnKbMRpmz9ABM04ugOCvwDipK0PMoE/gOFEAvs5hT8A7CmC8bNSPwB4+ezAzFc/IIEcLzMfnr+AUy/Qiq2LvwDdISYm64U/wDO+xrhFpj8AYLIN289ZPwDmzryRqns/gM0h1exFhr8AdcJtc55gv4CCOam76JI/ADZp4uHIcj8Aet46hS12vwCBK7jfhJM/AI4E8TSMiL8AySAM1BOHPwCQZpmjQXA/AI68BhTMkz8AdF+xMPFSv8Dediu5Jp0/AGCDa8hXTj8AcLw1LcogvwCCfixqkHa/4F8COz9vob9gM0gTKUSQvwDdTKeOMHe/oBGfe1O9oj8AzGwkHrZBvwBnrMXjd2e/ACMXsqHGdz9A8cGp67KDvwBJ8fkn3I4/gKgtDX3gnr8A5zQD0ilzv4Bi1l0GDnC/AKYmbsM6cT8AGxBXjo2HP4B4TWUFN4Q/gH/wNwmWiT+Afli9b1R5v0CCtXRJ1JE/AKDEGWkcRr8A+utV5XKEv4APYwosH3e/ACLokVU0hD9Azz8woUGWPwBdg3yajZK/QOV+CVUckT8AIVqT1kh2vwBiyZzQ+W8/AKVBz0UZdT+Aqgi56RmHPwBpl4DSym+/ACgY9koGcj+AhM1AWvmQvwAwMnUWCTo/AK4TpL3YcD8AgLSR6K9ZPwDbds0ok22/AOwlcf4oaT/A/dAZ80SQPwAY395I2lo/gFkwBAydgD8AwmlUaTZXvwAks1BvrX0/AJglpRSdVD8AtNtyUf5+PwDYm78CqEI/AOCLGj76Qz8AZNVfKGVMvwBc6WW1T1k/AESlfm/yVT8Ayowx3HJsPwBMQ/3GBnu/AJr9JnUYaj+ATZWKJw+FPwCyp0vbHW8/AADaAi03fD8Ax2YNTK6FPwCorz2+UEm/APgHTvYOTj8AaqA1oH5tPwDx+kQ/cYY/IGcc5koJlb+gR9pPfPqcv0Cg4Xyvk5E/QBcZo3zfl7+AqcBV3COLPwBggX6QxUA/AGFUFZuRj78A2/v9q1OOPwA3/6vlMnQ/ACjv9FdWXD8AOcT+A32Rv4DfzUm6YIK/ABp0k8Dsn7+AbmeEauWKPwBFT6LX/3g/YHSWpHpikL8AWKcVMQR9PwAJjRZylZo/AAJS3xBlY78Are31u6SGPwAwoVFi5WY/ALJi16FWhL8ACnBW3CGJPwBgZlhPw2o/AJi1B0rBQD8A8eH9PL99P4CJHkZCDYc/wHhafbWFkT8AaIFeASowv4A2EapjB3e/APqEOlV8ib8AQEI8jsyFPwCpfgvsimW/gP/JyPCajb8AUOX6bVEyPwB01yetb2e/AHHeX+lWdz+gzSiNo7OTvwA0s5qfC2o/ADeNMjaWnL8AaAl5j4w4v0A7DQEuF4W/gHTi1GJtiz8A2t/ab2GXP8AIkFfaWpg/AG8v86uUjT8A1bCBpf9qvwAFvge2250/gG+s/kCPlL8ApU8uqxmFPwB5xvw4SXG/AABSfaaSIj8AtbANkT2SPwASIDvbiWq/AGA83+5JTD9A57nluFeOvwC5Qm/XkHM/AInf+54Ier/AYGYVjROVPwBwGED9mFG/ALDlusZoUT8A1B4ljZBjP4B1bGRXpIa/APKZyf0FlD8AspgrZWlhvwDfbFWLEHI/AEDHoeycbD8AuOSpmfVDPwBA7wX9y0Y/AACN/gu7T7+AysIOtPdxv8CAzSPd0YC/ANc6iNc8fz8AMFZRy15gv4Bb5Lv4c4M/ADYAG2o/bT+AfI7Ls4Ryv4CN2vC3vIS/AEp1WSEWfD8AKDMyBphxPwB42CbCq1G/AAAAAAAAAACAkYvmSy6EPwBozbsWMl0/AJjsKuWHSr8A5zf34GRgvwAAAAAAAAAAgPOzC6QBgb8A/DpFZnVmP4BW8lnPQJA/ALEnYWGvgD8AdNRB2LNiPwCA8Vnwlw+/AIKxDTqpYr8AODCqjkVfPwC+ZECVe2E/AIj5m5DOhb8AOCTFFhU/vwD47GNy1mI/gKbVtCTtjj8A5gm8+vpoPwDBYWWSd2q/gNi/+DfBcL+AZ1OE8BWAPwAGfrJD+ZG/ANxgi9gsez/g26IJ1mGVvwCwHfA5LXw/AOxi4HFDlT8AsGaXcklKvwC9YMwQ2Xo/AK08RDZOfz8ArjnhXrZnPwBkvQgljGc/AIjb1VIXQr8A2KW2oC5lPwAo2s3pO1w/gDlRHMJkgD8ATK16Blp1v4Bm8qefenm/AO+oVFB5Z78AiAyTXdN+P8CedvvDB4e/ABYoyxNUfL+ASgTUAiOJPwAgGJXCz3C/wHkagUvYir8AXg2hyBKPPwCrU47YqXS/ALGrOXJIZL8AULcrPwKHv4ByfB8AmJa/gLT6tjkxoj8AzjPqAkB2PwAydLyUtGk/AC6rqjxoiz8Ajkd32IN+vwArrPEOS3I/ANYApRBqfD+AjnaAVMx6vwDElCgINXQ/gAXVIydLhb8AB+8dynl2PwDOIhNiHVa/AMyS68aGRr8ANnH4k9+FvwC9HPuTeYg/AKusSkbYcz8ADJynMRdRPwDzMymTb3U/AMeJckcleT8AAAAAAAAAAAAAAAAAAAAAQAfe841pkz8AkNGZAz5bvwB0NJAEmHA/AAq4vs+yaD8AEXshmJFwPwAwO7dohmg/ANrnUSOLYT8AitYINntsPwCJ1J7fWnE/AIECTiKsZ78AevpsdJyDvwC0TccRTn4/ANIePZ+Xcj8ApMFAoO5AvwBuoecoz28/AHqc6G0OWL8AzHPcXVxQPwCokEVftUc/AAbpYjcnYL8ARgW2K35tP4Cf93cQt4y/gK9eWPZUhD8A3BzBcTFJvwAdgIems4w/AKyvAiI4Sb/AAeJvXQeUvwAzjhdarYi/AJKOOW2waT+An8E/fRKLPwAGRyXhuWm/AMYaeySRYT+ACvANtFeSvwBjc7IhhJI/AKQDtTzrbD8AvbahE8h7PwDRytFSA2u/AJS8SJDYWT8A9n/JV9hgPwDS8hODnWE/ANI0gPHzcL8AiorLrR1nPwDO4xSXEGE/gGTJtlxkc78Ao4BTGgZ6PwAMI9jN6VC/ALBQrN7PNr8AtR3qU6twPwBAdtuAkUk/AOC3D9E5RD8AvOyFJLtBvwDwU/kmFFo/ADTa/bnjUT+Aic56SltyvwB+WYt2IIe/AIlkPuqxgD8AHgozabh5PwBMt3UKnlU/AEAGgShVcz8AUNfJ5K5qPwAIIaqmRzm/AEfTfWm/cj8AzNgXufhLvwCQdLPEvm0/AH1aW4DYeT8ADfc9/0dxP4DY8iemzHi/AH/0lVn1dD9Ari1h2PGAv4DidXs2o4c/ACQneIDEaj8Ayk9fkNJpP4BNobWLJXG/ADA3m9bfV78AYtsC45VtvwAKdWbgmJS/AOOj6FCIiD+AMDlbCCCAPwBWxn3+ImI/gCjMhDlXhj8AnqiwBfpoPwBnLsBtO3+/ACczf//lcT8AMT7XTy9zP4BYSL9Obny/APLYnZ6Acj+AEwKTwj9yvwB0UeNgOmM/AMgKamt0cD8ATHT7tuNkPwDM/tjPT0O/ACAYf+fUUz8AFPM6G/pTPwCslUjR7V0/AG42Mj7KbT8A/NF2DTxqvwAgYqNtsS0/AAAHfpuHXr/A6+lYdxiDvwB9DrLN5H0/gC8TI0iPhz8AcDO9txQyPwDmuQZ8qmM/ADSNpjBMar8A3AmYUrlzPwDrZ0TBoX4/AChpPOrRWL8AIOB4wuVBPwDWMf3bImI/APTmKAjKWL8AvkYlT1ZnP4B38Dj4AHm/AA7zhV+4br8AMnTJxRVlPwDRhCiK43u/gGIJ+ltzcb8AEmQ2ydFRvwD+i97VAVK/AABdUHosEL8AoDxers9svyC0ruyjaJK/ADRf8/DWbD8AHigcZbx5PwAkEpMXO4c/AOwMKOR1Yr8ADOBxMZZSP2ASQjlYkZO/AAJu6chNZD+A7/cgZcx1vwC40H9R73i/gBoGdu1xg79AxMT76FOSPwAsviQEBoq/gP8pnVr+mz8ARtp9Vfx1vwCsg+kU5V4/gP1oBqfJh7+ADMYGZ9lwvwAji+JSMpQ/AJBEvAzigj8AJpmYEydqPwDFLckwy3w/ACNpwtIPcz8AvGsvHbhTvwD8CZnyOFg/APlnLgY/dT8AQm00lf95PwCTC5e5JGS/ACRo3zLMYj8A3LBKAMpgPwAwvuSV2Gg/AMFCRQgmcz8AyMh4tCtOv4Cw6PRTCYM/AD+och10gT8AlPI4witWvwClKpCuFXS/AOBKasU/LL+AN55JRC9zvwDuUWvhNXU/AATnwVgIWT8ACsaK7b5yPwCjtyGqHmm/ADCZYilHUT8A4CXotbJiPwCnG/IjcnU/wI68zCzHi78A3bbmbwJyPwDRZAasNXA/oCc3E7Qimb8AF6O0X66FPwBbcvdnkYi/ACR6YIy6ij/glr5oA6OUvwDJnMr4Tmq/gGuKODXGgz+Az+MtRPCXPwCo4O9K5WC/ADCt1k+wXT8AtGUKiiddvwDUhoPJQVO/AErSCLbXiL8AjOsZSkZNv8Abso8IeZM/gJBBsTYKib8gBU2IGkKYv4DWtMd0II4/QPO8qh7tkT+AknjzVh2EPwDYSsm97EU/AL+4vNc+fj8A4Ot+b3V2PwBssJkQBVq/AFREDuXIZz+A7dU2W8x1vw==",
          "dtype": "f8"
         },
         "yaxis": "y"
        }
       ],
       "layout": {
        "legend": {
         "tracegroupgap": 0
        },
        "template": {
         "data": {
          "bar": [
           {
            "error_x": {
             "color": "#f2f5fa"
            },
            "error_y": {
             "color": "#f2f5fa"
            },
            "marker": {
             "line": {
              "color": "rgb(17,17,17)",
              "width": 0.5
             },
             "pattern": {
              "fillmode": "overlay",
              "size": 10,
              "solidity": 0.2
             }
            },
            "type": "bar"
           }
          ],
          "barpolar": [
           {
            "marker": {
             "line": {
              "color": "rgb(17,17,17)",
              "width": 0.5
             },
             "pattern": {
              "fillmode": "overlay",
              "size": 10,
              "solidity": 0.2
             }
            },
            "type": "barpolar"
           }
          ],
          "carpet": [
           {
            "aaxis": {
             "endlinecolor": "#A2B1C6",
             "gridcolor": "#506784",
             "linecolor": "#506784",
             "minorgridcolor": "#506784",
             "startlinecolor": "#A2B1C6"
            },
            "baxis": {
             "endlinecolor": "#A2B1C6",
             "gridcolor": "#506784",
             "linecolor": "#506784",
             "minorgridcolor": "#506784",
             "startlinecolor": "#A2B1C6"
            },
            "type": "carpet"
           }
          ],
          "choropleth": [
           {
            "colorbar": {
             "outlinewidth": 0,
             "ticks": ""
            },
            "type": "choropleth"
           }
          ],
          "contour": [
           {
            "colorbar": {
             "outlinewidth": 0,
             "ticks": ""
            },
            "colorscale": [
             [
              0,
              "#0d0887"
             ],
             [
              0.1111111111111111,
              "#46039f"
             ],
             [
              0.2222222222222222,
              "#7201a8"
             ],
             [
              0.3333333333333333,
              "#9c179e"
             ],
             [
              0.4444444444444444,
              "#bd3786"
             ],
             [
              0.5555555555555556,
              "#d8576b"
             ],
             [
              0.6666666666666666,
              "#ed7953"
             ],
             [
              0.7777777777777778,
              "#fb9f3a"
             ],
             [
              0.8888888888888888,
              "#fdca26"
             ],
             [
              1,
              "#f0f921"
             ]
            ],
            "type": "contour"
           }
          ],
          "contourcarpet": [
           {
            "colorbar": {
             "outlinewidth": 0,
             "ticks": ""
            },
            "type": "contourcarpet"
           }
          ],
          "heatmap": [
           {
            "colorbar": {
             "outlinewidth": 0,
             "ticks": ""
            },
            "colorscale": [
             [
              0,
              "#0d0887"
             ],
             [
              0.1111111111111111,
              "#46039f"
             ],
             [
              0.2222222222222222,
              "#7201a8"
             ],
             [
              0.3333333333333333,
              "#9c179e"
             ],
             [
              0.4444444444444444,
              "#bd3786"
             ],
             [
              0.5555555555555556,
              "#d8576b"
             ],
             [
              0.6666666666666666,
              "#ed7953"
             ],
             [
              0.7777777777777778,
              "#fb9f3a"
             ],
             [
              0.8888888888888888,
              "#fdca26"
             ],
             [
              1,
              "#f0f921"
             ]
            ],
            "type": "heatmap"
           }
          ],
          "histogram": [
           {
            "marker": {
             "pattern": {
              "fillmode": "overlay",
              "size": 10,
              "solidity": 0.2
             }
            },
            "type": "histogram"
           }
          ],
          "histogram2d": [
           {
            "colorbar": {
             "outlinewidth": 0,
             "ticks": ""
            },
            "colorscale": [
             [
              0,
              "#0d0887"
             ],
             [
              0.1111111111111111,
              "#46039f"
             ],
             [
              0.2222222222222222,
              "#7201a8"
             ],
             [
              0.3333333333333333,
              "#9c179e"
             ],
             [
              0.4444444444444444,
              "#bd3786"
             ],
             [
              0.5555555555555556,
              "#d8576b"
             ],
             [
              0.6666666666666666,
              "#ed7953"
             ],
             [
              0.7777777777777778,
              "#fb9f3a"
             ],
             [
              0.8888888888888888,
              "#fdca26"
             ],
             [
              1,
              "#f0f921"
             ]
            ],
            "type": "histogram2d"
           }
          ],
          "histogram2dcontour": [
           {
            "colorbar": {
             "outlinewidth": 0,
             "ticks": ""
            },
            "colorscale": [
             [
              0,
              "#0d0887"
             ],
             [
              0.1111111111111111,
              "#46039f"
             ],
             [
              0.2222222222222222,
              "#7201a8"
             ],
             [
              0.3333333333333333,
              "#9c179e"
             ],
             [
              0.4444444444444444,
              "#bd3786"
             ],
             [
              0.5555555555555556,
              "#d8576b"
             ],
             [
              0.6666666666666666,
              "#ed7953"
             ],
             [
              0.7777777777777778,
              "#fb9f3a"
             ],
             [
              0.8888888888888888,
              "#fdca26"
             ],
             [
              1,
              "#f0f921"
             ]
            ],
            "type": "histogram2dcontour"
           }
          ],
          "mesh3d": [
           {
            "colorbar": {
             "outlinewidth": 0,
             "ticks": ""
            },
            "type": "mesh3d"
           }
          ],
          "parcoords": [
           {
            "line": {
             "colorbar": {
              "outlinewidth": 0,
              "ticks": ""
             }
            },
            "type": "parcoords"
           }
          ],
          "pie": [
           {
            "automargin": true,
            "type": "pie"
           }
          ],
          "scatter": [
           {
            "marker": {
             "line": {
              "color": "#283442"
             }
            },
            "type": "scatter"
           }
          ],
          "scatter3d": [
           {
            "line": {
             "colorbar": {
              "outlinewidth": 0,
              "ticks": ""
             }
            },
            "marker": {
             "colorbar": {
              "outlinewidth": 0,
              "ticks": ""
             }
            },
            "type": "scatter3d"
           }
          ],
          "scattercarpet": [
           {
            "marker": {
             "colorbar": {
              "outlinewidth": 0,
              "ticks": ""
             }
            },
            "type": "scattercarpet"
           }
          ],
          "scattergeo": [
           {
            "marker": {
             "colorbar": {
              "outlinewidth": 0,
              "ticks": ""
             }
            },
            "type": "scattergeo"
           }
          ],
          "scattergl": [
           {
            "marker": {
             "line": {
              "color": "#283442"
             }
            },
            "type": "scattergl"
           }
          ],
          "scattermap": [
           {
            "marker": {
             "colorbar": {
              "outlinewidth": 0,
              "ticks": ""
             }
            },
            "type": "scattermap"
           }
          ],
          "scattermapbox": [
           {
            "marker": {
             "colorbar": {
              "outlinewidth": 0,
              "ticks": ""
             }
            },
            "type": "scattermapbox"
           }
          ],
          "scatterpolar": [
           {
            "marker": {
             "colorbar": {
              "outlinewidth": 0,
              "ticks": ""
             }
            },
            "type": "scatterpolar"
           }
          ],
          "scatterpolargl": [
           {
            "marker": {
             "colorbar": {
              "outlinewidth": 0,
              "ticks": ""
             }
            },
            "type": "scatterpolargl"
           }
          ],
          "scatterternary": [
           {
            "marker": {
             "colorbar": {
              "outlinewidth": 0,
              "ticks": ""
             }
            },
            "type": "scatterternary"
           }
          ],
          "surface": [
           {
            "colorbar": {
             "outlinewidth": 0,
             "ticks": ""
            },
            "colorscale": [
             [
              0,
              "#0d0887"
             ],
             [
              0.1111111111111111,
              "#46039f"
             ],
             [
              0.2222222222222222,
              "#7201a8"
             ],
             [
              0.3333333333333333,
              "#9c179e"
             ],
             [
              0.4444444444444444,
              "#bd3786"
             ],
             [
              0.5555555555555556,
              "#d8576b"
             ],
             [
              0.6666666666666666,
              "#ed7953"
             ],
             [
              0.7777777777777778,
              "#fb9f3a"
             ],
             [
              0.8888888888888888,
              "#fdca26"
             ],
             [
              1,
              "#f0f921"
             ]
            ],
            "type": "surface"
           }
          ],
          "table": [
           {
            "cells": {
             "fill": {
              "color": "#506784"
             },
             "line": {
              "color": "rgb(17,17,17)"
             }
            },
            "header": {
             "fill": {
              "color": "#2a3f5f"
             },
             "line": {
              "color": "rgb(17,17,17)"
             }
            },
            "type": "table"
           }
          ]
         },
         "layout": {
          "annotationdefaults": {
           "arrowcolor": "#f2f5fa",
           "arrowhead": 0,
           "arrowwidth": 1
          },
          "autotypenumbers": "strict",
          "coloraxis": {
           "colorbar": {
            "outlinewidth": 0,
            "ticks": ""
           }
          },
          "colorscale": {
           "diverging": [
            [
             0,
             "#8e0152"
            ],
            [
             0.1,
             "#c51b7d"
            ],
            [
             0.2,
             "#de77ae"
            ],
            [
             0.3,
             "#f1b6da"
            ],
            [
             0.4,
             "#fde0ef"
            ],
            [
             0.5,
             "#f7f7f7"
            ],
            [
             0.6,
             "#e6f5d0"
            ],
            [
             0.7,
             "#b8e186"
            ],
            [
             0.8,
             "#7fbc41"
            ],
            [
             0.9,
             "#4d9221"
            ],
            [
             1,
             "#276419"
            ]
           ],
           "sequential": [
            [
             0,
             "#0d0887"
            ],
            [
             0.1111111111111111,
             "#46039f"
            ],
            [
             0.2222222222222222,
             "#7201a8"
            ],
            [
             0.3333333333333333,
             "#9c179e"
            ],
            [
             0.4444444444444444,
             "#bd3786"
            ],
            [
             0.5555555555555556,
             "#d8576b"
            ],
            [
             0.6666666666666666,
             "#ed7953"
            ],
            [
             0.7777777777777778,
             "#fb9f3a"
            ],
            [
             0.8888888888888888,
             "#fdca26"
            ],
            [
             1,
             "#f0f921"
            ]
           ],
           "sequentialminus": [
            [
             0,
             "#0d0887"
            ],
            [
             0.1111111111111111,
             "#46039f"
            ],
            [
             0.2222222222222222,
             "#7201a8"
            ],
            [
             0.3333333333333333,
             "#9c179e"
            ],
            [
             0.4444444444444444,
             "#bd3786"
            ],
            [
             0.5555555555555556,
             "#d8576b"
            ],
            [
             0.6666666666666666,
             "#ed7953"
            ],
            [
             0.7777777777777778,
             "#fb9f3a"
            ],
            [
             0.8888888888888888,
             "#fdca26"
            ],
            [
             1,
             "#f0f921"
            ]
           ]
          },
          "colorway": [
           "#636efa",
           "#EF553B",
           "#00cc96",
           "#ab63fa",
           "#FFA15A",
           "#19d3f3",
           "#FF6692",
           "#B6E880",
           "#FF97FF",
           "#FECB52"
          ],
          "font": {
           "color": "#f2f5fa"
          },
          "geo": {
           "bgcolor": "rgb(17,17,17)",
           "lakecolor": "rgb(17,17,17)",
           "landcolor": "rgb(17,17,17)",
           "showlakes": true,
           "showland": true,
           "subunitcolor": "#506784"
          },
          "hoverlabel": {
           "align": "left"
          },
          "hovermode": "closest",
          "mapbox": {
           "style": "dark"
          },
          "paper_bgcolor": "rgb(17,17,17)",
          "plot_bgcolor": "rgb(17,17,17)",
          "polar": {
           "angularaxis": {
            "gridcolor": "#506784",
            "linecolor": "#506784",
            "ticks": ""
           },
           "bgcolor": "rgb(17,17,17)",
           "radialaxis": {
            "gridcolor": "#506784",
            "linecolor": "#506784",
            "ticks": ""
           }
          },
          "scene": {
           "xaxis": {
            "backgroundcolor": "rgb(17,17,17)",
            "gridcolor": "#506784",
            "gridwidth": 2,
            "linecolor": "#506784",
            "showbackground": true,
            "ticks": "",
            "zerolinecolor": "#C8D4E3"
           },
           "yaxis": {
            "backgroundcolor": "rgb(17,17,17)",
            "gridcolor": "#506784",
            "gridwidth": 2,
            "linecolor": "#506784",
            "showbackground": true,
            "ticks": "",
            "zerolinecolor": "#C8D4E3"
           },
           "zaxis": {
            "backgroundcolor": "rgb(17,17,17)",
            "gridcolor": "#506784",
            "gridwidth": 2,
            "linecolor": "#506784",
            "showbackground": true,
            "ticks": "",
            "zerolinecolor": "#C8D4E3"
           }
          },
          "shapedefaults": {
           "line": {
            "color": "#f2f5fa"
           }
          },
          "sliderdefaults": {
           "bgcolor": "#C8D4E3",
           "bordercolor": "rgb(17,17,17)",
           "borderwidth": 1,
           "tickwidth": 0
          },
          "ternary": {
           "aaxis": {
            "gridcolor": "#506784",
            "linecolor": "#506784",
            "ticks": ""
           },
           "baxis": {
            "gridcolor": "#506784",
            "linecolor": "#506784",
            "ticks": ""
           },
           "bgcolor": "rgb(17,17,17)",
           "caxis": {
            "gridcolor": "#506784",
            "linecolor": "#506784",
            "ticks": ""
           }
          },
          "title": {
           "x": 0.05
          },
          "updatemenudefaults": {
           "bgcolor": "#506784",
           "borderwidth": 0
          },
          "xaxis": {
           "automargin": true,
           "gridcolor": "#283442",
           "linecolor": "#506784",
           "ticks": "",
           "title": {
            "standoff": 15
           },
           "zerolinecolor": "#283442",
           "zerolinewidth": 2
          },
          "yaxis": {
           "automargin": true,
           "gridcolor": "#283442",
           "linecolor": "#506784",
           "ticks": "",
           "title": {
            "standoff": 15
           },
           "zerolinecolor": "#283442",
           "zerolinewidth": 2
          }
         }
        },
        "title": {
         "text": "Scatter Plot of Daily Returns: Asset1 vs Asset2"
        },
        "xaxis": {
         "anchor": "y",
         "domain": [
          0,
          1
         ],
         "title": {
          "text": "Daily Return of Asset1"
         }
        },
        "yaxis": {
         "anchor": "x",
         "domain": [
          0,
          1
         ],
         "title": {
          "text": "Daily Return of Asset2"
         }
        }
       }
      }
     },
     "metadata": {},
     "output_type": "display_data"
    }
   ],
   "source": [
    "fig = px.scatter(\n",
    "    returns,\n",
    "    x=\"Asset1\",\n",
    "    y=\"Asset2\",\n",
    "    title=\"Scatter Plot of Daily Returns: Asset1 vs Asset2\",\n",
    "    labels={\"Asset1\": \"Daily Return of Asset1\", \"Asset2\": \"Daily Return of Asset2\"},\n",
    "    template=\"plotly_dark\"\n",
    ")\n",
    "fig.show()"
   ]
  },
  {
   "cell_type": "markdown",
   "metadata": {},
   "source": [
    "<h1 style=\"color: #FF8C00;\">Exercise 3: Portfolio Analysis</h1>\n",
    "\n",
    "---\n",
    "\n",
    "This third exercise focuses on calculating and analyzing the performance of a portfolio. Begin by loading the file named `portfolio_weights.csv`, which contains the daily weights of each asset in the portfolio.\n",
    "\n",
    "To complete the exercise, you will need to perform the following tasks:\n",
    "- Create an area chart of the asset weights.\n",
    "- Plot the historical cumulative returns of the portfolio.\n",
    "- Calculate the annualized return of the portfolio.\n",
    "- Determine the annualized volatility of the portfolio (using an annualization factor of 261 days).\n",
    "- Produce an area chart grouping asset weights by their categories, as detailed in the `asset_information_data.csv`."
   ]
  },
  {
   "cell_type": "code",
   "execution_count": null,
   "metadata": {},
   "outputs": [],
   "source": [
    "weight_data = pd.read_csv(\"data/portfolio_weights.csv\")\n",
    "weight_df = weight_data.copy()"
   ]
  },
  {
   "cell_type": "code",
   "execution_count": 370,
   "metadata": {},
   "outputs": [
    {
     "data": {
      "text/html": [
       "<div>\n",
       "<style scoped>\n",
       "    .dataframe tbody tr th:only-of-type {\n",
       "        vertical-align: middle;\n",
       "    }\n",
       "\n",
       "    .dataframe tbody tr th {\n",
       "        vertical-align: top;\n",
       "    }\n",
       "\n",
       "    .dataframe thead th {\n",
       "        text-align: right;\n",
       "    }\n",
       "</style>\n",
       "<table border=\"1\" class=\"dataframe\">\n",
       "  <thead>\n",
       "    <tr style=\"text-align: right;\">\n",
       "      <th></th>\n",
       "      <th>date</th>\n",
       "      <th>Asset1</th>\n",
       "      <th>Asset2</th>\n",
       "      <th>Asset3</th>\n",
       "      <th>Asset4</th>\n",
       "      <th>Asset5</th>\n",
       "    </tr>\n",
       "  </thead>\n",
       "  <tbody>\n",
       "    <tr>\n",
       "      <th>0</th>\n",
       "      <td>2019-01-02</td>\n",
       "      <td>0.225458</td>\n",
       "      <td>0.116255</td>\n",
       "      <td>0.265003</td>\n",
       "      <td>0.23031</td>\n",
       "      <td>0.162974</td>\n",
       "    </tr>\n",
       "    <tr>\n",
       "      <th>1</th>\n",
       "      <td>2019-01-03</td>\n",
       "      <td>0.225458</td>\n",
       "      <td>0.116255</td>\n",
       "      <td>0.265003</td>\n",
       "      <td>0.23031</td>\n",
       "      <td>0.162974</td>\n",
       "    </tr>\n",
       "    <tr>\n",
       "      <th>2</th>\n",
       "      <td>2019-01-04</td>\n",
       "      <td>0.225458</td>\n",
       "      <td>0.116255</td>\n",
       "      <td>0.265003</td>\n",
       "      <td>0.23031</td>\n",
       "      <td>0.162974</td>\n",
       "    </tr>\n",
       "    <tr>\n",
       "      <th>3</th>\n",
       "      <td>2019-01-07</td>\n",
       "      <td>0.225458</td>\n",
       "      <td>0.116255</td>\n",
       "      <td>0.265003</td>\n",
       "      <td>0.23031</td>\n",
       "      <td>0.162974</td>\n",
       "    </tr>\n",
       "    <tr>\n",
       "      <th>4</th>\n",
       "      <td>2019-01-08</td>\n",
       "      <td>0.225458</td>\n",
       "      <td>0.116255</td>\n",
       "      <td>0.265003</td>\n",
       "      <td>0.23031</td>\n",
       "      <td>0.162974</td>\n",
       "    </tr>\n",
       "    <tr>\n",
       "      <th>...</th>\n",
       "      <td>...</td>\n",
       "      <td>...</td>\n",
       "      <td>...</td>\n",
       "      <td>...</td>\n",
       "      <td>...</td>\n",
       "      <td>...</td>\n",
       "    </tr>\n",
       "    <tr>\n",
       "      <th>778</th>\n",
       "      <td>2021-12-27</td>\n",
       "      <td>0.071307</td>\n",
       "      <td>0.266093</td>\n",
       "      <td>0.168775</td>\n",
       "      <td>0.33547</td>\n",
       "      <td>0.158356</td>\n",
       "    </tr>\n",
       "    <tr>\n",
       "      <th>779</th>\n",
       "      <td>2021-12-28</td>\n",
       "      <td>0.071307</td>\n",
       "      <td>0.266093</td>\n",
       "      <td>0.168775</td>\n",
       "      <td>0.33547</td>\n",
       "      <td>0.158356</td>\n",
       "    </tr>\n",
       "    <tr>\n",
       "      <th>780</th>\n",
       "      <td>2021-12-29</td>\n",
       "      <td>0.071307</td>\n",
       "      <td>0.266093</td>\n",
       "      <td>0.168775</td>\n",
       "      <td>0.33547</td>\n",
       "      <td>0.158356</td>\n",
       "    </tr>\n",
       "    <tr>\n",
       "      <th>781</th>\n",
       "      <td>2021-12-30</td>\n",
       "      <td>0.071307</td>\n",
       "      <td>0.266093</td>\n",
       "      <td>0.168775</td>\n",
       "      <td>0.33547</td>\n",
       "      <td>0.158356</td>\n",
       "    </tr>\n",
       "    <tr>\n",
       "      <th>782</th>\n",
       "      <td>2021-12-31</td>\n",
       "      <td>0.071307</td>\n",
       "      <td>0.266093</td>\n",
       "      <td>0.168775</td>\n",
       "      <td>0.33547</td>\n",
       "      <td>0.158356</td>\n",
       "    </tr>\n",
       "  </tbody>\n",
       "</table>\n",
       "<p>783 rows × 6 columns</p>\n",
       "</div>"
      ],
      "text/plain": [
       "           date    Asset1    Asset2    Asset3   Asset4    Asset5\n",
       "0    2019-01-02  0.225458  0.116255  0.265003  0.23031  0.162974\n",
       "1    2019-01-03  0.225458  0.116255  0.265003  0.23031  0.162974\n",
       "2    2019-01-04  0.225458  0.116255  0.265003  0.23031  0.162974\n",
       "3    2019-01-07  0.225458  0.116255  0.265003  0.23031  0.162974\n",
       "4    2019-01-08  0.225458  0.116255  0.265003  0.23031  0.162974\n",
       "..          ...       ...       ...       ...      ...       ...\n",
       "778  2021-12-27  0.071307  0.266093  0.168775  0.33547  0.158356\n",
       "779  2021-12-28  0.071307  0.266093  0.168775  0.33547  0.158356\n",
       "780  2021-12-29  0.071307  0.266093  0.168775  0.33547  0.158356\n",
       "781  2021-12-30  0.071307  0.266093  0.168775  0.33547  0.158356\n",
       "782  2021-12-31  0.071307  0.266093  0.168775  0.33547  0.158356\n",
       "\n",
       "[783 rows x 6 columns]"
      ]
     },
     "execution_count": 370,
     "metadata": {},
     "output_type": "execute_result"
    }
   ],
   "source": [
    "weight_df"
   ]
  },
  {
   "cell_type": "code",
   "execution_count": 371,
   "metadata": {},
   "outputs": [
    {
     "data": {
      "text/plain": [
       "date      0\n",
       "Asset1    0\n",
       "Asset2    0\n",
       "Asset3    0\n",
       "Asset4    0\n",
       "Asset5    0\n",
       "dtype: int64"
      ]
     },
     "execution_count": 371,
     "metadata": {},
     "output_type": "execute_result"
    }
   ],
   "source": [
    "weight_df.isna().sum()"
   ]
  },
  {
   "cell_type": "markdown",
   "metadata": {
    "tags": []
   },
   "source": [
    "<h2 style=\"color: #FF6347;\">Area Chart of Asset Weights.</h2>\n",
    "<h3 style=\"color: #FF6347;\">-- Insert your code here --</h3>"
   ]
  },
  {
   "cell_type": "code",
   "execution_count": 372,
   "metadata": {},
   "outputs": [
    {
     "data": {
      "text/html": [
       "<div>\n",
       "<style scoped>\n",
       "    .dataframe tbody tr th:only-of-type {\n",
       "        vertical-align: middle;\n",
       "    }\n",
       "\n",
       "    .dataframe tbody tr th {\n",
       "        vertical-align: top;\n",
       "    }\n",
       "\n",
       "    .dataframe thead th {\n",
       "        text-align: right;\n",
       "    }\n",
       "</style>\n",
       "<table border=\"1\" class=\"dataframe\">\n",
       "  <thead>\n",
       "    <tr style=\"text-align: right;\">\n",
       "      <th></th>\n",
       "      <th>date</th>\n",
       "      <th>Asset</th>\n",
       "      <th>Value</th>\n",
       "    </tr>\n",
       "  </thead>\n",
       "  <tbody>\n",
       "    <tr>\n",
       "      <th>0</th>\n",
       "      <td>2019-01-02</td>\n",
       "      <td>Asset1</td>\n",
       "      <td>0.225458</td>\n",
       "    </tr>\n",
       "    <tr>\n",
       "      <th>1</th>\n",
       "      <td>2019-01-03</td>\n",
       "      <td>Asset1</td>\n",
       "      <td>0.225458</td>\n",
       "    </tr>\n",
       "    <tr>\n",
       "      <th>2</th>\n",
       "      <td>2019-01-04</td>\n",
       "      <td>Asset1</td>\n",
       "      <td>0.225458</td>\n",
       "    </tr>\n",
       "    <tr>\n",
       "      <th>3</th>\n",
       "      <td>2019-01-07</td>\n",
       "      <td>Asset1</td>\n",
       "      <td>0.225458</td>\n",
       "    </tr>\n",
       "    <tr>\n",
       "      <th>4</th>\n",
       "      <td>2019-01-08</td>\n",
       "      <td>Asset1</td>\n",
       "      <td>0.225458</td>\n",
       "    </tr>\n",
       "  </tbody>\n",
       "</table>\n",
       "</div>"
      ],
      "text/plain": [
       "         date   Asset     Value\n",
       "0  2019-01-02  Asset1  0.225458\n",
       "1  2019-01-03  Asset1  0.225458\n",
       "2  2019-01-04  Asset1  0.225458\n",
       "3  2019-01-07  Asset1  0.225458\n",
       "4  2019-01-08  Asset1  0.225458"
      ]
     },
     "execution_count": 372,
     "metadata": {},
     "output_type": "execute_result"
    }
   ],
   "source": [
    "weight_df_melted = weight_df.melt(id_vars=[\"date\"], var_name=\"Asset\", value_name=\"Value\")\n",
    "weight_df_melted.head()"
   ]
  },
  {
   "cell_type": "code",
   "execution_count": 373,
   "metadata": {},
   "outputs": [
    {
     "data": {
      "application/vnd.plotly.v1+json": {
       "config": {
        "plotlyServerURL": "https://plot.ly"
       },
       "data": [
        {
         "fillpattern": {
          "shape": ""
         },
         "hovertemplate": "Asset=Asset1<br>Date=%{x}<br>Asset Value=%{y}<extra></extra>",
         "legendgroup": "Asset1",
         "line": {
          "color": "#636efa"
         },
         "marker": {
          "symbol": "circle"
         },
         "mode": "lines",
         "name": "Asset1",
         "orientation": "v",
         "showlegend": true,
         "stackgroup": "1",
         "type": "scatter",
         "x": [
          "2019-01-02",
          "2019-01-03",
          "2019-01-04",
          "2019-01-07",
          "2019-01-08",
          "2019-01-09",
          "2019-01-10",
          "2019-01-11",
          "2019-01-14",
          "2019-01-15",
          "2019-01-16",
          "2019-01-17",
          "2019-01-18",
          "2019-01-21",
          "2019-01-22",
          "2019-01-23",
          "2019-01-24",
          "2019-01-25",
          "2019-01-28",
          "2019-01-29",
          "2019-01-30",
          "2019-01-31",
          "2019-02-01",
          "2019-02-04",
          "2019-02-05",
          "2019-02-06",
          "2019-02-07",
          "2019-02-08",
          "2019-02-11",
          "2019-02-12",
          "2019-02-13",
          "2019-02-14",
          "2019-02-15",
          "2019-02-18",
          "2019-02-19",
          "2019-02-20",
          "2019-02-21",
          "2019-02-22",
          "2019-02-25",
          "2019-02-26",
          "2019-02-27",
          "2019-02-28",
          "2019-03-01",
          "2019-03-04",
          "2019-03-05",
          "2019-03-06",
          "2019-03-07",
          "2019-03-08",
          "2019-03-11",
          "2019-03-12",
          "2019-03-13",
          "2019-03-14",
          "2019-03-15",
          "2019-03-18",
          "2019-03-19",
          "2019-03-20",
          "2019-03-21",
          "2019-03-22",
          "2019-03-25",
          "2019-03-26",
          "2019-03-27",
          "2019-03-28",
          "2019-03-29",
          "2019-04-01",
          "2019-04-02",
          "2019-04-03",
          "2019-04-04",
          "2019-04-05",
          "2019-04-08",
          "2019-04-09",
          "2019-04-10",
          "2019-04-11",
          "2019-04-12",
          "2019-04-15",
          "2019-04-16",
          "2019-04-17",
          "2019-04-18",
          "2019-04-19",
          "2019-04-22",
          "2019-04-23",
          "2019-04-24",
          "2019-04-25",
          "2019-04-26",
          "2019-04-29",
          "2019-04-30",
          "2019-05-01",
          "2019-05-02",
          "2019-05-03",
          "2019-05-06",
          "2019-05-07",
          "2019-05-08",
          "2019-05-09",
          "2019-05-10",
          "2019-05-13",
          "2019-05-14",
          "2019-05-15",
          "2019-05-16",
          "2019-05-17",
          "2019-05-20",
          "2019-05-21",
          "2019-05-22",
          "2019-05-23",
          "2019-05-24",
          "2019-05-27",
          "2019-05-28",
          "2019-05-29",
          "2019-05-30",
          "2019-05-31",
          "2019-06-03",
          "2019-06-04",
          "2019-06-05",
          "2019-06-06",
          "2019-06-07",
          "2019-06-10",
          "2019-06-11",
          "2019-06-12",
          "2019-06-13",
          "2019-06-14",
          "2019-06-17",
          "2019-06-18",
          "2019-06-19",
          "2019-06-20",
          "2019-06-21",
          "2019-06-24",
          "2019-06-25",
          "2019-06-26",
          "2019-06-27",
          "2019-06-28",
          "2019-07-01",
          "2019-07-02",
          "2019-07-03",
          "2019-07-04",
          "2019-07-05",
          "2019-07-08",
          "2019-07-09",
          "2019-07-10",
          "2019-07-11",
          "2019-07-12",
          "2019-07-15",
          "2019-07-16",
          "2019-07-17",
          "2019-07-18",
          "2019-07-19",
          "2019-07-22",
          "2019-07-23",
          "2019-07-24",
          "2019-07-25",
          "2019-07-26",
          "2019-07-29",
          "2019-07-30",
          "2019-07-31",
          "2019-08-01",
          "2019-08-02",
          "2019-08-05",
          "2019-08-06",
          "2019-08-07",
          "2019-08-08",
          "2019-08-09",
          "2019-08-12",
          "2019-08-13",
          "2019-08-14",
          "2019-08-15",
          "2019-08-16",
          "2019-08-19",
          "2019-08-20",
          "2019-08-21",
          "2019-08-22",
          "2019-08-23",
          "2019-08-26",
          "2019-08-27",
          "2019-08-28",
          "2019-08-29",
          "2019-08-30",
          "2019-09-02",
          "2019-09-03",
          "2019-09-04",
          "2019-09-05",
          "2019-09-06",
          "2019-09-09",
          "2019-09-10",
          "2019-09-11",
          "2019-09-12",
          "2019-09-13",
          "2019-09-16",
          "2019-09-17",
          "2019-09-18",
          "2019-09-19",
          "2019-09-20",
          "2019-09-23",
          "2019-09-24",
          "2019-09-25",
          "2019-09-26",
          "2019-09-27",
          "2019-09-30",
          "2019-10-01",
          "2019-10-02",
          "2019-10-03",
          "2019-10-04",
          "2019-10-07",
          "2019-10-08",
          "2019-10-09",
          "2019-10-10",
          "2019-10-11",
          "2019-10-14",
          "2019-10-15",
          "2019-10-16",
          "2019-10-17",
          "2019-10-18",
          "2019-10-21",
          "2019-10-22",
          "2019-10-23",
          "2019-10-24",
          "2019-10-25",
          "2019-10-28",
          "2019-10-29",
          "2019-10-30",
          "2019-10-31",
          "2019-11-01",
          "2019-11-04",
          "2019-11-05",
          "2019-11-06",
          "2019-11-07",
          "2019-11-08",
          "2019-11-11",
          "2019-11-12",
          "2019-11-13",
          "2019-11-14",
          "2019-11-15",
          "2019-11-18",
          "2019-11-19",
          "2019-11-20",
          "2019-11-21",
          "2019-11-22",
          "2019-11-25",
          "2019-11-26",
          "2019-11-27",
          "2019-11-28",
          "2019-11-29",
          "2019-12-02",
          "2019-12-03",
          "2019-12-04",
          "2019-12-05",
          "2019-12-06",
          "2019-12-09",
          "2019-12-10",
          "2019-12-11",
          "2019-12-12",
          "2019-12-13",
          "2019-12-16",
          "2019-12-17",
          "2019-12-18",
          "2019-12-19",
          "2019-12-20",
          "2019-12-23",
          "2019-12-24",
          "2019-12-25",
          "2019-12-26",
          "2019-12-27",
          "2019-12-30",
          "2019-12-31",
          "2020-01-01",
          "2020-01-02",
          "2020-01-03",
          "2020-01-06",
          "2020-01-07",
          "2020-01-08",
          "2020-01-09",
          "2020-01-10",
          "2020-01-13",
          "2020-01-14",
          "2020-01-15",
          "2020-01-16",
          "2020-01-17",
          "2020-01-20",
          "2020-01-21",
          "2020-01-22",
          "2020-01-23",
          "2020-01-24",
          "2020-01-27",
          "2020-01-28",
          "2020-01-29",
          "2020-01-30",
          "2020-01-31",
          "2020-02-03",
          "2020-02-04",
          "2020-02-05",
          "2020-02-06",
          "2020-02-07",
          "2020-02-10",
          "2020-02-11",
          "2020-02-12",
          "2020-02-13",
          "2020-02-14",
          "2020-02-17",
          "2020-02-18",
          "2020-02-19",
          "2020-02-20",
          "2020-02-21",
          "2020-02-24",
          "2020-02-25",
          "2020-02-26",
          "2020-02-27",
          "2020-02-28",
          "2020-03-02",
          "2020-03-03",
          "2020-03-04",
          "2020-03-05",
          "2020-03-06",
          "2020-03-09",
          "2020-03-10",
          "2020-03-11",
          "2020-03-12",
          "2020-03-13",
          "2020-03-16",
          "2020-03-17",
          "2020-03-18",
          "2020-03-19",
          "2020-03-20",
          "2020-03-23",
          "2020-03-24",
          "2020-03-25",
          "2020-03-26",
          "2020-03-27",
          "2020-03-30",
          "2020-03-31",
          "2020-04-01",
          "2020-04-02",
          "2020-04-03",
          "2020-04-06",
          "2020-04-07",
          "2020-04-08",
          "2020-04-09",
          "2020-04-10",
          "2020-04-13",
          "2020-04-14",
          "2020-04-15",
          "2020-04-16",
          "2020-04-17",
          "2020-04-20",
          "2020-04-21",
          "2020-04-22",
          "2020-04-23",
          "2020-04-24",
          "2020-04-27",
          "2020-04-28",
          "2020-04-29",
          "2020-04-30",
          "2020-05-01",
          "2020-05-04",
          "2020-05-05",
          "2020-05-06",
          "2020-05-07",
          "2020-05-08",
          "2020-05-11",
          "2020-05-12",
          "2020-05-13",
          "2020-05-14",
          "2020-05-15",
          "2020-05-18",
          "2020-05-19",
          "2020-05-20",
          "2020-05-21",
          "2020-05-22",
          "2020-05-25",
          "2020-05-26",
          "2020-05-27",
          "2020-05-28",
          "2020-05-29",
          "2020-06-01",
          "2020-06-02",
          "2020-06-03",
          "2020-06-04",
          "2020-06-05",
          "2020-06-08",
          "2020-06-09",
          "2020-06-10",
          "2020-06-11",
          "2020-06-12",
          "2020-06-15",
          "2020-06-16",
          "2020-06-17",
          "2020-06-18",
          "2020-06-19",
          "2020-06-22",
          "2020-06-23",
          "2020-06-24",
          "2020-06-25",
          "2020-06-26",
          "2020-06-29",
          "2020-06-30",
          "2020-07-01",
          "2020-07-02",
          "2020-07-03",
          "2020-07-06",
          "2020-07-07",
          "2020-07-08",
          "2020-07-09",
          "2020-07-10",
          "2020-07-13",
          "2020-07-14",
          "2020-07-15",
          "2020-07-16",
          "2020-07-17",
          "2020-07-20",
          "2020-07-21",
          "2020-07-22",
          "2020-07-23",
          "2020-07-24",
          "2020-07-27",
          "2020-07-28",
          "2020-07-29",
          "2020-07-30",
          "2020-07-31",
          "2020-08-03",
          "2020-08-04",
          "2020-08-05",
          "2020-08-06",
          "2020-08-07",
          "2020-08-10",
          "2020-08-11",
          "2020-08-12",
          "2020-08-13",
          "2020-08-14",
          "2020-08-17",
          "2020-08-18",
          "2020-08-19",
          "2020-08-20",
          "2020-08-21",
          "2020-08-24",
          "2020-08-25",
          "2020-08-26",
          "2020-08-27",
          "2020-08-28",
          "2020-08-31",
          "2020-09-01",
          "2020-09-02",
          "2020-09-03",
          "2020-09-04",
          "2020-09-07",
          "2020-09-08",
          "2020-09-09",
          "2020-09-10",
          "2020-09-11",
          "2020-09-14",
          "2020-09-15",
          "2020-09-16",
          "2020-09-17",
          "2020-09-18",
          "2020-09-21",
          "2020-09-22",
          "2020-09-23",
          "2020-09-24",
          "2020-09-25",
          "2020-09-28",
          "2020-09-29",
          "2020-09-30",
          "2020-10-01",
          "2020-10-02",
          "2020-10-05",
          "2020-10-06",
          "2020-10-07",
          "2020-10-08",
          "2020-10-09",
          "2020-10-12",
          "2020-10-13",
          "2020-10-14",
          "2020-10-15",
          "2020-10-16",
          "2020-10-19",
          "2020-10-20",
          "2020-10-21",
          "2020-10-22",
          "2020-10-23",
          "2020-10-26",
          "2020-10-27",
          "2020-10-28",
          "2020-10-29",
          "2020-10-30",
          "2020-11-02",
          "2020-11-03",
          "2020-11-04",
          "2020-11-05",
          "2020-11-06",
          "2020-11-09",
          "2020-11-10",
          "2020-11-11",
          "2020-11-12",
          "2020-11-13",
          "2020-11-16",
          "2020-11-17",
          "2020-11-18",
          "2020-11-19",
          "2020-11-20",
          "2020-11-23",
          "2020-11-24",
          "2020-11-25",
          "2020-11-26",
          "2020-11-27",
          "2020-11-30",
          "2020-12-01",
          "2020-12-02",
          "2020-12-03",
          "2020-12-04",
          "2020-12-07",
          "2020-12-08",
          "2020-12-09",
          "2020-12-10",
          "2020-12-11",
          "2020-12-14",
          "2020-12-15",
          "2020-12-16",
          "2020-12-17",
          "2020-12-18",
          "2020-12-21",
          "2020-12-22",
          "2020-12-23",
          "2020-12-24",
          "2020-12-25",
          "2020-12-28",
          "2020-12-29",
          "2020-12-30",
          "2020-12-31",
          "2021-01-01",
          "2021-01-04",
          "2021-01-05",
          "2021-01-06",
          "2021-01-07",
          "2021-01-08",
          "2021-01-11",
          "2021-01-12",
          "2021-01-13",
          "2021-01-14",
          "2021-01-15",
          "2021-01-18",
          "2021-01-19",
          "2021-01-20",
          "2021-01-21",
          "2021-01-22",
          "2021-01-25",
          "2021-01-26",
          "2021-01-27",
          "2021-01-28",
          "2021-01-29",
          "2021-02-01",
          "2021-02-02",
          "2021-02-03",
          "2021-02-04",
          "2021-02-05",
          "2021-02-08",
          "2021-02-09",
          "2021-02-10",
          "2021-02-11",
          "2021-02-12",
          "2021-02-15",
          "2021-02-16",
          "2021-02-17",
          "2021-02-18",
          "2021-02-19",
          "2021-02-22",
          "2021-02-23",
          "2021-02-24",
          "2021-02-25",
          "2021-02-26",
          "2021-03-01",
          "2021-03-02",
          "2021-03-03",
          "2021-03-04",
          "2021-03-05",
          "2021-03-08",
          "2021-03-09",
          "2021-03-10",
          "2021-03-11",
          "2021-03-12",
          "2021-03-15",
          "2021-03-16",
          "2021-03-17",
          "2021-03-18",
          "2021-03-19",
          "2021-03-22",
          "2021-03-23",
          "2021-03-24",
          "2021-03-25",
          "2021-03-26",
          "2021-03-29",
          "2021-03-30",
          "2021-03-31",
          "2021-04-01",
          "2021-04-02",
          "2021-04-05",
          "2021-04-06",
          "2021-04-07",
          "2021-04-08",
          "2021-04-09",
          "2021-04-12",
          "2021-04-13",
          "2021-04-14",
          "2021-04-15",
          "2021-04-16",
          "2021-04-19",
          "2021-04-20",
          "2021-04-21",
          "2021-04-22",
          "2021-04-23",
          "2021-04-26",
          "2021-04-27",
          "2021-04-28",
          "2021-04-29",
          "2021-04-30",
          "2021-05-03",
          "2021-05-04",
          "2021-05-05",
          "2021-05-06",
          "2021-05-07",
          "2021-05-10",
          "2021-05-11",
          "2021-05-12",
          "2021-05-13",
          "2021-05-14",
          "2021-05-17",
          "2021-05-18",
          "2021-05-19",
          "2021-05-20",
          "2021-05-21",
          "2021-05-24",
          "2021-05-25",
          "2021-05-26",
          "2021-05-27",
          "2021-05-28",
          "2021-05-31",
          "2021-06-01",
          "2021-06-02",
          "2021-06-03",
          "2021-06-04",
          "2021-06-07",
          "2021-06-08",
          "2021-06-09",
          "2021-06-10",
          "2021-06-11",
          "2021-06-14",
          "2021-06-15",
          "2021-06-16",
          "2021-06-17",
          "2021-06-18",
          "2021-06-21",
          "2021-06-22",
          "2021-06-23",
          "2021-06-24",
          "2021-06-25",
          "2021-06-28",
          "2021-06-29",
          "2021-06-30",
          "2021-07-01",
          "2021-07-02",
          "2021-07-05",
          "2021-07-06",
          "2021-07-07",
          "2021-07-08",
          "2021-07-09",
          "2021-07-12",
          "2021-07-13",
          "2021-07-14",
          "2021-07-15",
          "2021-07-16",
          "2021-07-19",
          "2021-07-20",
          "2021-07-21",
          "2021-07-22",
          "2021-07-23",
          "2021-07-26",
          "2021-07-27",
          "2021-07-28",
          "2021-07-29",
          "2021-07-30",
          "2021-08-02",
          "2021-08-03",
          "2021-08-04",
          "2021-08-05",
          "2021-08-06",
          "2021-08-09",
          "2021-08-10",
          "2021-08-11",
          "2021-08-12",
          "2021-08-13",
          "2021-08-16",
          "2021-08-17",
          "2021-08-18",
          "2021-08-19",
          "2021-08-20",
          "2021-08-23",
          "2021-08-24",
          "2021-08-25",
          "2021-08-26",
          "2021-08-27",
          "2021-08-30",
          "2021-08-31",
          "2021-09-01",
          "2021-09-02",
          "2021-09-03",
          "2021-09-06",
          "2021-09-07",
          "2021-09-08",
          "2021-09-09",
          "2021-09-10",
          "2021-09-13",
          "2021-09-14",
          "2021-09-15",
          "2021-09-16",
          "2021-09-17",
          "2021-09-20",
          "2021-09-21",
          "2021-09-22",
          "2021-09-23",
          "2021-09-24",
          "2021-09-27",
          "2021-09-28",
          "2021-09-29",
          "2021-09-30",
          "2021-10-01",
          "2021-10-04",
          "2021-10-05",
          "2021-10-06",
          "2021-10-07",
          "2021-10-08",
          "2021-10-11",
          "2021-10-12",
          "2021-10-13",
          "2021-10-14",
          "2021-10-15",
          "2021-10-18",
          "2021-10-19",
          "2021-10-20",
          "2021-10-21",
          "2021-10-22",
          "2021-10-25",
          "2021-10-26",
          "2021-10-27",
          "2021-10-28",
          "2021-10-29",
          "2021-11-01",
          "2021-11-02",
          "2021-11-03",
          "2021-11-04",
          "2021-11-05",
          "2021-11-08",
          "2021-11-09",
          "2021-11-10",
          "2021-11-11",
          "2021-11-12",
          "2021-11-15",
          "2021-11-16",
          "2021-11-17",
          "2021-11-18",
          "2021-11-19",
          "2021-11-22",
          "2021-11-23",
          "2021-11-24",
          "2021-11-25",
          "2021-11-26",
          "2021-11-29",
          "2021-11-30",
          "2021-12-01",
          "2021-12-02",
          "2021-12-03",
          "2021-12-06",
          "2021-12-07",
          "2021-12-08",
          "2021-12-09",
          "2021-12-10",
          "2021-12-13",
          "2021-12-14",
          "2021-12-15",
          "2021-12-16",
          "2021-12-17",
          "2021-12-20",
          "2021-12-21",
          "2021-12-22",
          "2021-12-23",
          "2021-12-24",
          "2021-12-27",
          "2021-12-28",
          "2021-12-29",
          "2021-12-30",
          "2021-12-31"
         ],
         "xaxis": "x",
         "y": {
          "bdata": "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",
          "dtype": "f8"
         },
         "yaxis": "y"
        },
        {
         "fillpattern": {
          "shape": ""
         },
         "hovertemplate": "Asset=Asset2<br>Date=%{x}<br>Asset Value=%{y}<extra></extra>",
         "legendgroup": "Asset2",
         "line": {
          "color": "#EF553B"
         },
         "marker": {
          "symbol": "circle"
         },
         "mode": "lines",
         "name": "Asset2",
         "orientation": "v",
         "showlegend": true,
         "stackgroup": "1",
         "type": "scatter",
         "x": [
          "2019-01-02",
          "2019-01-03",
          "2019-01-04",
          "2019-01-07",
          "2019-01-08",
          "2019-01-09",
          "2019-01-10",
          "2019-01-11",
          "2019-01-14",
          "2019-01-15",
          "2019-01-16",
          "2019-01-17",
          "2019-01-18",
          "2019-01-21",
          "2019-01-22",
          "2019-01-23",
          "2019-01-24",
          "2019-01-25",
          "2019-01-28",
          "2019-01-29",
          "2019-01-30",
          "2019-01-31",
          "2019-02-01",
          "2019-02-04",
          "2019-02-05",
          "2019-02-06",
          "2019-02-07",
          "2019-02-08",
          "2019-02-11",
          "2019-02-12",
          "2019-02-13",
          "2019-02-14",
          "2019-02-15",
          "2019-02-18",
          "2019-02-19",
          "2019-02-20",
          "2019-02-21",
          "2019-02-22",
          "2019-02-25",
          "2019-02-26",
          "2019-02-27",
          "2019-02-28",
          "2019-03-01",
          "2019-03-04",
          "2019-03-05",
          "2019-03-06",
          "2019-03-07",
          "2019-03-08",
          "2019-03-11",
          "2019-03-12",
          "2019-03-13",
          "2019-03-14",
          "2019-03-15",
          "2019-03-18",
          "2019-03-19",
          "2019-03-20",
          "2019-03-21",
          "2019-03-22",
          "2019-03-25",
          "2019-03-26",
          "2019-03-27",
          "2019-03-28",
          "2019-03-29",
          "2019-04-01",
          "2019-04-02",
          "2019-04-03",
          "2019-04-04",
          "2019-04-05",
          "2019-04-08",
          "2019-04-09",
          "2019-04-10",
          "2019-04-11",
          "2019-04-12",
          "2019-04-15",
          "2019-04-16",
          "2019-04-17",
          "2019-04-18",
          "2019-04-19",
          "2019-04-22",
          "2019-04-23",
          "2019-04-24",
          "2019-04-25",
          "2019-04-26",
          "2019-04-29",
          "2019-04-30",
          "2019-05-01",
          "2019-05-02",
          "2019-05-03",
          "2019-05-06",
          "2019-05-07",
          "2019-05-08",
          "2019-05-09",
          "2019-05-10",
          "2019-05-13",
          "2019-05-14",
          "2019-05-15",
          "2019-05-16",
          "2019-05-17",
          "2019-05-20",
          "2019-05-21",
          "2019-05-22",
          "2019-05-23",
          "2019-05-24",
          "2019-05-27",
          "2019-05-28",
          "2019-05-29",
          "2019-05-30",
          "2019-05-31",
          "2019-06-03",
          "2019-06-04",
          "2019-06-05",
          "2019-06-06",
          "2019-06-07",
          "2019-06-10",
          "2019-06-11",
          "2019-06-12",
          "2019-06-13",
          "2019-06-14",
          "2019-06-17",
          "2019-06-18",
          "2019-06-19",
          "2019-06-20",
          "2019-06-21",
          "2019-06-24",
          "2019-06-25",
          "2019-06-26",
          "2019-06-27",
          "2019-06-28",
          "2019-07-01",
          "2019-07-02",
          "2019-07-03",
          "2019-07-04",
          "2019-07-05",
          "2019-07-08",
          "2019-07-09",
          "2019-07-10",
          "2019-07-11",
          "2019-07-12",
          "2019-07-15",
          "2019-07-16",
          "2019-07-17",
          "2019-07-18",
          "2019-07-19",
          "2019-07-22",
          "2019-07-23",
          "2019-07-24",
          "2019-07-25",
          "2019-07-26",
          "2019-07-29",
          "2019-07-30",
          "2019-07-31",
          "2019-08-01",
          "2019-08-02",
          "2019-08-05",
          "2019-08-06",
          "2019-08-07",
          "2019-08-08",
          "2019-08-09",
          "2019-08-12",
          "2019-08-13",
          "2019-08-14",
          "2019-08-15",
          "2019-08-16",
          "2019-08-19",
          "2019-08-20",
          "2019-08-21",
          "2019-08-22",
          "2019-08-23",
          "2019-08-26",
          "2019-08-27",
          "2019-08-28",
          "2019-08-29",
          "2019-08-30",
          "2019-09-02",
          "2019-09-03",
          "2019-09-04",
          "2019-09-05",
          "2019-09-06",
          "2019-09-09",
          "2019-09-10",
          "2019-09-11",
          "2019-09-12",
          "2019-09-13",
          "2019-09-16",
          "2019-09-17",
          "2019-09-18",
          "2019-09-19",
          "2019-09-20",
          "2019-09-23",
          "2019-09-24",
          "2019-09-25",
          "2019-09-26",
          "2019-09-27",
          "2019-09-30",
          "2019-10-01",
          "2019-10-02",
          "2019-10-03",
          "2019-10-04",
          "2019-10-07",
          "2019-10-08",
          "2019-10-09",
          "2019-10-10",
          "2019-10-11",
          "2019-10-14",
          "2019-10-15",
          "2019-10-16",
          "2019-10-17",
          "2019-10-18",
          "2019-10-21",
          "2019-10-22",
          "2019-10-23",
          "2019-10-24",
          "2019-10-25",
          "2019-10-28",
          "2019-10-29",
          "2019-10-30",
          "2019-10-31",
          "2019-11-01",
          "2019-11-04",
          "2019-11-05",
          "2019-11-06",
          "2019-11-07",
          "2019-11-08",
          "2019-11-11",
          "2019-11-12",
          "2019-11-13",
          "2019-11-14",
          "2019-11-15",
          "2019-11-18",
          "2019-11-19",
          "2019-11-20",
          "2019-11-21",
          "2019-11-22",
          "2019-11-25",
          "2019-11-26",
          "2019-11-27",
          "2019-11-28",
          "2019-11-29",
          "2019-12-02",
          "2019-12-03",
          "2019-12-04",
          "2019-12-05",
          "2019-12-06",
          "2019-12-09",
          "2019-12-10",
          "2019-12-11",
          "2019-12-12",
          "2019-12-13",
          "2019-12-16",
          "2019-12-17",
          "2019-12-18",
          "2019-12-19",
          "2019-12-20",
          "2019-12-23",
          "2019-12-24",
          "2019-12-25",
          "2019-12-26",
          "2019-12-27",
          "2019-12-30",
          "2019-12-31",
          "2020-01-01",
          "2020-01-02",
          "2020-01-03",
          "2020-01-06",
          "2020-01-07",
          "2020-01-08",
          "2020-01-09",
          "2020-01-10",
          "2020-01-13",
          "2020-01-14",
          "2020-01-15",
          "2020-01-16",
          "2020-01-17",
          "2020-01-20",
          "2020-01-21",
          "2020-01-22",
          "2020-01-23",
          "2020-01-24",
          "2020-01-27",
          "2020-01-28",
          "2020-01-29",
          "2020-01-30",
          "2020-01-31",
          "2020-02-03",
          "2020-02-04",
          "2020-02-05",
          "2020-02-06",
          "2020-02-07",
          "2020-02-10",
          "2020-02-11",
          "2020-02-12",
          "2020-02-13",
          "2020-02-14",
          "2020-02-17",
          "2020-02-18",
          "2020-02-19",
          "2020-02-20",
          "2020-02-21",
          "2020-02-24",
          "2020-02-25",
          "2020-02-26",
          "2020-02-27",
          "2020-02-28",
          "2020-03-02",
          "2020-03-03",
          "2020-03-04",
          "2020-03-05",
          "2020-03-06",
          "2020-03-09",
          "2020-03-10",
          "2020-03-11",
          "2020-03-12",
          "2020-03-13",
          "2020-03-16",
          "2020-03-17",
          "2020-03-18",
          "2020-03-19",
          "2020-03-20",
          "2020-03-23",
          "2020-03-24",
          "2020-03-25",
          "2020-03-26",
          "2020-03-27",
          "2020-03-30",
          "2020-03-31",
          "2020-04-01",
          "2020-04-02",
          "2020-04-03",
          "2020-04-06",
          "2020-04-07",
          "2020-04-08",
          "2020-04-09",
          "2020-04-10",
          "2020-04-13",
          "2020-04-14",
          "2020-04-15",
          "2020-04-16",
          "2020-04-17",
          "2020-04-20",
          "2020-04-21",
          "2020-04-22",
          "2020-04-23",
          "2020-04-24",
          "2020-04-27",
          "2020-04-28",
          "2020-04-29",
          "2020-04-30",
          "2020-05-01",
          "2020-05-04",
          "2020-05-05",
          "2020-05-06",
          "2020-05-07",
          "2020-05-08",
          "2020-05-11",
          "2020-05-12",
          "2020-05-13",
          "2020-05-14",
          "2020-05-15",
          "2020-05-18",
          "2020-05-19",
          "2020-05-20",
          "2020-05-21",
          "2020-05-22",
          "2020-05-25",
          "2020-05-26",
          "2020-05-27",
          "2020-05-28",
          "2020-05-29",
          "2020-06-01",
          "2020-06-02",
          "2020-06-03",
          "2020-06-04",
          "2020-06-05",
          "2020-06-08",
          "2020-06-09",
          "2020-06-10",
          "2020-06-11",
          "2020-06-12",
          "2020-06-15",
          "2020-06-16",
          "2020-06-17",
          "2020-06-18",
          "2020-06-19",
          "2020-06-22",
          "2020-06-23",
          "2020-06-24",
          "2020-06-25",
          "2020-06-26",
          "2020-06-29",
          "2020-06-30",
          "2020-07-01",
          "2020-07-02",
          "2020-07-03",
          "2020-07-06",
          "2020-07-07",
          "2020-07-08",
          "2020-07-09",
          "2020-07-10",
          "2020-07-13",
          "2020-07-14",
          "2020-07-15",
          "2020-07-16",
          "2020-07-17",
          "2020-07-20",
          "2020-07-21",
          "2020-07-22",
          "2020-07-23",
          "2020-07-24",
          "2020-07-27",
          "2020-07-28",
          "2020-07-29",
          "2020-07-30",
          "2020-07-31",
          "2020-08-03",
          "2020-08-04",
          "2020-08-05",
          "2020-08-06",
          "2020-08-07",
          "2020-08-10",
          "2020-08-11",
          "2020-08-12",
          "2020-08-13",
          "2020-08-14",
          "2020-08-17",
          "2020-08-18",
          "2020-08-19",
          "2020-08-20",
          "2020-08-21",
          "2020-08-24",
          "2020-08-25",
          "2020-08-26",
          "2020-08-27",
          "2020-08-28",
          "2020-08-31",
          "2020-09-01",
          "2020-09-02",
          "2020-09-03",
          "2020-09-04",
          "2020-09-07",
          "2020-09-08",
          "2020-09-09",
          "2020-09-10",
          "2020-09-11",
          "2020-09-14",
          "2020-09-15",
          "2020-09-16",
          "2020-09-17",
          "2020-09-18",
          "2020-09-21",
          "2020-09-22",
          "2020-09-23",
          "2020-09-24",
          "2020-09-25",
          "2020-09-28",
          "2020-09-29",
          "2020-09-30",
          "2020-10-01",
          "2020-10-02",
          "2020-10-05",
          "2020-10-06",
          "2020-10-07",
          "2020-10-08",
          "2020-10-09",
          "2020-10-12",
          "2020-10-13",
          "2020-10-14",
          "2020-10-15",
          "2020-10-16",
          "2020-10-19",
          "2020-10-20",
          "2020-10-21",
          "2020-10-22",
          "2020-10-23",
          "2020-10-26",
          "2020-10-27",
          "2020-10-28",
          "2020-10-29",
          "2020-10-30",
          "2020-11-02",
          "2020-11-03",
          "2020-11-04",
          "2020-11-05",
          "2020-11-06",
          "2020-11-09",
          "2020-11-10",
          "2020-11-11",
          "2020-11-12",
          "2020-11-13",
          "2020-11-16",
          "2020-11-17",
          "2020-11-18",
          "2020-11-19",
          "2020-11-20",
          "2020-11-23",
          "2020-11-24",
          "2020-11-25",
          "2020-11-26",
          "2020-11-27",
          "2020-11-30",
          "2020-12-01",
          "2020-12-02",
          "2020-12-03",
          "2020-12-04",
          "2020-12-07",
          "2020-12-08",
          "2020-12-09",
          "2020-12-10",
          "2020-12-11",
          "2020-12-14",
          "2020-12-15",
          "2020-12-16",
          "2020-12-17",
          "2020-12-18",
          "2020-12-21",
          "2020-12-22",
          "2020-12-23",
          "2020-12-24",
          "2020-12-25",
          "2020-12-28",
          "2020-12-29",
          "2020-12-30",
          "2020-12-31",
          "2021-01-01",
          "2021-01-04",
          "2021-01-05",
          "2021-01-06",
          "2021-01-07",
          "2021-01-08",
          "2021-01-11",
          "2021-01-12",
          "2021-01-13",
          "2021-01-14",
          "2021-01-15",
          "2021-01-18",
          "2021-01-19",
          "2021-01-20",
          "2021-01-21",
          "2021-01-22",
          "2021-01-25",
          "2021-01-26",
          "2021-01-27",
          "2021-01-28",
          "2021-01-29",
          "2021-02-01",
          "2021-02-02",
          "2021-02-03",
          "2021-02-04",
          "2021-02-05",
          "2021-02-08",
          "2021-02-09",
          "2021-02-10",
          "2021-02-11",
          "2021-02-12",
          "2021-02-15",
          "2021-02-16",
          "2021-02-17",
          "2021-02-18",
          "2021-02-19",
          "2021-02-22",
          "2021-02-23",
          "2021-02-24",
          "2021-02-25",
          "2021-02-26",
          "2021-03-01",
          "2021-03-02",
          "2021-03-03",
          "2021-03-04",
          "2021-03-05",
          "2021-03-08",
          "2021-03-09",
          "2021-03-10",
          "2021-03-11",
          "2021-03-12",
          "2021-03-15",
          "2021-03-16",
          "2021-03-17",
          "2021-03-18",
          "2021-03-19",
          "2021-03-22",
          "2021-03-23",
          "2021-03-24",
          "2021-03-25",
          "2021-03-26",
          "2021-03-29",
          "2021-03-30",
          "2021-03-31",
          "2021-04-01",
          "2021-04-02",
          "2021-04-05",
          "2021-04-06",
          "2021-04-07",
          "2021-04-08",
          "2021-04-09",
          "2021-04-12",
          "2021-04-13",
          "2021-04-14",
          "2021-04-15",
          "2021-04-16",
          "2021-04-19",
          "2021-04-20",
          "2021-04-21",
          "2021-04-22",
          "2021-04-23",
          "2021-04-26",
          "2021-04-27",
          "2021-04-28",
          "2021-04-29",
          "2021-04-30",
          "2021-05-03",
          "2021-05-04",
          "2021-05-05",
          "2021-05-06",
          "2021-05-07",
          "2021-05-10",
          "2021-05-11",
          "2021-05-12",
          "2021-05-13",
          "2021-05-14",
          "2021-05-17",
          "2021-05-18",
          "2021-05-19",
          "2021-05-20",
          "2021-05-21",
          "2021-05-24",
          "2021-05-25",
          "2021-05-26",
          "2021-05-27",
          "2021-05-28",
          "2021-05-31",
          "2021-06-01",
          "2021-06-02",
          "2021-06-03",
          "2021-06-04",
          "2021-06-07",
          "2021-06-08",
          "2021-06-09",
          "2021-06-10",
          "2021-06-11",
          "2021-06-14",
          "2021-06-15",
          "2021-06-16",
          "2021-06-17",
          "2021-06-18",
          "2021-06-21",
          "2021-06-22",
          "2021-06-23",
          "2021-06-24",
          "2021-06-25",
          "2021-06-28",
          "2021-06-29",
          "2021-06-30",
          "2021-07-01",
          "2021-07-02",
          "2021-07-05",
          "2021-07-06",
          "2021-07-07",
          "2021-07-08",
          "2021-07-09",
          "2021-07-12",
          "2021-07-13",
          "2021-07-14",
          "2021-07-15",
          "2021-07-16",
          "2021-07-19",
          "2021-07-20",
          "2021-07-21",
          "2021-07-22",
          "2021-07-23",
          "2021-07-26",
          "2021-07-27",
          "2021-07-28",
          "2021-07-29",
          "2021-07-30",
          "2021-08-02",
          "2021-08-03",
          "2021-08-04",
          "2021-08-05",
          "2021-08-06",
          "2021-08-09",
          "2021-08-10",
          "2021-08-11",
          "2021-08-12",
          "2021-08-13",
          "2021-08-16",
          "2021-08-17",
          "2021-08-18",
          "2021-08-19",
          "2021-08-20",
          "2021-08-23",
          "2021-08-24",
          "2021-08-25",
          "2021-08-26",
          "2021-08-27",
          "2021-08-30",
          "2021-08-31",
          "2021-09-01",
          "2021-09-02",
          "2021-09-03",
          "2021-09-06",
          "2021-09-07",
          "2021-09-08",
          "2021-09-09",
          "2021-09-10",
          "2021-09-13",
          "2021-09-14",
          "2021-09-15",
          "2021-09-16",
          "2021-09-17",
          "2021-09-20",
          "2021-09-21",
          "2021-09-22",
          "2021-09-23",
          "2021-09-24",
          "2021-09-27",
          "2021-09-28",
          "2021-09-29",
          "2021-09-30",
          "2021-10-01",
          "2021-10-04",
          "2021-10-05",
          "2021-10-06",
          "2021-10-07",
          "2021-10-08",
          "2021-10-11",
          "2021-10-12",
          "2021-10-13",
          "2021-10-14",
          "2021-10-15",
          "2021-10-18",
          "2021-10-19",
          "2021-10-20",
          "2021-10-21",
          "2021-10-22",
          "2021-10-25",
          "2021-10-26",
          "2021-10-27",
          "2021-10-28",
          "2021-10-29",
          "2021-11-01",
          "2021-11-02",
          "2021-11-03",
          "2021-11-04",
          "2021-11-05",
          "2021-11-08",
          "2021-11-09",
          "2021-11-10",
          "2021-11-11",
          "2021-11-12",
          "2021-11-15",
          "2021-11-16",
          "2021-11-17",
          "2021-11-18",
          "2021-11-19",
          "2021-11-22",
          "2021-11-23",
          "2021-11-24",
          "2021-11-25",
          "2021-11-26",
          "2021-11-29",
          "2021-11-30",
          "2021-12-01",
          "2021-12-02",
          "2021-12-03",
          "2021-12-06",
          "2021-12-07",
          "2021-12-08",
          "2021-12-09",
          "2021-12-10",
          "2021-12-13",
          "2021-12-14",
          "2021-12-15",
          "2021-12-16",
          "2021-12-17",
          "2021-12-20",
          "2021-12-21",
          "2021-12-22",
          "2021-12-23",
          "2021-12-24",
          "2021-12-27",
          "2021-12-28",
          "2021-12-29",
          "2021-12-30",
          "2021-12-31"
         ],
         "xaxis": "x",
         "y": {
          "bdata": "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",
          "dtype": "f8"
         },
         "yaxis": "y"
        },
        {
         "fillpattern": {
          "shape": ""
         },
         "hovertemplate": "Asset=Asset3<br>Date=%{x}<br>Asset Value=%{y}<extra></extra>",
         "legendgroup": "Asset3",
         "line": {
          "color": "#00cc96"
         },
         "marker": {
          "symbol": "circle"
         },
         "mode": "lines",
         "name": "Asset3",
         "orientation": "v",
         "showlegend": true,
         "stackgroup": "1",
         "type": "scatter",
         "x": [
          "2019-01-02",
          "2019-01-03",
          "2019-01-04",
          "2019-01-07",
          "2019-01-08",
          "2019-01-09",
          "2019-01-10",
          "2019-01-11",
          "2019-01-14",
          "2019-01-15",
          "2019-01-16",
          "2019-01-17",
          "2019-01-18",
          "2019-01-21",
          "2019-01-22",
          "2019-01-23",
          "2019-01-24",
          "2019-01-25",
          "2019-01-28",
          "2019-01-29",
          "2019-01-30",
          "2019-01-31",
          "2019-02-01",
          "2019-02-04",
          "2019-02-05",
          "2019-02-06",
          "2019-02-07",
          "2019-02-08",
          "2019-02-11",
          "2019-02-12",
          "2019-02-13",
          "2019-02-14",
          "2019-02-15",
          "2019-02-18",
          "2019-02-19",
          "2019-02-20",
          "2019-02-21",
          "2019-02-22",
          "2019-02-25",
          "2019-02-26",
          "2019-02-27",
          "2019-02-28",
          "2019-03-01",
          "2019-03-04",
          "2019-03-05",
          "2019-03-06",
          "2019-03-07",
          "2019-03-08",
          "2019-03-11",
          "2019-03-12",
          "2019-03-13",
          "2019-03-14",
          "2019-03-15",
          "2019-03-18",
          "2019-03-19",
          "2019-03-20",
          "2019-03-21",
          "2019-03-22",
          "2019-03-25",
          "2019-03-26",
          "2019-03-27",
          "2019-03-28",
          "2019-03-29",
          "2019-04-01",
          "2019-04-02",
          "2019-04-03",
          "2019-04-04",
          "2019-04-05",
          "2019-04-08",
          "2019-04-09",
          "2019-04-10",
          "2019-04-11",
          "2019-04-12",
          "2019-04-15",
          "2019-04-16",
          "2019-04-17",
          "2019-04-18",
          "2019-04-19",
          "2019-04-22",
          "2019-04-23",
          "2019-04-24",
          "2019-04-25",
          "2019-04-26",
          "2019-04-29",
          "2019-04-30",
          "2019-05-01",
          "2019-05-02",
          "2019-05-03",
          "2019-05-06",
          "2019-05-07",
          "2019-05-08",
          "2019-05-09",
          "2019-05-10",
          "2019-05-13",
          "2019-05-14",
          "2019-05-15",
          "2019-05-16",
          "2019-05-17",
          "2019-05-20",
          "2019-05-21",
          "2019-05-22",
          "2019-05-23",
          "2019-05-24",
          "2019-05-27",
          "2019-05-28",
          "2019-05-29",
          "2019-05-30",
          "2019-05-31",
          "2019-06-03",
          "2019-06-04",
          "2019-06-05",
          "2019-06-06",
          "2019-06-07",
          "2019-06-10",
          "2019-06-11",
          "2019-06-12",
          "2019-06-13",
          "2019-06-14",
          "2019-06-17",
          "2019-06-18",
          "2019-06-19",
          "2019-06-20",
          "2019-06-21",
          "2019-06-24",
          "2019-06-25",
          "2019-06-26",
          "2019-06-27",
          "2019-06-28",
          "2019-07-01",
          "2019-07-02",
          "2019-07-03",
          "2019-07-04",
          "2019-07-05",
          "2019-07-08",
          "2019-07-09",
          "2019-07-10",
          "2019-07-11",
          "2019-07-12",
          "2019-07-15",
          "2019-07-16",
          "2019-07-17",
          "2019-07-18",
          "2019-07-19",
          "2019-07-22",
          "2019-07-23",
          "2019-07-24",
          "2019-07-25",
          "2019-07-26",
          "2019-07-29",
          "2019-07-30",
          "2019-07-31",
          "2019-08-01",
          "2019-08-02",
          "2019-08-05",
          "2019-08-06",
          "2019-08-07",
          "2019-08-08",
          "2019-08-09",
          "2019-08-12",
          "2019-08-13",
          "2019-08-14",
          "2019-08-15",
          "2019-08-16",
          "2019-08-19",
          "2019-08-20",
          "2019-08-21",
          "2019-08-22",
          "2019-08-23",
          "2019-08-26",
          "2019-08-27",
          "2019-08-28",
          "2019-08-29",
          "2019-08-30",
          "2019-09-02",
          "2019-09-03",
          "2019-09-04",
          "2019-09-05",
          "2019-09-06",
          "2019-09-09",
          "2019-09-10",
          "2019-09-11",
          "2019-09-12",
          "2019-09-13",
          "2019-09-16",
          "2019-09-17",
          "2019-09-18",
          "2019-09-19",
          "2019-09-20",
          "2019-09-23",
          "2019-09-24",
          "2019-09-25",
          "2019-09-26",
          "2019-09-27",
          "2019-09-30",
          "2019-10-01",
          "2019-10-02",
          "2019-10-03",
          "2019-10-04",
          "2019-10-07",
          "2019-10-08",
          "2019-10-09",
          "2019-10-10",
          "2019-10-11",
          "2019-10-14",
          "2019-10-15",
          "2019-10-16",
          "2019-10-17",
          "2019-10-18",
          "2019-10-21",
          "2019-10-22",
          "2019-10-23",
          "2019-10-24",
          "2019-10-25",
          "2019-10-28",
          "2019-10-29",
          "2019-10-30",
          "2019-10-31",
          "2019-11-01",
          "2019-11-04",
          "2019-11-05",
          "2019-11-06",
          "2019-11-07",
          "2019-11-08",
          "2019-11-11",
          "2019-11-12",
          "2019-11-13",
          "2019-11-14",
          "2019-11-15",
          "2019-11-18",
          "2019-11-19",
          "2019-11-20",
          "2019-11-21",
          "2019-11-22",
          "2019-11-25",
          "2019-11-26",
          "2019-11-27",
          "2019-11-28",
          "2019-11-29",
          "2019-12-02",
          "2019-12-03",
          "2019-12-04",
          "2019-12-05",
          "2019-12-06",
          "2019-12-09",
          "2019-12-10",
          "2019-12-11",
          "2019-12-12",
          "2019-12-13",
          "2019-12-16",
          "2019-12-17",
          "2019-12-18",
          "2019-12-19",
          "2019-12-20",
          "2019-12-23",
          "2019-12-24",
          "2019-12-25",
          "2019-12-26",
          "2019-12-27",
          "2019-12-30",
          "2019-12-31",
          "2020-01-01",
          "2020-01-02",
          "2020-01-03",
          "2020-01-06",
          "2020-01-07",
          "2020-01-08",
          "2020-01-09",
          "2020-01-10",
          "2020-01-13",
          "2020-01-14",
          "2020-01-15",
          "2020-01-16",
          "2020-01-17",
          "2020-01-20",
          "2020-01-21",
          "2020-01-22",
          "2020-01-23",
          "2020-01-24",
          "2020-01-27",
          "2020-01-28",
          "2020-01-29",
          "2020-01-30",
          "2020-01-31",
          "2020-02-03",
          "2020-02-04",
          "2020-02-05",
          "2020-02-06",
          "2020-02-07",
          "2020-02-10",
          "2020-02-11",
          "2020-02-12",
          "2020-02-13",
          "2020-02-14",
          "2020-02-17",
          "2020-02-18",
          "2020-02-19",
          "2020-02-20",
          "2020-02-21",
          "2020-02-24",
          "2020-02-25",
          "2020-02-26",
          "2020-02-27",
          "2020-02-28",
          "2020-03-02",
          "2020-03-03",
          "2020-03-04",
          "2020-03-05",
          "2020-03-06",
          "2020-03-09",
          "2020-03-10",
          "2020-03-11",
          "2020-03-12",
          "2020-03-13",
          "2020-03-16",
          "2020-03-17",
          "2020-03-18",
          "2020-03-19",
          "2020-03-20",
          "2020-03-23",
          "2020-03-24",
          "2020-03-25",
          "2020-03-26",
          "2020-03-27",
          "2020-03-30",
          "2020-03-31",
          "2020-04-01",
          "2020-04-02",
          "2020-04-03",
          "2020-04-06",
          "2020-04-07",
          "2020-04-08",
          "2020-04-09",
          "2020-04-10",
          "2020-04-13",
          "2020-04-14",
          "2020-04-15",
          "2020-04-16",
          "2020-04-17",
          "2020-04-20",
          "2020-04-21",
          "2020-04-22",
          "2020-04-23",
          "2020-04-24",
          "2020-04-27",
          "2020-04-28",
          "2020-04-29",
          "2020-04-30",
          "2020-05-01",
          "2020-05-04",
          "2020-05-05",
          "2020-05-06",
          "2020-05-07",
          "2020-05-08",
          "2020-05-11",
          "2020-05-12",
          "2020-05-13",
          "2020-05-14",
          "2020-05-15",
          "2020-05-18",
          "2020-05-19",
          "2020-05-20",
          "2020-05-21",
          "2020-05-22",
          "2020-05-25",
          "2020-05-26",
          "2020-05-27",
          "2020-05-28",
          "2020-05-29",
          "2020-06-01",
          "2020-06-02",
          "2020-06-03",
          "2020-06-04",
          "2020-06-05",
          "2020-06-08",
          "2020-06-09",
          "2020-06-10",
          "2020-06-11",
          "2020-06-12",
          "2020-06-15",
          "2020-06-16",
          "2020-06-17",
          "2020-06-18",
          "2020-06-19",
          "2020-06-22",
          "2020-06-23",
          "2020-06-24",
          "2020-06-25",
          "2020-06-26",
          "2020-06-29",
          "2020-06-30",
          "2020-07-01",
          "2020-07-02",
          "2020-07-03",
          "2020-07-06",
          "2020-07-07",
          "2020-07-08",
          "2020-07-09",
          "2020-07-10",
          "2020-07-13",
          "2020-07-14",
          "2020-07-15",
          "2020-07-16",
          "2020-07-17",
          "2020-07-20",
          "2020-07-21",
          "2020-07-22",
          "2020-07-23",
          "2020-07-24",
          "2020-07-27",
          "2020-07-28",
          "2020-07-29",
          "2020-07-30",
          "2020-07-31",
          "2020-08-03",
          "2020-08-04",
          "2020-08-05",
          "2020-08-06",
          "2020-08-07",
          "2020-08-10",
          "2020-08-11",
          "2020-08-12",
          "2020-08-13",
          "2020-08-14",
          "2020-08-17",
          "2020-08-18",
          "2020-08-19",
          "2020-08-20",
          "2020-08-21",
          "2020-08-24",
          "2020-08-25",
          "2020-08-26",
          "2020-08-27",
          "2020-08-28",
          "2020-08-31",
          "2020-09-01",
          "2020-09-02",
          "2020-09-03",
          "2020-09-04",
          "2020-09-07",
          "2020-09-08",
          "2020-09-09",
          "2020-09-10",
          "2020-09-11",
          "2020-09-14",
          "2020-09-15",
          "2020-09-16",
          "2020-09-17",
          "2020-09-18",
          "2020-09-21",
          "2020-09-22",
          "2020-09-23",
          "2020-09-24",
          "2020-09-25",
          "2020-09-28",
          "2020-09-29",
          "2020-09-30",
          "2020-10-01",
          "2020-10-02",
          "2020-10-05",
          "2020-10-06",
          "2020-10-07",
          "2020-10-08",
          "2020-10-09",
          "2020-10-12",
          "2020-10-13",
          "2020-10-14",
          "2020-10-15",
          "2020-10-16",
          "2020-10-19",
          "2020-10-20",
          "2020-10-21",
          "2020-10-22",
          "2020-10-23",
          "2020-10-26",
          "2020-10-27",
          "2020-10-28",
          "2020-10-29",
          "2020-10-30",
          "2020-11-02",
          "2020-11-03",
          "2020-11-04",
          "2020-11-05",
          "2020-11-06",
          "2020-11-09",
          "2020-11-10",
          "2020-11-11",
          "2020-11-12",
          "2020-11-13",
          "2020-11-16",
          "2020-11-17",
          "2020-11-18",
          "2020-11-19",
          "2020-11-20",
          "2020-11-23",
          "2020-11-24",
          "2020-11-25",
          "2020-11-26",
          "2020-11-27",
          "2020-11-30",
          "2020-12-01",
          "2020-12-02",
          "2020-12-03",
          "2020-12-04",
          "2020-12-07",
          "2020-12-08",
          "2020-12-09",
          "2020-12-10",
          "2020-12-11",
          "2020-12-14",
          "2020-12-15",
          "2020-12-16",
          "2020-12-17",
          "2020-12-18",
          "2020-12-21",
          "2020-12-22",
          "2020-12-23",
          "2020-12-24",
          "2020-12-25",
          "2020-12-28",
          "2020-12-29",
          "2020-12-30",
          "2020-12-31",
          "2021-01-01",
          "2021-01-04",
          "2021-01-05",
          "2021-01-06",
          "2021-01-07",
          "2021-01-08",
          "2021-01-11",
          "2021-01-12",
          "2021-01-13",
          "2021-01-14",
          "2021-01-15",
          "2021-01-18",
          "2021-01-19",
          "2021-01-20",
          "2021-01-21",
          "2021-01-22",
          "2021-01-25",
          "2021-01-26",
          "2021-01-27",
          "2021-01-28",
          "2021-01-29",
          "2021-02-01",
          "2021-02-02",
          "2021-02-03",
          "2021-02-04",
          "2021-02-05",
          "2021-02-08",
          "2021-02-09",
          "2021-02-10",
          "2021-02-11",
          "2021-02-12",
          "2021-02-15",
          "2021-02-16",
          "2021-02-17",
          "2021-02-18",
          "2021-02-19",
          "2021-02-22",
          "2021-02-23",
          "2021-02-24",
          "2021-02-25",
          "2021-02-26",
          "2021-03-01",
          "2021-03-02",
          "2021-03-03",
          "2021-03-04",
          "2021-03-05",
          "2021-03-08",
          "2021-03-09",
          "2021-03-10",
          "2021-03-11",
          "2021-03-12",
          "2021-03-15",
          "2021-03-16",
          "2021-03-17",
          "2021-03-18",
          "2021-03-19",
          "2021-03-22",
          "2021-03-23",
          "2021-03-24",
          "2021-03-25",
          "2021-03-26",
          "2021-03-29",
          "2021-03-30",
          "2021-03-31",
          "2021-04-01",
          "2021-04-02",
          "2021-04-05",
          "2021-04-06",
          "2021-04-07",
          "2021-04-08",
          "2021-04-09",
          "2021-04-12",
          "2021-04-13",
          "2021-04-14",
          "2021-04-15",
          "2021-04-16",
          "2021-04-19",
          "2021-04-20",
          "2021-04-21",
          "2021-04-22",
          "2021-04-23",
          "2021-04-26",
          "2021-04-27",
          "2021-04-28",
          "2021-04-29",
          "2021-04-30",
          "2021-05-03",
          "2021-05-04",
          "2021-05-05",
          "2021-05-06",
          "2021-05-07",
          "2021-05-10",
          "2021-05-11",
          "2021-05-12",
          "2021-05-13",
          "2021-05-14",
          "2021-05-17",
          "2021-05-18",
          "2021-05-19",
          "2021-05-20",
          "2021-05-21",
          "2021-05-24",
          "2021-05-25",
          "2021-05-26",
          "2021-05-27",
          "2021-05-28",
          "2021-05-31",
          "2021-06-01",
          "2021-06-02",
          "2021-06-03",
          "2021-06-04",
          "2021-06-07",
          "2021-06-08",
          "2021-06-09",
          "2021-06-10",
          "2021-06-11",
          "2021-06-14",
          "2021-06-15",
          "2021-06-16",
          "2021-06-17",
          "2021-06-18",
          "2021-06-21",
          "2021-06-22",
          "2021-06-23",
          "2021-06-24",
          "2021-06-25",
          "2021-06-28",
          "2021-06-29",
          "2021-06-30",
          "2021-07-01",
          "2021-07-02",
          "2021-07-05",
          "2021-07-06",
          "2021-07-07",
          "2021-07-08",
          "2021-07-09",
          "2021-07-12",
          "2021-07-13",
          "2021-07-14",
          "2021-07-15",
          "2021-07-16",
          "2021-07-19",
          "2021-07-20",
          "2021-07-21",
          "2021-07-22",
          "2021-07-23",
          "2021-07-26",
          "2021-07-27",
          "2021-07-28",
          "2021-07-29",
          "2021-07-30",
          "2021-08-02",
          "2021-08-03",
          "2021-08-04",
          "2021-08-05",
          "2021-08-06",
          "2021-08-09",
          "2021-08-10",
          "2021-08-11",
          "2021-08-12",
          "2021-08-13",
          "2021-08-16",
          "2021-08-17",
          "2021-08-18",
          "2021-08-19",
          "2021-08-20",
          "2021-08-23",
          "2021-08-24",
          "2021-08-25",
          "2021-08-26",
          "2021-08-27",
          "2021-08-30",
          "2021-08-31",
          "2021-09-01",
          "2021-09-02",
          "2021-09-03",
          "2021-09-06",
          "2021-09-07",
          "2021-09-08",
          "2021-09-09",
          "2021-09-10",
          "2021-09-13",
          "2021-09-14",
          "2021-09-15",
          "2021-09-16",
          "2021-09-17",
          "2021-09-20",
          "2021-09-21",
          "2021-09-22",
          "2021-09-23",
          "2021-09-24",
          "2021-09-27",
          "2021-09-28",
          "2021-09-29",
          "2021-09-30",
          "2021-10-01",
          "2021-10-04",
          "2021-10-05",
          "2021-10-06",
          "2021-10-07",
          "2021-10-08",
          "2021-10-11",
          "2021-10-12",
          "2021-10-13",
          "2021-10-14",
          "2021-10-15",
          "2021-10-18",
          "2021-10-19",
          "2021-10-20",
          "2021-10-21",
          "2021-10-22",
          "2021-10-25",
          "2021-10-26",
          "2021-10-27",
          "2021-10-28",
          "2021-10-29",
          "2021-11-01",
          "2021-11-02",
          "2021-11-03",
          "2021-11-04",
          "2021-11-05",
          "2021-11-08",
          "2021-11-09",
          "2021-11-10",
          "2021-11-11",
          "2021-11-12",
          "2021-11-15",
          "2021-11-16",
          "2021-11-17",
          "2021-11-18",
          "2021-11-19",
          "2021-11-22",
          "2021-11-23",
          "2021-11-24",
          "2021-11-25",
          "2021-11-26",
          "2021-11-29",
          "2021-11-30",
          "2021-12-01",
          "2021-12-02",
          "2021-12-03",
          "2021-12-06",
          "2021-12-07",
          "2021-12-08",
          "2021-12-09",
          "2021-12-10",
          "2021-12-13",
          "2021-12-14",
          "2021-12-15",
          "2021-12-16",
          "2021-12-17",
          "2021-12-20",
          "2021-12-21",
          "2021-12-22",
          "2021-12-23",
          "2021-12-24",
          "2021-12-27",
          "2021-12-28",
          "2021-12-29",
          "2021-12-30",
          "2021-12-31"
         ],
         "xaxis": "x",
         "y": {
          "bdata": "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",
          "dtype": "f8"
         },
         "yaxis": "y"
        },
        {
         "fillpattern": {
          "shape": ""
         },
         "hovertemplate": "Asset=Asset4<br>Date=%{x}<br>Asset Value=%{y}<extra></extra>",
         "legendgroup": "Asset4",
         "line": {
          "color": "#ab63fa"
         },
         "marker": {
          "symbol": "circle"
         },
         "mode": "lines",
         "name": "Asset4",
         "orientation": "v",
         "showlegend": true,
         "stackgroup": "1",
         "type": "scatter",
         "x": [
          "2019-01-02",
          "2019-01-03",
          "2019-01-04",
          "2019-01-07",
          "2019-01-08",
          "2019-01-09",
          "2019-01-10",
          "2019-01-11",
          "2019-01-14",
          "2019-01-15",
          "2019-01-16",
          "2019-01-17",
          "2019-01-18",
          "2019-01-21",
          "2019-01-22",
          "2019-01-23",
          "2019-01-24",
          "2019-01-25",
          "2019-01-28",
          "2019-01-29",
          "2019-01-30",
          "2019-01-31",
          "2019-02-01",
          "2019-02-04",
          "2019-02-05",
          "2019-02-06",
          "2019-02-07",
          "2019-02-08",
          "2019-02-11",
          "2019-02-12",
          "2019-02-13",
          "2019-02-14",
          "2019-02-15",
          "2019-02-18",
          "2019-02-19",
          "2019-02-20",
          "2019-02-21",
          "2019-02-22",
          "2019-02-25",
          "2019-02-26",
          "2019-02-27",
          "2019-02-28",
          "2019-03-01",
          "2019-03-04",
          "2019-03-05",
          "2019-03-06",
          "2019-03-07",
          "2019-03-08",
          "2019-03-11",
          "2019-03-12",
          "2019-03-13",
          "2019-03-14",
          "2019-03-15",
          "2019-03-18",
          "2019-03-19",
          "2019-03-20",
          "2019-03-21",
          "2019-03-22",
          "2019-03-25",
          "2019-03-26",
          "2019-03-27",
          "2019-03-28",
          "2019-03-29",
          "2019-04-01",
          "2019-04-02",
          "2019-04-03",
          "2019-04-04",
          "2019-04-05",
          "2019-04-08",
          "2019-04-09",
          "2019-04-10",
          "2019-04-11",
          "2019-04-12",
          "2019-04-15",
          "2019-04-16",
          "2019-04-17",
          "2019-04-18",
          "2019-04-19",
          "2019-04-22",
          "2019-04-23",
          "2019-04-24",
          "2019-04-25",
          "2019-04-26",
          "2019-04-29",
          "2019-04-30",
          "2019-05-01",
          "2019-05-02",
          "2019-05-03",
          "2019-05-06",
          "2019-05-07",
          "2019-05-08",
          "2019-05-09",
          "2019-05-10",
          "2019-05-13",
          "2019-05-14",
          "2019-05-15",
          "2019-05-16",
          "2019-05-17",
          "2019-05-20",
          "2019-05-21",
          "2019-05-22",
          "2019-05-23",
          "2019-05-24",
          "2019-05-27",
          "2019-05-28",
          "2019-05-29",
          "2019-05-30",
          "2019-05-31",
          "2019-06-03",
          "2019-06-04",
          "2019-06-05",
          "2019-06-06",
          "2019-06-07",
          "2019-06-10",
          "2019-06-11",
          "2019-06-12",
          "2019-06-13",
          "2019-06-14",
          "2019-06-17",
          "2019-06-18",
          "2019-06-19",
          "2019-06-20",
          "2019-06-21",
          "2019-06-24",
          "2019-06-25",
          "2019-06-26",
          "2019-06-27",
          "2019-06-28",
          "2019-07-01",
          "2019-07-02",
          "2019-07-03",
          "2019-07-04",
          "2019-07-05",
          "2019-07-08",
          "2019-07-09",
          "2019-07-10",
          "2019-07-11",
          "2019-07-12",
          "2019-07-15",
          "2019-07-16",
          "2019-07-17",
          "2019-07-18",
          "2019-07-19",
          "2019-07-22",
          "2019-07-23",
          "2019-07-24",
          "2019-07-25",
          "2019-07-26",
          "2019-07-29",
          "2019-07-30",
          "2019-07-31",
          "2019-08-01",
          "2019-08-02",
          "2019-08-05",
          "2019-08-06",
          "2019-08-07",
          "2019-08-08",
          "2019-08-09",
          "2019-08-12",
          "2019-08-13",
          "2019-08-14",
          "2019-08-15",
          "2019-08-16",
          "2019-08-19",
          "2019-08-20",
          "2019-08-21",
          "2019-08-22",
          "2019-08-23",
          "2019-08-26",
          "2019-08-27",
          "2019-08-28",
          "2019-08-29",
          "2019-08-30",
          "2019-09-02",
          "2019-09-03",
          "2019-09-04",
          "2019-09-05",
          "2019-09-06",
          "2019-09-09",
          "2019-09-10",
          "2019-09-11",
          "2019-09-12",
          "2019-09-13",
          "2019-09-16",
          "2019-09-17",
          "2019-09-18",
          "2019-09-19",
          "2019-09-20",
          "2019-09-23",
          "2019-09-24",
          "2019-09-25",
          "2019-09-26",
          "2019-09-27",
          "2019-09-30",
          "2019-10-01",
          "2019-10-02",
          "2019-10-03",
          "2019-10-04",
          "2019-10-07",
          "2019-10-08",
          "2019-10-09",
          "2019-10-10",
          "2019-10-11",
          "2019-10-14",
          "2019-10-15",
          "2019-10-16",
          "2019-10-17",
          "2019-10-18",
          "2019-10-21",
          "2019-10-22",
          "2019-10-23",
          "2019-10-24",
          "2019-10-25",
          "2019-10-28",
          "2019-10-29",
          "2019-10-30",
          "2019-10-31",
          "2019-11-01",
          "2019-11-04",
          "2019-11-05",
          "2019-11-06",
          "2019-11-07",
          "2019-11-08",
          "2019-11-11",
          "2019-11-12",
          "2019-11-13",
          "2019-11-14",
          "2019-11-15",
          "2019-11-18",
          "2019-11-19",
          "2019-11-20",
          "2019-11-21",
          "2019-11-22",
          "2019-11-25",
          "2019-11-26",
          "2019-11-27",
          "2019-11-28",
          "2019-11-29",
          "2019-12-02",
          "2019-12-03",
          "2019-12-04",
          "2019-12-05",
          "2019-12-06",
          "2019-12-09",
          "2019-12-10",
          "2019-12-11",
          "2019-12-12",
          "2019-12-13",
          "2019-12-16",
          "2019-12-17",
          "2019-12-18",
          "2019-12-19",
          "2019-12-20",
          "2019-12-23",
          "2019-12-24",
          "2019-12-25",
          "2019-12-26",
          "2019-12-27",
          "2019-12-30",
          "2019-12-31",
          "2020-01-01",
          "2020-01-02",
          "2020-01-03",
          "2020-01-06",
          "2020-01-07",
          "2020-01-08",
          "2020-01-09",
          "2020-01-10",
          "2020-01-13",
          "2020-01-14",
          "2020-01-15",
          "2020-01-16",
          "2020-01-17",
          "2020-01-20",
          "2020-01-21",
          "2020-01-22",
          "2020-01-23",
          "2020-01-24",
          "2020-01-27",
          "2020-01-28",
          "2020-01-29",
          "2020-01-30",
          "2020-01-31",
          "2020-02-03",
          "2020-02-04",
          "2020-02-05",
          "2020-02-06",
          "2020-02-07",
          "2020-02-10",
          "2020-02-11",
          "2020-02-12",
          "2020-02-13",
          "2020-02-14",
          "2020-02-17",
          "2020-02-18",
          "2020-02-19",
          "2020-02-20",
          "2020-02-21",
          "2020-02-24",
          "2020-02-25",
          "2020-02-26",
          "2020-02-27",
          "2020-02-28",
          "2020-03-02",
          "2020-03-03",
          "2020-03-04",
          "2020-03-05",
          "2020-03-06",
          "2020-03-09",
          "2020-03-10",
          "2020-03-11",
          "2020-03-12",
          "2020-03-13",
          "2020-03-16",
          "2020-03-17",
          "2020-03-18",
          "2020-03-19",
          "2020-03-20",
          "2020-03-23",
          "2020-03-24",
          "2020-03-25",
          "2020-03-26",
          "2020-03-27",
          "2020-03-30",
          "2020-03-31",
          "2020-04-01",
          "2020-04-02",
          "2020-04-03",
          "2020-04-06",
          "2020-04-07",
          "2020-04-08",
          "2020-04-09",
          "2020-04-10",
          "2020-04-13",
          "2020-04-14",
          "2020-04-15",
          "2020-04-16",
          "2020-04-17",
          "2020-04-20",
          "2020-04-21",
          "2020-04-22",
          "2020-04-23",
          "2020-04-24",
          "2020-04-27",
          "2020-04-28",
          "2020-04-29",
          "2020-04-30",
          "2020-05-01",
          "2020-05-04",
          "2020-05-05",
          "2020-05-06",
          "2020-05-07",
          "2020-05-08",
          "2020-05-11",
          "2020-05-12",
          "2020-05-13",
          "2020-05-14",
          "2020-05-15",
          "2020-05-18",
          "2020-05-19",
          "2020-05-20",
          "2020-05-21",
          "2020-05-22",
          "2020-05-25",
          "2020-05-26",
          "2020-05-27",
          "2020-05-28",
          "2020-05-29",
          "2020-06-01",
          "2020-06-02",
          "2020-06-03",
          "2020-06-04",
          "2020-06-05",
          "2020-06-08",
          "2020-06-09",
          "2020-06-10",
          "2020-06-11",
          "2020-06-12",
          "2020-06-15",
          "2020-06-16",
          "2020-06-17",
          "2020-06-18",
          "2020-06-19",
          "2020-06-22",
          "2020-06-23",
          "2020-06-24",
          "2020-06-25",
          "2020-06-26",
          "2020-06-29",
          "2020-06-30",
          "2020-07-01",
          "2020-07-02",
          "2020-07-03",
          "2020-07-06",
          "2020-07-07",
          "2020-07-08",
          "2020-07-09",
          "2020-07-10",
          "2020-07-13",
          "2020-07-14",
          "2020-07-15",
          "2020-07-16",
          "2020-07-17",
          "2020-07-20",
          "2020-07-21",
          "2020-07-22",
          "2020-07-23",
          "2020-07-24",
          "2020-07-27",
          "2020-07-28",
          "2020-07-29",
          "2020-07-30",
          "2020-07-31",
          "2020-08-03",
          "2020-08-04",
          "2020-08-05",
          "2020-08-06",
          "2020-08-07",
          "2020-08-10",
          "2020-08-11",
          "2020-08-12",
          "2020-08-13",
          "2020-08-14",
          "2020-08-17",
          "2020-08-18",
          "2020-08-19",
          "2020-08-20",
          "2020-08-21",
          "2020-08-24",
          "2020-08-25",
          "2020-08-26",
          "2020-08-27",
          "2020-08-28",
          "2020-08-31",
          "2020-09-01",
          "2020-09-02",
          "2020-09-03",
          "2020-09-04",
          "2020-09-07",
          "2020-09-08",
          "2020-09-09",
          "2020-09-10",
          "2020-09-11",
          "2020-09-14",
          "2020-09-15",
          "2020-09-16",
          "2020-09-17",
          "2020-09-18",
          "2020-09-21",
          "2020-09-22",
          "2020-09-23",
          "2020-09-24",
          "2020-09-25",
          "2020-09-28",
          "2020-09-29",
          "2020-09-30",
          "2020-10-01",
          "2020-10-02",
          "2020-10-05",
          "2020-10-06",
          "2020-10-07",
          "2020-10-08",
          "2020-10-09",
          "2020-10-12",
          "2020-10-13",
          "2020-10-14",
          "2020-10-15",
          "2020-10-16",
          "2020-10-19",
          "2020-10-20",
          "2020-10-21",
          "2020-10-22",
          "2020-10-23",
          "2020-10-26",
          "2020-10-27",
          "2020-10-28",
          "2020-10-29",
          "2020-10-30",
          "2020-11-02",
          "2020-11-03",
          "2020-11-04",
          "2020-11-05",
          "2020-11-06",
          "2020-11-09",
          "2020-11-10",
          "2020-11-11",
          "2020-11-12",
          "2020-11-13",
          "2020-11-16",
          "2020-11-17",
          "2020-11-18",
          "2020-11-19",
          "2020-11-20",
          "2020-11-23",
          "2020-11-24",
          "2020-11-25",
          "2020-11-26",
          "2020-11-27",
          "2020-11-30",
          "2020-12-01",
          "2020-12-02",
          "2020-12-03",
          "2020-12-04",
          "2020-12-07",
          "2020-12-08",
          "2020-12-09",
          "2020-12-10",
          "2020-12-11",
          "2020-12-14",
          "2020-12-15",
          "2020-12-16",
          "2020-12-17",
          "2020-12-18",
          "2020-12-21",
          "2020-12-22",
          "2020-12-23",
          "2020-12-24",
          "2020-12-25",
          "2020-12-28",
          "2020-12-29",
          "2020-12-30",
          "2020-12-31",
          "2021-01-01",
          "2021-01-04",
          "2021-01-05",
          "2021-01-06",
          "2021-01-07",
          "2021-01-08",
          "2021-01-11",
          "2021-01-12",
          "2021-01-13",
          "2021-01-14",
          "2021-01-15",
          "2021-01-18",
          "2021-01-19",
          "2021-01-20",
          "2021-01-21",
          "2021-01-22",
          "2021-01-25",
          "2021-01-26",
          "2021-01-27",
          "2021-01-28",
          "2021-01-29",
          "2021-02-01",
          "2021-02-02",
          "2021-02-03",
          "2021-02-04",
          "2021-02-05",
          "2021-02-08",
          "2021-02-09",
          "2021-02-10",
          "2021-02-11",
          "2021-02-12",
          "2021-02-15",
          "2021-02-16",
          "2021-02-17",
          "2021-02-18",
          "2021-02-19",
          "2021-02-22",
          "2021-02-23",
          "2021-02-24",
          "2021-02-25",
          "2021-02-26",
          "2021-03-01",
          "2021-03-02",
          "2021-03-03",
          "2021-03-04",
          "2021-03-05",
          "2021-03-08",
          "2021-03-09",
          "2021-03-10",
          "2021-03-11",
          "2021-03-12",
          "2021-03-15",
          "2021-03-16",
          "2021-03-17",
          "2021-03-18",
          "2021-03-19",
          "2021-03-22",
          "2021-03-23",
          "2021-03-24",
          "2021-03-25",
          "2021-03-26",
          "2021-03-29",
          "2021-03-30",
          "2021-03-31",
          "2021-04-01",
          "2021-04-02",
          "2021-04-05",
          "2021-04-06",
          "2021-04-07",
          "2021-04-08",
          "2021-04-09",
          "2021-04-12",
          "2021-04-13",
          "2021-04-14",
          "2021-04-15",
          "2021-04-16",
          "2021-04-19",
          "2021-04-20",
          "2021-04-21",
          "2021-04-22",
          "2021-04-23",
          "2021-04-26",
          "2021-04-27",
          "2021-04-28",
          "2021-04-29",
          "2021-04-30",
          "2021-05-03",
          "2021-05-04",
          "2021-05-05",
          "2021-05-06",
          "2021-05-07",
          "2021-05-10",
          "2021-05-11",
          "2021-05-12",
          "2021-05-13",
          "2021-05-14",
          "2021-05-17",
          "2021-05-18",
          "2021-05-19",
          "2021-05-20",
          "2021-05-21",
          "2021-05-24",
          "2021-05-25",
          "2021-05-26",
          "2021-05-27",
          "2021-05-28",
          "2021-05-31",
          "2021-06-01",
          "2021-06-02",
          "2021-06-03",
          "2021-06-04",
          "2021-06-07",
          "2021-06-08",
          "2021-06-09",
          "2021-06-10",
          "2021-06-11",
          "2021-06-14",
          "2021-06-15",
          "2021-06-16",
          "2021-06-17",
          "2021-06-18",
          "2021-06-21",
          "2021-06-22",
          "2021-06-23",
          "2021-06-24",
          "2021-06-25",
          "2021-06-28",
          "2021-06-29",
          "2021-06-30",
          "2021-07-01",
          "2021-07-02",
          "2021-07-05",
          "2021-07-06",
          "2021-07-07",
          "2021-07-08",
          "2021-07-09",
          "2021-07-12",
          "2021-07-13",
          "2021-07-14",
          "2021-07-15",
          "2021-07-16",
          "2021-07-19",
          "2021-07-20",
          "2021-07-21",
          "2021-07-22",
          "2021-07-23",
          "2021-07-26",
          "2021-07-27",
          "2021-07-28",
          "2021-07-29",
          "2021-07-30",
          "2021-08-02",
          "2021-08-03",
          "2021-08-04",
          "2021-08-05",
          "2021-08-06",
          "2021-08-09",
          "2021-08-10",
          "2021-08-11",
          "2021-08-12",
          "2021-08-13",
          "2021-08-16",
          "2021-08-17",
          "2021-08-18",
          "2021-08-19",
          "2021-08-20",
          "2021-08-23",
          "2021-08-24",
          "2021-08-25",
          "2021-08-26",
          "2021-08-27",
          "2021-08-30",
          "2021-08-31",
          "2021-09-01",
          "2021-09-02",
          "2021-09-03",
          "2021-09-06",
          "2021-09-07",
          "2021-09-08",
          "2021-09-09",
          "2021-09-10",
          "2021-09-13",
          "2021-09-14",
          "2021-09-15",
          "2021-09-16",
          "2021-09-17",
          "2021-09-20",
          "2021-09-21",
          "2021-09-22",
          "2021-09-23",
          "2021-09-24",
          "2021-09-27",
          "2021-09-28",
          "2021-09-29",
          "2021-09-30",
          "2021-10-01",
          "2021-10-04",
          "2021-10-05",
          "2021-10-06",
          "2021-10-07",
          "2021-10-08",
          "2021-10-11",
          "2021-10-12",
          "2021-10-13",
          "2021-10-14",
          "2021-10-15",
          "2021-10-18",
          "2021-10-19",
          "2021-10-20",
          "2021-10-21",
          "2021-10-22",
          "2021-10-25",
          "2021-10-26",
          "2021-10-27",
          "2021-10-28",
          "2021-10-29",
          "2021-11-01",
          "2021-11-02",
          "2021-11-03",
          "2021-11-04",
          "2021-11-05",
          "2021-11-08",
          "2021-11-09",
          "2021-11-10",
          "2021-11-11",
          "2021-11-12",
          "2021-11-15",
          "2021-11-16",
          "2021-11-17",
          "2021-11-18",
          "2021-11-19",
          "2021-11-22",
          "2021-11-23",
          "2021-11-24",
          "2021-11-25",
          "2021-11-26",
          "2021-11-29",
          "2021-11-30",
          "2021-12-01",
          "2021-12-02",
          "2021-12-03",
          "2021-12-06",
          "2021-12-07",
          "2021-12-08",
          "2021-12-09",
          "2021-12-10",
          "2021-12-13",
          "2021-12-14",
          "2021-12-15",
          "2021-12-16",
          "2021-12-17",
          "2021-12-20",
          "2021-12-21",
          "2021-12-22",
          "2021-12-23",
          "2021-12-24",
          "2021-12-27",
          "2021-12-28",
          "2021-12-29",
          "2021-12-30",
          "2021-12-31"
         ],
         "xaxis": "x",
         "y": {
          "bdata": "Pbl3zch6zT89uXfNyHrNPz25d83Ies0/Pbl3zch6zT89uXfNyHrNPz25d83Ies0/Pbl3zch6zT89uXfNyHrNPz25d83Ies0/Pbl3zch6zT89uXfNyHrNPz25d83Ies0/Pbl3zch6zT89uXfNyHrNPz25d83Ies0/Pbl3zch6zT89uXfNyHrNPz25d83Ies0/Pbl3zch6zT89uXfNyHrNPz25d83Ies0/Pbl3zch6zT89uXfNyHrNPz25d83Ies0/Pbl3zch6zT89uXfNyHrNPz25d83Ies0/Pbl3zch6zT89uXfNyHrNPz25d83Ies0/Pbl3zch6zT89uXfNyHrNPz25d83Ies0/Pbl3zch6zT89uXfNyHrNPz25d83Ies0/Pbl3zch6zT89uXfNyHrNPz25d83Ies0/Pbl3zch6zT89uXfNyHrNPz25d83Ies0/Pbl3zch6zT89uXfNyHrNPz25d83Ies0/Pbl3zch6zT89uXfNyHrNPz25d83Ies0/Pbl3zch6zT89uXfNyHrNPz25d83Ies0/Pbl3zch6zT89uXfNyHrNPz25d83Ies0/Pbl3zch6zT89uXfNyHrNPz25d83Ies0/Pbl3zch6zT89uXfNyHrNPz25d83Ies0/Pbl3zch6zT89uXfNyHrNPz25d83Ies0/Pbl3zch6zT89uXfNyHrNPz25d83Ies0/Pbl3zch6zT89uXfNyHrNPz25d83Ies0/Pbl3zch6zT89uXfNyHrNPz25d83Ies0/Pbl3zch6zT89uXfNyHrNPz25d83Ies0/Pbl3zch6zT89uXfNyHrNPz25d83Ies0/Pbl3zch6zT89uXfNyHrNPz25d83Ies0/Pbl3zch6zT89uXfNyHrNPz25d83Ies0/Pbl3zch6zT89uXfNyHrNPz25d83Ies0/Pbl3zch6zT89uXfNyHrNPz25d83Ies0/Pbl3zch6zT89uXfNyHrNPz25d83Ies0/Pbl3zch6zT89uXfNyHrNPz25d83Ies0/Pbl3zch6zT89uXfNyHrNPz25d83Ies0/Pbl3zch6zT89uXfNyHrNPz25d83Ies0/Pbl3zch6zT89uXfNyHrNPz25d83Ies0/Pbl3zch6zT89uXfNyHrNPz25d83Ies0/Pbl3zch6zT89uXfNyHrNPz25d83Ies0/Pbl3zch6zT89uXfNyHrNPz25d83Ies0/Pbl3zch6zT89uXfNyHrNPz25d83Ies0/Pbl3zch6zT89uXfNyHrNPz25d83Ies0/Pbl3zch6zT89uXfNyHrNPz25d83Ies0/Pbl3zch6zT89uXfNyHrNPz25d83Ies0/Pbl3zch6zT89uXfNyHrNPz25d83Ies0/Pbl3zch6zT89uXfNyHrNPz25d83Ies0/Pbl3zch6zT89uXfNyHrNPz25d83Ies0/Pbl3zch6zT89uXfNyHrNPz25d83Ies0/Pbl3zch6zT89uXfNyHrNPz25d83Ies0/Pbl3zch6zT89uXfNyHrNPz25d83Ies0/Pbl3zch6zT89uXfNyHrNPz25d83Ies0/Pbl3zch6zT89uXfNyHrNPz25d83Ies0/Pbl3zch6zT89uXfNyHrNPz25d83Ies0/Pbl3zch6zT89uXfNyHrNPz25d83Ies0/Pbl3zch6zT89uXfNyHrNPz25d83Ies0/Pbl3zch6zT89uXfNyHrNPz25d83Ies0/Pbl3zch6zT89uXfNyHrNPz25d83Ies0/Pbl3zch6zT89uXfNyHrNPz25d83Ies0/Pbl3zch6zT89uXfNyHrNPz25d83Ies0/Pbl3zch6zT89uXfNyHrNPz25d83Ies0/Pbl3zch6zT89uXfNyHrNPz25d83Ies0/Pbl3zch6zT89uXfNyHrNPz25d83Ies0/Pbl3zch6zT89uXfNyHrNPz25d83Ies0/Pbl3zch6zT89uXfNyHrNPz25d83Ies0/Pbl3zch6zT89uXfNyHrNPz25d83Ies0/Pbl3zch6zT89uXfNyHrNPz25d83Ies0/Pbl3zch6zT89uXfNyHrNPz25d83Ies0/Pbl3zch6zT89uXfNyHrNPz25d83Ies0/Pbl3zch6zT89uXfNyHrNPz25d83Ies0/Pbl3zch6zT89uXfNyHrNPz25d83Ies0/Pbl3zch6zT89uXfNyHrNPz25d83Ies0/Pbl3zch6zT89uXfNyHrNPz25d83Ies0/Pbl3zch6zT89uXfNyHrNPz25d83Ies0/Pbl3zch6zT89uXfNyHrNPz25d83Ies0/Pbl3zch6zT89uXfNyHrNPz25d83Ies0/Pbl3zch6zT89uXfNyHrNPz25d83Ies0/Pbl3zch6zT89uXfNyHrNPz25d83Ies0/Pbl3zch6zT89uXfNyHrNPz25d83Ies0/Pbl3zch6zT89uXfNyHrNPz25d83Ies0/Pbl3zch6zT89uXfNyHrNPz25d83Ies0/Pbl3zch6zT89uXfNyHrNPz25d83Ies0/Pbl3zch6zT89uXfNyHrNPz25d83Ies0/Pbl3zch6zT89uXfNyHrNPz25d83Ies0/Pbl3zch6zT89uXfNyHrNPz25d83Ies0/Pbl3zch6zT89uXfNyHrNPz25d83Ies0/Pbl3zch6zT89uXfNyHrNPz25d83Ies0/Pbl3zch6zT89uXfNyHrNPz25d83Ies0/Pbl3zch6zT89uXfNyHrNPz25d83Ies0/Pbl3zch6zT89uXfNyHrNP4WLVwnsxMc/hYtXCezExz+Fi1cJ7MTHP4WLVwnsxMc/hYtXCezExz+Fi1cJ7MTHP4WLVwnsxMc/hYtXCezExz+Fi1cJ7MTHP4WLVwnsxMc/hYtXCezExz+Fi1cJ7MTHP4WLVwnsxMc/hYtXCezExz+Fi1cJ7MTHP4WLVwnsxMc/hYtXCezExz+Fi1cJ7MTHP4WLVwnsxMc/hYtXCezExz+Fi1cJ7MTHP4WLVwnsxMc/hYtXCezExz+Fi1cJ7MTHP4WLVwnsxMc/hYtXCezExz+Fi1cJ7MTHP4WLVwnsxMc/hYtXCezExz+Fi1cJ7MTHP4WLVwnsxMc/hYtXCezExz+Fi1cJ7MTHP4WLVwnsxMc/hYtXCezExz+Fi1cJ7MTHP4WLVwnsxMc/hYtXCezExz+Fi1cJ7MTHP4WLVwnsxMc/hYtXCezExz+Fi1cJ7MTHP4WLVwnsxMc/hYtXCezExz+Fi1cJ7MTHP4WLVwnsxMc/hYtXCezExz+Fi1cJ7MTHP4WLVwnsxMc/hYtXCezExz+Fi1cJ7MTHP4WLVwnsxMc/hYtXCezExz+Fi1cJ7MTHP4WLVwnsxMc/hYtXCezExz+Fi1cJ7MTHP4WLVwnsxMc/hYtXCezExz+Fi1cJ7MTHP4WLVwnsxMc/hYtXCezExz+Fi1cJ7MTHP4WLVwnsxMc/hYtXCezExz+Fi1cJ7MTHP4WLVwnsxMc/hYtXCezExz+Fi1cJ7MTHP4WLVwnsxMc/hYtXCezExz+Fi1cJ7MTHP4WLVwnsxMc/hYtXCezExz+Fi1cJ7MTHP4WLVwnsxMc/hYtXCezExz+Fi1cJ7MTHP4WLVwnsxMc/hYtXCezExz+Fi1cJ7MTHP4WLVwnsxMc/hYtXCezExz+Fi1cJ7MTHP4WLVwnsxMc/hYtXCezExz+Fi1cJ7MTHP4WLVwnsxMc/hYtXCezExz+Fi1cJ7MTHP4WLVwnsxMc/hYtXCezExz+Fi1cJ7MTHP4WLVwnsxMc/hYtXCezExz+Fi1cJ7MTHP4WLVwnsxMc/hYtXCezExz+Fi1cJ7MTHP4WLVwnsxMc/hYtXCezExz+Fi1cJ7MTHP4WLVwnsxMc/hYtXCezExz+Fi1cJ7MTHP4WLVwnsxMc/hYtXCezExz+Fi1cJ7MTHP4WLVwnsxMc/hYtXCezExz+Fi1cJ7MTHP4WLVwnsxMc/hYtXCezExz+Fi1cJ7MTHP4WLVwnsxMc/hYtXCezExz+Fi1cJ7MTHP4WLVwnsxMc/hYtXCezExz+Fi1cJ7MTHP4WLVwnsxMc/hYtXCezExz+Fi1cJ7MTHP4WLVwnsxMc/hYtXCezExz+Fi1cJ7MTHP4WLVwnsxMc/hYtXCezExz+Fi1cJ7MTHP4WLVwnsxMc/hYtXCezExz+Fi1cJ7MTHP4WLVwnsxMc/hYtXCezExz+Fi1cJ7MTHP4WLVwnsxMc/hYtXCezExz+Fi1cJ7MTHP4WLVwnsxMc/hYtXCezExz+Fi1cJ7MTHP4WLVwnsxMc/hYtXCezExz+Fi1cJ7MTHP4WLVwnsxMc/hYtXCezExz+Fi1cJ7MTHP4WLVwnsxMc/hYtXCezExz+Fi1cJ7MTHP4WLVwnsxMc/hYtXCezExz+Fi1cJ7MTHP4WLVwnsxMc/hYtXCezExz+Fi1cJ7MTHP4WLVwnsxMc/hYtXCezExz+Fi1cJ7MTHP4WLVwnsxMc/hYtXCezExz+Fi1cJ7MTHP4WLVwnsxMc/hYtXCezExz+Fi1cJ7MTHP4WLVwnsxMc/hYtXCezExz+Fi1cJ7MTHP4WLVwnsxMc/hYtXCezExz+Fi1cJ7MTHP4WLVwnsxMc/hYtXCezExz+Fi1cJ7MTHP4WLVwnsxMc/hYtXCezExz+Fi1cJ7MTHP4WLVwnsxMc/hYtXCezExz+Fi1cJ7MTHP4WLVwnsxMc/hYtXCezExz+Fi1cJ7MTHP4WLVwnsxMc/hYtXCezExz+Fi1cJ7MTHP4WLVwnsxMc/hYtXCezExz+Fi1cJ7MTHP4WLVwnsxMc/hYtXCezExz+Fi1cJ7MTHP4WLVwnsxMc/hYtXCezExz+Fi1cJ7MTHP4WLVwnsxMc/hYtXCezExz+Fi1cJ7MTHP4WLVwnsxMc/hYtXCezExz+Fi1cJ7MTHP4WLVwnsxMc/hYtXCezExz+Fi1cJ7MTHP4WLVwnsxMc/hYtXCezExz+Fi1cJ7MTHP4WLVwnsxMc/hYtXCezExz+Fi1cJ7MTHP4WLVwnsxMc/hYtXCezExz+Fi1cJ7MTHP4WLVwnsxMc/hYtXCezExz+Fi1cJ7MTHP4WLVwnsxMc/hYtXCezExz+Fi1cJ7MTHP4WLVwnsxMc/hYtXCezExz+Fi1cJ7MTHP4WLVwnsxMc/hYtXCezExz+Fi1cJ7MTHP4WLVwnsxMc/hYtXCezExz+Fi1cJ7MTHP4WLVwnsxMc/hYtXCezExz+Fi1cJ7MTHP4WLVwnsxMc/hYtXCezExz+Fi1cJ7MTHP4WLVwnsxMc/hYtXCezExz+Fi1cJ7MTHP4WLVwnsxMc/hYtXCezExz+Fi1cJ7MTHP4WLVwnsxMc/hYtXCezExz+Fi1cJ7MTHP4WLVwnsxMc/hYtXCezExz+Fi1cJ7MTHP4WLVwnsxMc/hYtXCezExz+Fi1cJ7MTHP4WLVwnsxMc/hYtXCezExz+Fi1cJ7MTHP4WLVwnsxMc/hYtXCezExz+Fi1cJ7MTHP4WLVwnsxMc/hYtXCezExz+Fi1cJ7MTHP4WLVwnsxMc/hYtXCezExz+Fi1cJ7MTHP4WLVwnsxMc/NB7+11V41T80Hv7XVXjVPzQe/tdVeNU/NB7+11V41T80Hv7XVXjVPzQe/tdVeNU/NB7+11V41T80Hv7XVXjVPzQe/tdVeNU/NB7+11V41T80Hv7XVXjVPzQe/tdVeNU/NB7+11V41T80Hv7XVXjVPzQe/tdVeNU/NB7+11V41T80Hv7XVXjVPzQe/tdVeNU/NB7+11V41T80Hv7XVXjVPzQe/tdVeNU/NB7+11V41T80Hv7XVXjVPzQe/tdVeNU/NB7+11V41T80Hv7XVXjVPzQe/tdVeNU/NB7+11V41T80Hv7XVXjVPzQe/tdVeNU/NB7+11V41T80Hv7XVXjVPzQe/tdVeNU/NB7+11V41T80Hv7XVXjVPzQe/tdVeNU/NB7+11V41T80Hv7XVXjVPzQe/tdVeNU/NB7+11V41T80Hv7XVXjVPzQe/tdVeNU/NB7+11V41T80Hv7XVXjVPzQe/tdVeNU/NB7+11V41T80Hv7XVXjVPzQe/tdVeNU/NB7+11V41T80Hv7XVXjVPzQe/tdVeNU/NB7+11V41T80Hv7XVXjVPzQe/tdVeNU/NB7+11V41T80Hv7XVXjVPzQe/tdVeNU/NB7+11V41T80Hv7XVXjVPzQe/tdVeNU/NB7+11V41T80Hv7XVXjVPzQe/tdVeNU/NB7+11V41T80Hv7XVXjVPzQe/tdVeNU/NB7+11V41T80Hv7XVXjVPzQe/tdVeNU/NB7+11V41T80Hv7XVXjVPzQe/tdVeNU/NB7+11V41T80Hv7XVXjVPzQe/tdVeNU/NB7+11V41T80Hv7XVXjVPzQe/tdVeNU/NB7+11V41T80Hv7XVXjVPzQe/tdVeNU/NB7+11V41T80Hv7XVXjVPzQe/tdVeNU/NB7+11V41T80Hv7XVXjVPzQe/tdVeNU/NB7+11V41T80Hv7XVXjVPzQe/tdVeNU/NB7+11V41T80Hv7XVXjVPzQe/tdVeNU/NB7+11V41T80Hv7XVXjVPzQe/tdVeNU/NB7+11V41T80Hv7XVXjVPzQe/tdVeNU/NB7+11V41T80Hv7XVXjVPzQe/tdVeNU/NB7+11V41T80Hv7XVXjVPzQe/tdVeNU/NB7+11V41T80Hv7XVXjVPzQe/tdVeNU/NB7+11V41T80Hv7XVXjVPzQe/tdVeNU/NB7+11V41T80Hv7XVXjVPzQe/tdVeNU/NB7+11V41T80Hv7XVXjVPzQe/tdVeNU/NB7+11V41T80Hv7XVXjVPzQe/tdVeNU/NB7+11V41T80Hv7XVXjVPzQe/tdVeNU/NB7+11V41T80Hv7XVXjVPzQe/tdVeNU/NB7+11V41T80Hv7XVXjVPzQe/tdVeNU/NB7+11V41T80Hv7XVXjVPzQe/tdVeNU/NB7+11V41T80Hv7XVXjVPzQe/tdVeNU/NB7+11V41T80Hv7XVXjVPzQe/tdVeNU/NB7+11V41T80Hv7XVXjVPzQe/tdVeNU/NB7+11V41T80Hv7XVXjVPzQe/tdVeNU/NB7+11V41T80Hv7XVXjVPzQe/tdVeNU/NB7+11V41T80Hv7XVXjVPzQe/tdVeNU/NB7+11V41T80Hv7XVXjVPzQe/tdVeNU/NB7+11V41T80Hv7XVXjVPzQe/tdVeNU/NB7+11V41T80Hv7XVXjVPzQe/tdVeNU/NB7+11V41T80Hv7XVXjVPzQe/tdVeNU/NB7+11V41T80Hv7XVXjVPzQe/tdVeNU/NB7+11V41T80Hv7XVXjVPzQe/tdVeNU/NB7+11V41T80Hv7XVXjVPzQe/tdVeNU/NB7+11V41T80Hv7XVXjVPzQe/tdVeNU/NB7+11V41T80Hv7XVXjVPzQe/tdVeNU/NB7+11V41T80Hv7XVXjVPzQe/tdVeNU/NB7+11V41T80Hv7XVXjVPzQe/tdVeNU/NB7+11V41T80Hv7XVXjVPzQe/tdVeNU/NB7+11V41T80Hv7XVXjVPzQe/tdVeNU/NB7+11V41T80Hv7XVXjVPzQe/tdVeNU/NB7+11V41T80Hv7XVXjVPzQe/tdVeNU/NB7+11V41T80Hv7XVXjVPzQe/tdVeNU/NB7+11V41T80Hv7XVXjVPzQe/tdVeNU/NB7+11V41T80Hv7XVXjVPzQe/tdVeNU/NB7+11V41T80Hv7XVXjVPzQe/tdVeNU/NB7+11V41T80Hv7XVXjVPzQe/tdVeNU/NB7+11V41T80Hv7XVXjVPzQe/tdVeNU/NB7+11V41T80Hv7XVXjVPzQe/tdVeNU/NB7+11V41T80Hv7XVXjVPzQe/tdVeNU/NB7+11V41T80Hv7XVXjVPzQe/tdVeNU/NB7+11V41T80Hv7XVXjVPzQe/tdVeNU/NB7+11V41T80Hv7XVXjVPzQe/tdVeNU/NB7+11V41T80Hv7XVXjVPzQe/tdVeNU/NB7+11V41T80Hv7XVXjVPzQe/tdVeNU/NB7+11V41T80Hv7XVXjVPzQe/tdVeNU/NB7+11V41T80Hv7XVXjVPzQe/tdVeNU/NB7+11V41T80Hv7XVXjVPzQe/tdVeNU/NB7+11V41T80Hv7XVXjVPzQe/tdVeNU/NB7+11V41T80Hv7XVXjVPzQe/tdVeNU/NB7+11V41T80Hv7XVXjVPzQe/tdVeNU/NB7+11V41T80Hv7XVXjVPzQe/tdVeNU/NB7+11V41T80Hv7XVXjVPzQe/tdVeNU/NB7+11V41T80Hv7XVXjVPzQe/tdVeNU/",
          "dtype": "f8"
         },
         "yaxis": "y"
        },
        {
         "fillpattern": {
          "shape": ""
         },
         "hovertemplate": "Asset=Asset5<br>Date=%{x}<br>Asset Value=%{y}<extra></extra>",
         "legendgroup": "Asset5",
         "line": {
          "color": "#FFA15A"
         },
         "marker": {
          "symbol": "circle"
         },
         "mode": "lines",
         "name": "Asset5",
         "orientation": "v",
         "showlegend": true,
         "stackgroup": "1",
         "type": "scatter",
         "x": [
          "2019-01-02",
          "2019-01-03",
          "2019-01-04",
          "2019-01-07",
          "2019-01-08",
          "2019-01-09",
          "2019-01-10",
          "2019-01-11",
          "2019-01-14",
          "2019-01-15",
          "2019-01-16",
          "2019-01-17",
          "2019-01-18",
          "2019-01-21",
          "2019-01-22",
          "2019-01-23",
          "2019-01-24",
          "2019-01-25",
          "2019-01-28",
          "2019-01-29",
          "2019-01-30",
          "2019-01-31",
          "2019-02-01",
          "2019-02-04",
          "2019-02-05",
          "2019-02-06",
          "2019-02-07",
          "2019-02-08",
          "2019-02-11",
          "2019-02-12",
          "2019-02-13",
          "2019-02-14",
          "2019-02-15",
          "2019-02-18",
          "2019-02-19",
          "2019-02-20",
          "2019-02-21",
          "2019-02-22",
          "2019-02-25",
          "2019-02-26",
          "2019-02-27",
          "2019-02-28",
          "2019-03-01",
          "2019-03-04",
          "2019-03-05",
          "2019-03-06",
          "2019-03-07",
          "2019-03-08",
          "2019-03-11",
          "2019-03-12",
          "2019-03-13",
          "2019-03-14",
          "2019-03-15",
          "2019-03-18",
          "2019-03-19",
          "2019-03-20",
          "2019-03-21",
          "2019-03-22",
          "2019-03-25",
          "2019-03-26",
          "2019-03-27",
          "2019-03-28",
          "2019-03-29",
          "2019-04-01",
          "2019-04-02",
          "2019-04-03",
          "2019-04-04",
          "2019-04-05",
          "2019-04-08",
          "2019-04-09",
          "2019-04-10",
          "2019-04-11",
          "2019-04-12",
          "2019-04-15",
          "2019-04-16",
          "2019-04-17",
          "2019-04-18",
          "2019-04-19",
          "2019-04-22",
          "2019-04-23",
          "2019-04-24",
          "2019-04-25",
          "2019-04-26",
          "2019-04-29",
          "2019-04-30",
          "2019-05-01",
          "2019-05-02",
          "2019-05-03",
          "2019-05-06",
          "2019-05-07",
          "2019-05-08",
          "2019-05-09",
          "2019-05-10",
          "2019-05-13",
          "2019-05-14",
          "2019-05-15",
          "2019-05-16",
          "2019-05-17",
          "2019-05-20",
          "2019-05-21",
          "2019-05-22",
          "2019-05-23",
          "2019-05-24",
          "2019-05-27",
          "2019-05-28",
          "2019-05-29",
          "2019-05-30",
          "2019-05-31",
          "2019-06-03",
          "2019-06-04",
          "2019-06-05",
          "2019-06-06",
          "2019-06-07",
          "2019-06-10",
          "2019-06-11",
          "2019-06-12",
          "2019-06-13",
          "2019-06-14",
          "2019-06-17",
          "2019-06-18",
          "2019-06-19",
          "2019-06-20",
          "2019-06-21",
          "2019-06-24",
          "2019-06-25",
          "2019-06-26",
          "2019-06-27",
          "2019-06-28",
          "2019-07-01",
          "2019-07-02",
          "2019-07-03",
          "2019-07-04",
          "2019-07-05",
          "2019-07-08",
          "2019-07-09",
          "2019-07-10",
          "2019-07-11",
          "2019-07-12",
          "2019-07-15",
          "2019-07-16",
          "2019-07-17",
          "2019-07-18",
          "2019-07-19",
          "2019-07-22",
          "2019-07-23",
          "2019-07-24",
          "2019-07-25",
          "2019-07-26",
          "2019-07-29",
          "2019-07-30",
          "2019-07-31",
          "2019-08-01",
          "2019-08-02",
          "2019-08-05",
          "2019-08-06",
          "2019-08-07",
          "2019-08-08",
          "2019-08-09",
          "2019-08-12",
          "2019-08-13",
          "2019-08-14",
          "2019-08-15",
          "2019-08-16",
          "2019-08-19",
          "2019-08-20",
          "2019-08-21",
          "2019-08-22",
          "2019-08-23",
          "2019-08-26",
          "2019-08-27",
          "2019-08-28",
          "2019-08-29",
          "2019-08-30",
          "2019-09-02",
          "2019-09-03",
          "2019-09-04",
          "2019-09-05",
          "2019-09-06",
          "2019-09-09",
          "2019-09-10",
          "2019-09-11",
          "2019-09-12",
          "2019-09-13",
          "2019-09-16",
          "2019-09-17",
          "2019-09-18",
          "2019-09-19",
          "2019-09-20",
          "2019-09-23",
          "2019-09-24",
          "2019-09-25",
          "2019-09-26",
          "2019-09-27",
          "2019-09-30",
          "2019-10-01",
          "2019-10-02",
          "2019-10-03",
          "2019-10-04",
          "2019-10-07",
          "2019-10-08",
          "2019-10-09",
          "2019-10-10",
          "2019-10-11",
          "2019-10-14",
          "2019-10-15",
          "2019-10-16",
          "2019-10-17",
          "2019-10-18",
          "2019-10-21",
          "2019-10-22",
          "2019-10-23",
          "2019-10-24",
          "2019-10-25",
          "2019-10-28",
          "2019-10-29",
          "2019-10-30",
          "2019-10-31",
          "2019-11-01",
          "2019-11-04",
          "2019-11-05",
          "2019-11-06",
          "2019-11-07",
          "2019-11-08",
          "2019-11-11",
          "2019-11-12",
          "2019-11-13",
          "2019-11-14",
          "2019-11-15",
          "2019-11-18",
          "2019-11-19",
          "2019-11-20",
          "2019-11-21",
          "2019-11-22",
          "2019-11-25",
          "2019-11-26",
          "2019-11-27",
          "2019-11-28",
          "2019-11-29",
          "2019-12-02",
          "2019-12-03",
          "2019-12-04",
          "2019-12-05",
          "2019-12-06",
          "2019-12-09",
          "2019-12-10",
          "2019-12-11",
          "2019-12-12",
          "2019-12-13",
          "2019-12-16",
          "2019-12-17",
          "2019-12-18",
          "2019-12-19",
          "2019-12-20",
          "2019-12-23",
          "2019-12-24",
          "2019-12-25",
          "2019-12-26",
          "2019-12-27",
          "2019-12-30",
          "2019-12-31",
          "2020-01-01",
          "2020-01-02",
          "2020-01-03",
          "2020-01-06",
          "2020-01-07",
          "2020-01-08",
          "2020-01-09",
          "2020-01-10",
          "2020-01-13",
          "2020-01-14",
          "2020-01-15",
          "2020-01-16",
          "2020-01-17",
          "2020-01-20",
          "2020-01-21",
          "2020-01-22",
          "2020-01-23",
          "2020-01-24",
          "2020-01-27",
          "2020-01-28",
          "2020-01-29",
          "2020-01-30",
          "2020-01-31",
          "2020-02-03",
          "2020-02-04",
          "2020-02-05",
          "2020-02-06",
          "2020-02-07",
          "2020-02-10",
          "2020-02-11",
          "2020-02-12",
          "2020-02-13",
          "2020-02-14",
          "2020-02-17",
          "2020-02-18",
          "2020-02-19",
          "2020-02-20",
          "2020-02-21",
          "2020-02-24",
          "2020-02-25",
          "2020-02-26",
          "2020-02-27",
          "2020-02-28",
          "2020-03-02",
          "2020-03-03",
          "2020-03-04",
          "2020-03-05",
          "2020-03-06",
          "2020-03-09",
          "2020-03-10",
          "2020-03-11",
          "2020-03-12",
          "2020-03-13",
          "2020-03-16",
          "2020-03-17",
          "2020-03-18",
          "2020-03-19",
          "2020-03-20",
          "2020-03-23",
          "2020-03-24",
          "2020-03-25",
          "2020-03-26",
          "2020-03-27",
          "2020-03-30",
          "2020-03-31",
          "2020-04-01",
          "2020-04-02",
          "2020-04-03",
          "2020-04-06",
          "2020-04-07",
          "2020-04-08",
          "2020-04-09",
          "2020-04-10",
          "2020-04-13",
          "2020-04-14",
          "2020-04-15",
          "2020-04-16",
          "2020-04-17",
          "2020-04-20",
          "2020-04-21",
          "2020-04-22",
          "2020-04-23",
          "2020-04-24",
          "2020-04-27",
          "2020-04-28",
          "2020-04-29",
          "2020-04-30",
          "2020-05-01",
          "2020-05-04",
          "2020-05-05",
          "2020-05-06",
          "2020-05-07",
          "2020-05-08",
          "2020-05-11",
          "2020-05-12",
          "2020-05-13",
          "2020-05-14",
          "2020-05-15",
          "2020-05-18",
          "2020-05-19",
          "2020-05-20",
          "2020-05-21",
          "2020-05-22",
          "2020-05-25",
          "2020-05-26",
          "2020-05-27",
          "2020-05-28",
          "2020-05-29",
          "2020-06-01",
          "2020-06-02",
          "2020-06-03",
          "2020-06-04",
          "2020-06-05",
          "2020-06-08",
          "2020-06-09",
          "2020-06-10",
          "2020-06-11",
          "2020-06-12",
          "2020-06-15",
          "2020-06-16",
          "2020-06-17",
          "2020-06-18",
          "2020-06-19",
          "2020-06-22",
          "2020-06-23",
          "2020-06-24",
          "2020-06-25",
          "2020-06-26",
          "2020-06-29",
          "2020-06-30",
          "2020-07-01",
          "2020-07-02",
          "2020-07-03",
          "2020-07-06",
          "2020-07-07",
          "2020-07-08",
          "2020-07-09",
          "2020-07-10",
          "2020-07-13",
          "2020-07-14",
          "2020-07-15",
          "2020-07-16",
          "2020-07-17",
          "2020-07-20",
          "2020-07-21",
          "2020-07-22",
          "2020-07-23",
          "2020-07-24",
          "2020-07-27",
          "2020-07-28",
          "2020-07-29",
          "2020-07-30",
          "2020-07-31",
          "2020-08-03",
          "2020-08-04",
          "2020-08-05",
          "2020-08-06",
          "2020-08-07",
          "2020-08-10",
          "2020-08-11",
          "2020-08-12",
          "2020-08-13",
          "2020-08-14",
          "2020-08-17",
          "2020-08-18",
          "2020-08-19",
          "2020-08-20",
          "2020-08-21",
          "2020-08-24",
          "2020-08-25",
          "2020-08-26",
          "2020-08-27",
          "2020-08-28",
          "2020-08-31",
          "2020-09-01",
          "2020-09-02",
          "2020-09-03",
          "2020-09-04",
          "2020-09-07",
          "2020-09-08",
          "2020-09-09",
          "2020-09-10",
          "2020-09-11",
          "2020-09-14",
          "2020-09-15",
          "2020-09-16",
          "2020-09-17",
          "2020-09-18",
          "2020-09-21",
          "2020-09-22",
          "2020-09-23",
          "2020-09-24",
          "2020-09-25",
          "2020-09-28",
          "2020-09-29",
          "2020-09-30",
          "2020-10-01",
          "2020-10-02",
          "2020-10-05",
          "2020-10-06",
          "2020-10-07",
          "2020-10-08",
          "2020-10-09",
          "2020-10-12",
          "2020-10-13",
          "2020-10-14",
          "2020-10-15",
          "2020-10-16",
          "2020-10-19",
          "2020-10-20",
          "2020-10-21",
          "2020-10-22",
          "2020-10-23",
          "2020-10-26",
          "2020-10-27",
          "2020-10-28",
          "2020-10-29",
          "2020-10-30",
          "2020-11-02",
          "2020-11-03",
          "2020-11-04",
          "2020-11-05",
          "2020-11-06",
          "2020-11-09",
          "2020-11-10",
          "2020-11-11",
          "2020-11-12",
          "2020-11-13",
          "2020-11-16",
          "2020-11-17",
          "2020-11-18",
          "2020-11-19",
          "2020-11-20",
          "2020-11-23",
          "2020-11-24",
          "2020-11-25",
          "2020-11-26",
          "2020-11-27",
          "2020-11-30",
          "2020-12-01",
          "2020-12-02",
          "2020-12-03",
          "2020-12-04",
          "2020-12-07",
          "2020-12-08",
          "2020-12-09",
          "2020-12-10",
          "2020-12-11",
          "2020-12-14",
          "2020-12-15",
          "2020-12-16",
          "2020-12-17",
          "2020-12-18",
          "2020-12-21",
          "2020-12-22",
          "2020-12-23",
          "2020-12-24",
          "2020-12-25",
          "2020-12-28",
          "2020-12-29",
          "2020-12-30",
          "2020-12-31",
          "2021-01-01",
          "2021-01-04",
          "2021-01-05",
          "2021-01-06",
          "2021-01-07",
          "2021-01-08",
          "2021-01-11",
          "2021-01-12",
          "2021-01-13",
          "2021-01-14",
          "2021-01-15",
          "2021-01-18",
          "2021-01-19",
          "2021-01-20",
          "2021-01-21",
          "2021-01-22",
          "2021-01-25",
          "2021-01-26",
          "2021-01-27",
          "2021-01-28",
          "2021-01-29",
          "2021-02-01",
          "2021-02-02",
          "2021-02-03",
          "2021-02-04",
          "2021-02-05",
          "2021-02-08",
          "2021-02-09",
          "2021-02-10",
          "2021-02-11",
          "2021-02-12",
          "2021-02-15",
          "2021-02-16",
          "2021-02-17",
          "2021-02-18",
          "2021-02-19",
          "2021-02-22",
          "2021-02-23",
          "2021-02-24",
          "2021-02-25",
          "2021-02-26",
          "2021-03-01",
          "2021-03-02",
          "2021-03-03",
          "2021-03-04",
          "2021-03-05",
          "2021-03-08",
          "2021-03-09",
          "2021-03-10",
          "2021-03-11",
          "2021-03-12",
          "2021-03-15",
          "2021-03-16",
          "2021-03-17",
          "2021-03-18",
          "2021-03-19",
          "2021-03-22",
          "2021-03-23",
          "2021-03-24",
          "2021-03-25",
          "2021-03-26",
          "2021-03-29",
          "2021-03-30",
          "2021-03-31",
          "2021-04-01",
          "2021-04-02",
          "2021-04-05",
          "2021-04-06",
          "2021-04-07",
          "2021-04-08",
          "2021-04-09",
          "2021-04-12",
          "2021-04-13",
          "2021-04-14",
          "2021-04-15",
          "2021-04-16",
          "2021-04-19",
          "2021-04-20",
          "2021-04-21",
          "2021-04-22",
          "2021-04-23",
          "2021-04-26",
          "2021-04-27",
          "2021-04-28",
          "2021-04-29",
          "2021-04-30",
          "2021-05-03",
          "2021-05-04",
          "2021-05-05",
          "2021-05-06",
          "2021-05-07",
          "2021-05-10",
          "2021-05-11",
          "2021-05-12",
          "2021-05-13",
          "2021-05-14",
          "2021-05-17",
          "2021-05-18",
          "2021-05-19",
          "2021-05-20",
          "2021-05-21",
          "2021-05-24",
          "2021-05-25",
          "2021-05-26",
          "2021-05-27",
          "2021-05-28",
          "2021-05-31",
          "2021-06-01",
          "2021-06-02",
          "2021-06-03",
          "2021-06-04",
          "2021-06-07",
          "2021-06-08",
          "2021-06-09",
          "2021-06-10",
          "2021-06-11",
          "2021-06-14",
          "2021-06-15",
          "2021-06-16",
          "2021-06-17",
          "2021-06-18",
          "2021-06-21",
          "2021-06-22",
          "2021-06-23",
          "2021-06-24",
          "2021-06-25",
          "2021-06-28",
          "2021-06-29",
          "2021-06-30",
          "2021-07-01",
          "2021-07-02",
          "2021-07-05",
          "2021-07-06",
          "2021-07-07",
          "2021-07-08",
          "2021-07-09",
          "2021-07-12",
          "2021-07-13",
          "2021-07-14",
          "2021-07-15",
          "2021-07-16",
          "2021-07-19",
          "2021-07-20",
          "2021-07-21",
          "2021-07-22",
          "2021-07-23",
          "2021-07-26",
          "2021-07-27",
          "2021-07-28",
          "2021-07-29",
          "2021-07-30",
          "2021-08-02",
          "2021-08-03",
          "2021-08-04",
          "2021-08-05",
          "2021-08-06",
          "2021-08-09",
          "2021-08-10",
          "2021-08-11",
          "2021-08-12",
          "2021-08-13",
          "2021-08-16",
          "2021-08-17",
          "2021-08-18",
          "2021-08-19",
          "2021-08-20",
          "2021-08-23",
          "2021-08-24",
          "2021-08-25",
          "2021-08-26",
          "2021-08-27",
          "2021-08-30",
          "2021-08-31",
          "2021-09-01",
          "2021-09-02",
          "2021-09-03",
          "2021-09-06",
          "2021-09-07",
          "2021-09-08",
          "2021-09-09",
          "2021-09-10",
          "2021-09-13",
          "2021-09-14",
          "2021-09-15",
          "2021-09-16",
          "2021-09-17",
          "2021-09-20",
          "2021-09-21",
          "2021-09-22",
          "2021-09-23",
          "2021-09-24",
          "2021-09-27",
          "2021-09-28",
          "2021-09-29",
          "2021-09-30",
          "2021-10-01",
          "2021-10-04",
          "2021-10-05",
          "2021-10-06",
          "2021-10-07",
          "2021-10-08",
          "2021-10-11",
          "2021-10-12",
          "2021-10-13",
          "2021-10-14",
          "2021-10-15",
          "2021-10-18",
          "2021-10-19",
          "2021-10-20",
          "2021-10-21",
          "2021-10-22",
          "2021-10-25",
          "2021-10-26",
          "2021-10-27",
          "2021-10-28",
          "2021-10-29",
          "2021-11-01",
          "2021-11-02",
          "2021-11-03",
          "2021-11-04",
          "2021-11-05",
          "2021-11-08",
          "2021-11-09",
          "2021-11-10",
          "2021-11-11",
          "2021-11-12",
          "2021-11-15",
          "2021-11-16",
          "2021-11-17",
          "2021-11-18",
          "2021-11-19",
          "2021-11-22",
          "2021-11-23",
          "2021-11-24",
          "2021-11-25",
          "2021-11-26",
          "2021-11-29",
          "2021-11-30",
          "2021-12-01",
          "2021-12-02",
          "2021-12-03",
          "2021-12-06",
          "2021-12-07",
          "2021-12-08",
          "2021-12-09",
          "2021-12-10",
          "2021-12-13",
          "2021-12-14",
          "2021-12-15",
          "2021-12-16",
          "2021-12-17",
          "2021-12-20",
          "2021-12-21",
          "2021-12-22",
          "2021-12-23",
          "2021-12-24",
          "2021-12-27",
          "2021-12-28",
          "2021-12-29",
          "2021-12-30",
          "2021-12-31"
         ],
         "xaxis": "x",
         "y": {
          "bdata": "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",
          "dtype": "f8"
         },
         "yaxis": "y"
        }
       ],
       "layout": {
        "legend": {
         "title": {
          "text": "Asset"
         },
         "tracegroupgap": 0
        },
        "template": {
         "data": {
          "bar": [
           {
            "error_x": {
             "color": "#2a3f5f"
            },
            "error_y": {
             "color": "#2a3f5f"
            },
            "marker": {
             "line": {
              "color": "#E5ECF6",
              "width": 0.5
             },
             "pattern": {
              "fillmode": "overlay",
              "size": 10,
              "solidity": 0.2
             }
            },
            "type": "bar"
           }
          ],
          "barpolar": [
           {
            "marker": {
             "line": {
              "color": "#E5ECF6",
              "width": 0.5
             },
             "pattern": {
              "fillmode": "overlay",
              "size": 10,
              "solidity": 0.2
             }
            },
            "type": "barpolar"
           }
          ],
          "carpet": [
           {
            "aaxis": {
             "endlinecolor": "#2a3f5f",
             "gridcolor": "white",
             "linecolor": "white",
             "minorgridcolor": "white",
             "startlinecolor": "#2a3f5f"
            },
            "baxis": {
             "endlinecolor": "#2a3f5f",
             "gridcolor": "white",
             "linecolor": "white",
             "minorgridcolor": "white",
             "startlinecolor": "#2a3f5f"
            },
            "type": "carpet"
           }
          ],
          "choropleth": [
           {
            "colorbar": {
             "outlinewidth": 0,
             "ticks": ""
            },
            "type": "choropleth"
           }
          ],
          "contour": [
           {
            "colorbar": {
             "outlinewidth": 0,
             "ticks": ""
            },
            "colorscale": [
             [
              0,
              "#0d0887"
             ],
             [
              0.1111111111111111,
              "#46039f"
             ],
             [
              0.2222222222222222,
              "#7201a8"
             ],
             [
              0.3333333333333333,
              "#9c179e"
             ],
             [
              0.4444444444444444,
              "#bd3786"
             ],
             [
              0.5555555555555556,
              "#d8576b"
             ],
             [
              0.6666666666666666,
              "#ed7953"
             ],
             [
              0.7777777777777778,
              "#fb9f3a"
             ],
             [
              0.8888888888888888,
              "#fdca26"
             ],
             [
              1,
              "#f0f921"
             ]
            ],
            "type": "contour"
           }
          ],
          "contourcarpet": [
           {
            "colorbar": {
             "outlinewidth": 0,
             "ticks": ""
            },
            "type": "contourcarpet"
           }
          ],
          "heatmap": [
           {
            "colorbar": {
             "outlinewidth": 0,
             "ticks": ""
            },
            "colorscale": [
             [
              0,
              "#0d0887"
             ],
             [
              0.1111111111111111,
              "#46039f"
             ],
             [
              0.2222222222222222,
              "#7201a8"
             ],
             [
              0.3333333333333333,
              "#9c179e"
             ],
             [
              0.4444444444444444,
              "#bd3786"
             ],
             [
              0.5555555555555556,
              "#d8576b"
             ],
             [
              0.6666666666666666,
              "#ed7953"
             ],
             [
              0.7777777777777778,
              "#fb9f3a"
             ],
             [
              0.8888888888888888,
              "#fdca26"
             ],
             [
              1,
              "#f0f921"
             ]
            ],
            "type": "heatmap"
           }
          ],
          "histogram": [
           {
            "marker": {
             "pattern": {
              "fillmode": "overlay",
              "size": 10,
              "solidity": 0.2
             }
            },
            "type": "histogram"
           }
          ],
          "histogram2d": [
           {
            "colorbar": {
             "outlinewidth": 0,
             "ticks": ""
            },
            "colorscale": [
             [
              0,
              "#0d0887"
             ],
             [
              0.1111111111111111,
              "#46039f"
             ],
             [
              0.2222222222222222,
              "#7201a8"
             ],
             [
              0.3333333333333333,
              "#9c179e"
             ],
             [
              0.4444444444444444,
              "#bd3786"
             ],
             [
              0.5555555555555556,
              "#d8576b"
             ],
             [
              0.6666666666666666,
              "#ed7953"
             ],
             [
              0.7777777777777778,
              "#fb9f3a"
             ],
             [
              0.8888888888888888,
              "#fdca26"
             ],
             [
              1,
              "#f0f921"
             ]
            ],
            "type": "histogram2d"
           }
          ],
          "histogram2dcontour": [
           {
            "colorbar": {
             "outlinewidth": 0,
             "ticks": ""
            },
            "colorscale": [
             [
              0,
              "#0d0887"
             ],
             [
              0.1111111111111111,
              "#46039f"
             ],
             [
              0.2222222222222222,
              "#7201a8"
             ],
             [
              0.3333333333333333,
              "#9c179e"
             ],
             [
              0.4444444444444444,
              "#bd3786"
             ],
             [
              0.5555555555555556,
              "#d8576b"
             ],
             [
              0.6666666666666666,
              "#ed7953"
             ],
             [
              0.7777777777777778,
              "#fb9f3a"
             ],
             [
              0.8888888888888888,
              "#fdca26"
             ],
             [
              1,
              "#f0f921"
             ]
            ],
            "type": "histogram2dcontour"
           }
          ],
          "mesh3d": [
           {
            "colorbar": {
             "outlinewidth": 0,
             "ticks": ""
            },
            "type": "mesh3d"
           }
          ],
          "parcoords": [
           {
            "line": {
             "colorbar": {
              "outlinewidth": 0,
              "ticks": ""
             }
            },
            "type": "parcoords"
           }
          ],
          "pie": [
           {
            "automargin": true,
            "type": "pie"
           }
          ],
          "scatter": [
           {
            "fillpattern": {
             "fillmode": "overlay",
             "size": 10,
             "solidity": 0.2
            },
            "type": "scatter"
           }
          ],
          "scatter3d": [
           {
            "line": {
             "colorbar": {
              "outlinewidth": 0,
              "ticks": ""
             }
            },
            "marker": {
             "colorbar": {
              "outlinewidth": 0,
              "ticks": ""
             }
            },
            "type": "scatter3d"
           }
          ],
          "scattercarpet": [
           {
            "marker": {
             "colorbar": {
              "outlinewidth": 0,
              "ticks": ""
             }
            },
            "type": "scattercarpet"
           }
          ],
          "scattergeo": [
           {
            "marker": {
             "colorbar": {
              "outlinewidth": 0,
              "ticks": ""
             }
            },
            "type": "scattergeo"
           }
          ],
          "scattergl": [
           {
            "marker": {
             "colorbar": {
              "outlinewidth": 0,
              "ticks": ""
             }
            },
            "type": "scattergl"
           }
          ],
          "scattermap": [
           {
            "marker": {
             "colorbar": {
              "outlinewidth": 0,
              "ticks": ""
             }
            },
            "type": "scattermap"
           }
          ],
          "scattermapbox": [
           {
            "marker": {
             "colorbar": {
              "outlinewidth": 0,
              "ticks": ""
             }
            },
            "type": "scattermapbox"
           }
          ],
          "scatterpolar": [
           {
            "marker": {
             "colorbar": {
              "outlinewidth": 0,
              "ticks": ""
             }
            },
            "type": "scatterpolar"
           }
          ],
          "scatterpolargl": [
           {
            "marker": {
             "colorbar": {
              "outlinewidth": 0,
              "ticks": ""
             }
            },
            "type": "scatterpolargl"
           }
          ],
          "scatterternary": [
           {
            "marker": {
             "colorbar": {
              "outlinewidth": 0,
              "ticks": ""
             }
            },
            "type": "scatterternary"
           }
          ],
          "surface": [
           {
            "colorbar": {
             "outlinewidth": 0,
             "ticks": ""
            },
            "colorscale": [
             [
              0,
              "#0d0887"
             ],
             [
              0.1111111111111111,
              "#46039f"
             ],
             [
              0.2222222222222222,
              "#7201a8"
             ],
             [
              0.3333333333333333,
              "#9c179e"
             ],
             [
              0.4444444444444444,
              "#bd3786"
             ],
             [
              0.5555555555555556,
              "#d8576b"
             ],
             [
              0.6666666666666666,
              "#ed7953"
             ],
             [
              0.7777777777777778,
              "#fb9f3a"
             ],
             [
              0.8888888888888888,
              "#fdca26"
             ],
             [
              1,
              "#f0f921"
             ]
            ],
            "type": "surface"
           }
          ],
          "table": [
           {
            "cells": {
             "fill": {
              "color": "#EBF0F8"
             },
             "line": {
              "color": "white"
             }
            },
            "header": {
             "fill": {
              "color": "#C8D4E3"
             },
             "line": {
              "color": "white"
             }
            },
            "type": "table"
           }
          ]
         },
         "layout": {
          "annotationdefaults": {
           "arrowcolor": "#2a3f5f",
           "arrowhead": 0,
           "arrowwidth": 1
          },
          "autotypenumbers": "strict",
          "coloraxis": {
           "colorbar": {
            "outlinewidth": 0,
            "ticks": ""
           }
          },
          "colorscale": {
           "diverging": [
            [
             0,
             "#8e0152"
            ],
            [
             0.1,
             "#c51b7d"
            ],
            [
             0.2,
             "#de77ae"
            ],
            [
             0.3,
             "#f1b6da"
            ],
            [
             0.4,
             "#fde0ef"
            ],
            [
             0.5,
             "#f7f7f7"
            ],
            [
             0.6,
             "#e6f5d0"
            ],
            [
             0.7,
             "#b8e186"
            ],
            [
             0.8,
             "#7fbc41"
            ],
            [
             0.9,
             "#4d9221"
            ],
            [
             1,
             "#276419"
            ]
           ],
           "sequential": [
            [
             0,
             "#0d0887"
            ],
            [
             0.1111111111111111,
             "#46039f"
            ],
            [
             0.2222222222222222,
             "#7201a8"
            ],
            [
             0.3333333333333333,
             "#9c179e"
            ],
            [
             0.4444444444444444,
             "#bd3786"
            ],
            [
             0.5555555555555556,
             "#d8576b"
            ],
            [
             0.6666666666666666,
             "#ed7953"
            ],
            [
             0.7777777777777778,
             "#fb9f3a"
            ],
            [
             0.8888888888888888,
             "#fdca26"
            ],
            [
             1,
             "#f0f921"
            ]
           ],
           "sequentialminus": [
            [
             0,
             "#0d0887"
            ],
            [
             0.1111111111111111,
             "#46039f"
            ],
            [
             0.2222222222222222,
             "#7201a8"
            ],
            [
             0.3333333333333333,
             "#9c179e"
            ],
            [
             0.4444444444444444,
             "#bd3786"
            ],
            [
             0.5555555555555556,
             "#d8576b"
            ],
            [
             0.6666666666666666,
             "#ed7953"
            ],
            [
             0.7777777777777778,
             "#fb9f3a"
            ],
            [
             0.8888888888888888,
             "#fdca26"
            ],
            [
             1,
             "#f0f921"
            ]
           ]
          },
          "colorway": [
           "#636efa",
           "#EF553B",
           "#00cc96",
           "#ab63fa",
           "#FFA15A",
           "#19d3f3",
           "#FF6692",
           "#B6E880",
           "#FF97FF",
           "#FECB52"
          ],
          "font": {
           "color": "#2a3f5f"
          },
          "geo": {
           "bgcolor": "white",
           "lakecolor": "white",
           "landcolor": "#E5ECF6",
           "showlakes": true,
           "showland": true,
           "subunitcolor": "white"
          },
          "hoverlabel": {
           "align": "left"
          },
          "hovermode": "closest",
          "mapbox": {
           "style": "light"
          },
          "paper_bgcolor": "white",
          "plot_bgcolor": "#E5ECF6",
          "polar": {
           "angularaxis": {
            "gridcolor": "white",
            "linecolor": "white",
            "ticks": ""
           },
           "bgcolor": "#E5ECF6",
           "radialaxis": {
            "gridcolor": "white",
            "linecolor": "white",
            "ticks": ""
           }
          },
          "scene": {
           "xaxis": {
            "backgroundcolor": "#E5ECF6",
            "gridcolor": "white",
            "gridwidth": 2,
            "linecolor": "white",
            "showbackground": true,
            "ticks": "",
            "zerolinecolor": "white"
           },
           "yaxis": {
            "backgroundcolor": "#E5ECF6",
            "gridcolor": "white",
            "gridwidth": 2,
            "linecolor": "white",
            "showbackground": true,
            "ticks": "",
            "zerolinecolor": "white"
           },
           "zaxis": {
            "backgroundcolor": "#E5ECF6",
            "gridcolor": "white",
            "gridwidth": 2,
            "linecolor": "white",
            "showbackground": true,
            "ticks": "",
            "zerolinecolor": "white"
           }
          },
          "shapedefaults": {
           "line": {
            "color": "#2a3f5f"
           }
          },
          "ternary": {
           "aaxis": {
            "gridcolor": "white",
            "linecolor": "white",
            "ticks": ""
           },
           "baxis": {
            "gridcolor": "white",
            "linecolor": "white",
            "ticks": ""
           },
           "bgcolor": "#E5ECF6",
           "caxis": {
            "gridcolor": "white",
            "linecolor": "white",
            "ticks": ""
           }
          },
          "title": {
           "x": 0.05
          },
          "xaxis": {
           "automargin": true,
           "gridcolor": "white",
           "linecolor": "white",
           "ticks": "",
           "title": {
            "standoff": 15
           },
           "zerolinecolor": "white",
           "zerolinewidth": 2
          },
          "yaxis": {
           "automargin": true,
           "gridcolor": "white",
           "linecolor": "white",
           "ticks": "",
           "title": {
            "standoff": 15
           },
           "zerolinecolor": "white",
           "zerolinewidth": 2
          }
         }
        },
        "title": {
         "text": "Asset Values Over Time"
        },
        "xaxis": {
         "anchor": "y",
         "domain": [
          0,
          1
         ],
         "title": {
          "text": "Date"
         }
        },
        "yaxis": {
         "anchor": "x",
         "domain": [
          0,
          1
         ],
         "title": {
          "text": "Asset Value"
         }
        }
       }
      }
     },
     "metadata": {},
     "output_type": "display_data"
    }
   ],
   "source": [
    "import plotly.express as px\n",
    "\n",
    "fig = px.area(\n",
    "    weight_df_melted,\n",
    "    x='date',\n",
    "    y='Value',\n",
    "    color='Asset',\n",
    "    title=\"Asset Values Over Time\",\n",
    "    labels={\"date\": \"Date\", \"Value\": \"Asset Value\", \"Asset\": \"Asset\"}\n",
    ")\n",
    "\n",
    "fig.show()\n"
   ]
  },
  {
   "cell_type": "markdown",
   "metadata": {
    "tags": []
   },
   "source": [
    "<h2 style=\"color: #FF6347;\">Chart of Historical Cumulative Returns of the Portfolio.</h2>\n",
    "<h3 style=\"color: #FF6347;\">-- Insert your code here --</h3>"
   ]
  },
  {
   "cell_type": "code",
   "execution_count": null,
   "metadata": {},
   "outputs": [
    {
     "name": "stderr",
     "output_type": "stream",
     "text": [
      "/var/folders/2l/6514_hd91tv5448lmq79vpbw0000gn/T/ipykernel_26758/3448147430.py:6: FutureWarning:\n",
      "\n",
      "The default fill_method='pad' in DataFrame.pct_change is deprecated and will be removed in a future version. Either fill in any non-leading NA values prior to calling pct_change or specify 'fill_method=None' to not fill NA values.\n",
      "\n"
     ]
    },
    {
     "data": {
      "application/vnd.plotly.v1+json": {
       "config": {
        "plotlyServerURL": "https://plot.ly"
       },
       "data": [
        {
         "hovertemplate": "Date=%{x}<br>Cumulative Return=%{y}<extra></extra>",
         "legendgroup": "",
         "line": {
          "color": "#636efa",
          "dash": "solid"
         },
         "marker": {
          "symbol": "circle"
         },
         "mode": "lines",
         "name": "",
         "orientation": "v",
         "showlegend": false,
         "type": "scatter",
         "x": [
          "2019-01-03",
          "2019-01-04",
          "2019-01-07",
          "2019-01-08",
          "2019-01-09",
          "2019-01-10",
          "2019-01-11",
          "2019-01-14",
          "2019-01-15",
          "2019-01-16",
          "2019-01-17",
          "2019-01-18",
          "2019-01-21",
          "2019-01-22",
          "2019-01-23",
          "2019-01-24",
          "2019-01-25",
          "2019-01-28",
          "2019-01-29",
          "2019-01-30",
          "2019-01-31",
          "2019-02-01",
          "2019-02-04",
          "2019-02-05",
          "2019-02-06",
          "2019-02-07",
          "2019-02-08",
          "2019-02-11",
          "2019-02-12",
          "2019-02-13",
          "2019-02-14",
          "2019-02-15",
          "2019-02-18",
          "2019-02-19",
          "2019-02-20",
          "2019-02-21",
          "2019-02-22",
          "2019-02-25",
          "2019-02-26",
          "2019-02-27",
          "2019-02-28",
          "2019-03-01",
          "2019-03-04",
          "2019-03-05",
          "2019-03-06",
          "2019-03-07",
          "2019-03-08",
          "2019-03-11",
          "2019-03-12",
          "2019-03-13",
          "2019-03-14",
          "2019-03-15",
          "2019-03-18",
          "2019-03-19",
          "2019-03-20",
          "2019-03-21",
          "2019-03-22",
          "2019-03-25",
          "2019-03-26",
          "2019-03-27",
          "2019-03-28",
          "2019-03-29",
          "2019-04-01",
          "2019-04-02",
          "2019-04-03",
          "2019-04-04",
          "2019-04-05",
          "2019-04-08",
          "2019-04-09",
          "2019-04-10",
          "2019-04-11",
          "2019-04-12",
          "2019-04-15",
          "2019-04-16",
          "2019-04-17",
          "2019-04-18",
          "2019-04-19",
          "2019-04-22",
          "2019-04-23",
          "2019-04-24",
          "2019-04-25",
          "2019-04-26",
          "2019-04-29",
          "2019-04-30",
          "2019-05-01",
          "2019-05-02",
          "2019-05-03",
          "2019-05-06",
          "2019-05-07",
          "2019-05-08",
          "2019-05-09",
          "2019-05-10",
          "2019-05-13",
          "2019-05-14",
          "2019-05-15",
          "2019-05-16",
          "2019-05-17",
          "2019-05-20",
          "2019-05-21",
          "2019-05-22",
          "2019-05-23",
          "2019-05-24",
          "2019-05-27",
          "2019-05-28",
          "2019-05-29",
          "2019-05-30",
          "2019-05-31",
          "2019-06-03",
          "2019-06-04",
          "2019-06-05",
          "2019-06-06",
          "2019-06-07",
          "2019-06-10",
          "2019-06-11",
          "2019-06-12",
          "2019-06-13",
          "2019-06-14",
          "2019-06-17",
          "2019-06-18",
          "2019-06-19",
          "2019-06-20",
          "2019-06-21",
          "2019-06-24",
          "2019-06-25",
          "2019-06-26",
          "2019-06-27",
          "2019-06-28",
          "2019-07-01",
          "2019-07-02",
          "2019-07-03",
          "2019-07-04",
          "2019-07-05",
          "2019-07-08",
          "2019-07-09",
          "2019-07-10",
          "2019-07-11",
          "2019-07-12",
          "2019-07-15",
          "2019-07-16",
          "2019-07-17",
          "2019-07-18",
          "2019-07-19",
          "2019-07-22",
          "2019-07-23",
          "2019-07-24",
          "2019-07-25",
          "2019-07-26",
          "2019-07-29",
          "2019-07-30",
          "2019-07-31",
          "2019-08-01",
          "2019-08-02",
          "2019-08-05",
          "2019-08-06",
          "2019-08-07",
          "2019-08-08",
          "2019-08-09",
          "2019-08-12",
          "2019-08-13",
          "2019-08-14",
          "2019-08-15",
          "2019-08-16",
          "2019-08-19",
          "2019-08-20",
          "2019-08-21",
          "2019-08-22",
          "2019-08-23",
          "2019-08-26",
          "2019-08-27",
          "2019-08-28",
          "2019-08-29",
          "2019-08-30",
          "2019-09-02",
          "2019-09-03",
          "2019-09-04",
          "2019-09-05",
          "2019-09-06",
          "2019-09-09",
          "2019-09-10",
          "2019-09-11",
          "2019-09-12",
          "2019-09-13",
          "2019-09-16",
          "2019-09-17",
          "2019-09-18",
          "2019-09-19",
          "2019-09-20",
          "2019-09-23",
          "2019-09-24",
          "2019-09-25",
          "2019-09-26",
          "2019-09-27",
          "2019-09-30",
          "2019-10-01",
          "2019-10-02",
          "2019-10-03",
          "2019-10-04",
          "2019-10-07",
          "2019-10-08",
          "2019-10-09",
          "2019-10-10",
          "2019-10-11",
          "2019-10-14",
          "2019-10-15",
          "2019-10-16",
          "2019-10-17",
          "2019-10-18",
          "2019-10-21",
          "2019-10-22",
          "2019-10-23",
          "2019-10-24",
          "2019-10-25",
          "2019-10-28",
          "2019-10-29",
          "2019-10-30",
          "2019-10-31",
          "2019-11-01",
          "2019-11-04",
          "2019-11-05",
          "2019-11-06",
          "2019-11-07",
          "2019-11-08",
          "2019-11-11",
          "2019-11-12",
          "2019-11-13",
          "2019-11-14",
          "2019-11-15",
          "2019-11-18",
          "2019-11-19",
          "2019-11-20",
          "2019-11-21",
          "2019-11-22",
          "2019-11-25",
          "2019-11-26",
          "2019-11-27",
          "2019-11-28",
          "2019-11-29",
          "2019-12-02",
          "2019-12-03",
          "2019-12-04",
          "2019-12-05",
          "2019-12-06",
          "2019-12-09",
          "2019-12-10",
          "2019-12-11",
          "2019-12-12",
          "2019-12-13",
          "2019-12-16",
          "2019-12-17",
          "2019-12-18",
          "2019-12-19",
          "2019-12-20",
          "2019-12-23",
          "2019-12-24",
          "2019-12-25",
          "2019-12-26",
          "2019-12-27",
          "2019-12-30",
          "2019-12-31",
          "2020-01-01",
          "2020-01-02",
          "2020-01-03",
          "2020-01-06",
          "2020-01-07",
          "2020-01-08",
          "2020-01-09",
          "2020-01-10",
          "2020-01-13",
          "2020-01-14",
          "2020-01-15",
          "2020-01-16",
          "2020-01-17",
          "2020-01-20",
          "2020-01-21",
          "2020-01-22",
          "2020-01-23",
          "2020-01-24",
          "2020-01-27",
          "2020-01-28",
          "2020-01-29",
          "2020-01-30",
          "2020-01-31",
          "2020-02-03",
          "2020-02-04",
          "2020-02-05",
          "2020-02-06",
          "2020-02-07",
          "2020-02-10",
          "2020-02-11",
          "2020-02-12",
          "2020-02-13",
          "2020-02-14",
          "2020-02-17",
          "2020-02-18",
          "2020-02-19",
          "2020-02-20",
          "2020-02-21",
          "2020-02-24",
          "2020-02-25",
          "2020-02-26",
          "2020-02-27",
          "2020-02-28",
          "2020-03-02",
          "2020-03-03",
          "2020-03-04",
          "2020-03-05",
          "2020-03-06",
          "2020-03-09",
          "2020-03-10",
          "2020-03-11",
          "2020-03-12",
          "2020-03-13",
          "2020-03-16",
          "2020-03-17",
          "2020-03-18",
          "2020-03-19",
          "2020-03-20",
          "2020-03-23",
          "2020-03-24",
          "2020-03-25",
          "2020-03-26",
          "2020-03-27",
          "2020-03-30",
          "2020-03-31",
          "2020-04-01",
          "2020-04-02",
          "2020-04-03",
          "2020-04-06",
          "2020-04-07",
          "2020-04-08",
          "2020-04-09",
          "2020-04-10",
          "2020-04-13",
          "2020-04-14",
          "2020-04-15",
          "2020-04-16",
          "2020-04-17",
          "2020-04-20",
          "2020-04-21",
          "2020-04-22",
          "2020-04-23",
          "2020-04-24",
          "2020-04-27",
          "2020-04-28",
          "2020-04-29",
          "2020-04-30",
          "2020-05-01",
          "2020-05-04",
          "2020-05-05",
          "2020-05-06",
          "2020-05-07",
          "2020-05-08",
          "2020-05-11",
          "2020-05-12",
          "2020-05-13",
          "2020-05-14",
          "2020-05-15",
          "2020-05-18",
          "2020-05-19",
          "2020-05-20",
          "2020-05-21",
          "2020-05-22",
          "2020-05-25",
          "2020-05-26",
          "2020-05-27",
          "2020-05-28",
          "2020-05-29",
          "2020-06-01",
          "2020-06-02",
          "2020-06-03",
          "2020-06-04",
          "2020-06-05",
          "2020-06-08",
          "2020-06-09",
          "2020-06-10",
          "2020-06-11",
          "2020-06-12",
          "2020-06-15",
          "2020-06-16",
          "2020-06-17",
          "2020-06-18",
          "2020-06-19",
          "2020-06-22",
          "2020-06-23",
          "2020-06-24",
          "2020-06-25",
          "2020-06-26",
          "2020-06-29",
          "2020-06-30",
          "2020-07-01",
          "2020-07-02",
          "2020-07-03",
          "2020-07-06",
          "2020-07-07",
          "2020-07-08",
          "2020-07-09",
          "2020-07-10",
          "2020-07-13",
          "2020-07-14",
          "2020-07-15",
          "2020-07-16",
          "2020-07-17",
          "2020-07-20",
          "2020-07-21",
          "2020-07-22",
          "2020-07-23",
          "2020-07-24",
          "2020-07-27",
          "2020-07-28",
          "2020-07-29",
          "2020-07-30",
          "2020-07-31",
          "2020-08-03",
          "2020-08-04",
          "2020-08-05",
          "2020-08-06",
          "2020-08-07",
          "2020-08-10",
          "2020-08-11",
          "2020-08-12",
          "2020-08-13",
          "2020-08-14",
          "2020-08-17",
          "2020-08-18",
          "2020-08-19",
          "2020-08-20",
          "2020-08-21",
          "2020-08-24",
          "2020-08-25",
          "2020-08-26",
          "2020-08-27",
          "2020-08-28",
          "2020-08-31",
          "2020-09-01",
          "2020-09-02",
          "2020-09-03",
          "2020-09-04",
          "2020-09-07",
          "2020-09-08",
          "2020-09-09",
          "2020-09-10",
          "2020-09-11",
          "2020-09-14",
          "2020-09-15",
          "2020-09-16",
          "2020-09-17",
          "2020-09-18",
          "2020-09-21",
          "2020-09-22",
          "2020-09-23",
          "2020-09-24",
          "2020-09-25",
          "2020-09-28",
          "2020-09-29",
          "2020-09-30",
          "2020-10-01",
          "2020-10-02",
          "2020-10-05",
          "2020-10-06",
          "2020-10-07",
          "2020-10-08",
          "2020-10-09",
          "2020-10-12",
          "2020-10-13",
          "2020-10-14",
          "2020-10-15",
          "2020-10-16",
          "2020-10-19",
          "2020-10-20",
          "2020-10-21",
          "2020-10-22",
          "2020-10-23",
          "2020-10-26",
          "2020-10-27",
          "2020-10-28",
          "2020-10-29",
          "2020-10-30",
          "2020-11-02",
          "2020-11-03",
          "2020-11-04",
          "2020-11-05",
          "2020-11-06",
          "2020-11-09",
          "2020-11-10",
          "2020-11-11",
          "2020-11-12",
          "2020-11-13",
          "2020-11-16",
          "2020-11-17",
          "2020-11-18",
          "2020-11-19",
          "2020-11-20",
          "2020-11-23",
          "2020-11-24",
          "2020-11-25",
          "2020-11-26",
          "2020-11-27",
          "2020-11-30",
          "2020-12-01",
          "2020-12-02",
          "2020-12-03",
          "2020-12-04",
          "2020-12-07",
          "2020-12-08",
          "2020-12-09",
          "2020-12-10",
          "2020-12-11",
          "2020-12-14",
          "2020-12-15",
          "2020-12-16",
          "2020-12-17",
          "2020-12-18",
          "2020-12-21",
          "2020-12-22",
          "2020-12-23",
          "2020-12-24",
          "2020-12-25",
          "2020-12-28",
          "2020-12-29",
          "2020-12-30",
          "2020-12-31",
          "2021-01-01",
          "2021-01-04",
          "2021-01-05",
          "2021-01-06",
          "2021-01-07",
          "2021-01-08",
          "2021-01-11",
          "2021-01-12",
          "2021-01-13",
          "2021-01-14",
          "2021-01-15",
          "2021-01-18",
          "2021-01-19",
          "2021-01-20",
          "2021-01-21",
          "2021-01-22",
          "2021-01-25",
          "2021-01-26",
          "2021-01-27",
          "2021-01-28",
          "2021-01-29",
          "2021-02-01",
          "2021-02-02",
          "2021-02-03",
          "2021-02-04",
          "2021-02-05",
          "2021-02-08",
          "2021-02-09",
          "2021-02-10",
          "2021-02-11",
          "2021-02-12",
          "2021-02-15",
          "2021-02-16",
          "2021-02-17",
          "2021-02-18",
          "2021-02-19",
          "2021-02-22",
          "2021-02-23",
          "2021-02-24",
          "2021-02-25",
          "2021-02-26",
          "2021-03-01",
          "2021-03-02",
          "2021-03-03",
          "2021-03-04",
          "2021-03-05",
          "2021-03-08",
          "2021-03-09",
          "2021-03-10",
          "2021-03-11",
          "2021-03-12",
          "2021-03-15",
          "2021-03-16",
          "2021-03-17",
          "2021-03-18",
          "2021-03-19",
          "2021-03-22",
          "2021-03-23",
          "2021-03-24",
          "2021-03-25",
          "2021-03-26",
          "2021-03-29",
          "2021-03-30",
          "2021-03-31",
          "2021-04-01",
          "2021-04-02",
          "2021-04-05",
          "2021-04-06",
          "2021-04-07",
          "2021-04-08",
          "2021-04-09",
          "2021-04-12",
          "2021-04-13",
          "2021-04-14",
          "2021-04-15",
          "2021-04-16",
          "2021-04-19",
          "2021-04-20",
          "2021-04-21",
          "2021-04-22",
          "2021-04-23",
          "2021-04-26",
          "2021-04-27",
          "2021-04-28",
          "2021-04-29",
          "2021-04-30",
          "2021-05-03",
          "2021-05-04",
          "2021-05-05",
          "2021-05-06",
          "2021-05-07",
          "2021-05-10",
          "2021-05-11",
          "2021-05-12",
          "2021-05-13",
          "2021-05-14",
          "2021-05-17",
          "2021-05-18",
          "2021-05-19",
          "2021-05-20",
          "2021-05-21",
          "2021-05-24",
          "2021-05-25",
          "2021-05-26",
          "2021-05-27",
          "2021-05-28",
          "2021-05-31",
          "2021-06-01",
          "2021-06-02",
          "2021-06-03",
          "2021-06-04",
          "2021-06-07",
          "2021-06-08",
          "2021-06-09",
          "2021-06-10",
          "2021-06-11",
          "2021-06-14",
          "2021-06-15",
          "2021-06-16",
          "2021-06-17",
          "2021-06-18",
          "2021-06-21",
          "2021-06-22",
          "2021-06-23",
          "2021-06-24",
          "2021-06-25",
          "2021-06-28",
          "2021-06-29",
          "2021-06-30",
          "2021-07-01",
          "2021-07-02",
          "2021-07-05",
          "2021-07-06",
          "2021-07-07",
          "2021-07-08",
          "2021-07-09",
          "2021-07-12",
          "2021-07-13",
          "2021-07-14",
          "2021-07-15",
          "2021-07-16",
          "2021-07-19",
          "2021-07-20",
          "2021-07-21",
          "2021-07-22",
          "2021-07-23",
          "2021-07-26",
          "2021-07-27",
          "2021-07-28",
          "2021-07-29",
          "2021-07-30",
          "2021-08-02",
          "2021-08-03",
          "2021-08-04",
          "2021-08-05",
          "2021-08-06",
          "2021-08-09",
          "2021-08-10",
          "2021-08-11",
          "2021-08-12",
          "2021-08-13",
          "2021-08-16",
          "2021-08-17",
          "2021-08-18",
          "2021-08-19",
          "2021-08-20",
          "2021-08-23",
          "2021-08-24",
          "2021-08-25",
          "2021-08-26",
          "2021-08-27",
          "2021-08-30",
          "2021-08-31",
          "2021-09-01",
          "2021-09-02",
          "2021-09-03",
          "2021-09-06",
          "2021-09-07",
          "2021-09-08",
          "2021-09-09",
          "2021-09-10",
          "2021-09-13",
          "2021-09-14",
          "2021-09-15",
          "2021-09-16",
          "2021-09-17",
          "2021-09-20",
          "2021-09-21",
          "2021-09-22",
          "2021-09-23",
          "2021-09-24",
          "2021-09-27",
          "2021-09-28",
          "2021-09-29",
          "2021-09-30",
          "2021-10-01",
          "2021-10-04",
          "2021-10-05",
          "2021-10-06",
          "2021-10-07",
          "2021-10-08",
          "2021-10-11",
          "2021-10-12",
          "2021-10-13",
          "2021-10-14",
          "2021-10-15",
          "2021-10-18",
          "2021-10-19",
          "2021-10-20",
          "2021-10-21",
          "2021-10-22",
          "2021-10-25",
          "2021-10-26",
          "2021-10-27",
          "2021-10-28",
          "2021-10-29",
          "2021-11-01",
          "2021-11-02",
          "2021-11-03",
          "2021-11-04",
          "2021-11-05",
          "2021-11-08",
          "2021-11-09",
          "2021-11-10",
          "2021-11-11",
          "2021-11-12",
          "2021-11-15",
          "2021-11-16",
          "2021-11-17",
          "2021-11-18",
          "2021-11-19",
          "2021-11-22",
          "2021-11-23",
          "2021-11-24",
          "2021-11-25",
          "2021-11-26",
          "2021-11-29",
          "2021-11-30",
          "2021-12-01",
          "2021-12-02",
          "2021-12-03",
          "2021-12-06",
          "2021-12-07",
          "2021-12-08",
          "2021-12-09",
          "2021-12-10",
          "2021-12-13",
          "2021-12-14",
          "2021-12-15",
          "2021-12-16",
          "2021-12-17",
          "2021-12-20",
          "2021-12-21",
          "2021-12-22",
          "2021-12-23",
          "2021-12-24",
          "2021-12-27",
          "2021-12-28",
          "2021-12-29",
          "2021-12-30",
          "2021-12-31"
         ],
         "xaxis": "x",
         "y": {
          "bdata": "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",
          "dtype": "f8"
         },
         "yaxis": "y"
        }
       ],
       "layout": {
        "legend": {
         "tracegroupgap": 0
        },
        "template": {
         "data": {
          "bar": [
           {
            "error_x": {
             "color": "#2a3f5f"
            },
            "error_y": {
             "color": "#2a3f5f"
            },
            "marker": {
             "line": {
              "color": "#E5ECF6",
              "width": 0.5
             },
             "pattern": {
              "fillmode": "overlay",
              "size": 10,
              "solidity": 0.2
             }
            },
            "type": "bar"
           }
          ],
          "barpolar": [
           {
            "marker": {
             "line": {
              "color": "#E5ECF6",
              "width": 0.5
             },
             "pattern": {
              "fillmode": "overlay",
              "size": 10,
              "solidity": 0.2
             }
            },
            "type": "barpolar"
           }
          ],
          "carpet": [
           {
            "aaxis": {
             "endlinecolor": "#2a3f5f",
             "gridcolor": "white",
             "linecolor": "white",
             "minorgridcolor": "white",
             "startlinecolor": "#2a3f5f"
            },
            "baxis": {
             "endlinecolor": "#2a3f5f",
             "gridcolor": "white",
             "linecolor": "white",
             "minorgridcolor": "white",
             "startlinecolor": "#2a3f5f"
            },
            "type": "carpet"
           }
          ],
          "choropleth": [
           {
            "colorbar": {
             "outlinewidth": 0,
             "ticks": ""
            },
            "type": "choropleth"
           }
          ],
          "contour": [
           {
            "colorbar": {
             "outlinewidth": 0,
             "ticks": ""
            },
            "colorscale": [
             [
              0,
              "#0d0887"
             ],
             [
              0.1111111111111111,
              "#46039f"
             ],
             [
              0.2222222222222222,
              "#7201a8"
             ],
             [
              0.3333333333333333,
              "#9c179e"
             ],
             [
              0.4444444444444444,
              "#bd3786"
             ],
             [
              0.5555555555555556,
              "#d8576b"
             ],
             [
              0.6666666666666666,
              "#ed7953"
             ],
             [
              0.7777777777777778,
              "#fb9f3a"
             ],
             [
              0.8888888888888888,
              "#fdca26"
             ],
             [
              1,
              "#f0f921"
             ]
            ],
            "type": "contour"
           }
          ],
          "contourcarpet": [
           {
            "colorbar": {
             "outlinewidth": 0,
             "ticks": ""
            },
            "type": "contourcarpet"
           }
          ],
          "heatmap": [
           {
            "colorbar": {
             "outlinewidth": 0,
             "ticks": ""
            },
            "colorscale": [
             [
              0,
              "#0d0887"
             ],
             [
              0.1111111111111111,
              "#46039f"
             ],
             [
              0.2222222222222222,
              "#7201a8"
             ],
             [
              0.3333333333333333,
              "#9c179e"
             ],
             [
              0.4444444444444444,
              "#bd3786"
             ],
             [
              0.5555555555555556,
              "#d8576b"
             ],
             [
              0.6666666666666666,
              "#ed7953"
             ],
             [
              0.7777777777777778,
              "#fb9f3a"
             ],
             [
              0.8888888888888888,
              "#fdca26"
             ],
             [
              1,
              "#f0f921"
             ]
            ],
            "type": "heatmap"
           }
          ],
          "histogram": [
           {
            "marker": {
             "pattern": {
              "fillmode": "overlay",
              "size": 10,
              "solidity": 0.2
             }
            },
            "type": "histogram"
           }
          ],
          "histogram2d": [
           {
            "colorbar": {
             "outlinewidth": 0,
             "ticks": ""
            },
            "colorscale": [
             [
              0,
              "#0d0887"
             ],
             [
              0.1111111111111111,
              "#46039f"
             ],
             [
              0.2222222222222222,
              "#7201a8"
             ],
             [
              0.3333333333333333,
              "#9c179e"
             ],
             [
              0.4444444444444444,
              "#bd3786"
             ],
             [
              0.5555555555555556,
              "#d8576b"
             ],
             [
              0.6666666666666666,
              "#ed7953"
             ],
             [
              0.7777777777777778,
              "#fb9f3a"
             ],
             [
              0.8888888888888888,
              "#fdca26"
             ],
             [
              1,
              "#f0f921"
             ]
            ],
            "type": "histogram2d"
           }
          ],
          "histogram2dcontour": [
           {
            "colorbar": {
             "outlinewidth": 0,
             "ticks": ""
            },
            "colorscale": [
             [
              0,
              "#0d0887"
             ],
             [
              0.1111111111111111,
              "#46039f"
             ],
             [
              0.2222222222222222,
              "#7201a8"
             ],
             [
              0.3333333333333333,
              "#9c179e"
             ],
             [
              0.4444444444444444,
              "#bd3786"
             ],
             [
              0.5555555555555556,
              "#d8576b"
             ],
             [
              0.6666666666666666,
              "#ed7953"
             ],
             [
              0.7777777777777778,
              "#fb9f3a"
             ],
             [
              0.8888888888888888,
              "#fdca26"
             ],
             [
              1,
              "#f0f921"
             ]
            ],
            "type": "histogram2dcontour"
           }
          ],
          "mesh3d": [
           {
            "colorbar": {
             "outlinewidth": 0,
             "ticks": ""
            },
            "type": "mesh3d"
           }
          ],
          "parcoords": [
           {
            "line": {
             "colorbar": {
              "outlinewidth": 0,
              "ticks": ""
             }
            },
            "type": "parcoords"
           }
          ],
          "pie": [
           {
            "automargin": true,
            "type": "pie"
           }
          ],
          "scatter": [
           {
            "fillpattern": {
             "fillmode": "overlay",
             "size": 10,
             "solidity": 0.2
            },
            "type": "scatter"
           }
          ],
          "scatter3d": [
           {
            "line": {
             "colorbar": {
              "outlinewidth": 0,
              "ticks": ""
             }
            },
            "marker": {
             "colorbar": {
              "outlinewidth": 0,
              "ticks": ""
             }
            },
            "type": "scatter3d"
           }
          ],
          "scattercarpet": [
           {
            "marker": {
             "colorbar": {
              "outlinewidth": 0,
              "ticks": ""
             }
            },
            "type": "scattercarpet"
           }
          ],
          "scattergeo": [
           {
            "marker": {
             "colorbar": {
              "outlinewidth": 0,
              "ticks": ""
             }
            },
            "type": "scattergeo"
           }
          ],
          "scattergl": [
           {
            "marker": {
             "colorbar": {
              "outlinewidth": 0,
              "ticks": ""
             }
            },
            "type": "scattergl"
           }
          ],
          "scattermap": [
           {
            "marker": {
             "colorbar": {
              "outlinewidth": 0,
              "ticks": ""
             }
            },
            "type": "scattermap"
           }
          ],
          "scattermapbox": [
           {
            "marker": {
             "colorbar": {
              "outlinewidth": 0,
              "ticks": ""
             }
            },
            "type": "scattermapbox"
           }
          ],
          "scatterpolar": [
           {
            "marker": {
             "colorbar": {
              "outlinewidth": 0,
              "ticks": ""
             }
            },
            "type": "scatterpolar"
           }
          ],
          "scatterpolargl": [
           {
            "marker": {
             "colorbar": {
              "outlinewidth": 0,
              "ticks": ""
             }
            },
            "type": "scatterpolargl"
           }
          ],
          "scatterternary": [
           {
            "marker": {
             "colorbar": {
              "outlinewidth": 0,
              "ticks": ""
             }
            },
            "type": "scatterternary"
           }
          ],
          "surface": [
           {
            "colorbar": {
             "outlinewidth": 0,
             "ticks": ""
            },
            "colorscale": [
             [
              0,
              "#0d0887"
             ],
             [
              0.1111111111111111,
              "#46039f"
             ],
             [
              0.2222222222222222,
              "#7201a8"
             ],
             [
              0.3333333333333333,
              "#9c179e"
             ],
             [
              0.4444444444444444,
              "#bd3786"
             ],
             [
              0.5555555555555556,
              "#d8576b"
             ],
             [
              0.6666666666666666,
              "#ed7953"
             ],
             [
              0.7777777777777778,
              "#fb9f3a"
             ],
             [
              0.8888888888888888,
              "#fdca26"
             ],
             [
              1,
              "#f0f921"
             ]
            ],
            "type": "surface"
           }
          ],
          "table": [
           {
            "cells": {
             "fill": {
              "color": "#EBF0F8"
             },
             "line": {
              "color": "white"
             }
            },
            "header": {
             "fill": {
              "color": "#C8D4E3"
             },
             "line": {
              "color": "white"
             }
            },
            "type": "table"
           }
          ]
         },
         "layout": {
          "annotationdefaults": {
           "arrowcolor": "#2a3f5f",
           "arrowhead": 0,
           "arrowwidth": 1
          },
          "autotypenumbers": "strict",
          "coloraxis": {
           "colorbar": {
            "outlinewidth": 0,
            "ticks": ""
           }
          },
          "colorscale": {
           "diverging": [
            [
             0,
             "#8e0152"
            ],
            [
             0.1,
             "#c51b7d"
            ],
            [
             0.2,
             "#de77ae"
            ],
            [
             0.3,
             "#f1b6da"
            ],
            [
             0.4,
             "#fde0ef"
            ],
            [
             0.5,
             "#f7f7f7"
            ],
            [
             0.6,
             "#e6f5d0"
            ],
            [
             0.7,
             "#b8e186"
            ],
            [
             0.8,
             "#7fbc41"
            ],
            [
             0.9,
             "#4d9221"
            ],
            [
             1,
             "#276419"
            ]
           ],
           "sequential": [
            [
             0,
             "#0d0887"
            ],
            [
             0.1111111111111111,
             "#46039f"
            ],
            [
             0.2222222222222222,
             "#7201a8"
            ],
            [
             0.3333333333333333,
             "#9c179e"
            ],
            [
             0.4444444444444444,
             "#bd3786"
            ],
            [
             0.5555555555555556,
             "#d8576b"
            ],
            [
             0.6666666666666666,
             "#ed7953"
            ],
            [
             0.7777777777777778,
             "#fb9f3a"
            ],
            [
             0.8888888888888888,
             "#fdca26"
            ],
            [
             1,
             "#f0f921"
            ]
           ],
           "sequentialminus": [
            [
             0,
             "#0d0887"
            ],
            [
             0.1111111111111111,
             "#46039f"
            ],
            [
             0.2222222222222222,
             "#7201a8"
            ],
            [
             0.3333333333333333,
             "#9c179e"
            ],
            [
             0.4444444444444444,
             "#bd3786"
            ],
            [
             0.5555555555555556,
             "#d8576b"
            ],
            [
             0.6666666666666666,
             "#ed7953"
            ],
            [
             0.7777777777777778,
             "#fb9f3a"
            ],
            [
             0.8888888888888888,
             "#fdca26"
            ],
            [
             1,
             "#f0f921"
            ]
           ]
          },
          "colorway": [
           "#636efa",
           "#EF553B",
           "#00cc96",
           "#ab63fa",
           "#FFA15A",
           "#19d3f3",
           "#FF6692",
           "#B6E880",
           "#FF97FF",
           "#FECB52"
          ],
          "font": {
           "color": "#2a3f5f"
          },
          "geo": {
           "bgcolor": "white",
           "lakecolor": "white",
           "landcolor": "#E5ECF6",
           "showlakes": true,
           "showland": true,
           "subunitcolor": "white"
          },
          "hoverlabel": {
           "align": "left"
          },
          "hovermode": "closest",
          "mapbox": {
           "style": "light"
          },
          "paper_bgcolor": "white",
          "plot_bgcolor": "#E5ECF6",
          "polar": {
           "angularaxis": {
            "gridcolor": "white",
            "linecolor": "white",
            "ticks": ""
           },
           "bgcolor": "#E5ECF6",
           "radialaxis": {
            "gridcolor": "white",
            "linecolor": "white",
            "ticks": ""
           }
          },
          "scene": {
           "xaxis": {
            "backgroundcolor": "#E5ECF6",
            "gridcolor": "white",
            "gridwidth": 2,
            "linecolor": "white",
            "showbackground": true,
            "ticks": "",
            "zerolinecolor": "white"
           },
           "yaxis": {
            "backgroundcolor": "#E5ECF6",
            "gridcolor": "white",
            "gridwidth": 2,
            "linecolor": "white",
            "showbackground": true,
            "ticks": "",
            "zerolinecolor": "white"
           },
           "zaxis": {
            "backgroundcolor": "#E5ECF6",
            "gridcolor": "white",
            "gridwidth": 2,
            "linecolor": "white",
            "showbackground": true,
            "ticks": "",
            "zerolinecolor": "white"
           }
          },
          "shapedefaults": {
           "line": {
            "color": "#2a3f5f"
           }
          },
          "ternary": {
           "aaxis": {
            "gridcolor": "white",
            "linecolor": "white",
            "ticks": ""
           },
           "baxis": {
            "gridcolor": "white",
            "linecolor": "white",
            "ticks": ""
           },
           "bgcolor": "#E5ECF6",
           "caxis": {
            "gridcolor": "white",
            "linecolor": "white",
            "ticks": ""
           }
          },
          "title": {
           "x": 0.05
          },
          "xaxis": {
           "automargin": true,
           "gridcolor": "white",
           "linecolor": "white",
           "ticks": "",
           "title": {
            "standoff": 15
           },
           "zerolinecolor": "white",
           "zerolinewidth": 2
          },
          "yaxis": {
           "automargin": true,
           "gridcolor": "white",
           "linecolor": "white",
           "ticks": "",
           "title": {
            "standoff": 15
           },
           "zerolinecolor": "white",
           "zerolinewidth": 2
          }
         }
        },
        "title": {
         "text": "Historical Cumulative Returns of the Portfolio"
        },
        "xaxis": {
         "anchor": "y",
         "domain": [
          0,
          1
         ],
         "title": {
          "text": "Date"
         }
        },
        "yaxis": {
         "anchor": "x",
         "domain": [
          0,
          1
         ],
         "title": {
          "text": "Cumulative Return"
         }
        }
       }
      }
     },
     "metadata": {},
     "output_type": "display_data"
    }
   ],
   "source": [
    "# --- Historical Cumulative Returns of the Portfolio ---\n",
    "import numpy as np\n",
    "import plotly.express as px\n",
    "\n",
    "# Compute daily returns for each asset\n",
    "returns_df = df.pct_change().dropna()\n",
    "\n",
    "weight_df.set_index(\"date\", inplace=True)\n",
    "\n",
    "# Align weights with asset returns (forward-fill missing weights if needed)\n",
    "weights_aligned = weight_df.reindex(returns_df.index).ffill()\n",
    "\n",
    "# Compute portfolio daily return as the weighted average of asset returns\n",
    "portfolio_daily_return = (returns_df * weights_aligned).sum(axis=1)\n",
    "\n",
    "# Compute cumulative return: (1 + daily_return) compounded over time minus 1\n",
    "cumulative_return = (1 + portfolio_daily_return).cumprod() - 1\n",
    "\n",
    "fig = px.line(\n",
    "    x=cumulative_return.index,\n",
    "    y=cumulative_return.values,\n",
    "    title=\"Historical Cumulative Returns of the Portfolio\",\n",
    "    labels={\"x\": \"Date\", \"y\": \"Cumulative Return\"}\n",
    ")\n",
    "fig.show()\n"
   ]
  },
  {
   "cell_type": "markdown",
   "metadata": {
    "tags": []
   },
   "source": [
    "<h2 style=\"color: #FF6347;\">Annualized Return.</h2>\n",
    "<h3 style=\"color: #FF6347;\">-- Insert your code here --</h3>"
   ]
  },
  {
   "cell_type": "code",
   "execution_count": 375,
   "metadata": {},
   "outputs": [
    {
     "data": {
      "application/vnd.plotly.v1+json": {
       "config": {
        "plotlyServerURL": "https://plot.ly"
       },
       "data": [
        {
         "name": "Annualized Return",
         "type": "bar",
         "x": [
          "Annualized Return"
         ],
         "y": [
          0.11908725839263701
         ]
        }
       ],
       "layout": {
        "template": {
         "data": {
          "bar": [
           {
            "error_x": {
             "color": "#2a3f5f"
            },
            "error_y": {
             "color": "#2a3f5f"
            },
            "marker": {
             "line": {
              "color": "#E5ECF6",
              "width": 0.5
             },
             "pattern": {
              "fillmode": "overlay",
              "size": 10,
              "solidity": 0.2
             }
            },
            "type": "bar"
           }
          ],
          "barpolar": [
           {
            "marker": {
             "line": {
              "color": "#E5ECF6",
              "width": 0.5
             },
             "pattern": {
              "fillmode": "overlay",
              "size": 10,
              "solidity": 0.2
             }
            },
            "type": "barpolar"
           }
          ],
          "carpet": [
           {
            "aaxis": {
             "endlinecolor": "#2a3f5f",
             "gridcolor": "white",
             "linecolor": "white",
             "minorgridcolor": "white",
             "startlinecolor": "#2a3f5f"
            },
            "baxis": {
             "endlinecolor": "#2a3f5f",
             "gridcolor": "white",
             "linecolor": "white",
             "minorgridcolor": "white",
             "startlinecolor": "#2a3f5f"
            },
            "type": "carpet"
           }
          ],
          "choropleth": [
           {
            "colorbar": {
             "outlinewidth": 0,
             "ticks": ""
            },
            "type": "choropleth"
           }
          ],
          "contour": [
           {
            "colorbar": {
             "outlinewidth": 0,
             "ticks": ""
            },
            "colorscale": [
             [
              0,
              "#0d0887"
             ],
             [
              0.1111111111111111,
              "#46039f"
             ],
             [
              0.2222222222222222,
              "#7201a8"
             ],
             [
              0.3333333333333333,
              "#9c179e"
             ],
             [
              0.4444444444444444,
              "#bd3786"
             ],
             [
              0.5555555555555556,
              "#d8576b"
             ],
             [
              0.6666666666666666,
              "#ed7953"
             ],
             [
              0.7777777777777778,
              "#fb9f3a"
             ],
             [
              0.8888888888888888,
              "#fdca26"
             ],
             [
              1,
              "#f0f921"
             ]
            ],
            "type": "contour"
           }
          ],
          "contourcarpet": [
           {
            "colorbar": {
             "outlinewidth": 0,
             "ticks": ""
            },
            "type": "contourcarpet"
           }
          ],
          "heatmap": [
           {
            "colorbar": {
             "outlinewidth": 0,
             "ticks": ""
            },
            "colorscale": [
             [
              0,
              "#0d0887"
             ],
             [
              0.1111111111111111,
              "#46039f"
             ],
             [
              0.2222222222222222,
              "#7201a8"
             ],
             [
              0.3333333333333333,
              "#9c179e"
             ],
             [
              0.4444444444444444,
              "#bd3786"
             ],
             [
              0.5555555555555556,
              "#d8576b"
             ],
             [
              0.6666666666666666,
              "#ed7953"
             ],
             [
              0.7777777777777778,
              "#fb9f3a"
             ],
             [
              0.8888888888888888,
              "#fdca26"
             ],
             [
              1,
              "#f0f921"
             ]
            ],
            "type": "heatmap"
           }
          ],
          "histogram": [
           {
            "marker": {
             "pattern": {
              "fillmode": "overlay",
              "size": 10,
              "solidity": 0.2
             }
            },
            "type": "histogram"
           }
          ],
          "histogram2d": [
           {
            "colorbar": {
             "outlinewidth": 0,
             "ticks": ""
            },
            "colorscale": [
             [
              0,
              "#0d0887"
             ],
             [
              0.1111111111111111,
              "#46039f"
             ],
             [
              0.2222222222222222,
              "#7201a8"
             ],
             [
              0.3333333333333333,
              "#9c179e"
             ],
             [
              0.4444444444444444,
              "#bd3786"
             ],
             [
              0.5555555555555556,
              "#d8576b"
             ],
             [
              0.6666666666666666,
              "#ed7953"
             ],
             [
              0.7777777777777778,
              "#fb9f3a"
             ],
             [
              0.8888888888888888,
              "#fdca26"
             ],
             [
              1,
              "#f0f921"
             ]
            ],
            "type": "histogram2d"
           }
          ],
          "histogram2dcontour": [
           {
            "colorbar": {
             "outlinewidth": 0,
             "ticks": ""
            },
            "colorscale": [
             [
              0,
              "#0d0887"
             ],
             [
              0.1111111111111111,
              "#46039f"
             ],
             [
              0.2222222222222222,
              "#7201a8"
             ],
             [
              0.3333333333333333,
              "#9c179e"
             ],
             [
              0.4444444444444444,
              "#bd3786"
             ],
             [
              0.5555555555555556,
              "#d8576b"
             ],
             [
              0.6666666666666666,
              "#ed7953"
             ],
             [
              0.7777777777777778,
              "#fb9f3a"
             ],
             [
              0.8888888888888888,
              "#fdca26"
             ],
             [
              1,
              "#f0f921"
             ]
            ],
            "type": "histogram2dcontour"
           }
          ],
          "mesh3d": [
           {
            "colorbar": {
             "outlinewidth": 0,
             "ticks": ""
            },
            "type": "mesh3d"
           }
          ],
          "parcoords": [
           {
            "line": {
             "colorbar": {
              "outlinewidth": 0,
              "ticks": ""
             }
            },
            "type": "parcoords"
           }
          ],
          "pie": [
           {
            "automargin": true,
            "type": "pie"
           }
          ],
          "scatter": [
           {
            "fillpattern": {
             "fillmode": "overlay",
             "size": 10,
             "solidity": 0.2
            },
            "type": "scatter"
           }
          ],
          "scatter3d": [
           {
            "line": {
             "colorbar": {
              "outlinewidth": 0,
              "ticks": ""
             }
            },
            "marker": {
             "colorbar": {
              "outlinewidth": 0,
              "ticks": ""
             }
            },
            "type": "scatter3d"
           }
          ],
          "scattercarpet": [
           {
            "marker": {
             "colorbar": {
              "outlinewidth": 0,
              "ticks": ""
             }
            },
            "type": "scattercarpet"
           }
          ],
          "scattergeo": [
           {
            "marker": {
             "colorbar": {
              "outlinewidth": 0,
              "ticks": ""
             }
            },
            "type": "scattergeo"
           }
          ],
          "scattergl": [
           {
            "marker": {
             "colorbar": {
              "outlinewidth": 0,
              "ticks": ""
             }
            },
            "type": "scattergl"
           }
          ],
          "scattermap": [
           {
            "marker": {
             "colorbar": {
              "outlinewidth": 0,
              "ticks": ""
             }
            },
            "type": "scattermap"
           }
          ],
          "scattermapbox": [
           {
            "marker": {
             "colorbar": {
              "outlinewidth": 0,
              "ticks": ""
             }
            },
            "type": "scattermapbox"
           }
          ],
          "scatterpolar": [
           {
            "marker": {
             "colorbar": {
              "outlinewidth": 0,
              "ticks": ""
             }
            },
            "type": "scatterpolar"
           }
          ],
          "scatterpolargl": [
           {
            "marker": {
             "colorbar": {
              "outlinewidth": 0,
              "ticks": ""
             }
            },
            "type": "scatterpolargl"
           }
          ],
          "scatterternary": [
           {
            "marker": {
             "colorbar": {
              "outlinewidth": 0,
              "ticks": ""
             }
            },
            "type": "scatterternary"
           }
          ],
          "surface": [
           {
            "colorbar": {
             "outlinewidth": 0,
             "ticks": ""
            },
            "colorscale": [
             [
              0,
              "#0d0887"
             ],
             [
              0.1111111111111111,
              "#46039f"
             ],
             [
              0.2222222222222222,
              "#7201a8"
             ],
             [
              0.3333333333333333,
              "#9c179e"
             ],
             [
              0.4444444444444444,
              "#bd3786"
             ],
             [
              0.5555555555555556,
              "#d8576b"
             ],
             [
              0.6666666666666666,
              "#ed7953"
             ],
             [
              0.7777777777777778,
              "#fb9f3a"
             ],
             [
              0.8888888888888888,
              "#fdca26"
             ],
             [
              1,
              "#f0f921"
             ]
            ],
            "type": "surface"
           }
          ],
          "table": [
           {
            "cells": {
             "fill": {
              "color": "#EBF0F8"
             },
             "line": {
              "color": "white"
             }
            },
            "header": {
             "fill": {
              "color": "#C8D4E3"
             },
             "line": {
              "color": "white"
             }
            },
            "type": "table"
           }
          ]
         },
         "layout": {
          "annotationdefaults": {
           "arrowcolor": "#2a3f5f",
           "arrowhead": 0,
           "arrowwidth": 1
          },
          "autotypenumbers": "strict",
          "coloraxis": {
           "colorbar": {
            "outlinewidth": 0,
            "ticks": ""
           }
          },
          "colorscale": {
           "diverging": [
            [
             0,
             "#8e0152"
            ],
            [
             0.1,
             "#c51b7d"
            ],
            [
             0.2,
             "#de77ae"
            ],
            [
             0.3,
             "#f1b6da"
            ],
            [
             0.4,
             "#fde0ef"
            ],
            [
             0.5,
             "#f7f7f7"
            ],
            [
             0.6,
             "#e6f5d0"
            ],
            [
             0.7,
             "#b8e186"
            ],
            [
             0.8,
             "#7fbc41"
            ],
            [
             0.9,
             "#4d9221"
            ],
            [
             1,
             "#276419"
            ]
           ],
           "sequential": [
            [
             0,
             "#0d0887"
            ],
            [
             0.1111111111111111,
             "#46039f"
            ],
            [
             0.2222222222222222,
             "#7201a8"
            ],
            [
             0.3333333333333333,
             "#9c179e"
            ],
            [
             0.4444444444444444,
             "#bd3786"
            ],
            [
             0.5555555555555556,
             "#d8576b"
            ],
            [
             0.6666666666666666,
             "#ed7953"
            ],
            [
             0.7777777777777778,
             "#fb9f3a"
            ],
            [
             0.8888888888888888,
             "#fdca26"
            ],
            [
             1,
             "#f0f921"
            ]
           ],
           "sequentialminus": [
            [
             0,
             "#0d0887"
            ],
            [
             0.1111111111111111,
             "#46039f"
            ],
            [
             0.2222222222222222,
             "#7201a8"
            ],
            [
             0.3333333333333333,
             "#9c179e"
            ],
            [
             0.4444444444444444,
             "#bd3786"
            ],
            [
             0.5555555555555556,
             "#d8576b"
            ],
            [
             0.6666666666666666,
             "#ed7953"
            ],
            [
             0.7777777777777778,
             "#fb9f3a"
            ],
            [
             0.8888888888888888,
             "#fdca26"
            ],
            [
             1,
             "#f0f921"
            ]
           ]
          },
          "colorway": [
           "#636efa",
           "#EF553B",
           "#00cc96",
           "#ab63fa",
           "#FFA15A",
           "#19d3f3",
           "#FF6692",
           "#B6E880",
           "#FF97FF",
           "#FECB52"
          ],
          "font": {
           "color": "#2a3f5f"
          },
          "geo": {
           "bgcolor": "white",
           "lakecolor": "white",
           "landcolor": "#E5ECF6",
           "showlakes": true,
           "showland": true,
           "subunitcolor": "white"
          },
          "hoverlabel": {
           "align": "left"
          },
          "hovermode": "closest",
          "mapbox": {
           "style": "light"
          },
          "paper_bgcolor": "white",
          "plot_bgcolor": "#E5ECF6",
          "polar": {
           "angularaxis": {
            "gridcolor": "white",
            "linecolor": "white",
            "ticks": ""
           },
           "bgcolor": "#E5ECF6",
           "radialaxis": {
            "gridcolor": "white",
            "linecolor": "white",
            "ticks": ""
           }
          },
          "scene": {
           "xaxis": {
            "backgroundcolor": "#E5ECF6",
            "gridcolor": "white",
            "gridwidth": 2,
            "linecolor": "white",
            "showbackground": true,
            "ticks": "",
            "zerolinecolor": "white"
           },
           "yaxis": {
            "backgroundcolor": "#E5ECF6",
            "gridcolor": "white",
            "gridwidth": 2,
            "linecolor": "white",
            "showbackground": true,
            "ticks": "",
            "zerolinecolor": "white"
           },
           "zaxis": {
            "backgroundcolor": "#E5ECF6",
            "gridcolor": "white",
            "gridwidth": 2,
            "linecolor": "white",
            "showbackground": true,
            "ticks": "",
            "zerolinecolor": "white"
           }
          },
          "shapedefaults": {
           "line": {
            "color": "#2a3f5f"
           }
          },
          "ternary": {
           "aaxis": {
            "gridcolor": "white",
            "linecolor": "white",
            "ticks": ""
           },
           "baxis": {
            "gridcolor": "white",
            "linecolor": "white",
            "ticks": ""
           },
           "bgcolor": "#E5ECF6",
           "caxis": {
            "gridcolor": "white",
            "linecolor": "white",
            "ticks": ""
           }
          },
          "title": {
           "x": 0.05
          },
          "xaxis": {
           "automargin": true,
           "gridcolor": "white",
           "linecolor": "white",
           "ticks": "",
           "title": {
            "standoff": 15
           },
           "zerolinecolor": "white",
           "zerolinewidth": 2
          },
          "yaxis": {
           "automargin": true,
           "gridcolor": "white",
           "linecolor": "white",
           "ticks": "",
           "title": {
            "standoff": 15
           },
           "zerolinecolor": "white",
           "zerolinewidth": 2
          }
         }
        },
        "title": {
         "text": "Annualized Return"
        },
        "yaxis": {
         "tickformat": ".2%"
        }
       }
      }
     },
     "metadata": {},
     "output_type": "display_data"
    }
   ],
   "source": [
    "avg_daily_return = portfolio_daily_return.mean()\n",
    "annualized_return = (1 + avg_daily_return) ** 261 - 1\n",
    "import plotly.graph_objects as go\n",
    "\n",
    "fig = go.Figure(data=[\n",
    "    go.Bar(name=\"Annualized Return\", x=[\"Annualized Return\"], y=[annualized_return])\n",
    "])\n",
    "fig.update_layout(title=\"Annualized Return\", yaxis_tickformat=\".2%\")\n",
    "fig.show()\n"
   ]
  },
  {
   "cell_type": "markdown",
   "metadata": {
    "tags": []
   },
   "source": [
    "<h2 style=\"color: #FF6347;\">Annualized Volatility.</h2>\n",
    "<h3 style=\"color: #FF6347;\">-- Insert your code here --</h3>"
   ]
  },
  {
   "cell_type": "code",
   "execution_count": 376,
   "metadata": {},
   "outputs": [
    {
     "data": {
      "application/vnd.plotly.v1+json": {
       "config": {
        "plotlyServerURL": "https://plot.ly"
       },
       "data": [
        {
         "name": "Annualized Volatility",
         "type": "bar",
         "x": [
          "Annualized Volatility"
         ],
         "y": [
          0.08512646107451315
         ]
        }
       ],
       "layout": {
        "template": {
         "data": {
          "bar": [
           {
            "error_x": {
             "color": "#2a3f5f"
            },
            "error_y": {
             "color": "#2a3f5f"
            },
            "marker": {
             "line": {
              "color": "#E5ECF6",
              "width": 0.5
             },
             "pattern": {
              "fillmode": "overlay",
              "size": 10,
              "solidity": 0.2
             }
            },
            "type": "bar"
           }
          ],
          "barpolar": [
           {
            "marker": {
             "line": {
              "color": "#E5ECF6",
              "width": 0.5
             },
             "pattern": {
              "fillmode": "overlay",
              "size": 10,
              "solidity": 0.2
             }
            },
            "type": "barpolar"
           }
          ],
          "carpet": [
           {
            "aaxis": {
             "endlinecolor": "#2a3f5f",
             "gridcolor": "white",
             "linecolor": "white",
             "minorgridcolor": "white",
             "startlinecolor": "#2a3f5f"
            },
            "baxis": {
             "endlinecolor": "#2a3f5f",
             "gridcolor": "white",
             "linecolor": "white",
             "minorgridcolor": "white",
             "startlinecolor": "#2a3f5f"
            },
            "type": "carpet"
           }
          ],
          "choropleth": [
           {
            "colorbar": {
             "outlinewidth": 0,
             "ticks": ""
            },
            "type": "choropleth"
           }
          ],
          "contour": [
           {
            "colorbar": {
             "outlinewidth": 0,
             "ticks": ""
            },
            "colorscale": [
             [
              0,
              "#0d0887"
             ],
             [
              0.1111111111111111,
              "#46039f"
             ],
             [
              0.2222222222222222,
              "#7201a8"
             ],
             [
              0.3333333333333333,
              "#9c179e"
             ],
             [
              0.4444444444444444,
              "#bd3786"
             ],
             [
              0.5555555555555556,
              "#d8576b"
             ],
             [
              0.6666666666666666,
              "#ed7953"
             ],
             [
              0.7777777777777778,
              "#fb9f3a"
             ],
             [
              0.8888888888888888,
              "#fdca26"
             ],
             [
              1,
              "#f0f921"
             ]
            ],
            "type": "contour"
           }
          ],
          "contourcarpet": [
           {
            "colorbar": {
             "outlinewidth": 0,
             "ticks": ""
            },
            "type": "contourcarpet"
           }
          ],
          "heatmap": [
           {
            "colorbar": {
             "outlinewidth": 0,
             "ticks": ""
            },
            "colorscale": [
             [
              0,
              "#0d0887"
             ],
             [
              0.1111111111111111,
              "#46039f"
             ],
             [
              0.2222222222222222,
              "#7201a8"
             ],
             [
              0.3333333333333333,
              "#9c179e"
             ],
             [
              0.4444444444444444,
              "#bd3786"
             ],
             [
              0.5555555555555556,
              "#d8576b"
             ],
             [
              0.6666666666666666,
              "#ed7953"
             ],
             [
              0.7777777777777778,
              "#fb9f3a"
             ],
             [
              0.8888888888888888,
              "#fdca26"
             ],
             [
              1,
              "#f0f921"
             ]
            ],
            "type": "heatmap"
           }
          ],
          "histogram": [
           {
            "marker": {
             "pattern": {
              "fillmode": "overlay",
              "size": 10,
              "solidity": 0.2
             }
            },
            "type": "histogram"
           }
          ],
          "histogram2d": [
           {
            "colorbar": {
             "outlinewidth": 0,
             "ticks": ""
            },
            "colorscale": [
             [
              0,
              "#0d0887"
             ],
             [
              0.1111111111111111,
              "#46039f"
             ],
             [
              0.2222222222222222,
              "#7201a8"
             ],
             [
              0.3333333333333333,
              "#9c179e"
             ],
             [
              0.4444444444444444,
              "#bd3786"
             ],
             [
              0.5555555555555556,
              "#d8576b"
             ],
             [
              0.6666666666666666,
              "#ed7953"
             ],
             [
              0.7777777777777778,
              "#fb9f3a"
             ],
             [
              0.8888888888888888,
              "#fdca26"
             ],
             [
              1,
              "#f0f921"
             ]
            ],
            "type": "histogram2d"
           }
          ],
          "histogram2dcontour": [
           {
            "colorbar": {
             "outlinewidth": 0,
             "ticks": ""
            },
            "colorscale": [
             [
              0,
              "#0d0887"
             ],
             [
              0.1111111111111111,
              "#46039f"
             ],
             [
              0.2222222222222222,
              "#7201a8"
             ],
             [
              0.3333333333333333,
              "#9c179e"
             ],
             [
              0.4444444444444444,
              "#bd3786"
             ],
             [
              0.5555555555555556,
              "#d8576b"
             ],
             [
              0.6666666666666666,
              "#ed7953"
             ],
             [
              0.7777777777777778,
              "#fb9f3a"
             ],
             [
              0.8888888888888888,
              "#fdca26"
             ],
             [
              1,
              "#f0f921"
             ]
            ],
            "type": "histogram2dcontour"
           }
          ],
          "mesh3d": [
           {
            "colorbar": {
             "outlinewidth": 0,
             "ticks": ""
            },
            "type": "mesh3d"
           }
          ],
          "parcoords": [
           {
            "line": {
             "colorbar": {
              "outlinewidth": 0,
              "ticks": ""
             }
            },
            "type": "parcoords"
           }
          ],
          "pie": [
           {
            "automargin": true,
            "type": "pie"
           }
          ],
          "scatter": [
           {
            "fillpattern": {
             "fillmode": "overlay",
             "size": 10,
             "solidity": 0.2
            },
            "type": "scatter"
           }
          ],
          "scatter3d": [
           {
            "line": {
             "colorbar": {
              "outlinewidth": 0,
              "ticks": ""
             }
            },
            "marker": {
             "colorbar": {
              "outlinewidth": 0,
              "ticks": ""
             }
            },
            "type": "scatter3d"
           }
          ],
          "scattercarpet": [
           {
            "marker": {
             "colorbar": {
              "outlinewidth": 0,
              "ticks": ""
             }
            },
            "type": "scattercarpet"
           }
          ],
          "scattergeo": [
           {
            "marker": {
             "colorbar": {
              "outlinewidth": 0,
              "ticks": ""
             }
            },
            "type": "scattergeo"
           }
          ],
          "scattergl": [
           {
            "marker": {
             "colorbar": {
              "outlinewidth": 0,
              "ticks": ""
             }
            },
            "type": "scattergl"
           }
          ],
          "scattermap": [
           {
            "marker": {
             "colorbar": {
              "outlinewidth": 0,
              "ticks": ""
             }
            },
            "type": "scattermap"
           }
          ],
          "scattermapbox": [
           {
            "marker": {
             "colorbar": {
              "outlinewidth": 0,
              "ticks": ""
             }
            },
            "type": "scattermapbox"
           }
          ],
          "scatterpolar": [
           {
            "marker": {
             "colorbar": {
              "outlinewidth": 0,
              "ticks": ""
             }
            },
            "type": "scatterpolar"
           }
          ],
          "scatterpolargl": [
           {
            "marker": {
             "colorbar": {
              "outlinewidth": 0,
              "ticks": ""
             }
            },
            "type": "scatterpolargl"
           }
          ],
          "scatterternary": [
           {
            "marker": {
             "colorbar": {
              "outlinewidth": 0,
              "ticks": ""
             }
            },
            "type": "scatterternary"
           }
          ],
          "surface": [
           {
            "colorbar": {
             "outlinewidth": 0,
             "ticks": ""
            },
            "colorscale": [
             [
              0,
              "#0d0887"
             ],
             [
              0.1111111111111111,
              "#46039f"
             ],
             [
              0.2222222222222222,
              "#7201a8"
             ],
             [
              0.3333333333333333,
              "#9c179e"
             ],
             [
              0.4444444444444444,
              "#bd3786"
             ],
             [
              0.5555555555555556,
              "#d8576b"
             ],
             [
              0.6666666666666666,
              "#ed7953"
             ],
             [
              0.7777777777777778,
              "#fb9f3a"
             ],
             [
              0.8888888888888888,
              "#fdca26"
             ],
             [
              1,
              "#f0f921"
             ]
            ],
            "type": "surface"
           }
          ],
          "table": [
           {
            "cells": {
             "fill": {
              "color": "#EBF0F8"
             },
             "line": {
              "color": "white"
             }
            },
            "header": {
             "fill": {
              "color": "#C8D4E3"
             },
             "line": {
              "color": "white"
             }
            },
            "type": "table"
           }
          ]
         },
         "layout": {
          "annotationdefaults": {
           "arrowcolor": "#2a3f5f",
           "arrowhead": 0,
           "arrowwidth": 1
          },
          "autotypenumbers": "strict",
          "coloraxis": {
           "colorbar": {
            "outlinewidth": 0,
            "ticks": ""
           }
          },
          "colorscale": {
           "diverging": [
            [
             0,
             "#8e0152"
            ],
            [
             0.1,
             "#c51b7d"
            ],
            [
             0.2,
             "#de77ae"
            ],
            [
             0.3,
             "#f1b6da"
            ],
            [
             0.4,
             "#fde0ef"
            ],
            [
             0.5,
             "#f7f7f7"
            ],
            [
             0.6,
             "#e6f5d0"
            ],
            [
             0.7,
             "#b8e186"
            ],
            [
             0.8,
             "#7fbc41"
            ],
            [
             0.9,
             "#4d9221"
            ],
            [
             1,
             "#276419"
            ]
           ],
           "sequential": [
            [
             0,
             "#0d0887"
            ],
            [
             0.1111111111111111,
             "#46039f"
            ],
            [
             0.2222222222222222,
             "#7201a8"
            ],
            [
             0.3333333333333333,
             "#9c179e"
            ],
            [
             0.4444444444444444,
             "#bd3786"
            ],
            [
             0.5555555555555556,
             "#d8576b"
            ],
            [
             0.6666666666666666,
             "#ed7953"
            ],
            [
             0.7777777777777778,
             "#fb9f3a"
            ],
            [
             0.8888888888888888,
             "#fdca26"
            ],
            [
             1,
             "#f0f921"
            ]
           ],
           "sequentialminus": [
            [
             0,
             "#0d0887"
            ],
            [
             0.1111111111111111,
             "#46039f"
            ],
            [
             0.2222222222222222,
             "#7201a8"
            ],
            [
             0.3333333333333333,
             "#9c179e"
            ],
            [
             0.4444444444444444,
             "#bd3786"
            ],
            [
             0.5555555555555556,
             "#d8576b"
            ],
            [
             0.6666666666666666,
             "#ed7953"
            ],
            [
             0.7777777777777778,
             "#fb9f3a"
            ],
            [
             0.8888888888888888,
             "#fdca26"
            ],
            [
             1,
             "#f0f921"
            ]
           ]
          },
          "colorway": [
           "#636efa",
           "#EF553B",
           "#00cc96",
           "#ab63fa",
           "#FFA15A",
           "#19d3f3",
           "#FF6692",
           "#B6E880",
           "#FF97FF",
           "#FECB52"
          ],
          "font": {
           "color": "#2a3f5f"
          },
          "geo": {
           "bgcolor": "white",
           "lakecolor": "white",
           "landcolor": "#E5ECF6",
           "showlakes": true,
           "showland": true,
           "subunitcolor": "white"
          },
          "hoverlabel": {
           "align": "left"
          },
          "hovermode": "closest",
          "mapbox": {
           "style": "light"
          },
          "paper_bgcolor": "white",
          "plot_bgcolor": "#E5ECF6",
          "polar": {
           "angularaxis": {
            "gridcolor": "white",
            "linecolor": "white",
            "ticks": ""
           },
           "bgcolor": "#E5ECF6",
           "radialaxis": {
            "gridcolor": "white",
            "linecolor": "white",
            "ticks": ""
           }
          },
          "scene": {
           "xaxis": {
            "backgroundcolor": "#E5ECF6",
            "gridcolor": "white",
            "gridwidth": 2,
            "linecolor": "white",
            "showbackground": true,
            "ticks": "",
            "zerolinecolor": "white"
           },
           "yaxis": {
            "backgroundcolor": "#E5ECF6",
            "gridcolor": "white",
            "gridwidth": 2,
            "linecolor": "white",
            "showbackground": true,
            "ticks": "",
            "zerolinecolor": "white"
           },
           "zaxis": {
            "backgroundcolor": "#E5ECF6",
            "gridcolor": "white",
            "gridwidth": 2,
            "linecolor": "white",
            "showbackground": true,
            "ticks": "",
            "zerolinecolor": "white"
           }
          },
          "shapedefaults": {
           "line": {
            "color": "#2a3f5f"
           }
          },
          "ternary": {
           "aaxis": {
            "gridcolor": "white",
            "linecolor": "white",
            "ticks": ""
           },
           "baxis": {
            "gridcolor": "white",
            "linecolor": "white",
            "ticks": ""
           },
           "bgcolor": "#E5ECF6",
           "caxis": {
            "gridcolor": "white",
            "linecolor": "white",
            "ticks": ""
           }
          },
          "title": {
           "x": 0.05
          },
          "xaxis": {
           "automargin": true,
           "gridcolor": "white",
           "linecolor": "white",
           "ticks": "",
           "title": {
            "standoff": 15
           },
           "zerolinecolor": "white",
           "zerolinewidth": 2
          },
          "yaxis": {
           "automargin": true,
           "gridcolor": "white",
           "linecolor": "white",
           "ticks": "",
           "title": {
            "standoff": 15
           },
           "zerolinecolor": "white",
           "zerolinewidth": 2
          }
         }
        },
        "title": {
         "text": "Annualized Volatility"
        },
        "yaxis": {
         "tickformat": ".2%"
        }
       }
      }
     },
     "metadata": {},
     "output_type": "display_data"
    }
   ],
   "source": [
    "daily_volatility = portfolio_daily_return.std()\n",
    "annualized_volatility = daily_volatility * np.sqrt(261)\n",
    "\n",
    "fig = go.Figure(data=[\n",
    "    go.Bar(name=\"Annualized Volatility\", x=[\"Annualized Volatility\"], y=[annualized_volatility])\n",
    "])\n",
    "fig.update_layout(title=\"Annualized Volatility\", yaxis_tickformat=\".2%\")\n",
    "fig.show()\n"
   ]
  },
  {
   "cell_type": "markdown",
   "metadata": {
    "tags": []
   },
   "source": [
    "<h2 style=\"color: #FF6347;\">Area Chart of Asset Weights Grouped by Family.</h2>\n",
    "<h3 style=\"color: #FF6347;\">-- Insert your code here --</h3>"
   ]
  },
  {
   "cell_type": "code",
   "execution_count": null,
   "metadata": {},
   "outputs": [
    {
     "data": {
      "application/vnd.plotly.v1+json": {
       "config": {
        "plotlyServerURL": "https://plot.ly"
       },
       "data": [
        {
         "fillpattern": {
          "shape": ""
         },
         "hovertemplate": "Asset Family=Alternative<br>Date=%{x}<br>Asset Weight=%{y}<extra></extra>",
         "legendgroup": "Alternative",
         "line": {
          "color": "#636efa"
         },
         "marker": {
          "symbol": "circle"
         },
         "mode": "lines",
         "name": "Alternative",
         "orientation": "v",
         "showlegend": true,
         "stackgroup": "1",
         "type": "scatter",
         "x": [
          "2019-01-02",
          "2019-01-03",
          "2019-01-04",
          "2019-01-07",
          "2019-01-08",
          "2019-01-09",
          "2019-01-10",
          "2019-01-11",
          "2019-01-14",
          "2019-01-15",
          "2019-01-16",
          "2019-01-17",
          "2019-01-18",
          "2019-01-21",
          "2019-01-22",
          "2019-01-23",
          "2019-01-24",
          "2019-01-25",
          "2019-01-28",
          "2019-01-29",
          "2019-01-30",
          "2019-01-31",
          "2019-02-01",
          "2019-02-04",
          "2019-02-05",
          "2019-02-06",
          "2019-02-07",
          "2019-02-08",
          "2019-02-11",
          "2019-02-12",
          "2019-02-13",
          "2019-02-14",
          "2019-02-15",
          "2019-02-18",
          "2019-02-19",
          "2019-02-20",
          "2019-02-21",
          "2019-02-22",
          "2019-02-25",
          "2019-02-26",
          "2019-02-27",
          "2019-02-28",
          "2019-03-01",
          "2019-03-04",
          "2019-03-05",
          "2019-03-06",
          "2019-03-07",
          "2019-03-08",
          "2019-03-11",
          "2019-03-12",
          "2019-03-13",
          "2019-03-14",
          "2019-03-15",
          "2019-03-18",
          "2019-03-19",
          "2019-03-20",
          "2019-03-21",
          "2019-03-22",
          "2019-03-25",
          "2019-03-26",
          "2019-03-27",
          "2019-03-28",
          "2019-03-29",
          "2019-04-01",
          "2019-04-02",
          "2019-04-03",
          "2019-04-04",
          "2019-04-05",
          "2019-04-08",
          "2019-04-09",
          "2019-04-10",
          "2019-04-11",
          "2019-04-12",
          "2019-04-15",
          "2019-04-16",
          "2019-04-17",
          "2019-04-18",
          "2019-04-19",
          "2019-04-22",
          "2019-04-23",
          "2019-04-24",
          "2019-04-25",
          "2019-04-26",
          "2019-04-29",
          "2019-04-30",
          "2019-05-01",
          "2019-05-02",
          "2019-05-03",
          "2019-05-06",
          "2019-05-07",
          "2019-05-08",
          "2019-05-09",
          "2019-05-10",
          "2019-05-13",
          "2019-05-14",
          "2019-05-15",
          "2019-05-16",
          "2019-05-17",
          "2019-05-20",
          "2019-05-21",
          "2019-05-22",
          "2019-05-23",
          "2019-05-24",
          "2019-05-27",
          "2019-05-28",
          "2019-05-29",
          "2019-05-30",
          "2019-05-31",
          "2019-06-03",
          "2019-06-04",
          "2019-06-05",
          "2019-06-06",
          "2019-06-07",
          "2019-06-10",
          "2019-06-11",
          "2019-06-12",
          "2019-06-13",
          "2019-06-14",
          "2019-06-17",
          "2019-06-18",
          "2019-06-19",
          "2019-06-20",
          "2019-06-21",
          "2019-06-24",
          "2019-06-25",
          "2019-06-26",
          "2019-06-27",
          "2019-06-28",
          "2019-07-01",
          "2019-07-02",
          "2019-07-03",
          "2019-07-04",
          "2019-07-05",
          "2019-07-08",
          "2019-07-09",
          "2019-07-10",
          "2019-07-11",
          "2019-07-12",
          "2019-07-15",
          "2019-07-16",
          "2019-07-17",
          "2019-07-18",
          "2019-07-19",
          "2019-07-22",
          "2019-07-23",
          "2019-07-24",
          "2019-07-25",
          "2019-07-26",
          "2019-07-29",
          "2019-07-30",
          "2019-07-31",
          "2019-08-01",
          "2019-08-02",
          "2019-08-05",
          "2019-08-06",
          "2019-08-07",
          "2019-08-08",
          "2019-08-09",
          "2019-08-12",
          "2019-08-13",
          "2019-08-14",
          "2019-08-15",
          "2019-08-16",
          "2019-08-19",
          "2019-08-20",
          "2019-08-21",
          "2019-08-22",
          "2019-08-23",
          "2019-08-26",
          "2019-08-27",
          "2019-08-28",
          "2019-08-29",
          "2019-08-30",
          "2019-09-02",
          "2019-09-03",
          "2019-09-04",
          "2019-09-05",
          "2019-09-06",
          "2019-09-09",
          "2019-09-10",
          "2019-09-11",
          "2019-09-12",
          "2019-09-13",
          "2019-09-16",
          "2019-09-17",
          "2019-09-18",
          "2019-09-19",
          "2019-09-20",
          "2019-09-23",
          "2019-09-24",
          "2019-09-25",
          "2019-09-26",
          "2019-09-27",
          "2019-09-30",
          "2019-10-01",
          "2019-10-02",
          "2019-10-03",
          "2019-10-04",
          "2019-10-07",
          "2019-10-08",
          "2019-10-09",
          "2019-10-10",
          "2019-10-11",
          "2019-10-14",
          "2019-10-15",
          "2019-10-16",
          "2019-10-17",
          "2019-10-18",
          "2019-10-21",
          "2019-10-22",
          "2019-10-23",
          "2019-10-24",
          "2019-10-25",
          "2019-10-28",
          "2019-10-29",
          "2019-10-30",
          "2019-10-31",
          "2019-11-01",
          "2019-11-04",
          "2019-11-05",
          "2019-11-06",
          "2019-11-07",
          "2019-11-08",
          "2019-11-11",
          "2019-11-12",
          "2019-11-13",
          "2019-11-14",
          "2019-11-15",
          "2019-11-18",
          "2019-11-19",
          "2019-11-20",
          "2019-11-21",
          "2019-11-22",
          "2019-11-25",
          "2019-11-26",
          "2019-11-27",
          "2019-11-28",
          "2019-11-29",
          "2019-12-02",
          "2019-12-03",
          "2019-12-04",
          "2019-12-05",
          "2019-12-06",
          "2019-12-09",
          "2019-12-10",
          "2019-12-11",
          "2019-12-12",
          "2019-12-13",
          "2019-12-16",
          "2019-12-17",
          "2019-12-18",
          "2019-12-19",
          "2019-12-20",
          "2019-12-23",
          "2019-12-24",
          "2019-12-25",
          "2019-12-26",
          "2019-12-27",
          "2019-12-30",
          "2019-12-31",
          "2020-01-01",
          "2020-01-02",
          "2020-01-03",
          "2020-01-06",
          "2020-01-07",
          "2020-01-08",
          "2020-01-09",
          "2020-01-10",
          "2020-01-13",
          "2020-01-14",
          "2020-01-15",
          "2020-01-16",
          "2020-01-17",
          "2020-01-20",
          "2020-01-21",
          "2020-01-22",
          "2020-01-23",
          "2020-01-24",
          "2020-01-27",
          "2020-01-28",
          "2020-01-29",
          "2020-01-30",
          "2020-01-31",
          "2020-02-03",
          "2020-02-04",
          "2020-02-05",
          "2020-02-06",
          "2020-02-07",
          "2020-02-10",
          "2020-02-11",
          "2020-02-12",
          "2020-02-13",
          "2020-02-14",
          "2020-02-17",
          "2020-02-18",
          "2020-02-19",
          "2020-02-20",
          "2020-02-21",
          "2020-02-24",
          "2020-02-25",
          "2020-02-26",
          "2020-02-27",
          "2020-02-28",
          "2020-03-02",
          "2020-03-03",
          "2020-03-04",
          "2020-03-05",
          "2020-03-06",
          "2020-03-09",
          "2020-03-10",
          "2020-03-11",
          "2020-03-12",
          "2020-03-13",
          "2020-03-16",
          "2020-03-17",
          "2020-03-18",
          "2020-03-19",
          "2020-03-20",
          "2020-03-23",
          "2020-03-24",
          "2020-03-25",
          "2020-03-26",
          "2020-03-27",
          "2020-03-30",
          "2020-03-31",
          "2020-04-01",
          "2020-04-02",
          "2020-04-03",
          "2020-04-06",
          "2020-04-07",
          "2020-04-08",
          "2020-04-09",
          "2020-04-10",
          "2020-04-13",
          "2020-04-14",
          "2020-04-15",
          "2020-04-16",
          "2020-04-17",
          "2020-04-20",
          "2020-04-21",
          "2020-04-22",
          "2020-04-23",
          "2020-04-24",
          "2020-04-27",
          "2020-04-28",
          "2020-04-29",
          "2020-04-30",
          "2020-05-01",
          "2020-05-04",
          "2020-05-05",
          "2020-05-06",
          "2020-05-07",
          "2020-05-08",
          "2020-05-11",
          "2020-05-12",
          "2020-05-13",
          "2020-05-14",
          "2020-05-15",
          "2020-05-18",
          "2020-05-19",
          "2020-05-20",
          "2020-05-21",
          "2020-05-22",
          "2020-05-25",
          "2020-05-26",
          "2020-05-27",
          "2020-05-28",
          "2020-05-29",
          "2020-06-01",
          "2020-06-02",
          "2020-06-03",
          "2020-06-04",
          "2020-06-05",
          "2020-06-08",
          "2020-06-09",
          "2020-06-10",
          "2020-06-11",
          "2020-06-12",
          "2020-06-15",
          "2020-06-16",
          "2020-06-17",
          "2020-06-18",
          "2020-06-19",
          "2020-06-22",
          "2020-06-23",
          "2020-06-24",
          "2020-06-25",
          "2020-06-26",
          "2020-06-29",
          "2020-06-30",
          "2020-07-01",
          "2020-07-02",
          "2020-07-03",
          "2020-07-06",
          "2020-07-07",
          "2020-07-08",
          "2020-07-09",
          "2020-07-10",
          "2020-07-13",
          "2020-07-14",
          "2020-07-15",
          "2020-07-16",
          "2020-07-17",
          "2020-07-20",
          "2020-07-21",
          "2020-07-22",
          "2020-07-23",
          "2020-07-24",
          "2020-07-27",
          "2020-07-28",
          "2020-07-29",
          "2020-07-30",
          "2020-07-31",
          "2020-08-03",
          "2020-08-04",
          "2020-08-05",
          "2020-08-06",
          "2020-08-07",
          "2020-08-10",
          "2020-08-11",
          "2020-08-12",
          "2020-08-13",
          "2020-08-14",
          "2020-08-17",
          "2020-08-18",
          "2020-08-19",
          "2020-08-20",
          "2020-08-21",
          "2020-08-24",
          "2020-08-25",
          "2020-08-26",
          "2020-08-27",
          "2020-08-28",
          "2020-08-31",
          "2020-09-01",
          "2020-09-02",
          "2020-09-03",
          "2020-09-04",
          "2020-09-07",
          "2020-09-08",
          "2020-09-09",
          "2020-09-10",
          "2020-09-11",
          "2020-09-14",
          "2020-09-15",
          "2020-09-16",
          "2020-09-17",
          "2020-09-18",
          "2020-09-21",
          "2020-09-22",
          "2020-09-23",
          "2020-09-24",
          "2020-09-25",
          "2020-09-28",
          "2020-09-29",
          "2020-09-30",
          "2020-10-01",
          "2020-10-02",
          "2020-10-05",
          "2020-10-06",
          "2020-10-07",
          "2020-10-08",
          "2020-10-09",
          "2020-10-12",
          "2020-10-13",
          "2020-10-14",
          "2020-10-15",
          "2020-10-16",
          "2020-10-19",
          "2020-10-20",
          "2020-10-21",
          "2020-10-22",
          "2020-10-23",
          "2020-10-26",
          "2020-10-27",
          "2020-10-28",
          "2020-10-29",
          "2020-10-30",
          "2020-11-02",
          "2020-11-03",
          "2020-11-04",
          "2020-11-05",
          "2020-11-06",
          "2020-11-09",
          "2020-11-10",
          "2020-11-11",
          "2020-11-12",
          "2020-11-13",
          "2020-11-16",
          "2020-11-17",
          "2020-11-18",
          "2020-11-19",
          "2020-11-20",
          "2020-11-23",
          "2020-11-24",
          "2020-11-25",
          "2020-11-26",
          "2020-11-27",
          "2020-11-30",
          "2020-12-01",
          "2020-12-02",
          "2020-12-03",
          "2020-12-04",
          "2020-12-07",
          "2020-12-08",
          "2020-12-09",
          "2020-12-10",
          "2020-12-11",
          "2020-12-14",
          "2020-12-15",
          "2020-12-16",
          "2020-12-17",
          "2020-12-18",
          "2020-12-21",
          "2020-12-22",
          "2020-12-23",
          "2020-12-24",
          "2020-12-25",
          "2020-12-28",
          "2020-12-29",
          "2020-12-30",
          "2020-12-31",
          "2021-01-01",
          "2021-01-04",
          "2021-01-05",
          "2021-01-06",
          "2021-01-07",
          "2021-01-08",
          "2021-01-11",
          "2021-01-12",
          "2021-01-13",
          "2021-01-14",
          "2021-01-15",
          "2021-01-18",
          "2021-01-19",
          "2021-01-20",
          "2021-01-21",
          "2021-01-22",
          "2021-01-25",
          "2021-01-26",
          "2021-01-27",
          "2021-01-28",
          "2021-01-29",
          "2021-02-01",
          "2021-02-02",
          "2021-02-03",
          "2021-02-04",
          "2021-02-05",
          "2021-02-08",
          "2021-02-09",
          "2021-02-10",
          "2021-02-11",
          "2021-02-12",
          "2021-02-15",
          "2021-02-16",
          "2021-02-17",
          "2021-02-18",
          "2021-02-19",
          "2021-02-22",
          "2021-02-23",
          "2021-02-24",
          "2021-02-25",
          "2021-02-26",
          "2021-03-01",
          "2021-03-02",
          "2021-03-03",
          "2021-03-04",
          "2021-03-05",
          "2021-03-08",
          "2021-03-09",
          "2021-03-10",
          "2021-03-11",
          "2021-03-12",
          "2021-03-15",
          "2021-03-16",
          "2021-03-17",
          "2021-03-18",
          "2021-03-19",
          "2021-03-22",
          "2021-03-23",
          "2021-03-24",
          "2021-03-25",
          "2021-03-26",
          "2021-03-29",
          "2021-03-30",
          "2021-03-31",
          "2021-04-01",
          "2021-04-02",
          "2021-04-05",
          "2021-04-06",
          "2021-04-07",
          "2021-04-08",
          "2021-04-09",
          "2021-04-12",
          "2021-04-13",
          "2021-04-14",
          "2021-04-15",
          "2021-04-16",
          "2021-04-19",
          "2021-04-20",
          "2021-04-21",
          "2021-04-22",
          "2021-04-23",
          "2021-04-26",
          "2021-04-27",
          "2021-04-28",
          "2021-04-29",
          "2021-04-30",
          "2021-05-03",
          "2021-05-04",
          "2021-05-05",
          "2021-05-06",
          "2021-05-07",
          "2021-05-10",
          "2021-05-11",
          "2021-05-12",
          "2021-05-13",
          "2021-05-14",
          "2021-05-17",
          "2021-05-18",
          "2021-05-19",
          "2021-05-20",
          "2021-05-21",
          "2021-05-24",
          "2021-05-25",
          "2021-05-26",
          "2021-05-27",
          "2021-05-28",
          "2021-05-31",
          "2021-06-01",
          "2021-06-02",
          "2021-06-03",
          "2021-06-04",
          "2021-06-07",
          "2021-06-08",
          "2021-06-09",
          "2021-06-10",
          "2021-06-11",
          "2021-06-14",
          "2021-06-15",
          "2021-06-16",
          "2021-06-17",
          "2021-06-18",
          "2021-06-21",
          "2021-06-22",
          "2021-06-23",
          "2021-06-24",
          "2021-06-25",
          "2021-06-28",
          "2021-06-29",
          "2021-06-30",
          "2021-07-01",
          "2021-07-02",
          "2021-07-05",
          "2021-07-06",
          "2021-07-07",
          "2021-07-08",
          "2021-07-09",
          "2021-07-12",
          "2021-07-13",
          "2021-07-14",
          "2021-07-15",
          "2021-07-16",
          "2021-07-19",
          "2021-07-20",
          "2021-07-21",
          "2021-07-22",
          "2021-07-23",
          "2021-07-26",
          "2021-07-27",
          "2021-07-28",
          "2021-07-29",
          "2021-07-30",
          "2021-08-02",
          "2021-08-03",
          "2021-08-04",
          "2021-08-05",
          "2021-08-06",
          "2021-08-09",
          "2021-08-10",
          "2021-08-11",
          "2021-08-12",
          "2021-08-13",
          "2021-08-16",
          "2021-08-17",
          "2021-08-18",
          "2021-08-19",
          "2021-08-20",
          "2021-08-23",
          "2021-08-24",
          "2021-08-25",
          "2021-08-26",
          "2021-08-27",
          "2021-08-30",
          "2021-08-31",
          "2021-09-01",
          "2021-09-02",
          "2021-09-03",
          "2021-09-06",
          "2021-09-07",
          "2021-09-08",
          "2021-09-09",
          "2021-09-10",
          "2021-09-13",
          "2021-09-14",
          "2021-09-15",
          "2021-09-16",
          "2021-09-17",
          "2021-09-20",
          "2021-09-21",
          "2021-09-22",
          "2021-09-23",
          "2021-09-24",
          "2021-09-27",
          "2021-09-28",
          "2021-09-29",
          "2021-09-30",
          "2021-10-01",
          "2021-10-04",
          "2021-10-05",
          "2021-10-06",
          "2021-10-07",
          "2021-10-08",
          "2021-10-11",
          "2021-10-12",
          "2021-10-13",
          "2021-10-14",
          "2021-10-15",
          "2021-10-18",
          "2021-10-19",
          "2021-10-20",
          "2021-10-21",
          "2021-10-22",
          "2021-10-25",
          "2021-10-26",
          "2021-10-27",
          "2021-10-28",
          "2021-10-29",
          "2021-11-01",
          "2021-11-02",
          "2021-11-03",
          "2021-11-04",
          "2021-11-05",
          "2021-11-08",
          "2021-11-09",
          "2021-11-10",
          "2021-11-11",
          "2021-11-12",
          "2021-11-15",
          "2021-11-16",
          "2021-11-17",
          "2021-11-18",
          "2021-11-19",
          "2021-11-22",
          "2021-11-23",
          "2021-11-24",
          "2021-11-25",
          "2021-11-26",
          "2021-11-29",
          "2021-11-30",
          "2021-12-01",
          "2021-12-02",
          "2021-12-03",
          "2021-12-06",
          "2021-12-07",
          "2021-12-08",
          "2021-12-09",
          "2021-12-10",
          "2021-12-13",
          "2021-12-14",
          "2021-12-15",
          "2021-12-16",
          "2021-12-17",
          "2021-12-20",
          "2021-12-21",
          "2021-12-22",
          "2021-12-23",
          "2021-12-24",
          "2021-12-27",
          "2021-12-28",
          "2021-12-29",
          "2021-12-30",
          "2021-12-31"
         ],
         "xaxis": "x",
         "y": {
          "bdata": "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",
          "dtype": "f8"
         },
         "yaxis": "y"
        },
        {
         "fillpattern": {
          "shape": ""
         },
         "hovertemplate": "Asset Family=Equity<br>Date=%{x}<br>Asset Weight=%{y}<extra></extra>",
         "legendgroup": "Equity",
         "line": {
          "color": "#EF553B"
         },
         "marker": {
          "symbol": "circle"
         },
         "mode": "lines",
         "name": "Equity",
         "orientation": "v",
         "showlegend": true,
         "stackgroup": "1",
         "type": "scatter",
         "x": [
          "2019-01-02",
          "2019-01-03",
          "2019-01-04",
          "2019-01-07",
          "2019-01-08",
          "2019-01-09",
          "2019-01-10",
          "2019-01-11",
          "2019-01-14",
          "2019-01-15",
          "2019-01-16",
          "2019-01-17",
          "2019-01-18",
          "2019-01-21",
          "2019-01-22",
          "2019-01-23",
          "2019-01-24",
          "2019-01-25",
          "2019-01-28",
          "2019-01-29",
          "2019-01-30",
          "2019-01-31",
          "2019-02-01",
          "2019-02-04",
          "2019-02-05",
          "2019-02-06",
          "2019-02-07",
          "2019-02-08",
          "2019-02-11",
          "2019-02-12",
          "2019-02-13",
          "2019-02-14",
          "2019-02-15",
          "2019-02-18",
          "2019-02-19",
          "2019-02-20",
          "2019-02-21",
          "2019-02-22",
          "2019-02-25",
          "2019-02-26",
          "2019-02-27",
          "2019-02-28",
          "2019-03-01",
          "2019-03-04",
          "2019-03-05",
          "2019-03-06",
          "2019-03-07",
          "2019-03-08",
          "2019-03-11",
          "2019-03-12",
          "2019-03-13",
          "2019-03-14",
          "2019-03-15",
          "2019-03-18",
          "2019-03-19",
          "2019-03-20",
          "2019-03-21",
          "2019-03-22",
          "2019-03-25",
          "2019-03-26",
          "2019-03-27",
          "2019-03-28",
          "2019-03-29",
          "2019-04-01",
          "2019-04-02",
          "2019-04-03",
          "2019-04-04",
          "2019-04-05",
          "2019-04-08",
          "2019-04-09",
          "2019-04-10",
          "2019-04-11",
          "2019-04-12",
          "2019-04-15",
          "2019-04-16",
          "2019-04-17",
          "2019-04-18",
          "2019-04-19",
          "2019-04-22",
          "2019-04-23",
          "2019-04-24",
          "2019-04-25",
          "2019-04-26",
          "2019-04-29",
          "2019-04-30",
          "2019-05-01",
          "2019-05-02",
          "2019-05-03",
          "2019-05-06",
          "2019-05-07",
          "2019-05-08",
          "2019-05-09",
          "2019-05-10",
          "2019-05-13",
          "2019-05-14",
          "2019-05-15",
          "2019-05-16",
          "2019-05-17",
          "2019-05-20",
          "2019-05-21",
          "2019-05-22",
          "2019-05-23",
          "2019-05-24",
          "2019-05-27",
          "2019-05-28",
          "2019-05-29",
          "2019-05-30",
          "2019-05-31",
          "2019-06-03",
          "2019-06-04",
          "2019-06-05",
          "2019-06-06",
          "2019-06-07",
          "2019-06-10",
          "2019-06-11",
          "2019-06-12",
          "2019-06-13",
          "2019-06-14",
          "2019-06-17",
          "2019-06-18",
          "2019-06-19",
          "2019-06-20",
          "2019-06-21",
          "2019-06-24",
          "2019-06-25",
          "2019-06-26",
          "2019-06-27",
          "2019-06-28",
          "2019-07-01",
          "2019-07-02",
          "2019-07-03",
          "2019-07-04",
          "2019-07-05",
          "2019-07-08",
          "2019-07-09",
          "2019-07-10",
          "2019-07-11",
          "2019-07-12",
          "2019-07-15",
          "2019-07-16",
          "2019-07-17",
          "2019-07-18",
          "2019-07-19",
          "2019-07-22",
          "2019-07-23",
          "2019-07-24",
          "2019-07-25",
          "2019-07-26",
          "2019-07-29",
          "2019-07-30",
          "2019-07-31",
          "2019-08-01",
          "2019-08-02",
          "2019-08-05",
          "2019-08-06",
          "2019-08-07",
          "2019-08-08",
          "2019-08-09",
          "2019-08-12",
          "2019-08-13",
          "2019-08-14",
          "2019-08-15",
          "2019-08-16",
          "2019-08-19",
          "2019-08-20",
          "2019-08-21",
          "2019-08-22",
          "2019-08-23",
          "2019-08-26",
          "2019-08-27",
          "2019-08-28",
          "2019-08-29",
          "2019-08-30",
          "2019-09-02",
          "2019-09-03",
          "2019-09-04",
          "2019-09-05",
          "2019-09-06",
          "2019-09-09",
          "2019-09-10",
          "2019-09-11",
          "2019-09-12",
          "2019-09-13",
          "2019-09-16",
          "2019-09-17",
          "2019-09-18",
          "2019-09-19",
          "2019-09-20",
          "2019-09-23",
          "2019-09-24",
          "2019-09-25",
          "2019-09-26",
          "2019-09-27",
          "2019-09-30",
          "2019-10-01",
          "2019-10-02",
          "2019-10-03",
          "2019-10-04",
          "2019-10-07",
          "2019-10-08",
          "2019-10-09",
          "2019-10-10",
          "2019-10-11",
          "2019-10-14",
          "2019-10-15",
          "2019-10-16",
          "2019-10-17",
          "2019-10-18",
          "2019-10-21",
          "2019-10-22",
          "2019-10-23",
          "2019-10-24",
          "2019-10-25",
          "2019-10-28",
          "2019-10-29",
          "2019-10-30",
          "2019-10-31",
          "2019-11-01",
          "2019-11-04",
          "2019-11-05",
          "2019-11-06",
          "2019-11-07",
          "2019-11-08",
          "2019-11-11",
          "2019-11-12",
          "2019-11-13",
          "2019-11-14",
          "2019-11-15",
          "2019-11-18",
          "2019-11-19",
          "2019-11-20",
          "2019-11-21",
          "2019-11-22",
          "2019-11-25",
          "2019-11-26",
          "2019-11-27",
          "2019-11-28",
          "2019-11-29",
          "2019-12-02",
          "2019-12-03",
          "2019-12-04",
          "2019-12-05",
          "2019-12-06",
          "2019-12-09",
          "2019-12-10",
          "2019-12-11",
          "2019-12-12",
          "2019-12-13",
          "2019-12-16",
          "2019-12-17",
          "2019-12-18",
          "2019-12-19",
          "2019-12-20",
          "2019-12-23",
          "2019-12-24",
          "2019-12-25",
          "2019-12-26",
          "2019-12-27",
          "2019-12-30",
          "2019-12-31",
          "2020-01-01",
          "2020-01-02",
          "2020-01-03",
          "2020-01-06",
          "2020-01-07",
          "2020-01-08",
          "2020-01-09",
          "2020-01-10",
          "2020-01-13",
          "2020-01-14",
          "2020-01-15",
          "2020-01-16",
          "2020-01-17",
          "2020-01-20",
          "2020-01-21",
          "2020-01-22",
          "2020-01-23",
          "2020-01-24",
          "2020-01-27",
          "2020-01-28",
          "2020-01-29",
          "2020-01-30",
          "2020-01-31",
          "2020-02-03",
          "2020-02-04",
          "2020-02-05",
          "2020-02-06",
          "2020-02-07",
          "2020-02-10",
          "2020-02-11",
          "2020-02-12",
          "2020-02-13",
          "2020-02-14",
          "2020-02-17",
          "2020-02-18",
          "2020-02-19",
          "2020-02-20",
          "2020-02-21",
          "2020-02-24",
          "2020-02-25",
          "2020-02-26",
          "2020-02-27",
          "2020-02-28",
          "2020-03-02",
          "2020-03-03",
          "2020-03-04",
          "2020-03-05",
          "2020-03-06",
          "2020-03-09",
          "2020-03-10",
          "2020-03-11",
          "2020-03-12",
          "2020-03-13",
          "2020-03-16",
          "2020-03-17",
          "2020-03-18",
          "2020-03-19",
          "2020-03-20",
          "2020-03-23",
          "2020-03-24",
          "2020-03-25",
          "2020-03-26",
          "2020-03-27",
          "2020-03-30",
          "2020-03-31",
          "2020-04-01",
          "2020-04-02",
          "2020-04-03",
          "2020-04-06",
          "2020-04-07",
          "2020-04-08",
          "2020-04-09",
          "2020-04-10",
          "2020-04-13",
          "2020-04-14",
          "2020-04-15",
          "2020-04-16",
          "2020-04-17",
          "2020-04-20",
          "2020-04-21",
          "2020-04-22",
          "2020-04-23",
          "2020-04-24",
          "2020-04-27",
          "2020-04-28",
          "2020-04-29",
          "2020-04-30",
          "2020-05-01",
          "2020-05-04",
          "2020-05-05",
          "2020-05-06",
          "2020-05-07",
          "2020-05-08",
          "2020-05-11",
          "2020-05-12",
          "2020-05-13",
          "2020-05-14",
          "2020-05-15",
          "2020-05-18",
          "2020-05-19",
          "2020-05-20",
          "2020-05-21",
          "2020-05-22",
          "2020-05-25",
          "2020-05-26",
          "2020-05-27",
          "2020-05-28",
          "2020-05-29",
          "2020-06-01",
          "2020-06-02",
          "2020-06-03",
          "2020-06-04",
          "2020-06-05",
          "2020-06-08",
          "2020-06-09",
          "2020-06-10",
          "2020-06-11",
          "2020-06-12",
          "2020-06-15",
          "2020-06-16",
          "2020-06-17",
          "2020-06-18",
          "2020-06-19",
          "2020-06-22",
          "2020-06-23",
          "2020-06-24",
          "2020-06-25",
          "2020-06-26",
          "2020-06-29",
          "2020-06-30",
          "2020-07-01",
          "2020-07-02",
          "2020-07-03",
          "2020-07-06",
          "2020-07-07",
          "2020-07-08",
          "2020-07-09",
          "2020-07-10",
          "2020-07-13",
          "2020-07-14",
          "2020-07-15",
          "2020-07-16",
          "2020-07-17",
          "2020-07-20",
          "2020-07-21",
          "2020-07-22",
          "2020-07-23",
          "2020-07-24",
          "2020-07-27",
          "2020-07-28",
          "2020-07-29",
          "2020-07-30",
          "2020-07-31",
          "2020-08-03",
          "2020-08-04",
          "2020-08-05",
          "2020-08-06",
          "2020-08-07",
          "2020-08-10",
          "2020-08-11",
          "2020-08-12",
          "2020-08-13",
          "2020-08-14",
          "2020-08-17",
          "2020-08-18",
          "2020-08-19",
          "2020-08-20",
          "2020-08-21",
          "2020-08-24",
          "2020-08-25",
          "2020-08-26",
          "2020-08-27",
          "2020-08-28",
          "2020-08-31",
          "2020-09-01",
          "2020-09-02",
          "2020-09-03",
          "2020-09-04",
          "2020-09-07",
          "2020-09-08",
          "2020-09-09",
          "2020-09-10",
          "2020-09-11",
          "2020-09-14",
          "2020-09-15",
          "2020-09-16",
          "2020-09-17",
          "2020-09-18",
          "2020-09-21",
          "2020-09-22",
          "2020-09-23",
          "2020-09-24",
          "2020-09-25",
          "2020-09-28",
          "2020-09-29",
          "2020-09-30",
          "2020-10-01",
          "2020-10-02",
          "2020-10-05",
          "2020-10-06",
          "2020-10-07",
          "2020-10-08",
          "2020-10-09",
          "2020-10-12",
          "2020-10-13",
          "2020-10-14",
          "2020-10-15",
          "2020-10-16",
          "2020-10-19",
          "2020-10-20",
          "2020-10-21",
          "2020-10-22",
          "2020-10-23",
          "2020-10-26",
          "2020-10-27",
          "2020-10-28",
          "2020-10-29",
          "2020-10-30",
          "2020-11-02",
          "2020-11-03",
          "2020-11-04",
          "2020-11-05",
          "2020-11-06",
          "2020-11-09",
          "2020-11-10",
          "2020-11-11",
          "2020-11-12",
          "2020-11-13",
          "2020-11-16",
          "2020-11-17",
          "2020-11-18",
          "2020-11-19",
          "2020-11-20",
          "2020-11-23",
          "2020-11-24",
          "2020-11-25",
          "2020-11-26",
          "2020-11-27",
          "2020-11-30",
          "2020-12-01",
          "2020-12-02",
          "2020-12-03",
          "2020-12-04",
          "2020-12-07",
          "2020-12-08",
          "2020-12-09",
          "2020-12-10",
          "2020-12-11",
          "2020-12-14",
          "2020-12-15",
          "2020-12-16",
          "2020-12-17",
          "2020-12-18",
          "2020-12-21",
          "2020-12-22",
          "2020-12-23",
          "2020-12-24",
          "2020-12-25",
          "2020-12-28",
          "2020-12-29",
          "2020-12-30",
          "2020-12-31",
          "2021-01-01",
          "2021-01-04",
          "2021-01-05",
          "2021-01-06",
          "2021-01-07",
          "2021-01-08",
          "2021-01-11",
          "2021-01-12",
          "2021-01-13",
          "2021-01-14",
          "2021-01-15",
          "2021-01-18",
          "2021-01-19",
          "2021-01-20",
          "2021-01-21",
          "2021-01-22",
          "2021-01-25",
          "2021-01-26",
          "2021-01-27",
          "2021-01-28",
          "2021-01-29",
          "2021-02-01",
          "2021-02-02",
          "2021-02-03",
          "2021-02-04",
          "2021-02-05",
          "2021-02-08",
          "2021-02-09",
          "2021-02-10",
          "2021-02-11",
          "2021-02-12",
          "2021-02-15",
          "2021-02-16",
          "2021-02-17",
          "2021-02-18",
          "2021-02-19",
          "2021-02-22",
          "2021-02-23",
          "2021-02-24",
          "2021-02-25",
          "2021-02-26",
          "2021-03-01",
          "2021-03-02",
          "2021-03-03",
          "2021-03-04",
          "2021-03-05",
          "2021-03-08",
          "2021-03-09",
          "2021-03-10",
          "2021-03-11",
          "2021-03-12",
          "2021-03-15",
          "2021-03-16",
          "2021-03-17",
          "2021-03-18",
          "2021-03-19",
          "2021-03-22",
          "2021-03-23",
          "2021-03-24",
          "2021-03-25",
          "2021-03-26",
          "2021-03-29",
          "2021-03-30",
          "2021-03-31",
          "2021-04-01",
          "2021-04-02",
          "2021-04-05",
          "2021-04-06",
          "2021-04-07",
          "2021-04-08",
          "2021-04-09",
          "2021-04-12",
          "2021-04-13",
          "2021-04-14",
          "2021-04-15",
          "2021-04-16",
          "2021-04-19",
          "2021-04-20",
          "2021-04-21",
          "2021-04-22",
          "2021-04-23",
          "2021-04-26",
          "2021-04-27",
          "2021-04-28",
          "2021-04-29",
          "2021-04-30",
          "2021-05-03",
          "2021-05-04",
          "2021-05-05",
          "2021-05-06",
          "2021-05-07",
          "2021-05-10",
          "2021-05-11",
          "2021-05-12",
          "2021-05-13",
          "2021-05-14",
          "2021-05-17",
          "2021-05-18",
          "2021-05-19",
          "2021-05-20",
          "2021-05-21",
          "2021-05-24",
          "2021-05-25",
          "2021-05-26",
          "2021-05-27",
          "2021-05-28",
          "2021-05-31",
          "2021-06-01",
          "2021-06-02",
          "2021-06-03",
          "2021-06-04",
          "2021-06-07",
          "2021-06-08",
          "2021-06-09",
          "2021-06-10",
          "2021-06-11",
          "2021-06-14",
          "2021-06-15",
          "2021-06-16",
          "2021-06-17",
          "2021-06-18",
          "2021-06-21",
          "2021-06-22",
          "2021-06-23",
          "2021-06-24",
          "2021-06-25",
          "2021-06-28",
          "2021-06-29",
          "2021-06-30",
          "2021-07-01",
          "2021-07-02",
          "2021-07-05",
          "2021-07-06",
          "2021-07-07",
          "2021-07-08",
          "2021-07-09",
          "2021-07-12",
          "2021-07-13",
          "2021-07-14",
          "2021-07-15",
          "2021-07-16",
          "2021-07-19",
          "2021-07-20",
          "2021-07-21",
          "2021-07-22",
          "2021-07-23",
          "2021-07-26",
          "2021-07-27",
          "2021-07-28",
          "2021-07-29",
          "2021-07-30",
          "2021-08-02",
          "2021-08-03",
          "2021-08-04",
          "2021-08-05",
          "2021-08-06",
          "2021-08-09",
          "2021-08-10",
          "2021-08-11",
          "2021-08-12",
          "2021-08-13",
          "2021-08-16",
          "2021-08-17",
          "2021-08-18",
          "2021-08-19",
          "2021-08-20",
          "2021-08-23",
          "2021-08-24",
          "2021-08-25",
          "2021-08-26",
          "2021-08-27",
          "2021-08-30",
          "2021-08-31",
          "2021-09-01",
          "2021-09-02",
          "2021-09-03",
          "2021-09-06",
          "2021-09-07",
          "2021-09-08",
          "2021-09-09",
          "2021-09-10",
          "2021-09-13",
          "2021-09-14",
          "2021-09-15",
          "2021-09-16",
          "2021-09-17",
          "2021-09-20",
          "2021-09-21",
          "2021-09-22",
          "2021-09-23",
          "2021-09-24",
          "2021-09-27",
          "2021-09-28",
          "2021-09-29",
          "2021-09-30",
          "2021-10-01",
          "2021-10-04",
          "2021-10-05",
          "2021-10-06",
          "2021-10-07",
          "2021-10-08",
          "2021-10-11",
          "2021-10-12",
          "2021-10-13",
          "2021-10-14",
          "2021-10-15",
          "2021-10-18",
          "2021-10-19",
          "2021-10-20",
          "2021-10-21",
          "2021-10-22",
          "2021-10-25",
          "2021-10-26",
          "2021-10-27",
          "2021-10-28",
          "2021-10-29",
          "2021-11-01",
          "2021-11-02",
          "2021-11-03",
          "2021-11-04",
          "2021-11-05",
          "2021-11-08",
          "2021-11-09",
          "2021-11-10",
          "2021-11-11",
          "2021-11-12",
          "2021-11-15",
          "2021-11-16",
          "2021-11-17",
          "2021-11-18",
          "2021-11-19",
          "2021-11-22",
          "2021-11-23",
          "2021-11-24",
          "2021-11-25",
          "2021-11-26",
          "2021-11-29",
          "2021-11-30",
          "2021-12-01",
          "2021-12-02",
          "2021-12-03",
          "2021-12-06",
          "2021-12-07",
          "2021-12-08",
          "2021-12-09",
          "2021-12-10",
          "2021-12-13",
          "2021-12-14",
          "2021-12-15",
          "2021-12-16",
          "2021-12-17",
          "2021-12-20",
          "2021-12-21",
          "2021-12-22",
          "2021-12-23",
          "2021-12-24",
          "2021-12-27",
          "2021-12-28",
          "2021-12-29",
          "2021-12-30",
          "2021-12-31"
         ],
         "xaxis": "x",
         "y": {
          "bdata": "rIc1fTSz3z+shzV9NLPfP6yHNX00s98/rIc1fTSz3z+shzV9NLPfP6yHNX00s98/rIc1fTSz3z+shzV9NLPfP6yHNX00s98/rIc1fTSz3z+shzV9NLPfP6yHNX00s98/rIc1fTSz3z+shzV9NLPfP6yHNX00s98/rIc1fTSz3z+shzV9NLPfP6yHNX00s98/rIc1fTSz3z+shzV9NLPfP6yHNX00s98/rIc1fTSz3z+shzV9NLPfP6yHNX00s98/rIc1fTSz3z+shzV9NLPfP6yHNX00s98/rIc1fTSz3z+shzV9NLPfP6yHNX00s98/rIc1fTSz3z+shzV9NLPfP6yHNX00s98/rIc1fTSz3z+shzV9NLPfP6yHNX00s98/rIc1fTSz3z+shzV9NLPfP6yHNX00s98/rIc1fTSz3z+shzV9NLPfP6yHNX00s98/rIc1fTSz3z+shzV9NLPfP6yHNX00s98/rIc1fTSz3z+shzV9NLPfP6yHNX00s98/rIc1fTSz3z+shzV9NLPfP6yHNX00s98/rIc1fTSz3z+shzV9NLPfP6yHNX00s98/rIc1fTSz3z+shzV9NLPfP6yHNX00s98/rIc1fTSz3z+shzV9NLPfP6yHNX00s98/rIc1fTSz3z+shzV9NLPfP6yHNX00s98/rIc1fTSz3z+shzV9NLPfP6yHNX00s98/rIc1fTSz3z+shzV9NLPfP6yHNX00s98/rIc1fTSz3z+shzV9NLPfP6yHNX00s98/rIc1fTSz3z+shzV9NLPfP6yHNX00s98/rIc1fTSz3z+shzV9NLPfP6yHNX00s98/rIc1fTSz3z+shzV9NLPfP6yHNX00s98/rIc1fTSz3z+shzV9NLPfP6yHNX00s98/rIc1fTSz3z+shzV9NLPfP6yHNX00s98/rIc1fTSz3z+shzV9NLPfP6yHNX00s98/rIc1fTSz3z+shzV9NLPfP6yHNX00s98/rIc1fTSz3z+shzV9NLPfP6yHNX00s98/rIc1fTSz3z+shzV9NLPfP6yHNX00s98/rIc1fTSz3z+shzV9NLPfP6yHNX00s98/rIc1fTSz3z+shzV9NLPfP6yHNX00s98/rIc1fTSz3z+shzV9NLPfP6yHNX00s98/rIc1fTSz3z+shzV9NLPfP6yHNX00s98/rIc1fTSz3z+shzV9NLPfP6yHNX00s98/rIc1fTSz3z+shzV9NLPfP6yHNX00s98/rIc1fTSz3z+shzV9NLPfP6yHNX00s98/rIc1fTSz3z+shzV9NLPfP6yHNX00s98/rIc1fTSz3z+shzV9NLPfP6yHNX00s98/rIc1fTSz3z+shzV9NLPfP6yHNX00s98/rIc1fTSz3z+shzV9NLPfP6yHNX00s98/rIc1fTSz3z+shzV9NLPfP6yHNX00s98/rIc1fTSz3z+shzV9NLPfP6yHNX00s98/rIc1fTSz3z+shzV9NLPfP6yHNX00s98/rIc1fTSz3z+shzV9NLPfP6yHNX00s98/rIc1fTSz3z+shzV9NLPfP6yHNX00s98/rIc1fTSz3z+shzV9NLPfP6yHNX00s98/rIc1fTSz3z+shzV9NLPfP6yHNX00s98/rIc1fTSz3z+shzV9NLPfP6yHNX00s98/rIc1fTSz3z+shzV9NLPfP6yHNX00s98/rIc1fTSz3z+shzV9NLPfP6yHNX00s98/rIc1fTSz3z+shzV9NLPfP6yHNX00s98/rIc1fTSz3z+shzV9NLPfP6yHNX00s98/rIc1fTSz3z+shzV9NLPfP6yHNX00s98/rIc1fTSz3z+shzV9NLPfP6yHNX00s98/rIc1fTSz3z+shzV9NLPfP6yHNX00s98/rIc1fTSz3z+shzV9NLPfP6yHNX00s98/rIc1fTSz3z+shzV9NLPfP6yHNX00s98/rIc1fTSz3z+shzV9NLPfP6yHNX00s98/rIc1fTSz3z+shzV9NLPfP6yHNX00s98/rIc1fTSz3z+shzV9NLPfP6yHNX00s98/rIc1fTSz3z+shzV9NLPfP6yHNX00s98/rIc1fTSz3z+shzV9NLPfP6yHNX00s98/rIc1fTSz3z+shzV9NLPfP6yHNX00s98/rIc1fTSz3z+shzV9NLPfP6yHNX00s98/rIc1fTSz3z+shzV9NLPfP6yHNX00s98/rIc1fTSz3z+shzV9NLPfP6yHNX00s98/rIc1fTSz3z+shzV9NLPfP6yHNX00s98/rIc1fTSz3z+shzV9NLPfP6yHNX00s98/rIc1fTSz3z+shzV9NLPfP6yHNX00s98/rIc1fTSz3z+shzV9NLPfP6yHNX00s98/rIc1fTSz3z+shzV9NLPfP6yHNX00s98/rIc1fTSz3z+shzV9NLPfP6yHNX00s98/rIc1fTSz3z+shzV9NLPfP6yHNX00s98/rIc1fTSz3z+shzV9NLPfP6yHNX00s98/rIc1fTSz3z+shzV9NLPfP6yHNX00s98/rIc1fTSz3z+shzV9NLPfP6yHNX00s98/rIc1fTSz3z+shzV9NLPfP6yHNX00s98/rIc1fTSz3z+shzV9NLPfP6yHNX00s98/rIc1fTSz3z+shzV9NLPfP6yHNX00s98/rIc1fTSz3z+shzV9NLPfP6yHNX00s98/rIc1fTSz3z+shzV9NLPfP6yHNX00s98/rIc1fTSz3z+shzV9NLPfP6yHNX00s98/rIc1fTSz3z+shzV9NLPfPwt/0i4a0dM/C3/SLhrR0z8Lf9IuGtHTPwt/0i4a0dM/C3/SLhrR0z8Lf9IuGtHTPwt/0i4a0dM/C3/SLhrR0z8Lf9IuGtHTPwt/0i4a0dM/C3/SLhrR0z8Lf9IuGtHTPwt/0i4a0dM/C3/SLhrR0z8Lf9IuGtHTPwt/0i4a0dM/C3/SLhrR0z8Lf9IuGtHTPwt/0i4a0dM/C3/SLhrR0z8Lf9IuGtHTPwt/0i4a0dM/C3/SLhrR0z8Lf9IuGtHTPwt/0i4a0dM/C3/SLhrR0z8Lf9IuGtHTPwt/0i4a0dM/C3/SLhrR0z8Lf9IuGtHTPwt/0i4a0dM/C3/SLhrR0z8Lf9IuGtHTPwt/0i4a0dM/C3/SLhrR0z8Lf9IuGtHTPwt/0i4a0dM/C3/SLhrR0z8Lf9IuGtHTPwt/0i4a0dM/C3/SLhrR0z8Lf9IuGtHTPwt/0i4a0dM/C3/SLhrR0z8Lf9IuGtHTPwt/0i4a0dM/C3/SLhrR0z8Lf9IuGtHTPwt/0i4a0dM/C3/SLhrR0z8Lf9IuGtHTPwt/0i4a0dM/C3/SLhrR0z8Lf9IuGtHTPwt/0i4a0dM/C3/SLhrR0z8Lf9IuGtHTPwt/0i4a0dM/C3/SLhrR0z8Lf9IuGtHTPwt/0i4a0dM/C3/SLhrR0z8Lf9IuGtHTPwt/0i4a0dM/C3/SLhrR0z8Lf9IuGtHTPwt/0i4a0dM/C3/SLhrR0z8Lf9IuGtHTPwt/0i4a0dM/C3/SLhrR0z8Lf9IuGtHTPwt/0i4a0dM/C3/SLhrR0z8Lf9IuGtHTPwt/0i4a0dM/C3/SLhrR0z8Lf9IuGtHTPwt/0i4a0dM/C3/SLhrR0z8Lf9IuGtHTPwt/0i4a0dM/C3/SLhrR0z8Lf9IuGtHTPwt/0i4a0dM/C3/SLhrR0z8Lf9IuGtHTPwt/0i4a0dM/C3/SLhrR0z8Lf9IuGtHTPwt/0i4a0dM/C3/SLhrR0z8Lf9IuGtHTPwt/0i4a0dM/C3/SLhrR0z8Lf9IuGtHTPwt/0i4a0dM/C3/SLhrR0z8Lf9IuGtHTPwt/0i4a0dM/C3/SLhrR0z8Lf9IuGtHTPwt/0i4a0dM/C3/SLhrR0z8Lf9IuGtHTPwt/0i4a0dM/C3/SLhrR0z8Lf9IuGtHTPwt/0i4a0dM/C3/SLhrR0z8Lf9IuGtHTPwt/0i4a0dM/C3/SLhrR0z8Lf9IuGtHTPwt/0i4a0dM/C3/SLhrR0z8Lf9IuGtHTPwt/0i4a0dM/C3/SLhrR0z8Lf9IuGtHTPwt/0i4a0dM/C3/SLhrR0z8Lf9IuGtHTPwt/0i4a0dM/C3/SLhrR0z8Lf9IuGtHTPwt/0i4a0dM/C3/SLhrR0z8Lf9IuGtHTPwt/0i4a0dM/C3/SLhrR0z8Lf9IuGtHTPwt/0i4a0dM/C3/SLhrR0z8Lf9IuGtHTPwt/0i4a0dM/C3/SLhrR0z8Lf9IuGtHTPwt/0i4a0dM/C3/SLhrR0z8Lf9IuGtHTPwt/0i4a0dM/C3/SLhrR0z8Lf9IuGtHTPwt/0i4a0dM/C3/SLhrR0z8Lf9IuGtHTPwt/0i4a0dM/C3/SLhrR0z8Lf9IuGtHTPwt/0i4a0dM/C3/SLhrR0z8Lf9IuGtHTPwt/0i4a0dM/C3/SLhrR0z8Lf9IuGtHTPwt/0i4a0dM/C3/SLhrR0z8Lf9IuGtHTPwt/0i4a0dM/C3/SLhrR0z8Lf9IuGtHTPwt/0i4a0dM/C3/SLhrR0z8Lf9IuGtHTPwt/0i4a0dM/C3/SLhrR0z8Lf9IuGtHTPwt/0i4a0dM/C3/SLhrR0z8Lf9IuGtHTPwt/0i4a0dM/C3/SLhrR0z8Lf9IuGtHTPwt/0i4a0dM/C3/SLhrR0z8Lf9IuGtHTPwt/0i4a0dM/C3/SLhrR0z8Lf9IuGtHTPwt/0i4a0dM/C3/SLhrR0z8Lf9IuGtHTPwt/0i4a0dM/C3/SLhrR0z8Lf9IuGtHTPwt/0i4a0dM/C3/SLhrR0z8Lf9IuGtHTPwt/0i4a0dM/C3/SLhrR0z8Lf9IuGtHTPwt/0i4a0dM/C3/SLhrR0z8Lf9IuGtHTPwt/0i4a0dM/C3/SLhrR0z8Lf9IuGtHTPwt/0i4a0dM/C3/SLhrR0z8Lf9IuGtHTPwt/0i4a0dM/C3/SLhrR0z8Lf9IuGtHTPwt/0i4a0dM/C3/SLhrR0z8Lf9IuGtHTPwt/0i4a0dM/C3/SLhrR0z8Lf9IuGtHTPwt/0i4a0dM/C3/SLhrR0z8Lf9IuGtHTPwt/0i4a0dM/C3/SLhrR0z8Lf9IuGtHTPwt/0i4a0dM/C3/SLhrR0z8Lf9IuGtHTPwt/0i4a0dM/C3/SLhrR0z8Lf9IuGtHTPwt/0i4a0dM/C3/SLhrR0z8Lf9IuGtHTPwt/0i4a0dM/C3/SLhrR0z8Lf9IuGtHTPwt/0i4a0dM/C3/SLhrR0z8Lf9IuGtHTPwt/0i4a0dM/C3/SLhrR0z8Lf9IuGtHTPwt/0i4a0dM/C3/SLhrR0z8Lf9IuGtHTPwt/0i4a0dM/C3/SLhrR0z8Lf9IuGtHTPwt/0i4a0dM/C3/SLhrR0z8Lf9IuGtHTPwt/0i4a0dM/C3/SLhrR0z8Lf9IuGtHTPwt/0i4a0dM/C3/SLhrR0z8Lf9IuGtHTPwt/0i4a0dM/C3/SLhrR0z8Lf9IuGtHTPwt/0i4a0dM/C3/SLhrR0z8Lf9IuGtHTPwt/0i4a0dM/C3/SLhrR0z8Lf9IuGtHTPwt/0i4a0dM/C3/SLhrR0z8Lf9IuGtHTPwt/0i4a0dM/NEO8rsUi4D80Q7yuxSLgPzRDvK7FIuA/NEO8rsUi4D80Q7yuxSLgPzRDvK7FIuA/NEO8rsUi4D80Q7yuxSLgPzRDvK7FIuA/NEO8rsUi4D80Q7yuxSLgPzRDvK7FIuA/NEO8rsUi4D80Q7yuxSLgPzRDvK7FIuA/NEO8rsUi4D80Q7yuxSLgPzRDvK7FIuA/NEO8rsUi4D80Q7yuxSLgPzRDvK7FIuA/NEO8rsUi4D80Q7yuxSLgPzRDvK7FIuA/NEO8rsUi4D80Q7yuxSLgPzRDvK7FIuA/NEO8rsUi4D80Q7yuxSLgPzRDvK7FIuA/NEO8rsUi4D80Q7yuxSLgPzRDvK7FIuA/NEO8rsUi4D80Q7yuxSLgPzRDvK7FIuA/NEO8rsUi4D80Q7yuxSLgPzRDvK7FIuA/NEO8rsUi4D80Q7yuxSLgPzRDvK7FIuA/NEO8rsUi4D80Q7yuxSLgPzRDvK7FIuA/NEO8rsUi4D80Q7yuxSLgPzRDvK7FIuA/NEO8rsUi4D80Q7yuxSLgPzRDvK7FIuA/NEO8rsUi4D80Q7yuxSLgPzRDvK7FIuA/NEO8rsUi4D80Q7yuxSLgPzRDvK7FIuA/NEO8rsUi4D80Q7yuxSLgPzRDvK7FIuA/NEO8rsUi4D80Q7yuxSLgPzRDvK7FIuA/NEO8rsUi4D80Q7yuxSLgPzRDvK7FIuA/NEO8rsUi4D80Q7yuxSLgPzRDvK7FIuA/NEO8rsUi4D80Q7yuxSLgPzRDvK7FIuA/NEO8rsUi4D80Q7yuxSLgPzRDvK7FIuA/NEO8rsUi4D80Q7yuxSLgPzRDvK7FIuA/NEO8rsUi4D80Q7yuxSLgPzRDvK7FIuA/NEO8rsUi4D80Q7yuxSLgPzRDvK7FIuA/NEO8rsUi4D80Q7yuxSLgPzRDvK7FIuA/NEO8rsUi4D80Q7yuxSLgPzRDvK7FIuA/NEO8rsUi4D80Q7yuxSLgPzRDvK7FIuA/NEO8rsUi4D80Q7yuxSLgPzRDvK7FIuA/NEO8rsUi4D80Q7yuxSLgPzRDvK7FIuA/NEO8rsUi4D80Q7yuxSLgPzRDvK7FIuA/NEO8rsUi4D80Q7yuxSLgPzRDvK7FIuA/NEO8rsUi4D80Q7yuxSLgPzRDvK7FIuA/NEO8rsUi4D80Q7yuxSLgPzRDvK7FIuA/NEO8rsUi4D80Q7yuxSLgPzRDvK7FIuA/NEO8rsUi4D80Q7yuxSLgPzRDvK7FIuA/NEO8rsUi4D80Q7yuxSLgPzRDvK7FIuA/NEO8rsUi4D80Q7yuxSLgPzRDvK7FIuA/NEO8rsUi4D80Q7yuxSLgPzRDvK7FIuA/NEO8rsUi4D80Q7yuxSLgPzRDvK7FIuA/NEO8rsUi4D80Q7yuxSLgPzRDvK7FIuA/NEO8rsUi4D80Q7yuxSLgPzRDvK7FIuA/NEO8rsUi4D80Q7yuxSLgPzRDvK7FIuA/NEO8rsUi4D80Q7yuxSLgPzRDvK7FIuA/NEO8rsUi4D80Q7yuxSLgPzRDvK7FIuA/NEO8rsUi4D80Q7yuxSLgPzRDvK7FIuA/NEO8rsUi4D80Q7yuxSLgPzRDvK7FIuA/NEO8rsUi4D80Q7yuxSLgPzRDvK7FIuA/NEO8rsUi4D80Q7yuxSLgPzRDvK7FIuA/NEO8rsUi4D80Q7yuxSLgPzRDvK7FIuA/NEO8rsUi4D80Q7yuxSLgPzRDvK7FIuA/NEO8rsUi4D80Q7yuxSLgPzRDvK7FIuA/NEO8rsUi4D80Q7yuxSLgPzRDvK7FIuA/NEO8rsUi4D80Q7yuxSLgPzRDvK7FIuA/NEO8rsUi4D80Q7yuxSLgPzRDvK7FIuA/NEO8rsUi4D80Q7yuxSLgPzRDvK7FIuA/NEO8rsUi4D80Q7yuxSLgPzRDvK7FIuA/NEO8rsUi4D80Q7yuxSLgPzRDvK7FIuA/NEO8rsUi4D80Q7yuxSLgPzRDvK7FIuA/NEO8rsUi4D80Q7yuxSLgPzRDvK7FIuA/NEO8rsUi4D80Q7yuxSLgPzRDvK7FIuA/NEO8rsUi4D80Q7yuxSLgPzRDvK7FIuA/NEO8rsUi4D80Q7yuxSLgPzRDvK7FIuA/NEO8rsUi4D80Q7yuxSLgPzRDvK7FIuA/NEO8rsUi4D80Q7yuxSLgPzRDvK7FIuA/NEO8rsUi4D80Q7yuxSLgPzRDvK7FIuA/NEO8rsUi4D80Q7yuxSLgPzRDvK7FIuA/NEO8rsUi4D80Q7yuxSLgPzRDvK7FIuA/NEO8rsUi4D80Q7yuxSLgPzRDvK7FIuA/NEO8rsUi4D80Q7yuxSLgPzRDvK7FIuA/NEO8rsUi4D80Q7yuxSLgPzRDvK7FIuA/NEO8rsUi4D80Q7yuxSLgPzRDvK7FIuA/NEO8rsUi4D80Q7yuxSLgPzRDvK7FIuA/NEO8rsUi4D80Q7yuxSLgPzRDvK7FIuA/NEO8rsUi4D80Q7yuxSLgPzRDvK7FIuA/NEO8rsUi4D80Q7yuxSLgPzRDvK7FIuA/NEO8rsUi4D80Q7yuxSLgPzRDvK7FIuA/NEO8rsUi4D80Q7yuxSLgPzRDvK7FIuA/NEO8rsUi4D80Q7yuxSLgPzRDvK7FIuA/NEO8rsUi4D80Q7yuxSLgPzRDvK7FIuA/NEO8rsUi4D80Q7yuxSLgPzRDvK7FIuA/NEO8rsUi4D80Q7yuxSLgPzRDvK7FIuA/NEO8rsUi4D80Q7yuxSLgPzRDvK7FIuA/NEO8rsUi4D80Q7yuxSLgPzRDvK7FIuA/",
          "dtype": "f8"
         },
         "yaxis": "y"
        },
        {
         "fillpattern": {
          "shape": ""
         },
         "hovertemplate": "Asset Family=Fixed Income<br>Date=%{x}<br>Asset Weight=%{y}<extra></extra>",
         "legendgroup": "Fixed Income",
         "line": {
          "color": "#00cc96"
         },
         "marker": {
          "symbol": "circle"
         },
         "mode": "lines",
         "name": "Fixed Income",
         "orientation": "v",
         "showlegend": true,
         "stackgroup": "1",
         "type": "scatter",
         "x": [
          "2019-01-02",
          "2019-01-03",
          "2019-01-04",
          "2019-01-07",
          "2019-01-08",
          "2019-01-09",
          "2019-01-10",
          "2019-01-11",
          "2019-01-14",
          "2019-01-15",
          "2019-01-16",
          "2019-01-17",
          "2019-01-18",
          "2019-01-21",
          "2019-01-22",
          "2019-01-23",
          "2019-01-24",
          "2019-01-25",
          "2019-01-28",
          "2019-01-29",
          "2019-01-30",
          "2019-01-31",
          "2019-02-01",
          "2019-02-04",
          "2019-02-05",
          "2019-02-06",
          "2019-02-07",
          "2019-02-08",
          "2019-02-11",
          "2019-02-12",
          "2019-02-13",
          "2019-02-14",
          "2019-02-15",
          "2019-02-18",
          "2019-02-19",
          "2019-02-20",
          "2019-02-21",
          "2019-02-22",
          "2019-02-25",
          "2019-02-26",
          "2019-02-27",
          "2019-02-28",
          "2019-03-01",
          "2019-03-04",
          "2019-03-05",
          "2019-03-06",
          "2019-03-07",
          "2019-03-08",
          "2019-03-11",
          "2019-03-12",
          "2019-03-13",
          "2019-03-14",
          "2019-03-15",
          "2019-03-18",
          "2019-03-19",
          "2019-03-20",
          "2019-03-21",
          "2019-03-22",
          "2019-03-25",
          "2019-03-26",
          "2019-03-27",
          "2019-03-28",
          "2019-03-29",
          "2019-04-01",
          "2019-04-02",
          "2019-04-03",
          "2019-04-04",
          "2019-04-05",
          "2019-04-08",
          "2019-04-09",
          "2019-04-10",
          "2019-04-11",
          "2019-04-12",
          "2019-04-15",
          "2019-04-16",
          "2019-04-17",
          "2019-04-18",
          "2019-04-19",
          "2019-04-22",
          "2019-04-23",
          "2019-04-24",
          "2019-04-25",
          "2019-04-26",
          "2019-04-29",
          "2019-04-30",
          "2019-05-01",
          "2019-05-02",
          "2019-05-03",
          "2019-05-06",
          "2019-05-07",
          "2019-05-08",
          "2019-05-09",
          "2019-05-10",
          "2019-05-13",
          "2019-05-14",
          "2019-05-15",
          "2019-05-16",
          "2019-05-17",
          "2019-05-20",
          "2019-05-21",
          "2019-05-22",
          "2019-05-23",
          "2019-05-24",
          "2019-05-27",
          "2019-05-28",
          "2019-05-29",
          "2019-05-30",
          "2019-05-31",
          "2019-06-03",
          "2019-06-04",
          "2019-06-05",
          "2019-06-06",
          "2019-06-07",
          "2019-06-10",
          "2019-06-11",
          "2019-06-12",
          "2019-06-13",
          "2019-06-14",
          "2019-06-17",
          "2019-06-18",
          "2019-06-19",
          "2019-06-20",
          "2019-06-21",
          "2019-06-24",
          "2019-06-25",
          "2019-06-26",
          "2019-06-27",
          "2019-06-28",
          "2019-07-01",
          "2019-07-02",
          "2019-07-03",
          "2019-07-04",
          "2019-07-05",
          "2019-07-08",
          "2019-07-09",
          "2019-07-10",
          "2019-07-11",
          "2019-07-12",
          "2019-07-15",
          "2019-07-16",
          "2019-07-17",
          "2019-07-18",
          "2019-07-19",
          "2019-07-22",
          "2019-07-23",
          "2019-07-24",
          "2019-07-25",
          "2019-07-26",
          "2019-07-29",
          "2019-07-30",
          "2019-07-31",
          "2019-08-01",
          "2019-08-02",
          "2019-08-05",
          "2019-08-06",
          "2019-08-07",
          "2019-08-08",
          "2019-08-09",
          "2019-08-12",
          "2019-08-13",
          "2019-08-14",
          "2019-08-15",
          "2019-08-16",
          "2019-08-19",
          "2019-08-20",
          "2019-08-21",
          "2019-08-22",
          "2019-08-23",
          "2019-08-26",
          "2019-08-27",
          "2019-08-28",
          "2019-08-29",
          "2019-08-30",
          "2019-09-02",
          "2019-09-03",
          "2019-09-04",
          "2019-09-05",
          "2019-09-06",
          "2019-09-09",
          "2019-09-10",
          "2019-09-11",
          "2019-09-12",
          "2019-09-13",
          "2019-09-16",
          "2019-09-17",
          "2019-09-18",
          "2019-09-19",
          "2019-09-20",
          "2019-09-23",
          "2019-09-24",
          "2019-09-25",
          "2019-09-26",
          "2019-09-27",
          "2019-09-30",
          "2019-10-01",
          "2019-10-02",
          "2019-10-03",
          "2019-10-04",
          "2019-10-07",
          "2019-10-08",
          "2019-10-09",
          "2019-10-10",
          "2019-10-11",
          "2019-10-14",
          "2019-10-15",
          "2019-10-16",
          "2019-10-17",
          "2019-10-18",
          "2019-10-21",
          "2019-10-22",
          "2019-10-23",
          "2019-10-24",
          "2019-10-25",
          "2019-10-28",
          "2019-10-29",
          "2019-10-30",
          "2019-10-31",
          "2019-11-01",
          "2019-11-04",
          "2019-11-05",
          "2019-11-06",
          "2019-11-07",
          "2019-11-08",
          "2019-11-11",
          "2019-11-12",
          "2019-11-13",
          "2019-11-14",
          "2019-11-15",
          "2019-11-18",
          "2019-11-19",
          "2019-11-20",
          "2019-11-21",
          "2019-11-22",
          "2019-11-25",
          "2019-11-26",
          "2019-11-27",
          "2019-11-28",
          "2019-11-29",
          "2019-12-02",
          "2019-12-03",
          "2019-12-04",
          "2019-12-05",
          "2019-12-06",
          "2019-12-09",
          "2019-12-10",
          "2019-12-11",
          "2019-12-12",
          "2019-12-13",
          "2019-12-16",
          "2019-12-17",
          "2019-12-18",
          "2019-12-19",
          "2019-12-20",
          "2019-12-23",
          "2019-12-24",
          "2019-12-25",
          "2019-12-26",
          "2019-12-27",
          "2019-12-30",
          "2019-12-31",
          "2020-01-01",
          "2020-01-02",
          "2020-01-03",
          "2020-01-06",
          "2020-01-07",
          "2020-01-08",
          "2020-01-09",
          "2020-01-10",
          "2020-01-13",
          "2020-01-14",
          "2020-01-15",
          "2020-01-16",
          "2020-01-17",
          "2020-01-20",
          "2020-01-21",
          "2020-01-22",
          "2020-01-23",
          "2020-01-24",
          "2020-01-27",
          "2020-01-28",
          "2020-01-29",
          "2020-01-30",
          "2020-01-31",
          "2020-02-03",
          "2020-02-04",
          "2020-02-05",
          "2020-02-06",
          "2020-02-07",
          "2020-02-10",
          "2020-02-11",
          "2020-02-12",
          "2020-02-13",
          "2020-02-14",
          "2020-02-17",
          "2020-02-18",
          "2020-02-19",
          "2020-02-20",
          "2020-02-21",
          "2020-02-24",
          "2020-02-25",
          "2020-02-26",
          "2020-02-27",
          "2020-02-28",
          "2020-03-02",
          "2020-03-03",
          "2020-03-04",
          "2020-03-05",
          "2020-03-06",
          "2020-03-09",
          "2020-03-10",
          "2020-03-11",
          "2020-03-12",
          "2020-03-13",
          "2020-03-16",
          "2020-03-17",
          "2020-03-18",
          "2020-03-19",
          "2020-03-20",
          "2020-03-23",
          "2020-03-24",
          "2020-03-25",
          "2020-03-26",
          "2020-03-27",
          "2020-03-30",
          "2020-03-31",
          "2020-04-01",
          "2020-04-02",
          "2020-04-03",
          "2020-04-06",
          "2020-04-07",
          "2020-04-08",
          "2020-04-09",
          "2020-04-10",
          "2020-04-13",
          "2020-04-14",
          "2020-04-15",
          "2020-04-16",
          "2020-04-17",
          "2020-04-20",
          "2020-04-21",
          "2020-04-22",
          "2020-04-23",
          "2020-04-24",
          "2020-04-27",
          "2020-04-28",
          "2020-04-29",
          "2020-04-30",
          "2020-05-01",
          "2020-05-04",
          "2020-05-05",
          "2020-05-06",
          "2020-05-07",
          "2020-05-08",
          "2020-05-11",
          "2020-05-12",
          "2020-05-13",
          "2020-05-14",
          "2020-05-15",
          "2020-05-18",
          "2020-05-19",
          "2020-05-20",
          "2020-05-21",
          "2020-05-22",
          "2020-05-25",
          "2020-05-26",
          "2020-05-27",
          "2020-05-28",
          "2020-05-29",
          "2020-06-01",
          "2020-06-02",
          "2020-06-03",
          "2020-06-04",
          "2020-06-05",
          "2020-06-08",
          "2020-06-09",
          "2020-06-10",
          "2020-06-11",
          "2020-06-12",
          "2020-06-15",
          "2020-06-16",
          "2020-06-17",
          "2020-06-18",
          "2020-06-19",
          "2020-06-22",
          "2020-06-23",
          "2020-06-24",
          "2020-06-25",
          "2020-06-26",
          "2020-06-29",
          "2020-06-30",
          "2020-07-01",
          "2020-07-02",
          "2020-07-03",
          "2020-07-06",
          "2020-07-07",
          "2020-07-08",
          "2020-07-09",
          "2020-07-10",
          "2020-07-13",
          "2020-07-14",
          "2020-07-15",
          "2020-07-16",
          "2020-07-17",
          "2020-07-20",
          "2020-07-21",
          "2020-07-22",
          "2020-07-23",
          "2020-07-24",
          "2020-07-27",
          "2020-07-28",
          "2020-07-29",
          "2020-07-30",
          "2020-07-31",
          "2020-08-03",
          "2020-08-04",
          "2020-08-05",
          "2020-08-06",
          "2020-08-07",
          "2020-08-10",
          "2020-08-11",
          "2020-08-12",
          "2020-08-13",
          "2020-08-14",
          "2020-08-17",
          "2020-08-18",
          "2020-08-19",
          "2020-08-20",
          "2020-08-21",
          "2020-08-24",
          "2020-08-25",
          "2020-08-26",
          "2020-08-27",
          "2020-08-28",
          "2020-08-31",
          "2020-09-01",
          "2020-09-02",
          "2020-09-03",
          "2020-09-04",
          "2020-09-07",
          "2020-09-08",
          "2020-09-09",
          "2020-09-10",
          "2020-09-11",
          "2020-09-14",
          "2020-09-15",
          "2020-09-16",
          "2020-09-17",
          "2020-09-18",
          "2020-09-21",
          "2020-09-22",
          "2020-09-23",
          "2020-09-24",
          "2020-09-25",
          "2020-09-28",
          "2020-09-29",
          "2020-09-30",
          "2020-10-01",
          "2020-10-02",
          "2020-10-05",
          "2020-10-06",
          "2020-10-07",
          "2020-10-08",
          "2020-10-09",
          "2020-10-12",
          "2020-10-13",
          "2020-10-14",
          "2020-10-15",
          "2020-10-16",
          "2020-10-19",
          "2020-10-20",
          "2020-10-21",
          "2020-10-22",
          "2020-10-23",
          "2020-10-26",
          "2020-10-27",
          "2020-10-28",
          "2020-10-29",
          "2020-10-30",
          "2020-11-02",
          "2020-11-03",
          "2020-11-04",
          "2020-11-05",
          "2020-11-06",
          "2020-11-09",
          "2020-11-10",
          "2020-11-11",
          "2020-11-12",
          "2020-11-13",
          "2020-11-16",
          "2020-11-17",
          "2020-11-18",
          "2020-11-19",
          "2020-11-20",
          "2020-11-23",
          "2020-11-24",
          "2020-11-25",
          "2020-11-26",
          "2020-11-27",
          "2020-11-30",
          "2020-12-01",
          "2020-12-02",
          "2020-12-03",
          "2020-12-04",
          "2020-12-07",
          "2020-12-08",
          "2020-12-09",
          "2020-12-10",
          "2020-12-11",
          "2020-12-14",
          "2020-12-15",
          "2020-12-16",
          "2020-12-17",
          "2020-12-18",
          "2020-12-21",
          "2020-12-22",
          "2020-12-23",
          "2020-12-24",
          "2020-12-25",
          "2020-12-28",
          "2020-12-29",
          "2020-12-30",
          "2020-12-31",
          "2021-01-01",
          "2021-01-04",
          "2021-01-05",
          "2021-01-06",
          "2021-01-07",
          "2021-01-08",
          "2021-01-11",
          "2021-01-12",
          "2021-01-13",
          "2021-01-14",
          "2021-01-15",
          "2021-01-18",
          "2021-01-19",
          "2021-01-20",
          "2021-01-21",
          "2021-01-22",
          "2021-01-25",
          "2021-01-26",
          "2021-01-27",
          "2021-01-28",
          "2021-01-29",
          "2021-02-01",
          "2021-02-02",
          "2021-02-03",
          "2021-02-04",
          "2021-02-05",
          "2021-02-08",
          "2021-02-09",
          "2021-02-10",
          "2021-02-11",
          "2021-02-12",
          "2021-02-15",
          "2021-02-16",
          "2021-02-17",
          "2021-02-18",
          "2021-02-19",
          "2021-02-22",
          "2021-02-23",
          "2021-02-24",
          "2021-02-25",
          "2021-02-26",
          "2021-03-01",
          "2021-03-02",
          "2021-03-03",
          "2021-03-04",
          "2021-03-05",
          "2021-03-08",
          "2021-03-09",
          "2021-03-10",
          "2021-03-11",
          "2021-03-12",
          "2021-03-15",
          "2021-03-16",
          "2021-03-17",
          "2021-03-18",
          "2021-03-19",
          "2021-03-22",
          "2021-03-23",
          "2021-03-24",
          "2021-03-25",
          "2021-03-26",
          "2021-03-29",
          "2021-03-30",
          "2021-03-31",
          "2021-04-01",
          "2021-04-02",
          "2021-04-05",
          "2021-04-06",
          "2021-04-07",
          "2021-04-08",
          "2021-04-09",
          "2021-04-12",
          "2021-04-13",
          "2021-04-14",
          "2021-04-15",
          "2021-04-16",
          "2021-04-19",
          "2021-04-20",
          "2021-04-21",
          "2021-04-22",
          "2021-04-23",
          "2021-04-26",
          "2021-04-27",
          "2021-04-28",
          "2021-04-29",
          "2021-04-30",
          "2021-05-03",
          "2021-05-04",
          "2021-05-05",
          "2021-05-06",
          "2021-05-07",
          "2021-05-10",
          "2021-05-11",
          "2021-05-12",
          "2021-05-13",
          "2021-05-14",
          "2021-05-17",
          "2021-05-18",
          "2021-05-19",
          "2021-05-20",
          "2021-05-21",
          "2021-05-24",
          "2021-05-25",
          "2021-05-26",
          "2021-05-27",
          "2021-05-28",
          "2021-05-31",
          "2021-06-01",
          "2021-06-02",
          "2021-06-03",
          "2021-06-04",
          "2021-06-07",
          "2021-06-08",
          "2021-06-09",
          "2021-06-10",
          "2021-06-11",
          "2021-06-14",
          "2021-06-15",
          "2021-06-16",
          "2021-06-17",
          "2021-06-18",
          "2021-06-21",
          "2021-06-22",
          "2021-06-23",
          "2021-06-24",
          "2021-06-25",
          "2021-06-28",
          "2021-06-29",
          "2021-06-30",
          "2021-07-01",
          "2021-07-02",
          "2021-07-05",
          "2021-07-06",
          "2021-07-07",
          "2021-07-08",
          "2021-07-09",
          "2021-07-12",
          "2021-07-13",
          "2021-07-14",
          "2021-07-15",
          "2021-07-16",
          "2021-07-19",
          "2021-07-20",
          "2021-07-21",
          "2021-07-22",
          "2021-07-23",
          "2021-07-26",
          "2021-07-27",
          "2021-07-28",
          "2021-07-29",
          "2021-07-30",
          "2021-08-02",
          "2021-08-03",
          "2021-08-04",
          "2021-08-05",
          "2021-08-06",
          "2021-08-09",
          "2021-08-10",
          "2021-08-11",
          "2021-08-12",
          "2021-08-13",
          "2021-08-16",
          "2021-08-17",
          "2021-08-18",
          "2021-08-19",
          "2021-08-20",
          "2021-08-23",
          "2021-08-24",
          "2021-08-25",
          "2021-08-26",
          "2021-08-27",
          "2021-08-30",
          "2021-08-31",
          "2021-09-01",
          "2021-09-02",
          "2021-09-03",
          "2021-09-06",
          "2021-09-07",
          "2021-09-08",
          "2021-09-09",
          "2021-09-10",
          "2021-09-13",
          "2021-09-14",
          "2021-09-15",
          "2021-09-16",
          "2021-09-17",
          "2021-09-20",
          "2021-09-21",
          "2021-09-22",
          "2021-09-23",
          "2021-09-24",
          "2021-09-27",
          "2021-09-28",
          "2021-09-29",
          "2021-09-30",
          "2021-10-01",
          "2021-10-04",
          "2021-10-05",
          "2021-10-06",
          "2021-10-07",
          "2021-10-08",
          "2021-10-11",
          "2021-10-12",
          "2021-10-13",
          "2021-10-14",
          "2021-10-15",
          "2021-10-18",
          "2021-10-19",
          "2021-10-20",
          "2021-10-21",
          "2021-10-22",
          "2021-10-25",
          "2021-10-26",
          "2021-10-27",
          "2021-10-28",
          "2021-10-29",
          "2021-11-01",
          "2021-11-02",
          "2021-11-03",
          "2021-11-04",
          "2021-11-05",
          "2021-11-08",
          "2021-11-09",
          "2021-11-10",
          "2021-11-11",
          "2021-11-12",
          "2021-11-15",
          "2021-11-16",
          "2021-11-17",
          "2021-11-18",
          "2021-11-19",
          "2021-11-22",
          "2021-11-23",
          "2021-11-24",
          "2021-11-25",
          "2021-11-26",
          "2021-11-29",
          "2021-11-30",
          "2021-12-01",
          "2021-12-02",
          "2021-12-03",
          "2021-12-06",
          "2021-12-07",
          "2021-12-08",
          "2021-12-09",
          "2021-12-10",
          "2021-12-13",
          "2021-12-14",
          "2021-12-15",
          "2021-12-16",
          "2021-12-17",
          "2021-12-20",
          "2021-12-21",
          "2021-12-22",
          "2021-12-23",
          "2021-12-24",
          "2021-12-27",
          "2021-12-28",
          "2021-12-29",
          "2021-12-30",
          "2021-12-31"
         ],
         "xaxis": "x",
         "y": {
          "bdata": "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",
          "dtype": "f8"
         },
         "yaxis": "y"
        }
       ],
       "layout": {
        "legend": {
         "title": {
          "text": "Asset Family"
         },
         "tracegroupgap": 0
        },
        "template": {
         "data": {
          "bar": [
           {
            "error_x": {
             "color": "#2a3f5f"
            },
            "error_y": {
             "color": "#2a3f5f"
            },
            "marker": {
             "line": {
              "color": "#E5ECF6",
              "width": 0.5
             },
             "pattern": {
              "fillmode": "overlay",
              "size": 10,
              "solidity": 0.2
             }
            },
            "type": "bar"
           }
          ],
          "barpolar": [
           {
            "marker": {
             "line": {
              "color": "#E5ECF6",
              "width": 0.5
             },
             "pattern": {
              "fillmode": "overlay",
              "size": 10,
              "solidity": 0.2
             }
            },
            "type": "barpolar"
           }
          ],
          "carpet": [
           {
            "aaxis": {
             "endlinecolor": "#2a3f5f",
             "gridcolor": "white",
             "linecolor": "white",
             "minorgridcolor": "white",
             "startlinecolor": "#2a3f5f"
            },
            "baxis": {
             "endlinecolor": "#2a3f5f",
             "gridcolor": "white",
             "linecolor": "white",
             "minorgridcolor": "white",
             "startlinecolor": "#2a3f5f"
            },
            "type": "carpet"
           }
          ],
          "choropleth": [
           {
            "colorbar": {
             "outlinewidth": 0,
             "ticks": ""
            },
            "type": "choropleth"
           }
          ],
          "contour": [
           {
            "colorbar": {
             "outlinewidth": 0,
             "ticks": ""
            },
            "colorscale": [
             [
              0,
              "#0d0887"
             ],
             [
              0.1111111111111111,
              "#46039f"
             ],
             [
              0.2222222222222222,
              "#7201a8"
             ],
             [
              0.3333333333333333,
              "#9c179e"
             ],
             [
              0.4444444444444444,
              "#bd3786"
             ],
             [
              0.5555555555555556,
              "#d8576b"
             ],
             [
              0.6666666666666666,
              "#ed7953"
             ],
             [
              0.7777777777777778,
              "#fb9f3a"
             ],
             [
              0.8888888888888888,
              "#fdca26"
             ],
             [
              1,
              "#f0f921"
             ]
            ],
            "type": "contour"
           }
          ],
          "contourcarpet": [
           {
            "colorbar": {
             "outlinewidth": 0,
             "ticks": ""
            },
            "type": "contourcarpet"
           }
          ],
          "heatmap": [
           {
            "colorbar": {
             "outlinewidth": 0,
             "ticks": ""
            },
            "colorscale": [
             [
              0,
              "#0d0887"
             ],
             [
              0.1111111111111111,
              "#46039f"
             ],
             [
              0.2222222222222222,
              "#7201a8"
             ],
             [
              0.3333333333333333,
              "#9c179e"
             ],
             [
              0.4444444444444444,
              "#bd3786"
             ],
             [
              0.5555555555555556,
              "#d8576b"
             ],
             [
              0.6666666666666666,
              "#ed7953"
             ],
             [
              0.7777777777777778,
              "#fb9f3a"
             ],
             [
              0.8888888888888888,
              "#fdca26"
             ],
             [
              1,
              "#f0f921"
             ]
            ],
            "type": "heatmap"
           }
          ],
          "histogram": [
           {
            "marker": {
             "pattern": {
              "fillmode": "overlay",
              "size": 10,
              "solidity": 0.2
             }
            },
            "type": "histogram"
           }
          ],
          "histogram2d": [
           {
            "colorbar": {
             "outlinewidth": 0,
             "ticks": ""
            },
            "colorscale": [
             [
              0,
              "#0d0887"
             ],
             [
              0.1111111111111111,
              "#46039f"
             ],
             [
              0.2222222222222222,
              "#7201a8"
             ],
             [
              0.3333333333333333,
              "#9c179e"
             ],
             [
              0.4444444444444444,
              "#bd3786"
             ],
             [
              0.5555555555555556,
              "#d8576b"
             ],
             [
              0.6666666666666666,
              "#ed7953"
             ],
             [
              0.7777777777777778,
              "#fb9f3a"
             ],
             [
              0.8888888888888888,
              "#fdca26"
             ],
             [
              1,
              "#f0f921"
             ]
            ],
            "type": "histogram2d"
           }
          ],
          "histogram2dcontour": [
           {
            "colorbar": {
             "outlinewidth": 0,
             "ticks": ""
            },
            "colorscale": [
             [
              0,
              "#0d0887"
             ],
             [
              0.1111111111111111,
              "#46039f"
             ],
             [
              0.2222222222222222,
              "#7201a8"
             ],
             [
              0.3333333333333333,
              "#9c179e"
             ],
             [
              0.4444444444444444,
              "#bd3786"
             ],
             [
              0.5555555555555556,
              "#d8576b"
             ],
             [
              0.6666666666666666,
              "#ed7953"
             ],
             [
              0.7777777777777778,
              "#fb9f3a"
             ],
             [
              0.8888888888888888,
              "#fdca26"
             ],
             [
              1,
              "#f0f921"
             ]
            ],
            "type": "histogram2dcontour"
           }
          ],
          "mesh3d": [
           {
            "colorbar": {
             "outlinewidth": 0,
             "ticks": ""
            },
            "type": "mesh3d"
           }
          ],
          "parcoords": [
           {
            "line": {
             "colorbar": {
              "outlinewidth": 0,
              "ticks": ""
             }
            },
            "type": "parcoords"
           }
          ],
          "pie": [
           {
            "automargin": true,
            "type": "pie"
           }
          ],
          "scatter": [
           {
            "fillpattern": {
             "fillmode": "overlay",
             "size": 10,
             "solidity": 0.2
            },
            "type": "scatter"
           }
          ],
          "scatter3d": [
           {
            "line": {
             "colorbar": {
              "outlinewidth": 0,
              "ticks": ""
             }
            },
            "marker": {
             "colorbar": {
              "outlinewidth": 0,
              "ticks": ""
             }
            },
            "type": "scatter3d"
           }
          ],
          "scattercarpet": [
           {
            "marker": {
             "colorbar": {
              "outlinewidth": 0,
              "ticks": ""
             }
            },
            "type": "scattercarpet"
           }
          ],
          "scattergeo": [
           {
            "marker": {
             "colorbar": {
              "outlinewidth": 0,
              "ticks": ""
             }
            },
            "type": "scattergeo"
           }
          ],
          "scattergl": [
           {
            "marker": {
             "colorbar": {
              "outlinewidth": 0,
              "ticks": ""
             }
            },
            "type": "scattergl"
           }
          ],
          "scattermap": [
           {
            "marker": {
             "colorbar": {
              "outlinewidth": 0,
              "ticks": ""
             }
            },
            "type": "scattermap"
           }
          ],
          "scattermapbox": [
           {
            "marker": {
             "colorbar": {
              "outlinewidth": 0,
              "ticks": ""
             }
            },
            "type": "scattermapbox"
           }
          ],
          "scatterpolar": [
           {
            "marker": {
             "colorbar": {
              "outlinewidth": 0,
              "ticks": ""
             }
            },
            "type": "scatterpolar"
           }
          ],
          "scatterpolargl": [
           {
            "marker": {
             "colorbar": {
              "outlinewidth": 0,
              "ticks": ""
             }
            },
            "type": "scatterpolargl"
           }
          ],
          "scatterternary": [
           {
            "marker": {
             "colorbar": {
              "outlinewidth": 0,
              "ticks": ""
             }
            },
            "type": "scatterternary"
           }
          ],
          "surface": [
           {
            "colorbar": {
             "outlinewidth": 0,
             "ticks": ""
            },
            "colorscale": [
             [
              0,
              "#0d0887"
             ],
             [
              0.1111111111111111,
              "#46039f"
             ],
             [
              0.2222222222222222,
              "#7201a8"
             ],
             [
              0.3333333333333333,
              "#9c179e"
             ],
             [
              0.4444444444444444,
              "#bd3786"
             ],
             [
              0.5555555555555556,
              "#d8576b"
             ],
             [
              0.6666666666666666,
              "#ed7953"
             ],
             [
              0.7777777777777778,
              "#fb9f3a"
             ],
             [
              0.8888888888888888,
              "#fdca26"
             ],
             [
              1,
              "#f0f921"
             ]
            ],
            "type": "surface"
           }
          ],
          "table": [
           {
            "cells": {
             "fill": {
              "color": "#EBF0F8"
             },
             "line": {
              "color": "white"
             }
            },
            "header": {
             "fill": {
              "color": "#C8D4E3"
             },
             "line": {
              "color": "white"
             }
            },
            "type": "table"
           }
          ]
         },
         "layout": {
          "annotationdefaults": {
           "arrowcolor": "#2a3f5f",
           "arrowhead": 0,
           "arrowwidth": 1
          },
          "autotypenumbers": "strict",
          "coloraxis": {
           "colorbar": {
            "outlinewidth": 0,
            "ticks": ""
           }
          },
          "colorscale": {
           "diverging": [
            [
             0,
             "#8e0152"
            ],
            [
             0.1,
             "#c51b7d"
            ],
            [
             0.2,
             "#de77ae"
            ],
            [
             0.3,
             "#f1b6da"
            ],
            [
             0.4,
             "#fde0ef"
            ],
            [
             0.5,
             "#f7f7f7"
            ],
            [
             0.6,
             "#e6f5d0"
            ],
            [
             0.7,
             "#b8e186"
            ],
            [
             0.8,
             "#7fbc41"
            ],
            [
             0.9,
             "#4d9221"
            ],
            [
             1,
             "#276419"
            ]
           ],
           "sequential": [
            [
             0,
             "#0d0887"
            ],
            [
             0.1111111111111111,
             "#46039f"
            ],
            [
             0.2222222222222222,
             "#7201a8"
            ],
            [
             0.3333333333333333,
             "#9c179e"
            ],
            [
             0.4444444444444444,
             "#bd3786"
            ],
            [
             0.5555555555555556,
             "#d8576b"
            ],
            [
             0.6666666666666666,
             "#ed7953"
            ],
            [
             0.7777777777777778,
             "#fb9f3a"
            ],
            [
             0.8888888888888888,
             "#fdca26"
            ],
            [
             1,
             "#f0f921"
            ]
           ],
           "sequentialminus": [
            [
             0,
             "#0d0887"
            ],
            [
             0.1111111111111111,
             "#46039f"
            ],
            [
             0.2222222222222222,
             "#7201a8"
            ],
            [
             0.3333333333333333,
             "#9c179e"
            ],
            [
             0.4444444444444444,
             "#bd3786"
            ],
            [
             0.5555555555555556,
             "#d8576b"
            ],
            [
             0.6666666666666666,
             "#ed7953"
            ],
            [
             0.7777777777777778,
             "#fb9f3a"
            ],
            [
             0.8888888888888888,
             "#fdca26"
            ],
            [
             1,
             "#f0f921"
            ]
           ]
          },
          "colorway": [
           "#636efa",
           "#EF553B",
           "#00cc96",
           "#ab63fa",
           "#FFA15A",
           "#19d3f3",
           "#FF6692",
           "#B6E880",
           "#FF97FF",
           "#FECB52"
          ],
          "font": {
           "color": "#2a3f5f"
          },
          "geo": {
           "bgcolor": "white",
           "lakecolor": "white",
           "landcolor": "#E5ECF6",
           "showlakes": true,
           "showland": true,
           "subunitcolor": "white"
          },
          "hoverlabel": {
           "align": "left"
          },
          "hovermode": "closest",
          "mapbox": {
           "style": "light"
          },
          "paper_bgcolor": "white",
          "plot_bgcolor": "#E5ECF6",
          "polar": {
           "angularaxis": {
            "gridcolor": "white",
            "linecolor": "white",
            "ticks": ""
           },
           "bgcolor": "#E5ECF6",
           "radialaxis": {
            "gridcolor": "white",
            "linecolor": "white",
            "ticks": ""
           }
          },
          "scene": {
           "xaxis": {
            "backgroundcolor": "#E5ECF6",
            "gridcolor": "white",
            "gridwidth": 2,
            "linecolor": "white",
            "showbackground": true,
            "ticks": "",
            "zerolinecolor": "white"
           },
           "yaxis": {
            "backgroundcolor": "#E5ECF6",
            "gridcolor": "white",
            "gridwidth": 2,
            "linecolor": "white",
            "showbackground": true,
            "ticks": "",
            "zerolinecolor": "white"
           },
           "zaxis": {
            "backgroundcolor": "#E5ECF6",
            "gridcolor": "white",
            "gridwidth": 2,
            "linecolor": "white",
            "showbackground": true,
            "ticks": "",
            "zerolinecolor": "white"
           }
          },
          "shapedefaults": {
           "line": {
            "color": "#2a3f5f"
           }
          },
          "ternary": {
           "aaxis": {
            "gridcolor": "white",
            "linecolor": "white",
            "ticks": ""
           },
           "baxis": {
            "gridcolor": "white",
            "linecolor": "white",
            "ticks": ""
           },
           "bgcolor": "#E5ECF6",
           "caxis": {
            "gridcolor": "white",
            "linecolor": "white",
            "ticks": ""
           }
          },
          "title": {
           "x": 0.05
          },
          "xaxis": {
           "automargin": true,
           "gridcolor": "white",
           "linecolor": "white",
           "ticks": "",
           "title": {
            "standoff": 15
           },
           "zerolinecolor": "white",
           "zerolinewidth": 2
          },
          "yaxis": {
           "automargin": true,
           "gridcolor": "white",
           "linecolor": "white",
           "ticks": "",
           "title": {
            "standoff": 15
           },
           "zerolinecolor": "white",
           "zerolinewidth": 2
          }
         }
        },
        "title": {
         "text": "Asset Weights Grouped by Family"
        },
        "xaxis": {
         "anchor": "y",
         "domain": [
          0,
          1
         ],
         "title": {
          "text": "Date"
         }
        },
        "yaxis": {
         "anchor": "x",
         "domain": [
          0,
          1
         ],
         "title": {
          "text": "Asset Weight"
         }
        }
       }
      }
     },
     "metadata": {},
     "output_type": "display_data"
    }
   ],
   "source": [
    "import plotly.express as px\n",
    "\n",
    "asset_info = pd.read_csv(\"data/asset_information_data.csv\")\n",
    "\n",
    "weight_df_melted\n",
    "\n",
    "weights_with_family = weight_df_melted.merge(asset_info, left_on=\"Asset\", right_on=\"Name\", how=\"left\")\n",
    "\n",
    "family_weights = weights_with_family.groupby(['date', 'Family'])['Value'].sum().reset_index()\n",
    "\n",
    "fig = px.area(\n",
    "    family_weights,\n",
    "    x='date',\n",
    "    y='Value',\n",
    "    color='Family',\n",
    "    title=\"Asset Weights Grouped by Family\",\n",
    "    labels={'date': 'Date', 'Value': 'Asset Weight', 'Family': 'Asset Family'}\n",
    ")\n",
    "fig.show()\n"
   ]
  }
 ],
 "metadata": {
  "colab": {
   "provenance": [
    {
     "file_id": "1fHXMQvsfUK6jFCwgFlCA_WDoSXI7rzN4",
     "timestamp": 1698662695337
    },
    {
     "file_id": "1OX3IZEGgfyEzu1luFVYojAIp89lVkPmw",
     "timestamp": 1691153287206
    }
   ]
  },
  "kernelspec": {
   "display_name": ".venv",
   "language": "python",
   "name": "python3"
  },
  "language_info": {
   "codemirror_mode": {
    "name": "ipython",
    "version": 3
   },
   "file_extension": ".py",
   "mimetype": "text/x-python",
   "name": "python",
   "nbconvert_exporter": "python",
   "pygments_lexer": "ipython3",
   "version": "3.13.2"
  }
 },
 "nbformat": 4,
 "nbformat_minor": 4
}
